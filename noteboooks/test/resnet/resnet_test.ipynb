{
  "cells": [
    {
      "cell_type": "markdown",
      "metadata": {
        "id": "qe752vrbaJ5r"
      },
      "source": [
        "### in this notebook we'll test a resnet"
      ]
    },
    {
      "cell_type": "code",
      "source": [
        "from google.colab import drive\n",
        "drive.mount('/content/drive')"
      ],
      "metadata": {
        "colab": {
          "base_uri": "https://localhost:8080/"
        },
        "id": "OpBADm6tFbU8",
        "outputId": "d0873f93-ce97-4fdd-bd06-680966317604"
      },
      "execution_count": 9,
      "outputs": [
        {
          "output_type": "stream",
          "name": "stdout",
          "text": [
            "Mounted at /content/drive\n"
          ]
        }
      ]
    },
    {
      "cell_type": "code",
      "execution_count": 10,
      "metadata": {
        "id": "A8J0PEm8aDNC"
      },
      "outputs": [],
      "source": [
        "import numpy as np\n",
        "import pandas as pd\n",
        "import matplotlib.pyplot as plt"
      ]
    },
    {
      "cell_type": "code",
      "execution_count": 11,
      "metadata": {
        "id": "LS9WW6WIaUHj"
      },
      "outputs": [],
      "source": [
        "import torch\n",
        "import torch.nn as nn\n",
        "import torch.nn.functional as F\n",
        "from torch import optim\n",
        "from torchvision import transforms\n",
        "from torch.utils.data import DataLoader, Dataset\n",
        "import os"
      ]
    },
    {
      "cell_type": "code",
      "execution_count": 12,
      "metadata": {
        "id": "eAIy2ezqaXSt"
      },
      "outputs": [],
      "source": [
        "class FERdataset(Dataset):\n",
        "    def __init__(self, path_fer2013csv, path_fer2013newcsv):\n",
        "        self.fer2013 = pd.read_csv(path_fer2013csv)\n",
        "        self.fer2013labels = ['angry', 'disgust', 'fear', 'happy', 'sad', 'surprise', 'neutral']\n",
        "        self.fer2013new = pd.read_csv(path_fer2013newcsv)\n",
        "        self.fer2013newlabels = list(self.fer2013new.columns[2:11])\n",
        "        \n",
        "    def __getitem__(self, index):\n",
        "        '''\n",
        "        returns an image and its fer2013new label as tensors\n",
        "        '''\n",
        "        image = self.fer2013['pixels'].iloc[index]\n",
        "        image = np.fromstring(image, sep=' ').reshape(48, 48)\n",
        "        image = torch.tensor(image, dtype=torch.float32) / 255\n",
        "        \n",
        "        label = torch.tensor(self.fer2013new.iloc[index][2:11].values.astype('float32')) / 10\n",
        "        \n",
        "        return image, label\n",
        "        \n",
        "    def __len__(self):\n",
        "        return self.fer2013.shape[0]\n",
        "    "
      ]
    },
    {
      "cell_type": "code",
      "source": [
        "!ls"
      ],
      "metadata": {
        "colab": {
          "base_uri": "https://localhost:8080/"
        },
        "id": "y37ajiIzFkSO",
        "outputId": "2acf7b62-fe1c-4481-ac57-815dd44d688a"
      },
      "execution_count": 13,
      "outputs": [
        {
          "output_type": "stream",
          "name": "stdout",
          "text": [
            "drive  sample_data\n"
          ]
        }
      ]
    },
    {
      "cell_type": "code",
      "execution_count": 14,
      "metadata": {
        "colab": {
          "base_uri": "https://localhost:8080/"
        },
        "id": "hH4HHbb5ad6Y",
        "outputId": "b5edbfc9-a64b-4586-9371-1e0246adb045"
      },
      "outputs": [
        {
          "output_type": "stream",
          "name": "stdout",
          "text": [
            "Archive:  /content/drive/MyDrive/TSI/Material/Thesis/data/data.zip\n",
            "   creating: data/\n",
            "   creating: data/FERplus/\n",
            "  inflating: data/FERplus/.gitignore  \n",
            "  inflating: data/FERplus/fer2013new.csv  \n",
            "   creating: data/fer2013/\n",
            "  inflating: data/fer2013/.gitignore  \n",
            "  inflating: data/fer2013/fer2013.csv  \n",
            "  inflating: data/fer2013/README     \n",
            "  inflating: data/fer2013/fer2013.bib  \n",
            "  inflating: data/fer2013/README.md  \n"
          ]
        }
      ],
      "source": [
        "!unzip /content/drive/MyDrive/TSI/Material/Thesis/data/data.zip"
      ]
    },
    {
      "cell_type": "code",
      "source": [
        "!ls"
      ],
      "metadata": {
        "colab": {
          "base_uri": "https://localhost:8080/"
        },
        "id": "1ewUgEe6F14f",
        "outputId": "92572e21-84b9-4ba5-ef6d-3d4b377e32dc"
      },
      "execution_count": 15,
      "outputs": [
        {
          "output_type": "stream",
          "name": "stdout",
          "text": [
            "data  drive  sample_data\n"
          ]
        }
      ]
    },
    {
      "cell_type": "code",
      "execution_count": 16,
      "metadata": {
        "id": "6BaD_bQWaZNv"
      },
      "outputs": [],
      "source": [
        "path_fer2013csv='data/fer2013/fer2013.csv'\n",
        "path_fer2013newcsv='data/FERplus/fer2013new.csv'\n",
        "dataset = FERdataset(path_fer2013csv, path_fer2013newcsv)"
      ]
    },
    {
      "cell_type": "code",
      "execution_count": 17,
      "metadata": {
        "id": "O1rzf3vdacyc"
      },
      "outputs": [],
      "source": [
        "from torch.utils.data import random_split"
      ]
    },
    {
      "cell_type": "code",
      "execution_count": 18,
      "metadata": {
        "id": "u0CzyG0Kcs9q"
      },
      "outputs": [],
      "source": [
        "traindataset, valdataset, testdataset = random_split(dataset, [int(0.6*len(dataset)), int(0.2*len(dataset)), len(dataset) - (int(0.6*len(dataset)) + int(0.2*len(dataset)))], generator=torch.Generator().manual_seed(42))"
      ]
    },
    {
      "cell_type": "code",
      "execution_count": 19,
      "metadata": {
        "colab": {
          "base_uri": "https://localhost:8080/"
        },
        "id": "sTaYM3fEcusm",
        "outputId": "068e0597-141c-4ca0-8a7a-98110a18caa5"
      },
      "outputs": [
        {
          "output_type": "stream",
          "name": "stdout",
          "text": [
            "traindataset length: 21532\n",
            "valdataset length: 7177\n",
            "testdataset length: 7178\n"
          ]
        }
      ],
      "source": [
        "print(f'traindataset length: {len(traindataset)}')\n",
        "print(f'valdataset length: {len(valdataset)}')\n",
        "print(f'testdataset length: {len(testdataset)}')"
      ]
    },
    {
      "cell_type": "code",
      "execution_count": 20,
      "metadata": {
        "colab": {
          "base_uri": "https://localhost:8080/"
        },
        "id": "XXRdd2PPcxJu",
        "outputId": "935be3e1-2ac9-4d86-a5ff-4b0033a1e080"
      },
      "outputs": [
        {
          "output_type": "execute_result",
          "data": {
            "text/plain": [
              "9"
            ]
          },
          "metadata": {},
          "execution_count": 20
        }
      ],
      "source": [
        "len(dataset.fer2013newlabels)"
      ]
    },
    {
      "cell_type": "markdown",
      "source": [
        "### Now let's import convnext"
      ],
      "metadata": {
        "id": "9FMvmOjhVp1_"
      }
    },
    {
      "cell_type": "code",
      "source": [
        "import torchvision.models as models"
      ],
      "metadata": {
        "id": "Qg0JswZCWcL1"
      },
      "execution_count": 24,
      "outputs": []
    },
    {
      "cell_type": "code",
      "execution_count": 28,
      "metadata": {
        "id": "WvDejjvKczt0"
      },
      "outputs": [],
      "source": [
        "model = models.resnet18()"
      ]
    },
    {
      "cell_type": "code",
      "execution_count": 30,
      "metadata": {
        "id": "QLoKZXK6c3lh"
      },
      "outputs": [],
      "source": [
        "device = torch.device('cuda' if torch.cuda.is_available() else 'cpu')"
      ]
    },
    {
      "cell_type": "markdown",
      "source": [
        "### let's change the first and last layers to fit our case"
      ],
      "metadata": {
        "id": "Y07xJYxvdmyY"
      }
    },
    {
      "cell_type": "code",
      "source": [
        "model.conv1"
      ],
      "metadata": {
        "id": "LEWzoROka28S",
        "outputId": "d1d86f81-2551-46bf-8d8d-d50c8a3ed2c7",
        "colab": {
          "base_uri": "https://localhost:8080/"
        }
      },
      "execution_count": 39,
      "outputs": [
        {
          "output_type": "execute_result",
          "data": {
            "text/plain": [
              "Conv2d(3, 64, kernel_size=(7, 7), stride=(2, 2), padding=(3, 3), bias=False)"
            ]
          },
          "metadata": {},
          "execution_count": 39
        }
      ]
    },
    {
      "cell_type": "code",
      "source": [
        "model.conv1 = nn.Conv2d(1, 64, kernel_size=(7, 7), stride=(2, 2), padding=(3, 3), bias=False)"
      ],
      "metadata": {
        "id": "hIt_TGxscI-6"
      },
      "execution_count": 40,
      "outputs": []
    },
    {
      "cell_type": "code",
      "source": [
        "model.conv1"
      ],
      "metadata": {
        "id": "2cHAIyI-clJu",
        "outputId": "9fc1d526-d05d-408b-d2e2-825b72fde591",
        "colab": {
          "base_uri": "https://localhost:8080/"
        }
      },
      "execution_count": 41,
      "outputs": [
        {
          "output_type": "execute_result",
          "data": {
            "text/plain": [
              "Conv2d(1, 64, kernel_size=(7, 7), stride=(2, 2), padding=(3, 3), bias=False)"
            ]
          },
          "metadata": {},
          "execution_count": 41
        }
      ]
    },
    {
      "cell_type": "code",
      "source": [
        "model.fc"
      ],
      "metadata": {
        "id": "iGcfba-6dJem",
        "outputId": "31943c84-c9d1-4bb5-80e8-bcb2e7e48f07",
        "colab": {
          "base_uri": "https://localhost:8080/"
        }
      },
      "execution_count": 56,
      "outputs": [
        {
          "output_type": "execute_result",
          "data": {
            "text/plain": [
              "Linear(in_features=512, out_features=1000, bias=True)"
            ]
          },
          "metadata": {},
          "execution_count": 56
        }
      ]
    },
    {
      "cell_type": "code",
      "source": [
        "model.fc = nn.Linear(512, 9, bias=True)"
      ],
      "metadata": {
        "id": "B9mF4IP0dM0y"
      },
      "execution_count": 57,
      "outputs": []
    },
    {
      "cell_type": "code",
      "source": [
        "model.fc"
      ],
      "metadata": {
        "id": "gJYqWqOSdWCA",
        "outputId": "73273a61-4946-4233-9129-6a10fd094775",
        "colab": {
          "base_uri": "https://localhost:8080/"
        }
      },
      "execution_count": 58,
      "outputs": [
        {
          "output_type": "execute_result",
          "data": {
            "text/plain": [
              "Linear(in_features=512, out_features=9, bias=True)"
            ]
          },
          "metadata": {},
          "execution_count": 58
        }
      ]
    },
    {
      "cell_type": "code",
      "execution_count": 59,
      "metadata": {
        "colab": {
          "base_uri": "https://localhost:8080/"
        },
        "id": "H4pC84zJc7hw",
        "outputId": "c2231793-1cd3-4d02-ec44-61662821394d"
      },
      "outputs": [
        {
          "output_type": "execute_result",
          "data": {
            "text/plain": [
              "ResNet(\n",
              "  (conv1): Conv2d(1, 64, kernel_size=(7, 7), stride=(2, 2), padding=(3, 3), bias=False)\n",
              "  (bn1): BatchNorm2d(64, eps=1e-05, momentum=0.1, affine=True, track_running_stats=True)\n",
              "  (relu): ReLU(inplace=True)\n",
              "  (maxpool): MaxPool2d(kernel_size=3, stride=2, padding=1, dilation=1, ceil_mode=False)\n",
              "  (layer1): Sequential(\n",
              "    (0): BasicBlock(\n",
              "      (conv1): Conv2d(64, 64, kernel_size=(3, 3), stride=(1, 1), padding=(1, 1), bias=False)\n",
              "      (bn1): BatchNorm2d(64, eps=1e-05, momentum=0.1, affine=True, track_running_stats=True)\n",
              "      (relu): ReLU(inplace=True)\n",
              "      (conv2): Conv2d(64, 64, kernel_size=(3, 3), stride=(1, 1), padding=(1, 1), bias=False)\n",
              "      (bn2): BatchNorm2d(64, eps=1e-05, momentum=0.1, affine=True, track_running_stats=True)\n",
              "    )\n",
              "    (1): BasicBlock(\n",
              "      (conv1): Conv2d(64, 64, kernel_size=(3, 3), stride=(1, 1), padding=(1, 1), bias=False)\n",
              "      (bn1): BatchNorm2d(64, eps=1e-05, momentum=0.1, affine=True, track_running_stats=True)\n",
              "      (relu): ReLU(inplace=True)\n",
              "      (conv2): Conv2d(64, 64, kernel_size=(3, 3), stride=(1, 1), padding=(1, 1), bias=False)\n",
              "      (bn2): BatchNorm2d(64, eps=1e-05, momentum=0.1, affine=True, track_running_stats=True)\n",
              "    )\n",
              "  )\n",
              "  (layer2): Sequential(\n",
              "    (0): BasicBlock(\n",
              "      (conv1): Conv2d(64, 128, kernel_size=(3, 3), stride=(2, 2), padding=(1, 1), bias=False)\n",
              "      (bn1): BatchNorm2d(128, eps=1e-05, momentum=0.1, affine=True, track_running_stats=True)\n",
              "      (relu): ReLU(inplace=True)\n",
              "      (conv2): Conv2d(128, 128, kernel_size=(3, 3), stride=(1, 1), padding=(1, 1), bias=False)\n",
              "      (bn2): BatchNorm2d(128, eps=1e-05, momentum=0.1, affine=True, track_running_stats=True)\n",
              "      (downsample): Sequential(\n",
              "        (0): Conv2d(64, 128, kernel_size=(1, 1), stride=(2, 2), bias=False)\n",
              "        (1): BatchNorm2d(128, eps=1e-05, momentum=0.1, affine=True, track_running_stats=True)\n",
              "      )\n",
              "    )\n",
              "    (1): BasicBlock(\n",
              "      (conv1): Conv2d(128, 128, kernel_size=(3, 3), stride=(1, 1), padding=(1, 1), bias=False)\n",
              "      (bn1): BatchNorm2d(128, eps=1e-05, momentum=0.1, affine=True, track_running_stats=True)\n",
              "      (relu): ReLU(inplace=True)\n",
              "      (conv2): Conv2d(128, 128, kernel_size=(3, 3), stride=(1, 1), padding=(1, 1), bias=False)\n",
              "      (bn2): BatchNorm2d(128, eps=1e-05, momentum=0.1, affine=True, track_running_stats=True)\n",
              "    )\n",
              "  )\n",
              "  (layer3): Sequential(\n",
              "    (0): BasicBlock(\n",
              "      (conv1): Conv2d(128, 256, kernel_size=(3, 3), stride=(2, 2), padding=(1, 1), bias=False)\n",
              "      (bn1): BatchNorm2d(256, eps=1e-05, momentum=0.1, affine=True, track_running_stats=True)\n",
              "      (relu): ReLU(inplace=True)\n",
              "      (conv2): Conv2d(256, 256, kernel_size=(3, 3), stride=(1, 1), padding=(1, 1), bias=False)\n",
              "      (bn2): BatchNorm2d(256, eps=1e-05, momentum=0.1, affine=True, track_running_stats=True)\n",
              "      (downsample): Sequential(\n",
              "        (0): Conv2d(128, 256, kernel_size=(1, 1), stride=(2, 2), bias=False)\n",
              "        (1): BatchNorm2d(256, eps=1e-05, momentum=0.1, affine=True, track_running_stats=True)\n",
              "      )\n",
              "    )\n",
              "    (1): BasicBlock(\n",
              "      (conv1): Conv2d(256, 256, kernel_size=(3, 3), stride=(1, 1), padding=(1, 1), bias=False)\n",
              "      (bn1): BatchNorm2d(256, eps=1e-05, momentum=0.1, affine=True, track_running_stats=True)\n",
              "      (relu): ReLU(inplace=True)\n",
              "      (conv2): Conv2d(256, 256, kernel_size=(3, 3), stride=(1, 1), padding=(1, 1), bias=False)\n",
              "      (bn2): BatchNorm2d(256, eps=1e-05, momentum=0.1, affine=True, track_running_stats=True)\n",
              "    )\n",
              "  )\n",
              "  (layer4): Sequential(\n",
              "    (0): BasicBlock(\n",
              "      (conv1): Conv2d(256, 512, kernel_size=(3, 3), stride=(2, 2), padding=(1, 1), bias=False)\n",
              "      (bn1): BatchNorm2d(512, eps=1e-05, momentum=0.1, affine=True, track_running_stats=True)\n",
              "      (relu): ReLU(inplace=True)\n",
              "      (conv2): Conv2d(512, 512, kernel_size=(3, 3), stride=(1, 1), padding=(1, 1), bias=False)\n",
              "      (bn2): BatchNorm2d(512, eps=1e-05, momentum=0.1, affine=True, track_running_stats=True)\n",
              "      (downsample): Sequential(\n",
              "        (0): Conv2d(256, 512, kernel_size=(1, 1), stride=(2, 2), bias=False)\n",
              "        (1): BatchNorm2d(512, eps=1e-05, momentum=0.1, affine=True, track_running_stats=True)\n",
              "      )\n",
              "    )\n",
              "    (1): BasicBlock(\n",
              "      (conv1): Conv2d(512, 512, kernel_size=(3, 3), stride=(1, 1), padding=(1, 1), bias=False)\n",
              "      (bn1): BatchNorm2d(512, eps=1e-05, momentum=0.1, affine=True, track_running_stats=True)\n",
              "      (relu): ReLU(inplace=True)\n",
              "      (conv2): Conv2d(512, 512, kernel_size=(3, 3), stride=(1, 1), padding=(1, 1), bias=False)\n",
              "      (bn2): BatchNorm2d(512, eps=1e-05, momentum=0.1, affine=True, track_running_stats=True)\n",
              "    )\n",
              "  )\n",
              "  (avgpool): AdaptiveAvgPool2d(output_size=(1, 1))\n",
              "  (fc): Linear(in_features=512, out_features=9, bias=True)\n",
              ")"
            ]
          },
          "metadata": {},
          "execution_count": 59
        }
      ],
      "source": [
        "model"
      ]
    },
    {
      "cell_type": "code",
      "execution_count": 60,
      "metadata": {
        "colab": {
          "base_uri": "https://localhost:8080/"
        },
        "id": "v8Bm4h24c-bB",
        "outputId": "3823cc82-c452-48a1-d067-f957db4e6d27"
      },
      "outputs": [
        {
          "output_type": "execute_result",
          "data": {
            "text/plain": [
              "True"
            ]
          },
          "metadata": {},
          "execution_count": 60
        }
      ],
      "source": [
        "torch.cuda.is_available()"
      ]
    },
    {
      "cell_type": "code",
      "source": [
        "model.to(device)"
      ],
      "metadata": {
        "id": "KFcl5rG1c5PV",
        "outputId": "27b2288a-96a2-4f92-bf8a-eb5361ff5dd7",
        "colab": {
          "base_uri": "https://localhost:8080/"
        }
      },
      "execution_count": 61,
      "outputs": [
        {
          "output_type": "execute_result",
          "data": {
            "text/plain": [
              "ResNet(\n",
              "  (conv1): Conv2d(1, 64, kernel_size=(7, 7), stride=(2, 2), padding=(3, 3), bias=False)\n",
              "  (bn1): BatchNorm2d(64, eps=1e-05, momentum=0.1, affine=True, track_running_stats=True)\n",
              "  (relu): ReLU(inplace=True)\n",
              "  (maxpool): MaxPool2d(kernel_size=3, stride=2, padding=1, dilation=1, ceil_mode=False)\n",
              "  (layer1): Sequential(\n",
              "    (0): BasicBlock(\n",
              "      (conv1): Conv2d(64, 64, kernel_size=(3, 3), stride=(1, 1), padding=(1, 1), bias=False)\n",
              "      (bn1): BatchNorm2d(64, eps=1e-05, momentum=0.1, affine=True, track_running_stats=True)\n",
              "      (relu): ReLU(inplace=True)\n",
              "      (conv2): Conv2d(64, 64, kernel_size=(3, 3), stride=(1, 1), padding=(1, 1), bias=False)\n",
              "      (bn2): BatchNorm2d(64, eps=1e-05, momentum=0.1, affine=True, track_running_stats=True)\n",
              "    )\n",
              "    (1): BasicBlock(\n",
              "      (conv1): Conv2d(64, 64, kernel_size=(3, 3), stride=(1, 1), padding=(1, 1), bias=False)\n",
              "      (bn1): BatchNorm2d(64, eps=1e-05, momentum=0.1, affine=True, track_running_stats=True)\n",
              "      (relu): ReLU(inplace=True)\n",
              "      (conv2): Conv2d(64, 64, kernel_size=(3, 3), stride=(1, 1), padding=(1, 1), bias=False)\n",
              "      (bn2): BatchNorm2d(64, eps=1e-05, momentum=0.1, affine=True, track_running_stats=True)\n",
              "    )\n",
              "  )\n",
              "  (layer2): Sequential(\n",
              "    (0): BasicBlock(\n",
              "      (conv1): Conv2d(64, 128, kernel_size=(3, 3), stride=(2, 2), padding=(1, 1), bias=False)\n",
              "      (bn1): BatchNorm2d(128, eps=1e-05, momentum=0.1, affine=True, track_running_stats=True)\n",
              "      (relu): ReLU(inplace=True)\n",
              "      (conv2): Conv2d(128, 128, kernel_size=(3, 3), stride=(1, 1), padding=(1, 1), bias=False)\n",
              "      (bn2): BatchNorm2d(128, eps=1e-05, momentum=0.1, affine=True, track_running_stats=True)\n",
              "      (downsample): Sequential(\n",
              "        (0): Conv2d(64, 128, kernel_size=(1, 1), stride=(2, 2), bias=False)\n",
              "        (1): BatchNorm2d(128, eps=1e-05, momentum=0.1, affine=True, track_running_stats=True)\n",
              "      )\n",
              "    )\n",
              "    (1): BasicBlock(\n",
              "      (conv1): Conv2d(128, 128, kernel_size=(3, 3), stride=(1, 1), padding=(1, 1), bias=False)\n",
              "      (bn1): BatchNorm2d(128, eps=1e-05, momentum=0.1, affine=True, track_running_stats=True)\n",
              "      (relu): ReLU(inplace=True)\n",
              "      (conv2): Conv2d(128, 128, kernel_size=(3, 3), stride=(1, 1), padding=(1, 1), bias=False)\n",
              "      (bn2): BatchNorm2d(128, eps=1e-05, momentum=0.1, affine=True, track_running_stats=True)\n",
              "    )\n",
              "  )\n",
              "  (layer3): Sequential(\n",
              "    (0): BasicBlock(\n",
              "      (conv1): Conv2d(128, 256, kernel_size=(3, 3), stride=(2, 2), padding=(1, 1), bias=False)\n",
              "      (bn1): BatchNorm2d(256, eps=1e-05, momentum=0.1, affine=True, track_running_stats=True)\n",
              "      (relu): ReLU(inplace=True)\n",
              "      (conv2): Conv2d(256, 256, kernel_size=(3, 3), stride=(1, 1), padding=(1, 1), bias=False)\n",
              "      (bn2): BatchNorm2d(256, eps=1e-05, momentum=0.1, affine=True, track_running_stats=True)\n",
              "      (downsample): Sequential(\n",
              "        (0): Conv2d(128, 256, kernel_size=(1, 1), stride=(2, 2), bias=False)\n",
              "        (1): BatchNorm2d(256, eps=1e-05, momentum=0.1, affine=True, track_running_stats=True)\n",
              "      )\n",
              "    )\n",
              "    (1): BasicBlock(\n",
              "      (conv1): Conv2d(256, 256, kernel_size=(3, 3), stride=(1, 1), padding=(1, 1), bias=False)\n",
              "      (bn1): BatchNorm2d(256, eps=1e-05, momentum=0.1, affine=True, track_running_stats=True)\n",
              "      (relu): ReLU(inplace=True)\n",
              "      (conv2): Conv2d(256, 256, kernel_size=(3, 3), stride=(1, 1), padding=(1, 1), bias=False)\n",
              "      (bn2): BatchNorm2d(256, eps=1e-05, momentum=0.1, affine=True, track_running_stats=True)\n",
              "    )\n",
              "  )\n",
              "  (layer4): Sequential(\n",
              "    (0): BasicBlock(\n",
              "      (conv1): Conv2d(256, 512, kernel_size=(3, 3), stride=(2, 2), padding=(1, 1), bias=False)\n",
              "      (bn1): BatchNorm2d(512, eps=1e-05, momentum=0.1, affine=True, track_running_stats=True)\n",
              "      (relu): ReLU(inplace=True)\n",
              "      (conv2): Conv2d(512, 512, kernel_size=(3, 3), stride=(1, 1), padding=(1, 1), bias=False)\n",
              "      (bn2): BatchNorm2d(512, eps=1e-05, momentum=0.1, affine=True, track_running_stats=True)\n",
              "      (downsample): Sequential(\n",
              "        (0): Conv2d(256, 512, kernel_size=(1, 1), stride=(2, 2), bias=False)\n",
              "        (1): BatchNorm2d(512, eps=1e-05, momentum=0.1, affine=True, track_running_stats=True)\n",
              "      )\n",
              "    )\n",
              "    (1): BasicBlock(\n",
              "      (conv1): Conv2d(512, 512, kernel_size=(3, 3), stride=(1, 1), padding=(1, 1), bias=False)\n",
              "      (bn1): BatchNorm2d(512, eps=1e-05, momentum=0.1, affine=True, track_running_stats=True)\n",
              "      (relu): ReLU(inplace=True)\n",
              "      (conv2): Conv2d(512, 512, kernel_size=(3, 3), stride=(1, 1), padding=(1, 1), bias=False)\n",
              "      (bn2): BatchNorm2d(512, eps=1e-05, momentum=0.1, affine=True, track_running_stats=True)\n",
              "    )\n",
              "  )\n",
              "  (avgpool): AdaptiveAvgPool2d(output_size=(1, 1))\n",
              "  (fc): Linear(in_features=512, out_features=9, bias=True)\n",
              ")"
            ]
          },
          "metadata": {},
          "execution_count": 61
        }
      ]
    },
    {
      "cell_type": "code",
      "execution_count": 62,
      "metadata": {
        "id": "frApCVfodBQF"
      },
      "outputs": [],
      "source": [
        "# parameters\n",
        "epochs = 20\n",
        "batch_size = 100"
      ]
    },
    {
      "cell_type": "code",
      "execution_count": 63,
      "metadata": {
        "id": "knn46fGjdQgp"
      },
      "outputs": [],
      "source": [
        "trainloader = DataLoader(traindataset, batch_size, shuffle=True)\n",
        "valloader = DataLoader(valdataset, batch_size, shuffle=True)"
      ]
    },
    {
      "cell_type": "code",
      "execution_count": 64,
      "metadata": {
        "id": "Z2tj5lU9dWtI"
      },
      "outputs": [],
      "source": [
        "criterion = nn.CrossEntropyLoss()\n",
        "optimizer = optim.Adam(model.parameters())"
      ]
    },
    {
      "cell_type": "code",
      "execution_count": 65,
      "metadata": {
        "id": "cRTyITkMkiC5"
      },
      "outputs": [],
      "source": [
        "from sklearn.metrics import accuracy_score, confusion_matrix\n",
        "import seaborn as sns"
      ]
    },
    {
      "cell_type": "code",
      "execution_count": 66,
      "metadata": {
        "colab": {
          "base_uri": "https://localhost:8080/"
        },
        "id": "joa-1_FTdYzY",
        "outputId": "f9d78d2e-2c20-4fa6-e0b2-4637066b28dd"
      },
      "outputs": [
        {
          "output_type": "stream",
          "name": "stdout",
          "text": [
            "epoch: 0, iteration: 0, loss: 2.10099, val_loss: 2.03560, acc: 0.27000, val_acc: 0.37662\n",
            "epoch: 0, iteration: 20, loss: 1.70806, val_loss: 2.30764, acc: 0.45000, val_acc: 0.32468\n",
            "epoch: 0, iteration: 40, loss: 1.71232, val_loss: 1.68019, acc: 0.44000, val_acc: 0.46753\n",
            "epoch: 0, iteration: 60, loss: 1.60734, val_loss: 1.46370, acc: 0.52000, val_acc: 0.67532\n",
            "epoch: 0, iteration: 80, loss: 1.46242, val_loss: 1.65465, acc: 0.64000, val_acc: 0.48052\n",
            "epoch: 0, iteration: 100, loss: 1.45373, val_loss: 1.50377, acc: 0.56000, val_acc: 0.58442\n",
            "epoch: 0, iteration: 120, loss: 1.42511, val_loss: 1.39649, acc: 0.63000, val_acc: 0.63636\n",
            "epoch: 0, iteration: 140, loss: 1.36510, val_loss: 1.45286, acc: 0.65000, val_acc: 0.70130\n",
            "epoch: 0, iteration: 160, loss: 1.36072, val_loss: 1.47503, acc: 0.67000, val_acc: 0.49351\n",
            "epoch: 0, iteration: 180, loss: 1.51239, val_loss: 1.49171, acc: 0.56000, val_acc: 0.54545\n",
            "epoch: 0, iteration: 200, loss: 1.32703, val_loss: 1.66326, acc: 0.62000, val_acc: 0.42857\n",
            "epoch: 1, iteration: 0, loss: 1.18164, val_loss: 1.44803, acc: 0.72000, val_acc: 0.61039\n",
            "epoch: 1, iteration: 20, loss: 1.43490, val_loss: 1.30773, acc: 0.59000, val_acc: 0.62338\n",
            "epoch: 1, iteration: 40, loss: 1.22333, val_loss: 1.26294, acc: 0.70000, val_acc: 0.71429\n",
            "epoch: 1, iteration: 60, loss: 1.27744, val_loss: 1.28136, acc: 0.65000, val_acc: 0.67532\n",
            "epoch: 1, iteration: 80, loss: 1.23844, val_loss: 1.38534, acc: 0.64000, val_acc: 0.63636\n",
            "epoch: 1, iteration: 100, loss: 1.27614, val_loss: 1.41674, acc: 0.75000, val_acc: 0.57143\n",
            "epoch: 1, iteration: 120, loss: 1.25698, val_loss: 1.49280, acc: 0.66000, val_acc: 0.64935\n",
            "epoch: 1, iteration: 140, loss: 1.29319, val_loss: 1.40320, acc: 0.68000, val_acc: 0.57143\n",
            "epoch: 1, iteration: 160, loss: 1.32571, val_loss: 1.15800, acc: 0.65000, val_acc: 0.68831\n",
            "epoch: 1, iteration: 180, loss: 1.18458, val_loss: 1.36189, acc: 0.71000, val_acc: 0.61039\n",
            "epoch: 1, iteration: 200, loss: 1.12795, val_loss: 1.44116, acc: 0.70000, val_acc: 0.59740\n",
            "epoch: 2, iteration: 0, loss: 1.31168, val_loss: 1.35528, acc: 0.65000, val_acc: 0.62338\n",
            "epoch: 2, iteration: 20, loss: 1.20302, val_loss: 1.36388, acc: 0.74000, val_acc: 0.55844\n",
            "epoch: 2, iteration: 40, loss: 1.08671, val_loss: 1.38579, acc: 0.77000, val_acc: 0.62338\n",
            "epoch: 2, iteration: 60, loss: 1.24678, val_loss: 1.22059, acc: 0.69000, val_acc: 0.67532\n",
            "epoch: 2, iteration: 80, loss: 1.29933, val_loss: 1.35562, acc: 0.68000, val_acc: 0.63636\n",
            "epoch: 2, iteration: 100, loss: 1.08098, val_loss: 1.30360, acc: 0.80000, val_acc: 0.57143\n",
            "epoch: 2, iteration: 120, loss: 1.08274, val_loss: 1.23610, acc: 0.72000, val_acc: 0.68831\n",
            "epoch: 2, iteration: 140, loss: 1.18150, val_loss: 1.16867, acc: 0.75000, val_acc: 0.68831\n",
            "epoch: 2, iteration: 160, loss: 1.23376, val_loss: 1.35154, acc: 0.64000, val_acc: 0.64935\n",
            "epoch: 2, iteration: 180, loss: 1.13510, val_loss: 1.34944, acc: 0.74000, val_acc: 0.64935\n",
            "epoch: 2, iteration: 200, loss: 1.04101, val_loss: 1.46198, acc: 0.77000, val_acc: 0.63636\n",
            "epoch: 3, iteration: 0, loss: 1.11177, val_loss: 1.60899, acc: 0.78000, val_acc: 0.63636\n",
            "epoch: 3, iteration: 20, loss: 1.01823, val_loss: 1.21576, acc: 0.79000, val_acc: 0.70130\n",
            "epoch: 3, iteration: 40, loss: 1.01292, val_loss: 1.19459, acc: 0.79000, val_acc: 0.72727\n",
            "epoch: 3, iteration: 60, loss: 1.02156, val_loss: 1.08805, acc: 0.79000, val_acc: 0.75325\n",
            "epoch: 3, iteration: 80, loss: 1.04690, val_loss: 1.53454, acc: 0.75000, val_acc: 0.71429\n",
            "epoch: 3, iteration: 100, loss: 1.06536, val_loss: 1.42555, acc: 0.76000, val_acc: 0.64935\n",
            "epoch: 3, iteration: 120, loss: 1.10194, val_loss: 1.36247, acc: 0.73000, val_acc: 0.64935\n",
            "epoch: 3, iteration: 140, loss: 1.13744, val_loss: 1.33873, acc: 0.80000, val_acc: 0.71429\n",
            "epoch: 3, iteration: 160, loss: 1.07499, val_loss: 1.17115, acc: 0.72000, val_acc: 0.71429\n",
            "epoch: 3, iteration: 180, loss: 1.08347, val_loss: 1.24203, acc: 0.81000, val_acc: 0.59740\n",
            "epoch: 3, iteration: 200, loss: 1.19941, val_loss: 1.27858, acc: 0.67000, val_acc: 0.64935\n",
            "epoch: 4, iteration: 0, loss: 1.13433, val_loss: 1.07944, acc: 0.78000, val_acc: 0.75325\n",
            "epoch: 4, iteration: 20, loss: 0.99601, val_loss: 1.08011, acc: 0.80000, val_acc: 0.66234\n",
            "epoch: 4, iteration: 40, loss: 0.94933, val_loss: 1.22825, acc: 0.82000, val_acc: 0.62338\n",
            "epoch: 4, iteration: 60, loss: 1.00753, val_loss: 1.17793, acc: 0.80000, val_acc: 0.72727\n",
            "epoch: 4, iteration: 80, loss: 0.98288, val_loss: 1.32595, acc: 0.79000, val_acc: 0.63636\n",
            "epoch: 4, iteration: 100, loss: 0.96430, val_loss: 1.20800, acc: 0.82000, val_acc: 0.68831\n",
            "epoch: 4, iteration: 120, loss: 1.03941, val_loss: 1.18669, acc: 0.79000, val_acc: 0.72727\n",
            "epoch: 4, iteration: 140, loss: 1.20321, val_loss: 1.29132, acc: 0.75000, val_acc: 0.68831\n",
            "epoch: 4, iteration: 160, loss: 1.04223, val_loss: 1.13279, acc: 0.75000, val_acc: 0.74026\n",
            "epoch: 4, iteration: 180, loss: 1.03863, val_loss: 1.10884, acc: 0.74000, val_acc: 0.70130\n",
            "epoch: 4, iteration: 200, loss: 1.08904, val_loss: 0.98976, acc: 0.75000, val_acc: 0.77922\n",
            "epoch: 5, iteration: 0, loss: 0.94683, val_loss: 1.06725, acc: 0.84000, val_acc: 0.71429\n",
            "epoch: 5, iteration: 20, loss: 0.86584, val_loss: 1.21880, acc: 0.74000, val_acc: 0.72727\n",
            "epoch: 5, iteration: 40, loss: 0.91469, val_loss: 1.12449, acc: 0.84000, val_acc: 0.76623\n",
            "epoch: 5, iteration: 60, loss: 0.99860, val_loss: 1.10167, acc: 0.85000, val_acc: 0.75325\n",
            "epoch: 5, iteration: 80, loss: 0.81247, val_loss: 1.13763, acc: 0.91000, val_acc: 0.71429\n",
            "epoch: 5, iteration: 100, loss: 0.98752, val_loss: 1.35618, acc: 0.76000, val_acc: 0.63636\n",
            "epoch: 5, iteration: 120, loss: 0.95181, val_loss: 1.39188, acc: 0.83000, val_acc: 0.64935\n",
            "epoch: 5, iteration: 140, loss: 0.91701, val_loss: 1.25271, acc: 0.82000, val_acc: 0.70130\n",
            "epoch: 5, iteration: 160, loss: 0.97630, val_loss: 1.18948, acc: 0.82000, val_acc: 0.68831\n",
            "epoch: 5, iteration: 180, loss: 0.97129, val_loss: 1.06372, acc: 0.84000, val_acc: 0.77922\n",
            "epoch: 5, iteration: 200, loss: 1.00942, val_loss: 1.22477, acc: 0.75000, val_acc: 0.62338\n",
            "epoch: 6, iteration: 0, loss: 0.87460, val_loss: 1.20441, acc: 0.84000, val_acc: 0.75325\n",
            "epoch: 6, iteration: 20, loss: 0.90122, val_loss: 1.15908, acc: 0.89000, val_acc: 0.80519\n",
            "epoch: 6, iteration: 40, loss: 0.86017, val_loss: 1.17658, acc: 0.84000, val_acc: 0.72727\n",
            "epoch: 6, iteration: 60, loss: 0.96629, val_loss: 1.32756, acc: 0.88000, val_acc: 0.64935\n",
            "epoch: 6, iteration: 80, loss: 0.99419, val_loss: 1.19731, acc: 0.83000, val_acc: 0.71429\n",
            "epoch: 6, iteration: 100, loss: 0.85543, val_loss: 1.10870, acc: 0.83000, val_acc: 0.72727\n",
            "epoch: 6, iteration: 120, loss: 0.98529, val_loss: 1.28910, acc: 0.84000, val_acc: 0.71429\n",
            "epoch: 6, iteration: 140, loss: 1.03751, val_loss: 1.03635, acc: 0.82000, val_acc: 0.81818\n",
            "epoch: 6, iteration: 160, loss: 0.91094, val_loss: 1.21073, acc: 0.87000, val_acc: 0.71429\n",
            "epoch: 6, iteration: 180, loss: 0.95182, val_loss: 1.36355, acc: 0.86000, val_acc: 0.71429\n",
            "epoch: 6, iteration: 200, loss: 0.87451, val_loss: 1.22544, acc: 0.88000, val_acc: 0.80519\n",
            "epoch: 7, iteration: 0, loss: 0.91527, val_loss: 1.16451, acc: 0.88000, val_acc: 0.72727\n",
            "epoch: 7, iteration: 20, loss: 0.81012, val_loss: 1.10954, acc: 0.93000, val_acc: 0.70130\n",
            "epoch: 7, iteration: 40, loss: 0.88654, val_loss: 1.04624, acc: 0.86000, val_acc: 0.70130\n",
            "epoch: 7, iteration: 60, loss: 0.84050, val_loss: 1.16374, acc: 0.83000, val_acc: 0.68831\n",
            "epoch: 7, iteration: 80, loss: 0.88961, val_loss: 1.11105, acc: 0.87000, val_acc: 0.72727\n",
            "epoch: 7, iteration: 100, loss: 0.90364, val_loss: 1.19975, acc: 0.91000, val_acc: 0.70130\n",
            "epoch: 7, iteration: 120, loss: 0.94423, val_loss: 1.13472, acc: 0.88000, val_acc: 0.74026\n",
            "epoch: 7, iteration: 140, loss: 0.91773, val_loss: 1.33349, acc: 0.90000, val_acc: 0.66234\n",
            "epoch: 7, iteration: 160, loss: 0.79249, val_loss: 1.17897, acc: 0.85000, val_acc: 0.80519\n",
            "epoch: 7, iteration: 180, loss: 0.89255, val_loss: 1.29458, acc: 0.86000, val_acc: 0.66234\n",
            "epoch: 7, iteration: 200, loss: 0.93642, val_loss: 1.20545, acc: 0.84000, val_acc: 0.74026\n",
            "epoch: 8, iteration: 0, loss: 0.76736, val_loss: 1.19620, acc: 0.89000, val_acc: 0.68831\n",
            "epoch: 8, iteration: 20, loss: 0.88392, val_loss: 1.21526, acc: 0.88000, val_acc: 0.72727\n",
            "epoch: 8, iteration: 40, loss: 1.01345, val_loss: 1.09713, acc: 0.86000, val_acc: 0.76623\n",
            "epoch: 8, iteration: 60, loss: 0.80797, val_loss: 1.12933, acc: 0.88000, val_acc: 0.74026\n",
            "epoch: 8, iteration: 80, loss: 0.79591, val_loss: 1.16467, acc: 0.88000, val_acc: 0.74026\n",
            "epoch: 8, iteration: 100, loss: 0.77587, val_loss: 1.20076, acc: 0.90000, val_acc: 0.74026\n",
            "epoch: 8, iteration: 120, loss: 0.82402, val_loss: 1.36385, acc: 0.92000, val_acc: 0.67532\n",
            "epoch: 8, iteration: 140, loss: 0.78358, val_loss: 1.15140, acc: 0.92000, val_acc: 0.72727\n",
            "epoch: 8, iteration: 160, loss: 0.87617, val_loss: 1.30420, acc: 0.89000, val_acc: 0.64935\n",
            "epoch: 8, iteration: 180, loss: 0.85252, val_loss: 1.25528, acc: 0.86000, val_acc: 0.70130\n",
            "epoch: 8, iteration: 200, loss: 0.93434, val_loss: 1.18003, acc: 0.83000, val_acc: 0.66234\n",
            "epoch: 9, iteration: 0, loss: 0.80383, val_loss: 1.19763, acc: 0.95000, val_acc: 0.75325\n",
            "epoch: 9, iteration: 20, loss: 0.87422, val_loss: 1.02941, acc: 0.90000, val_acc: 0.81818\n",
            "epoch: 9, iteration: 40, loss: 0.96230, val_loss: 1.22708, acc: 0.85000, val_acc: 0.67532\n",
            "epoch: 9, iteration: 60, loss: 0.83728, val_loss: 1.18698, acc: 0.89000, val_acc: 0.74026\n",
            "epoch: 9, iteration: 80, loss: 0.76527, val_loss: 1.31823, acc: 0.92000, val_acc: 0.71429\n",
            "epoch: 9, iteration: 100, loss: 0.80165, val_loss: 1.19126, acc: 0.94000, val_acc: 0.72727\n",
            "epoch: 9, iteration: 120, loss: 0.78372, val_loss: 1.07614, acc: 0.91000, val_acc: 0.81818\n",
            "epoch: 9, iteration: 140, loss: 0.88787, val_loss: 1.29722, acc: 0.87000, val_acc: 0.67532\n",
            "epoch: 9, iteration: 160, loss: 0.77037, val_loss: 1.17974, acc: 0.94000, val_acc: 0.66234\n",
            "epoch: 9, iteration: 180, loss: 0.88534, val_loss: 1.16679, acc: 0.86000, val_acc: 0.74026\n",
            "epoch: 9, iteration: 200, loss: 0.79974, val_loss: 1.27619, acc: 0.90000, val_acc: 0.71429\n",
            "epoch: 10, iteration: 0, loss: 0.78903, val_loss: 0.96325, acc: 0.88000, val_acc: 0.81818\n",
            "epoch: 10, iteration: 20, loss: 0.78365, val_loss: 1.30771, acc: 0.90000, val_acc: 0.66234\n",
            "epoch: 10, iteration: 40, loss: 0.81057, val_loss: 1.26066, acc: 0.90000, val_acc: 0.72727\n",
            "epoch: 10, iteration: 60, loss: 0.91150, val_loss: 1.16148, acc: 0.91000, val_acc: 0.75325\n",
            "epoch: 10, iteration: 80, loss: 0.84438, val_loss: 1.07788, acc: 0.90000, val_acc: 0.75325\n",
            "epoch: 10, iteration: 100, loss: 0.89607, val_loss: 1.11024, acc: 0.87000, val_acc: 0.79221\n",
            "epoch: 10, iteration: 120, loss: 0.86495, val_loss: 1.19758, acc: 0.87000, val_acc: 0.72727\n",
            "epoch: 10, iteration: 140, loss: 0.82052, val_loss: 1.16800, acc: 0.92000, val_acc: 0.70130\n",
            "epoch: 10, iteration: 160, loss: 0.80120, val_loss: 1.26867, acc: 0.86000, val_acc: 0.71429\n",
            "epoch: 10, iteration: 180, loss: 0.80633, val_loss: 1.34625, acc: 0.89000, val_acc: 0.67532\n",
            "epoch: 10, iteration: 200, loss: 0.79100, val_loss: 1.14744, acc: 0.92000, val_acc: 0.74026\n",
            "epoch: 11, iteration: 0, loss: 0.85658, val_loss: 1.16176, acc: 0.87000, val_acc: 0.77922\n",
            "epoch: 11, iteration: 20, loss: 0.80267, val_loss: 1.38700, acc: 0.87000, val_acc: 0.64935\n",
            "epoch: 11, iteration: 40, loss: 0.79362, val_loss: 1.15040, acc: 0.96000, val_acc: 0.75325\n",
            "epoch: 11, iteration: 60, loss: 0.67402, val_loss: 1.15346, acc: 0.99000, val_acc: 0.64935\n",
            "epoch: 11, iteration: 80, loss: 0.78647, val_loss: 1.24860, acc: 0.89000, val_acc: 0.79221\n",
            "epoch: 11, iteration: 100, loss: 0.85650, val_loss: 1.20273, acc: 0.89000, val_acc: 0.72727\n",
            "epoch: 11, iteration: 120, loss: 0.86811, val_loss: 1.13653, acc: 0.93000, val_acc: 0.75325\n",
            "epoch: 11, iteration: 140, loss: 0.84506, val_loss: 1.29068, acc: 0.87000, val_acc: 0.67532\n",
            "epoch: 11, iteration: 160, loss: 0.75930, val_loss: 1.20506, acc: 0.89000, val_acc: 0.71429\n",
            "epoch: 11, iteration: 180, loss: 0.87994, val_loss: 1.00383, acc: 0.89000, val_acc: 0.79221\n",
            "epoch: 11, iteration: 200, loss: 0.76887, val_loss: 1.31122, acc: 0.93000, val_acc: 0.71429\n",
            "epoch: 12, iteration: 0, loss: 0.81360, val_loss: 1.13401, acc: 0.93000, val_acc: 0.77922\n",
            "epoch: 12, iteration: 20, loss: 0.68685, val_loss: 1.20608, acc: 0.92000, val_acc: 0.77922\n",
            "epoch: 12, iteration: 40, loss: 0.73416, val_loss: 1.11919, acc: 0.91000, val_acc: 0.76623\n",
            "epoch: 12, iteration: 60, loss: 0.72870, val_loss: 1.08094, acc: 0.84000, val_acc: 0.81818\n",
            "epoch: 12, iteration: 80, loss: 0.75296, val_loss: 1.04876, acc: 0.87000, val_acc: 0.81818\n",
            "epoch: 12, iteration: 100, loss: 0.84144, val_loss: 1.16707, acc: 0.88000, val_acc: 0.71429\n",
            "epoch: 12, iteration: 120, loss: 0.80513, val_loss: 1.37428, acc: 0.89000, val_acc: 0.67532\n",
            "epoch: 12, iteration: 140, loss: 0.87562, val_loss: 1.35627, acc: 0.89000, val_acc: 0.70130\n",
            "epoch: 12, iteration: 160, loss: 0.87256, val_loss: 1.22122, acc: 0.91000, val_acc: 0.71429\n",
            "epoch: 12, iteration: 180, loss: 0.67690, val_loss: 1.12706, acc: 0.92000, val_acc: 0.70130\n",
            "epoch: 12, iteration: 200, loss: 0.72798, val_loss: 1.11946, acc: 0.94000, val_acc: 0.77922\n",
            "epoch: 13, iteration: 0, loss: 0.73080, val_loss: 1.15479, acc: 0.86000, val_acc: 0.83117\n",
            "epoch: 13, iteration: 20, loss: 0.74129, val_loss: 1.28864, acc: 0.96000, val_acc: 0.67532\n",
            "epoch: 13, iteration: 40, loss: 0.78692, val_loss: 1.11083, acc: 0.86000, val_acc: 0.80519\n",
            "epoch: 13, iteration: 60, loss: 0.89040, val_loss: 1.07347, acc: 0.87000, val_acc: 0.83117\n",
            "epoch: 13, iteration: 80, loss: 0.79030, val_loss: 1.28196, acc: 0.88000, val_acc: 0.70130\n",
            "epoch: 13, iteration: 100, loss: 0.69512, val_loss: 1.20902, acc: 0.88000, val_acc: 0.74026\n",
            "epoch: 13, iteration: 120, loss: 0.70280, val_loss: 1.41179, acc: 0.91000, val_acc: 0.75325\n",
            "epoch: 13, iteration: 140, loss: 0.77491, val_loss: 1.01573, acc: 0.88000, val_acc: 0.80519\n",
            "epoch: 13, iteration: 160, loss: 0.77735, val_loss: 1.30315, acc: 0.91000, val_acc: 0.71429\n",
            "epoch: 13, iteration: 180, loss: 0.77142, val_loss: 1.12449, acc: 0.92000, val_acc: 0.67532\n",
            "epoch: 13, iteration: 200, loss: 0.78078, val_loss: 1.29476, acc: 0.88000, val_acc: 0.68831\n",
            "epoch: 14, iteration: 0, loss: 0.80453, val_loss: 1.32795, acc: 0.90000, val_acc: 0.67532\n",
            "epoch: 14, iteration: 20, loss: 0.68948, val_loss: 1.15385, acc: 0.92000, val_acc: 0.77922\n",
            "epoch: 14, iteration: 40, loss: 0.72676, val_loss: 1.10612, acc: 0.87000, val_acc: 0.80519\n",
            "epoch: 14, iteration: 60, loss: 0.72911, val_loss: 1.49893, acc: 0.90000, val_acc: 0.68831\n",
            "epoch: 14, iteration: 80, loss: 0.72372, val_loss: 1.09974, acc: 0.93000, val_acc: 0.75325\n",
            "epoch: 14, iteration: 100, loss: 0.71424, val_loss: 1.34966, acc: 0.87000, val_acc: 0.67532\n",
            "epoch: 14, iteration: 120, loss: 0.74554, val_loss: 1.05844, acc: 0.89000, val_acc: 0.80519\n",
            "epoch: 14, iteration: 140, loss: 0.83141, val_loss: 1.50240, acc: 0.91000, val_acc: 0.64935\n",
            "epoch: 14, iteration: 160, loss: 0.81078, val_loss: 1.16640, acc: 0.90000, val_acc: 0.72727\n",
            "epoch: 14, iteration: 180, loss: 0.77525, val_loss: 1.15014, acc: 0.88000, val_acc: 0.81818\n",
            "epoch: 14, iteration: 200, loss: 0.70920, val_loss: 1.16994, acc: 0.90000, val_acc: 0.79221\n",
            "epoch: 15, iteration: 0, loss: 0.72268, val_loss: 1.31049, acc: 0.86000, val_acc: 0.76623\n",
            "epoch: 15, iteration: 20, loss: 0.78405, val_loss: 1.38970, acc: 0.89000, val_acc: 0.68831\n",
            "epoch: 15, iteration: 40, loss: 0.67457, val_loss: 1.35825, acc: 0.90000, val_acc: 0.71429\n",
            "epoch: 15, iteration: 60, loss: 0.76234, val_loss: 1.33689, acc: 0.91000, val_acc: 0.71429\n",
            "epoch: 15, iteration: 80, loss: 0.76619, val_loss: 1.18315, acc: 0.89000, val_acc: 0.77922\n",
            "epoch: 15, iteration: 100, loss: 0.65189, val_loss: 1.25259, acc: 0.91000, val_acc: 0.70130\n",
            "epoch: 15, iteration: 120, loss: 0.83756, val_loss: 1.22201, acc: 0.93000, val_acc: 0.80519\n",
            "epoch: 15, iteration: 140, loss: 0.69277, val_loss: 1.45452, acc: 0.92000, val_acc: 0.71429\n",
            "epoch: 15, iteration: 160, loss: 0.61850, val_loss: 1.29449, acc: 0.93000, val_acc: 0.79221\n",
            "epoch: 15, iteration: 180, loss: 0.76420, val_loss: 1.26197, acc: 0.91000, val_acc: 0.70130\n",
            "epoch: 15, iteration: 200, loss: 0.70899, val_loss: 1.46398, acc: 0.89000, val_acc: 0.70130\n",
            "epoch: 16, iteration: 0, loss: 0.70595, val_loss: 1.23533, acc: 0.94000, val_acc: 0.66234\n",
            "epoch: 16, iteration: 20, loss: 0.72984, val_loss: 1.51953, acc: 0.88000, val_acc: 0.71429\n",
            "epoch: 16, iteration: 40, loss: 0.73282, val_loss: 1.38060, acc: 0.94000, val_acc: 0.77922\n",
            "epoch: 16, iteration: 60, loss: 0.68681, val_loss: 1.36840, acc: 0.90000, val_acc: 0.79221\n",
            "epoch: 16, iteration: 80, loss: 0.67920, val_loss: 1.33325, acc: 0.97000, val_acc: 0.63636\n",
            "epoch: 16, iteration: 100, loss: 0.64039, val_loss: 1.39636, acc: 0.90000, val_acc: 0.64935\n",
            "epoch: 16, iteration: 120, loss: 0.63577, val_loss: 1.12769, acc: 0.90000, val_acc: 0.80519\n",
            "epoch: 16, iteration: 140, loss: 0.59285, val_loss: 1.31587, acc: 0.97000, val_acc: 0.80519\n",
            "epoch: 16, iteration: 160, loss: 0.67167, val_loss: 1.47517, acc: 0.95000, val_acc: 0.75325\n",
            "epoch: 16, iteration: 180, loss: 0.77209, val_loss: 1.35984, acc: 0.92000, val_acc: 0.76623\n",
            "epoch: 16, iteration: 200, loss: 0.70254, val_loss: 1.07736, acc: 0.93000, val_acc: 0.76623\n",
            "epoch: 17, iteration: 0, loss: 0.68964, val_loss: 1.36961, acc: 0.88000, val_acc: 0.70130\n",
            "epoch: 17, iteration: 20, loss: 0.68061, val_loss: 1.23793, acc: 0.93000, val_acc: 0.68831\n",
            "epoch: 17, iteration: 40, loss: 0.71281, val_loss: 1.35442, acc: 0.93000, val_acc: 0.71429\n",
            "epoch: 17, iteration: 60, loss: 0.66118, val_loss: 1.28529, acc: 0.93000, val_acc: 0.77922\n",
            "epoch: 17, iteration: 80, loss: 0.67710, val_loss: 1.35010, acc: 0.92000, val_acc: 0.67532\n",
            "epoch: 17, iteration: 100, loss: 0.70408, val_loss: 1.34590, acc: 0.91000, val_acc: 0.71429\n",
            "epoch: 17, iteration: 120, loss: 0.73830, val_loss: 1.24321, acc: 0.87000, val_acc: 0.75325\n",
            "epoch: 17, iteration: 140, loss: 0.72640, val_loss: 1.45094, acc: 0.93000, val_acc: 0.71429\n",
            "epoch: 17, iteration: 160, loss: 0.74049, val_loss: 1.29999, acc: 0.91000, val_acc: 0.76623\n",
            "epoch: 17, iteration: 180, loss: 0.77867, val_loss: 1.31552, acc: 0.89000, val_acc: 0.74026\n",
            "epoch: 17, iteration: 200, loss: 0.65287, val_loss: 1.22994, acc: 0.90000, val_acc: 0.79221\n",
            "epoch: 18, iteration: 0, loss: 0.62698, val_loss: 1.27865, acc: 0.95000, val_acc: 0.72727\n",
            "epoch: 18, iteration: 20, loss: 0.72215, val_loss: 1.50162, acc: 0.92000, val_acc: 0.70130\n",
            "epoch: 18, iteration: 40, loss: 0.71464, val_loss: 1.48693, acc: 0.95000, val_acc: 0.68831\n",
            "epoch: 18, iteration: 60, loss: 0.78466, val_loss: 1.25491, acc: 0.91000, val_acc: 0.74026\n",
            "epoch: 18, iteration: 80, loss: 0.77158, val_loss: 1.60908, acc: 0.92000, val_acc: 0.68831\n",
            "epoch: 18, iteration: 100, loss: 0.76419, val_loss: 1.10407, acc: 0.90000, val_acc: 0.77922\n",
            "epoch: 18, iteration: 120, loss: 0.67254, val_loss: 1.22851, acc: 0.93000, val_acc: 0.79221\n",
            "epoch: 18, iteration: 140, loss: 0.78329, val_loss: 1.49104, acc: 0.86000, val_acc: 0.63636\n",
            "epoch: 18, iteration: 160, loss: 0.77878, val_loss: 1.41126, acc: 0.92000, val_acc: 0.58442\n",
            "epoch: 18, iteration: 180, loss: 0.82689, val_loss: 1.23112, acc: 0.90000, val_acc: 0.71429\n",
            "epoch: 18, iteration: 200, loss: 0.65070, val_loss: 1.36537, acc: 0.91000, val_acc: 0.75325\n",
            "epoch: 19, iteration: 0, loss: 0.75752, val_loss: 1.48426, acc: 0.87000, val_acc: 0.74026\n",
            "epoch: 19, iteration: 20, loss: 0.58877, val_loss: 1.25435, acc: 0.88000, val_acc: 0.75325\n",
            "epoch: 19, iteration: 40, loss: 0.58438, val_loss: 1.23036, acc: 0.97000, val_acc: 0.76623\n",
            "epoch: 19, iteration: 60, loss: 0.72560, val_loss: 1.47072, acc: 0.92000, val_acc: 0.63636\n",
            "epoch: 19, iteration: 80, loss: 0.71599, val_loss: 1.49089, acc: 0.90000, val_acc: 0.74026\n",
            "epoch: 19, iteration: 100, loss: 0.64956, val_loss: 1.49476, acc: 0.90000, val_acc: 0.72727\n",
            "epoch: 19, iteration: 120, loss: 0.74635, val_loss: 1.39543, acc: 0.91000, val_acc: 0.74026\n",
            "epoch: 19, iteration: 140, loss: 0.69852, val_loss: 1.20034, acc: 0.90000, val_acc: 0.63636\n",
            "epoch: 19, iteration: 160, loss: 0.73492, val_loss: 1.36094, acc: 0.91000, val_acc: 0.72727\n",
            "epoch: 19, iteration: 180, loss: 0.67516, val_loss: 1.45168, acc: 0.86000, val_acc: 0.68831\n",
            "epoch: 19, iteration: 200, loss: 0.69209, val_loss: 1.27927, acc: 0.95000, val_acc: 0.77922\n"
          ]
        }
      ],
      "source": [
        "running_loss = []\n",
        "running_val_loss = []\n",
        "alltrainacc = []\n",
        "allvalacc = []\n",
        "\n",
        "print_every = 20\n",
        "for e in range(epochs):\n",
        "    for i,(images, labels) in enumerate(trainloader):\n",
        "        model.train()\n",
        "        images.unsqueeze_(1)\n",
        "        images = images.to(device)\n",
        "        labels = labels.to(device)\n",
        "\n",
        "        optimizer.zero_grad()\n",
        "        output = model(images)\n",
        "        loss = criterion(output, labels)\n",
        "        loss.backward()\n",
        "        optimizer.step()\n",
        "\n",
        "        running_loss.append(loss.item())\n",
        "        \n",
        "        if i%print_every == 0:\n",
        "            # torch.save(vggmodel.state_dict(), os.path.join('/models', 'decoder-%d.pkl' % i))\n",
        "            model.eval()\n",
        "            with torch.no_grad():\n",
        "                for j,(valimages, vallabels) in enumerate(valloader):\n",
        "                    val_loss_list = []\n",
        "                    valimages.unsqueeze_(1)\n",
        "                    valimages = valimages.to(device)\n",
        "                    vallabels = vallabels.to(device)\n",
        "                    \n",
        "                    val_output = model(valimages)\n",
        "                    val_loss = criterion(val_output, vallabels)\n",
        "\n",
        "                    val_loss_list.append(val_loss.item())\n",
        "                    \n",
        "                    # to calculate training accuracy\n",
        "                    trueargmax = torch.argmax(labels, dim=1)\n",
        "                    truelabels = trueargmax.cpu().detach().numpy()\n",
        "                    predargmax = torch.argmax(output, dim=1)\n",
        "                    predlabels = predargmax.cpu().detach().numpy()\n",
        "                    \n",
        "                    # to calculate validation accuracy\n",
        "                    valtrueargmax = torch.argmax(vallabels, dim=1)\n",
        "                    valtruelabels = valtrueargmax.cpu().detach().numpy()\n",
        "                    valpredargmax = torch.argmax(val_output, dim=1)\n",
        "                    valpredlabels = valpredargmax.cpu().detach().numpy()                    \n",
        "\n",
        "                val_loss_avg = sum(val_loss_list) / len(val_loss_list)\n",
        "                \n",
        "            # calculate training and validation accuracy\n",
        "            batchtrainacc = accuracy_score(truelabels, predlabels)\n",
        "            batchvalacc = accuracy_score(valtruelabels, valpredlabels)\n",
        "            \n",
        "            # store the training and validation accuracies \n",
        "            alltrainacc.append(batchtrainacc)\n",
        "            allvalacc.append(batchvalacc)\n",
        "\n",
        "            running_val_loss.append(val_loss_avg)\n",
        "            print(f'epoch: {e}, iteration: {i}, loss: {loss.item():.5f}, val_loss: {val_loss_avg:.5f}, acc: {batchtrainacc:.5f}, val_acc: {batchvalacc:.5f}')"
      ]
    },
    {
      "cell_type": "code",
      "execution_count": 67,
      "metadata": {
        "colab": {
          "base_uri": "https://localhost:8080/",
          "height": 295
        },
        "id": "zaXx_WmKdfLx",
        "outputId": "4e4e07cd-6188-473c-cd17-51bc34431fbc"
      },
      "outputs": [
        {
          "output_type": "display_data",
          "data": {
            "image/png": "[encoded data removed]",
            "text/plain": [
              "<Figure size 432x288 with 1 Axes>"
            ]
          },
          "metadata": {
            "needs_background": "light"
          }
        }
      ],
      "source": [
        "ind = 10\n",
        "plt.plot(np.arange(len(running_loss[ind:])), running_loss[ind:], label='training loss')\n",
        "plt.plot(np.arange(len(running_val_loss[ind:]))*print_every, running_val_loss[10:], label='validation loss')\n",
        "plt.xlabel('iterations')\n",
        "plt.ylabel('loss')\n",
        "plt.title('training and validation loss')\n",
        "plt.legend()\n",
        "plt.show()"
      ]
    },
    {
      "cell_type": "code",
      "execution_count": 68,
      "metadata": {
        "colab": {
          "base_uri": "https://localhost:8080/",
          "height": 295
        },
        "id": "ykK5KhE5kyeM",
        "outputId": "b90abe72-ca92-4c4b-ab5d-19bb68f2a068"
      },
      "outputs": [
        {
          "output_type": "display_data",
          "data": {
            "image/png": "[encoded data removed]",
            "text/plain": [
              "<Figure size 432x288 with 1 Axes>"
            ]
          },
          "metadata": {
            "needs_background": "light"
          }
        }
      ],
      "source": [
        "plt.plot(np.arange(len(alltrainacc))*print_every, alltrainacc, label='training acc')\n",
        "plt.plot(np.arange(len(allvalacc))*print_every, allvalacc, label='validation acc')\n",
        "plt.xlabel('iterations')\n",
        "plt.ylabel('accuracy')\n",
        "plt.title('training and validation accuracy')\n",
        "plt.legend()\n",
        "plt.show()"
      ]
    },
    {
      "cell_type": "markdown",
      "metadata": {
        "id": "5ZftQ_VSddbE"
      },
      "source": [
        "### Let's run the model on the test data"
      ]
    },
    {
      "cell_type": "code",
      "execution_count": 71,
      "metadata": {
        "id": "AFhbl1e8r425"
      },
      "outputs": [],
      "source": [
        "testloader = DataLoader(testdataset, 1, shuffle=False)"
      ]
    },
    {
      "cell_type": "code",
      "execution_count": 72,
      "metadata": {
        "id": "4JIqoZTF2XiO"
      },
      "outputs": [],
      "source": [
        "model.eval()\n",
        "testtruelabels = []\n",
        "testpredlabels = []\n",
        "with torch.no_grad():\n",
        "    for i, (testimage, testlabel) in enumerate(testloader):\n",
        "        testimage.unsqueeze_(1)\n",
        "        testimage, testlabel = testimage.to(device), testlabel.to(device)\n",
        "        testpred = model(testimage)\n",
        "\n",
        "        testtrueargmax = torch.argmax(testlabel).item()\n",
        "        testpredargmax = torch.argmax(testpred).item()\n",
        "\n",
        "        testtruelabels.append(testtrueargmax)\n",
        "        testpredlabels.append(testpredargmax)"
      ]
    },
    {
      "cell_type": "code",
      "execution_count": 73,
      "metadata": {
        "id": "KodylrAL6BQz"
      },
      "outputs": [],
      "source": [
        "testconfmat = confusion_matrix(testtruelabels, testpredlabels)"
      ]
    },
    {
      "cell_type": "code",
      "execution_count": 74,
      "metadata": {
        "colab": {
          "base_uri": "https://localhost:8080/",
          "height": 729
        },
        "id": "vajQVaUm6YVK",
        "outputId": "98fbb179-74b0-4abc-e14b-03074166452f"
      },
      "outputs": [
        {
          "output_type": "display_data",
          "data": {
            "image/png": "[encoded data removed]",
            "text/plain": [
              "<Figure size 1080x720 with 2 Axes>"
            ]
          },
          "metadata": {
            "needs_background": "light"
          }
        }
      ],
      "source": [
        "plt.figure(figsize=(15,10))\n",
        "sns.heatmap(testconfmat, annot=True, fmt='.0f', cmap='viridis', xticklabels=dataset.fer2013newlabels, yticklabels=dataset.fer2013newlabels)\n",
        "plt.xlabel('Predicted Values')\n",
        "plt.ylabel('True Values')\n",
        "plt.tight_layout()\n",
        "plt.show()"
      ]
    },
    {
      "cell_type": "code",
      "execution_count": 75,
      "metadata": {
        "colab": {
          "base_uri": "https://localhost:8080/"
        },
        "id": "GmYNizky6fZc",
        "outputId": "44f5b840-b3fc-41b6-a6d2-d1a1f800e5e4"
      },
      "outputs": [
        {
          "output_type": "execute_result",
          "data": {
            "text/plain": [
              "0.7364168292003344"
            ]
          },
          "metadata": {},
          "execution_count": 75
        }
      ],
      "source": [
        "accuracy_score(testtruelabels, testpredlabels)"
      ]
    },
    {
      "cell_type": "code",
      "execution_count": null,
      "metadata": {
        "id": "ikkHo8uW62CI"
      },
      "outputs": [],
      "source": [
        "torch.save(model5.state_dict(), f'/content/drive/MyDrive/TSI/Material/Thesis/data/model5_state_dict.pth')"
      ]
    },
    {
      "cell_type": "code",
      "execution_count": null,
      "metadata": {
        "id": "Z_G8iQzcIRFF"
      },
      "outputs": [],
      "source": [
        ""
      ]
    }
  ],
  "metadata": {
    "accelerator": "GPU",
    "colab": {
      "collapsed_sections": [],
      "name": "resnet_test.ipynb",
      "provenance": []
    },
    "kernelspec": {
      "display_name": "Python 3 (ipykernel)",
      "language": "python",
      "name": "python3"
    },
    "language_info": {
      "codemirror_mode": {
        "name": "ipython",
        "version": 3
      },
      "file_extension": ".py",
      "mimetype": "text/x-python",
      "name": "python",
      "nbconvert_exporter": "python",
      "pygments_lexer": "ipython3",
      "version": "3.9.0"
    }
  },
  "nbformat": 4,
  "nbformat_minor": 0
}