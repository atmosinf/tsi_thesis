{
  "cells": [
    {
      "cell_type": "markdown",
      "metadata": {
        "id": "qe752vrbaJ5r"
      },
      "source": [
        "### in this notebook we'll try to make some changes to the vggnet model. instead of pairs of convnets, we'll use just one. (instead of 8 conv layers, we'll use just 4)"
      ]
    },
    {
      "cell_type": "markdown",
      "metadata": {
        "id": "_QxiBR-caSF6"
      },
      "source": [
        "vgg model source : github [link](https://github.com/usef-kh/fer/tree/master/models)"
      ]
    },
    {
      "cell_type": "code",
      "source": [
        "from google.colab import drive\n",
        "drive.mount('/content/drive')"
      ],
      "metadata": {
        "colab": {
          "base_uri": "https://localhost:8080/"
        },
        "id": "OpBADm6tFbU8",
        "outputId": "c36346a4-3d1d-485a-bf57-e2e1fa50fb63"
      },
      "execution_count": 1,
      "outputs": [
        {
          "output_type": "stream",
          "name": "stdout",
          "text": [
            "Mounted at /content/drive\n"
          ]
        }
      ]
    },
    {
      "cell_type": "code",
      "execution_count": 2,
      "metadata": {
        "id": "A8J0PEm8aDNC"
      },
      "outputs": [],
      "source": [
        "import numpy as np\n",
        "import pandas as pd\n",
        "import matplotlib.pyplot as plt"
      ]
    },
    {
      "cell_type": "code",
      "execution_count": 3,
      "metadata": {
        "id": "LS9WW6WIaUHj"
      },
      "outputs": [],
      "source": [
        "import torch\n",
        "import torch.nn as nn\n",
        "import torch.nn.functional as F\n",
        "from torch import optim\n",
        "from torchvision import transforms\n",
        "from torch.utils.data import DataLoader, Dataset\n",
        "import os"
      ]
    },
    {
      "cell_type": "code",
      "execution_count": 4,
      "metadata": {
        "id": "eAIy2ezqaXSt"
      },
      "outputs": [],
      "source": [
        "class FERdataset(Dataset):\n",
        "    def __init__(self, path_fer2013csv, path_fer2013newcsv):\n",
        "        self.fer2013 = pd.read_csv(path_fer2013csv)\n",
        "        self.fer2013labels = ['angry', 'disgust', 'fear', 'happy', 'sad', 'surprise', 'neutral']\n",
        "        self.fer2013new = pd.read_csv(path_fer2013newcsv)\n",
        "        self.fer2013newlabels = list(self.fer2013new.columns[2:11])\n",
        "        \n",
        "    def __getitem__(self, index):\n",
        "        '''\n",
        "        returns an image and its fer2013new label as tensors\n",
        "        '''\n",
        "        image = self.fer2013['pixels'].iloc[index]\n",
        "        image = np.fromstring(image, sep=' ').reshape(48, 48)\n",
        "        image = torch.tensor(image, dtype=torch.float32) / 255\n",
        "        \n",
        "        label = torch.tensor(self.fer2013new.iloc[index][2:11].values.astype('float32')) / 10\n",
        "        \n",
        "        return image, label\n",
        "        \n",
        "    def __len__(self):\n",
        "        return self.fer2013.shape[0]\n",
        "    "
      ]
    },
    {
      "cell_type": "code",
      "source": [
        "!ls"
      ],
      "metadata": {
        "colab": {
          "base_uri": "https://localhost:8080/"
        },
        "id": "y37ajiIzFkSO",
        "outputId": "f0cb6603-7c81-46b7-8fe3-3a0df299845c"
      },
      "execution_count": 5,
      "outputs": [
        {
          "output_type": "stream",
          "name": "stdout",
          "text": [
            "drive  sample_data\n"
          ]
        }
      ]
    },
    {
      "cell_type": "code",
      "execution_count": 6,
      "metadata": {
        "colab": {
          "base_uri": "https://localhost:8080/"
        },
        "id": "hH4HHbb5ad6Y",
        "outputId": "c3eb2214-83f1-402a-ae3c-31cdb70dcce6"
      },
      "outputs": [
        {
          "output_type": "stream",
          "name": "stdout",
          "text": [
            "Archive:  /content/drive/MyDrive/TSI/Material/Thesis/data/data.zip\n",
            "   creating: data/\n",
            "   creating: data/FERplus/\n",
            "  inflating: data/FERplus/.gitignore  \n",
            "  inflating: data/FERplus/fer2013new.csv  \n",
            "   creating: data/fer2013/\n",
            "  inflating: data/fer2013/.gitignore  \n",
            "  inflating: data/fer2013/fer2013.csv  \n",
            "  inflating: data/fer2013/README     \n",
            "  inflating: data/fer2013/fer2013.bib  \n",
            "  inflating: data/fer2013/README.md  \n"
          ]
        }
      ],
      "source": [
        "!unzip /content/drive/MyDrive/TSI/Material/Thesis/data/data.zip"
      ]
    },
    {
      "cell_type": "code",
      "source": [
        "!ls"
      ],
      "metadata": {
        "colab": {
          "base_uri": "https://localhost:8080/"
        },
        "id": "1ewUgEe6F14f",
        "outputId": "4d7a542f-cc8b-4632-8697-179521ad4992"
      },
      "execution_count": 7,
      "outputs": [
        {
          "output_type": "stream",
          "name": "stdout",
          "text": [
            "data  drive  sample_data\n"
          ]
        }
      ]
    },
    {
      "cell_type": "code",
      "execution_count": 8,
      "metadata": {
        "id": "6BaD_bQWaZNv"
      },
      "outputs": [],
      "source": [
        "path_fer2013csv='data/fer2013/fer2013.csv'\n",
        "path_fer2013newcsv='data/FERplus/fer2013new.csv'\n",
        "dataset = FERdataset(path_fer2013csv, path_fer2013newcsv)"
      ]
    },
    {
      "cell_type": "code",
      "execution_count": 9,
      "metadata": {
        "id": "O1rzf3vdacyc"
      },
      "outputs": [],
      "source": [
        "from torch.utils.data import random_split"
      ]
    },
    {
      "cell_type": "code",
      "execution_count": 10,
      "metadata": {
        "id": "u0CzyG0Kcs9q"
      },
      "outputs": [],
      "source": [
        "traindataset, valdataset, testdataset = random_split(dataset, [int(0.6*len(dataset)), int(0.2*len(dataset)), len(dataset) - (int(0.6*len(dataset)) + int(0.2*len(dataset)))], generator=torch.Generator().manual_seed(42))"
      ]
    },
    {
      "cell_type": "code",
      "execution_count": 11,
      "metadata": {
        "colab": {
          "base_uri": "https://localhost:8080/"
        },
        "id": "sTaYM3fEcusm",
        "outputId": "ff4202d3-e5ef-4891-820b-b31f5ddc49e8"
      },
      "outputs": [
        {
          "output_type": "stream",
          "name": "stdout",
          "text": [
            "traindataset length: 21532\n",
            "valdataset length: 7177\n",
            "testdataset length: 7178\n"
          ]
        }
      ],
      "source": [
        "print(f'traindataset length: {len(traindataset)}')\n",
        "print(f'valdataset length: {len(valdataset)}')\n",
        "print(f'testdataset length: {len(testdataset)}')"
      ]
    },
    {
      "cell_type": "code",
      "execution_count": 12,
      "metadata": {
        "colab": {
          "base_uri": "https://localhost:8080/"
        },
        "id": "XXRdd2PPcxJu",
        "outputId": "1680e88a-f067-457f-d857-f5802269051e"
      },
      "outputs": [
        {
          "output_type": "execute_result",
          "data": {
            "text/plain": [
              "9"
            ]
          },
          "metadata": {},
          "execution_count": 12
        }
      ],
      "source": [
        "len(dataset.fer2013newlabels)"
      ]
    },
    {
      "cell_type": "code",
      "execution_count": 13,
      "metadata": {
        "id": "WvDejjvKczt0"
      },
      "outputs": [],
      "source": [
        "class Model5(nn.Module):\n",
        "    def __init__(self, drop=0.2):\n",
        "        super().__init__()\n",
        "\n",
        "        self.conv1a = nn.Conv2d(in_channels=1, out_channels=64, kernel_size=3, padding=1)\n",
        "        # self.conv1b = nn.Conv2d(64, out_channels=64, kernel_size=5, padding=2)\n",
        "\n",
        "        self.conv2a = nn.Conv2d(64, 128, 3, padding=1)\n",
        "        # self.conv2b = nn.Conv2d(128, 128, 5, padding=2)\n",
        "\n",
        "        self.conv3a = nn.Conv2d(128, 256, 3, padding=1)\n",
        "        # self.conv3b = nn.Conv2d(256, 256, 3, padding=1)\n",
        "\n",
        "        self.conv4a = nn.Conv2d(256, 512, 3, padding=1)\n",
        "        # self.conv4b = nn.Conv2d(512, 512, 3, padding=1)\n",
        "\n",
        "        self.pool = nn.MaxPool2d(kernel_size=2, stride=2)\n",
        "\n",
        "        self.bn1a = nn.BatchNorm2d(64)\n",
        "        # self.bn1b = nn.BatchNorm2d(64)\n",
        "\n",
        "        self.bn2a = nn.BatchNorm2d(128)\n",
        "        # self.bn2b = nn.BatchNorm2d(128)\n",
        "\n",
        "        self.bn3a = nn.BatchNorm2d(256)\n",
        "        # self.bn3b = nn.BatchNorm2d(256)\n",
        "\n",
        "        self.bn4a = nn.BatchNorm2d(512)\n",
        "        # self.bn4b = nn.BatchNorm2d(512)\n",
        "\n",
        "        # self.lin1 = nn.Linear(512 * 2 * 2, 4096)\n",
        "        self.lin1 = nn.Linear(512 * 3 * 3, 4096)\n",
        "        self.lin2 = nn.Linear(4096, 4096)\n",
        "\n",
        "        # self.lin3 = nn.Linear(4096, 7)\n",
        "        # output size changed to 9 because we're using the fer plus labels, not the fer 2013 labels\n",
        "        self.lin3 = nn.Linear(4096, 9)\n",
        "\n",
        "        self.drop = nn.Dropout(p=drop)\n",
        "\n",
        "    def forward(self, x):\n",
        "        x = F.relu(self.bn1a(self.conv1a(x)))\n",
        "        # x = F.relu(self.bn1b(self.conv1b(x)))\n",
        "        x = self.pool(x)\n",
        "\n",
        "        x = F.relu(self.bn2a(self.conv2a(x)))\n",
        "        # x = F.relu(self.bn2b(self.conv2b(x)))\n",
        "        x = self.pool(x)\n",
        "\n",
        "        x = F.relu(self.bn3a(self.conv3a(x)))\n",
        "        # x = F.relu(self.bn3b(self.conv3b(x)))\n",
        "        x = self.pool(x)\n",
        "\n",
        "        x = F.relu(self.bn4a(self.conv4a(x)))\n",
        "        # x = F.relu(self.bn4b(self.conv4b(x)))\n",
        "        x = self.pool(x)\n",
        "        \n",
        "        # x = x.view(-1, 512 * 2 * 2) - replaced by torch.flatten\n",
        "        x = torch.flatten(x, 1)\n",
        "        x = F.relu(self.drop(self.lin1(x)))\n",
        "        x = F.relu(self.drop(self.lin2(x)))\n",
        "        x = self.lin3(x)\n",
        "        \n",
        "        return x"
      ]
    },
    {
      "cell_type": "code",
      "execution_count": 14,
      "metadata": {
        "id": "QLoKZXK6c3lh"
      },
      "outputs": [],
      "source": [
        "device = torch.device('cuda' if torch.cuda.is_available() else 'cpu')"
      ]
    },
    {
      "cell_type": "code",
      "execution_count": 15,
      "metadata": {
        "id": "TI14oi7Sc5ky"
      },
      "outputs": [],
      "source": [
        "model5 = Model5().to(device)"
      ]
    },
    {
      "cell_type": "code",
      "execution_count": 16,
      "metadata": {
        "colab": {
          "base_uri": "https://localhost:8080/"
        },
        "id": "H4pC84zJc7hw",
        "outputId": "4c126735-e60f-4ee9-c880-086f9cd3f088"
      },
      "outputs": [
        {
          "output_type": "execute_result",
          "data": {
            "text/plain": [
              "Model5(\n",
              "  (conv1a): Conv2d(1, 64, kernel_size=(3, 3), stride=(1, 1), padding=(1, 1))\n",
              "  (conv2a): Conv2d(64, 128, kernel_size=(3, 3), stride=(1, 1), padding=(1, 1))\n",
              "  (conv3a): Conv2d(128, 256, kernel_size=(3, 3), stride=(1, 1), padding=(1, 1))\n",
              "  (conv4a): Conv2d(256, 512, kernel_size=(3, 3), stride=(1, 1), padding=(1, 1))\n",
              "  (pool): MaxPool2d(kernel_size=2, stride=2, padding=0, dilation=1, ceil_mode=False)\n",
              "  (bn1a): BatchNorm2d(64, eps=1e-05, momentum=0.1, affine=True, track_running_stats=True)\n",
              "  (bn2a): BatchNorm2d(128, eps=1e-05, momentum=0.1, affine=True, track_running_stats=True)\n",
              "  (bn3a): BatchNorm2d(256, eps=1e-05, momentum=0.1, affine=True, track_running_stats=True)\n",
              "  (bn4a): BatchNorm2d(512, eps=1e-05, momentum=0.1, affine=True, track_running_stats=True)\n",
              "  (lin1): Linear(in_features=4608, out_features=4096, bias=True)\n",
              "  (lin2): Linear(in_features=4096, out_features=4096, bias=True)\n",
              "  (lin3): Linear(in_features=4096, out_features=9, bias=True)\n",
              "  (drop): Dropout(p=0.2, inplace=False)\n",
              ")"
            ]
          },
          "metadata": {},
          "execution_count": 16
        }
      ],
      "source": [
        "model5"
      ]
    },
    {
      "cell_type": "code",
      "execution_count": 17,
      "metadata": {
        "colab": {
          "base_uri": "https://localhost:8080/"
        },
        "id": "v8Bm4h24c-bB",
        "outputId": "9dd95283-b201-4f57-c01d-73b9114244a6"
      },
      "outputs": [
        {
          "output_type": "execute_result",
          "data": {
            "text/plain": [
              "True"
            ]
          },
          "metadata": {},
          "execution_count": 17
        }
      ],
      "source": [
        "torch.cuda.is_available()"
      ]
    },
    {
      "cell_type": "code",
      "execution_count": 18,
      "metadata": {
        "id": "frApCVfodBQF"
      },
      "outputs": [],
      "source": [
        "# parameters\n",
        "epochs = 20\n",
        "batch_size = 100"
      ]
    },
    {
      "cell_type": "code",
      "execution_count": 19,
      "metadata": {
        "id": "knn46fGjdQgp"
      },
      "outputs": [],
      "source": [
        "trainloader = DataLoader(traindataset, batch_size, shuffle=True)\n",
        "valloader = DataLoader(valdataset, batch_size, shuffle=True)"
      ]
    },
    {
      "cell_type": "code",
      "execution_count": 20,
      "metadata": {
        "id": "Z2tj5lU9dWtI"
      },
      "outputs": [],
      "source": [
        "criterion = nn.CrossEntropyLoss()\n",
        "optimizer = optim.Adam(model5.parameters())"
      ]
    },
    {
      "cell_type": "code",
      "execution_count": 21,
      "metadata": {
        "id": "cRTyITkMkiC5"
      },
      "outputs": [],
      "source": [
        "from sklearn.metrics import accuracy_score, confusion_matrix\n",
        "import seaborn as sns"
      ]
    },
    {
      "cell_type": "code",
      "execution_count": 22,
      "metadata": {
        "colab": {
          "base_uri": "https://localhost:8080/"
        },
        "id": "joa-1_FTdYzY",
        "outputId": "e0f1d1c7-0d2a-493f-f871-8cec4acbfb22"
      },
      "outputs": [
        {
          "output_type": "stream",
          "name": "stdout",
          "text": [
            "epoch: 0, iteration: 0, loss: 2.19785, val_loss: 2.20276, acc: 0.03000, val_acc: 0.32468\n",
            "epoch: 0, iteration: 20, loss: 1.71688, val_loss: 1.95632, acc: 0.38000, val_acc: 0.40260\n",
            "epoch: 0, iteration: 40, loss: 1.72299, val_loss: 1.77796, acc: 0.44000, val_acc: 0.41558\n",
            "epoch: 0, iteration: 60, loss: 1.72765, val_loss: 1.88907, acc: 0.45000, val_acc: 0.36364\n",
            "epoch: 0, iteration: 80, loss: 1.80276, val_loss: 1.73000, acc: 0.30000, val_acc: 0.33766\n",
            "epoch: 0, iteration: 100, loss: 1.74292, val_loss: 1.67722, acc: 0.40000, val_acc: 0.41558\n",
            "epoch: 0, iteration: 120, loss: 1.79910, val_loss: 1.77093, acc: 0.37000, val_acc: 0.27273\n",
            "epoch: 0, iteration: 140, loss: 1.73436, val_loss: 1.85673, acc: 0.38000, val_acc: 0.33766\n",
            "epoch: 0, iteration: 160, loss: 1.67704, val_loss: 1.77283, acc: 0.44000, val_acc: 0.40260\n",
            "epoch: 0, iteration: 180, loss: 1.78755, val_loss: 1.78105, acc: 0.38000, val_acc: 0.35065\n",
            "epoch: 0, iteration: 200, loss: 1.74988, val_loss: 1.70582, acc: 0.41000, val_acc: 0.36364\n",
            "epoch: 1, iteration: 0, loss: 1.78075, val_loss: 1.75307, acc: 0.33000, val_acc: 0.42857\n",
            "epoch: 1, iteration: 20, loss: 1.61709, val_loss: 1.59078, acc: 0.43000, val_acc: 0.50649\n",
            "epoch: 1, iteration: 40, loss: 1.71246, val_loss: 1.82715, acc: 0.47000, val_acc: 0.31169\n",
            "epoch: 1, iteration: 60, loss: 1.50432, val_loss: 1.53527, acc: 0.55000, val_acc: 0.59740\n",
            "epoch: 1, iteration: 80, loss: 1.60052, val_loss: 1.47201, acc: 0.51000, val_acc: 0.63636\n",
            "epoch: 1, iteration: 100, loss: 1.49039, val_loss: 1.46714, acc: 0.67000, val_acc: 0.54545\n",
            "epoch: 1, iteration: 120, loss: 1.43321, val_loss: 1.59051, acc: 0.65000, val_acc: 0.50649\n",
            "epoch: 1, iteration: 140, loss: 1.44954, val_loss: 1.48866, acc: 0.63000, val_acc: 0.64935\n",
            "epoch: 1, iteration: 160, loss: 1.43244, val_loss: 1.38182, acc: 0.62000, val_acc: 0.66234\n",
            "epoch: 1, iteration: 180, loss: 1.45799, val_loss: 1.56158, acc: 0.64000, val_acc: 0.53247\n",
            "epoch: 1, iteration: 200, loss: 1.44837, val_loss: 1.53982, acc: 0.58000, val_acc: 0.58442\n",
            "epoch: 2, iteration: 0, loss: 1.66257, val_loss: 1.45150, acc: 0.52000, val_acc: 0.59740\n",
            "epoch: 2, iteration: 20, loss: 1.40577, val_loss: 1.52037, acc: 0.59000, val_acc: 0.55844\n",
            "epoch: 2, iteration: 40, loss: 1.44303, val_loss: 1.39546, acc: 0.57000, val_acc: 0.63636\n",
            "epoch: 2, iteration: 60, loss: 1.32684, val_loss: 1.37007, acc: 0.65000, val_acc: 0.62338\n",
            "epoch: 2, iteration: 80, loss: 1.32947, val_loss: 1.56876, acc: 0.67000, val_acc: 0.54545\n",
            "epoch: 2, iteration: 100, loss: 1.36989, val_loss: 1.47435, acc: 0.65000, val_acc: 0.62338\n",
            "epoch: 2, iteration: 120, loss: 1.36441, val_loss: 1.33729, acc: 0.62000, val_acc: 0.68831\n",
            "epoch: 2, iteration: 140, loss: 1.40235, val_loss: 1.51004, acc: 0.63000, val_acc: 0.50649\n",
            "epoch: 2, iteration: 160, loss: 1.31125, val_loss: 1.20082, acc: 0.61000, val_acc: 0.68831\n",
            "epoch: 2, iteration: 180, loss: 1.38736, val_loss: 1.28292, acc: 0.64000, val_acc: 0.64935\n",
            "epoch: 2, iteration: 200, loss: 1.24490, val_loss: 1.44146, acc: 0.68000, val_acc: 0.59740\n",
            "epoch: 3, iteration: 0, loss: 1.26135, val_loss: 1.27864, acc: 0.64000, val_acc: 0.64935\n",
            "epoch: 3, iteration: 20, loss: 1.30566, val_loss: 1.10152, acc: 0.72000, val_acc: 0.80519\n",
            "epoch: 3, iteration: 40, loss: 1.46195, val_loss: 1.35449, acc: 0.59000, val_acc: 0.67532\n",
            "epoch: 3, iteration: 60, loss: 1.30736, val_loss: 1.29123, acc: 0.71000, val_acc: 0.67532\n",
            "epoch: 3, iteration: 80, loss: 1.40900, val_loss: 1.25407, acc: 0.59000, val_acc: 0.68831\n",
            "epoch: 3, iteration: 100, loss: 1.21890, val_loss: 1.22069, acc: 0.67000, val_acc: 0.67532\n",
            "epoch: 3, iteration: 120, loss: 1.25837, val_loss: 1.34691, acc: 0.64000, val_acc: 0.61039\n",
            "epoch: 3, iteration: 140, loss: 1.29392, val_loss: 1.24730, acc: 0.71000, val_acc: 0.71429\n",
            "epoch: 3, iteration: 160, loss: 1.19611, val_loss: 1.21082, acc: 0.71000, val_acc: 0.61039\n",
            "epoch: 3, iteration: 180, loss: 1.21477, val_loss: 1.19746, acc: 0.70000, val_acc: 0.68831\n",
            "epoch: 3, iteration: 200, loss: 1.29779, val_loss: 1.22109, acc: 0.75000, val_acc: 0.67532\n",
            "epoch: 4, iteration: 0, loss: 1.17415, val_loss: 1.18654, acc: 0.74000, val_acc: 0.67532\n",
            "epoch: 4, iteration: 20, loss: 1.12356, val_loss: 1.31398, acc: 0.72000, val_acc: 0.63636\n",
            "epoch: 4, iteration: 40, loss: 1.12402, val_loss: 1.43603, acc: 0.73000, val_acc: 0.59740\n",
            "epoch: 4, iteration: 60, loss: 1.11940, val_loss: 1.16530, acc: 0.75000, val_acc: 0.70130\n",
            "epoch: 4, iteration: 80, loss: 1.15117, val_loss: 1.32492, acc: 0.78000, val_acc: 0.70130\n",
            "epoch: 4, iteration: 100, loss: 1.24961, val_loss: 1.41087, acc: 0.66000, val_acc: 0.64935\n",
            "epoch: 4, iteration: 120, loss: 1.20186, val_loss: 1.16169, acc: 0.70000, val_acc: 0.70130\n",
            "epoch: 4, iteration: 140, loss: 1.24819, val_loss: 1.04208, acc: 0.69000, val_acc: 0.76623\n",
            "epoch: 4, iteration: 160, loss: 1.15080, val_loss: 1.14735, acc: 0.72000, val_acc: 0.76623\n",
            "epoch: 4, iteration: 180, loss: 1.32086, val_loss: 1.18677, acc: 0.63000, val_acc: 0.68831\n",
            "epoch: 4, iteration: 200, loss: 1.19780, val_loss: 1.26103, acc: 0.69000, val_acc: 0.71429\n",
            "epoch: 5, iteration: 0, loss: 1.14505, val_loss: 1.18351, acc: 0.72000, val_acc: 0.74026\n",
            "epoch: 5, iteration: 20, loss: 1.06917, val_loss: 1.18171, acc: 0.74000, val_acc: 0.68831\n",
            "epoch: 5, iteration: 40, loss: 1.12948, val_loss: 1.20801, acc: 0.79000, val_acc: 0.71429\n",
            "epoch: 5, iteration: 60, loss: 1.12322, val_loss: 1.30937, acc: 0.72000, val_acc: 0.63636\n",
            "epoch: 5, iteration: 80, loss: 1.22202, val_loss: 1.05710, acc: 0.66000, val_acc: 0.79221\n",
            "epoch: 5, iteration: 100, loss: 1.07320, val_loss: 1.37889, acc: 0.86000, val_acc: 0.59740\n",
            "epoch: 5, iteration: 120, loss: 1.07746, val_loss: 1.21820, acc: 0.79000, val_acc: 0.66234\n",
            "epoch: 5, iteration: 140, loss: 1.19752, val_loss: 1.16708, acc: 0.78000, val_acc: 0.74026\n",
            "epoch: 5, iteration: 160, loss: 1.23351, val_loss: 1.21864, acc: 0.72000, val_acc: 0.70130\n",
            "epoch: 5, iteration: 180, loss: 1.14085, val_loss: 1.26013, acc: 0.70000, val_acc: 0.68831\n",
            "epoch: 5, iteration: 200, loss: 1.12632, val_loss: 1.29304, acc: 0.73000, val_acc: 0.66234\n",
            "epoch: 6, iteration: 0, loss: 1.06702, val_loss: 1.19220, acc: 0.82000, val_acc: 0.68831\n",
            "epoch: 6, iteration: 20, loss: 1.09388, val_loss: 1.24641, acc: 0.75000, val_acc: 0.72727\n",
            "epoch: 6, iteration: 40, loss: 1.19550, val_loss: 1.27412, acc: 0.73000, val_acc: 0.66234\n",
            "epoch: 6, iteration: 60, loss: 1.07696, val_loss: 1.08775, acc: 0.73000, val_acc: 0.79221\n",
            "epoch: 6, iteration: 80, loss: 1.07920, val_loss: 1.23010, acc: 0.78000, val_acc: 0.68831\n",
            "epoch: 6, iteration: 100, loss: 1.18828, val_loss: 1.03952, acc: 0.74000, val_acc: 0.70130\n",
            "epoch: 6, iteration: 120, loss: 1.05344, val_loss: 1.14227, acc: 0.74000, val_acc: 0.77922\n",
            "epoch: 6, iteration: 140, loss: 1.02121, val_loss: 1.13028, acc: 0.77000, val_acc: 0.72727\n",
            "epoch: 6, iteration: 160, loss: 1.09517, val_loss: 1.13393, acc: 0.73000, val_acc: 0.70130\n",
            "epoch: 6, iteration: 180, loss: 1.09519, val_loss: 1.13979, acc: 0.77000, val_acc: 0.77922\n",
            "epoch: 6, iteration: 200, loss: 1.09280, val_loss: 1.20164, acc: 0.81000, val_acc: 0.66234\n",
            "epoch: 7, iteration: 0, loss: 1.06401, val_loss: 1.14670, acc: 0.77000, val_acc: 0.81818\n",
            "epoch: 7, iteration: 20, loss: 1.07233, val_loss: 1.22455, acc: 0.77000, val_acc: 0.68831\n",
            "epoch: 7, iteration: 40, loss: 1.01474, val_loss: 1.10792, acc: 0.82000, val_acc: 0.76623\n",
            "epoch: 7, iteration: 60, loss: 1.06254, val_loss: 1.13215, acc: 0.81000, val_acc: 0.81818\n",
            "epoch: 7, iteration: 80, loss: 1.05325, val_loss: 1.14757, acc: 0.79000, val_acc: 0.74026\n",
            "epoch: 7, iteration: 100, loss: 1.08287, val_loss: 1.12755, acc: 0.73000, val_acc: 0.70130\n",
            "epoch: 7, iteration: 120, loss: 1.09678, val_loss: 1.09697, acc: 0.81000, val_acc: 0.77922\n",
            "epoch: 7, iteration: 140, loss: 0.94798, val_loss: 0.91460, acc: 0.77000, val_acc: 0.83117\n",
            "epoch: 7, iteration: 160, loss: 1.04529, val_loss: 1.05931, acc: 0.74000, val_acc: 0.74026\n",
            "epoch: 7, iteration: 180, loss: 0.87560, val_loss: 1.09108, acc: 0.85000, val_acc: 0.83117\n",
            "epoch: 7, iteration: 200, loss: 1.10893, val_loss: 1.10134, acc: 0.78000, val_acc: 0.76623\n",
            "epoch: 8, iteration: 0, loss: 1.03395, val_loss: 1.46094, acc: 0.79000, val_acc: 0.57143\n",
            "epoch: 8, iteration: 20, loss: 0.91231, val_loss: 1.01793, acc: 0.84000, val_acc: 0.75325\n",
            "epoch: 8, iteration: 40, loss: 0.97609, val_loss: 1.21037, acc: 0.81000, val_acc: 0.75325\n",
            "epoch: 8, iteration: 60, loss: 0.95625, val_loss: 1.11712, acc: 0.82000, val_acc: 0.79221\n",
            "epoch: 8, iteration: 80, loss: 1.02693, val_loss: 1.02984, acc: 0.78000, val_acc: 0.75325\n",
            "epoch: 8, iteration: 100, loss: 0.99924, val_loss: 1.28978, acc: 0.80000, val_acc: 0.68831\n",
            "epoch: 8, iteration: 120, loss: 1.06949, val_loss: 1.13093, acc: 0.75000, val_acc: 0.72727\n",
            "epoch: 8, iteration: 140, loss: 0.94983, val_loss: 1.20647, acc: 0.76000, val_acc: 0.76623\n",
            "epoch: 8, iteration: 160, loss: 1.08619, val_loss: 1.25844, acc: 0.81000, val_acc: 0.66234\n",
            "epoch: 8, iteration: 180, loss: 1.01928, val_loss: 1.11121, acc: 0.79000, val_acc: 0.74026\n",
            "epoch: 8, iteration: 200, loss: 1.08334, val_loss: 1.20499, acc: 0.78000, val_acc: 0.72727\n",
            "epoch: 9, iteration: 0, loss: 0.94849, val_loss: 1.31985, acc: 0.83000, val_acc: 0.71429\n",
            "epoch: 9, iteration: 20, loss: 0.92347, val_loss: 1.13695, acc: 0.86000, val_acc: 0.77922\n",
            "epoch: 9, iteration: 40, loss: 0.98871, val_loss: 1.20375, acc: 0.84000, val_acc: 0.72727\n",
            "epoch: 9, iteration: 60, loss: 0.95775, val_loss: 1.10804, acc: 0.76000, val_acc: 0.76623\n",
            "epoch: 9, iteration: 80, loss: 0.97112, val_loss: 1.23788, acc: 0.83000, val_acc: 0.74026\n",
            "epoch: 9, iteration: 100, loss: 0.99863, val_loss: 1.23628, acc: 0.78000, val_acc: 0.71429\n",
            "epoch: 9, iteration: 120, loss: 1.00276, val_loss: 1.18675, acc: 0.77000, val_acc: 0.71429\n",
            "epoch: 9, iteration: 140, loss: 0.90018, val_loss: 1.31710, acc: 0.90000, val_acc: 0.72727\n",
            "epoch: 9, iteration: 160, loss: 1.00867, val_loss: 1.24634, acc: 0.84000, val_acc: 0.79221\n",
            "epoch: 9, iteration: 180, loss: 0.85901, val_loss: 1.04872, acc: 0.79000, val_acc: 0.81818\n",
            "epoch: 9, iteration: 200, loss: 1.05158, val_loss: 1.27820, acc: 0.72000, val_acc: 0.75325\n",
            "epoch: 10, iteration: 0, loss: 0.95440, val_loss: 1.16567, acc: 0.84000, val_acc: 0.68831\n",
            "epoch: 10, iteration: 20, loss: 0.96705, val_loss: 1.15982, acc: 0.79000, val_acc: 0.79221\n",
            "epoch: 10, iteration: 40, loss: 1.00755, val_loss: 1.16069, acc: 0.86000, val_acc: 0.79221\n",
            "epoch: 10, iteration: 60, loss: 1.05334, val_loss: 1.23637, acc: 0.81000, val_acc: 0.71429\n",
            "epoch: 10, iteration: 80, loss: 0.97889, val_loss: 1.04811, acc: 0.84000, val_acc: 0.74026\n",
            "epoch: 10, iteration: 100, loss: 1.00765, val_loss: 1.12284, acc: 0.77000, val_acc: 0.76623\n",
            "epoch: 10, iteration: 120, loss: 0.87655, val_loss: 1.16728, acc: 0.86000, val_acc: 0.74026\n",
            "epoch: 10, iteration: 140, loss: 1.05731, val_loss: 1.00163, acc: 0.79000, val_acc: 0.81818\n",
            "epoch: 10, iteration: 160, loss: 0.88820, val_loss: 1.02901, acc: 0.89000, val_acc: 0.80519\n",
            "epoch: 10, iteration: 180, loss: 0.95704, val_loss: 1.19545, acc: 0.82000, val_acc: 0.68831\n",
            "epoch: 10, iteration: 200, loss: 0.83751, val_loss: 1.04095, acc: 0.85000, val_acc: 0.84416\n",
            "epoch: 11, iteration: 0, loss: 0.91663, val_loss: 1.12268, acc: 0.85000, val_acc: 0.79221\n",
            "epoch: 11, iteration: 20, loss: 0.96742, val_loss: 1.13681, acc: 0.85000, val_acc: 0.74026\n",
            "epoch: 11, iteration: 40, loss: 0.85100, val_loss: 1.01864, acc: 0.83000, val_acc: 0.79221\n",
            "epoch: 11, iteration: 60, loss: 0.90349, val_loss: 1.17285, acc: 0.84000, val_acc: 0.71429\n",
            "epoch: 11, iteration: 80, loss: 0.87936, val_loss: 1.11120, acc: 0.84000, val_acc: 0.72727\n",
            "epoch: 11, iteration: 100, loss: 1.00550, val_loss: 1.15443, acc: 0.86000, val_acc: 0.71429\n",
            "epoch: 11, iteration: 120, loss: 1.03788, val_loss: 1.17612, acc: 0.81000, val_acc: 0.75325\n",
            "epoch: 11, iteration: 140, loss: 0.88580, val_loss: 1.10199, acc: 0.83000, val_acc: 0.80519\n",
            "epoch: 11, iteration: 160, loss: 1.04634, val_loss: 1.02498, acc: 0.81000, val_acc: 0.85714\n",
            "epoch: 11, iteration: 180, loss: 0.99702, val_loss: 1.15761, acc: 0.85000, val_acc: 0.79221\n",
            "epoch: 11, iteration: 200, loss: 0.93212, val_loss: 1.12364, acc: 0.75000, val_acc: 0.72727\n",
            "epoch: 12, iteration: 0, loss: 0.95310, val_loss: 1.16956, acc: 0.84000, val_acc: 0.75325\n",
            "epoch: 12, iteration: 20, loss: 0.82116, val_loss: 0.94216, acc: 0.85000, val_acc: 0.80519\n",
            "epoch: 12, iteration: 40, loss: 0.79935, val_loss: 1.15384, acc: 0.84000, val_acc: 0.76623\n",
            "epoch: 12, iteration: 60, loss: 0.85674, val_loss: 0.98821, acc: 0.87000, val_acc: 0.80519\n",
            "epoch: 12, iteration: 80, loss: 0.92939, val_loss: 1.15182, acc: 0.87000, val_acc: 0.74026\n",
            "epoch: 12, iteration: 100, loss: 0.97791, val_loss: 1.01669, acc: 0.76000, val_acc: 0.71429\n",
            "epoch: 12, iteration: 120, loss: 0.77594, val_loss: 1.32174, acc: 0.85000, val_acc: 0.64935\n",
            "epoch: 12, iteration: 140, loss: 1.02470, val_loss: 1.15499, acc: 0.83000, val_acc: 0.76623\n",
            "epoch: 12, iteration: 160, loss: 0.94414, val_loss: 1.12054, acc: 0.88000, val_acc: 0.75325\n",
            "epoch: 12, iteration: 180, loss: 0.92526, val_loss: 1.02446, acc: 0.88000, val_acc: 0.80519\n",
            "epoch: 12, iteration: 200, loss: 1.01498, val_loss: 1.24744, acc: 0.85000, val_acc: 0.74026\n",
            "epoch: 13, iteration: 0, loss: 0.91823, val_loss: 1.17934, acc: 0.83000, val_acc: 0.70130\n",
            "epoch: 13, iteration: 20, loss: 0.95780, val_loss: 1.05080, acc: 0.87000, val_acc: 0.79221\n",
            "epoch: 13, iteration: 40, loss: 0.87450, val_loss: 1.28300, acc: 0.89000, val_acc: 0.67532\n",
            "epoch: 13, iteration: 60, loss: 0.98784, val_loss: 1.19809, acc: 0.77000, val_acc: 0.70130\n",
            "epoch: 13, iteration: 80, loss: 0.86742, val_loss: 1.10986, acc: 0.81000, val_acc: 0.74026\n",
            "epoch: 13, iteration: 100, loss: 0.89474, val_loss: 1.14957, acc: 0.90000, val_acc: 0.74026\n",
            "epoch: 13, iteration: 120, loss: 0.84208, val_loss: 1.06413, acc: 0.82000, val_acc: 0.79221\n",
            "epoch: 13, iteration: 140, loss: 0.94026, val_loss: 1.10136, acc: 0.88000, val_acc: 0.80519\n",
            "epoch: 13, iteration: 160, loss: 0.91638, val_loss: 1.18518, acc: 0.87000, val_acc: 0.70130\n",
            "epoch: 13, iteration: 180, loss: 0.95839, val_loss: 1.01746, acc: 0.87000, val_acc: 0.74026\n",
            "epoch: 13, iteration: 200, loss: 0.90692, val_loss: 1.16243, acc: 0.80000, val_acc: 0.76623\n",
            "epoch: 14, iteration: 0, loss: 0.89604, val_loss: 1.25196, acc: 0.86000, val_acc: 0.76623\n",
            "epoch: 14, iteration: 20, loss: 1.04750, val_loss: 1.14266, acc: 0.88000, val_acc: 0.71429\n",
            "epoch: 14, iteration: 40, loss: 0.99269, val_loss: 1.07461, acc: 0.93000, val_acc: 0.80519\n",
            "epoch: 14, iteration: 60, loss: 0.97167, val_loss: 1.16659, acc: 0.87000, val_acc: 0.77922\n",
            "epoch: 14, iteration: 80, loss: 0.83717, val_loss: 1.16366, acc: 0.87000, val_acc: 0.72727\n",
            "epoch: 14, iteration: 100, loss: 0.82729, val_loss: 1.29115, acc: 0.86000, val_acc: 0.71429\n",
            "epoch: 14, iteration: 120, loss: 0.88124, val_loss: 1.23752, acc: 0.86000, val_acc: 0.71429\n",
            "epoch: 14, iteration: 140, loss: 0.93228, val_loss: 1.22952, acc: 0.84000, val_acc: 0.74026\n",
            "epoch: 14, iteration: 160, loss: 0.94933, val_loss: 1.06932, acc: 0.83000, val_acc: 0.72727\n",
            "epoch: 14, iteration: 180, loss: 0.82768, val_loss: 1.21814, acc: 0.89000, val_acc: 0.70130\n",
            "epoch: 14, iteration: 200, loss: 0.81611, val_loss: 1.22617, acc: 0.86000, val_acc: 0.62338\n",
            "epoch: 15, iteration: 0, loss: 0.92681, val_loss: 1.10857, acc: 0.87000, val_acc: 0.75325\n",
            "epoch: 15, iteration: 20, loss: 0.96891, val_loss: 1.18814, acc: 0.80000, val_acc: 0.77922\n",
            "epoch: 15, iteration: 40, loss: 0.97380, val_loss: 1.11578, acc: 0.83000, val_acc: 0.72727\n",
            "epoch: 15, iteration: 60, loss: 0.88926, val_loss: 1.21207, acc: 0.81000, val_acc: 0.64935\n",
            "epoch: 15, iteration: 80, loss: 0.75174, val_loss: 1.16173, acc: 0.89000, val_acc: 0.74026\n",
            "epoch: 15, iteration: 100, loss: 0.92256, val_loss: 1.18214, acc: 0.83000, val_acc: 0.74026\n",
            "epoch: 15, iteration: 120, loss: 0.88454, val_loss: 1.21971, acc: 0.84000, val_acc: 0.68831\n",
            "epoch: 15, iteration: 140, loss: 0.82201, val_loss: 1.08062, acc: 0.87000, val_acc: 0.77922\n",
            "epoch: 15, iteration: 160, loss: 0.83998, val_loss: 1.17748, acc: 0.93000, val_acc: 0.79221\n",
            "epoch: 15, iteration: 180, loss: 0.93196, val_loss: 0.90943, acc: 0.82000, val_acc: 0.80519\n",
            "epoch: 15, iteration: 200, loss: 0.90350, val_loss: 1.12545, acc: 0.89000, val_acc: 0.76623\n",
            "epoch: 16, iteration: 0, loss: 0.91569, val_loss: 1.10158, acc: 0.86000, val_acc: 0.77922\n",
            "epoch: 16, iteration: 20, loss: 0.83902, val_loss: 1.10382, acc: 0.87000, val_acc: 0.85714\n",
            "epoch: 16, iteration: 40, loss: 0.91601, val_loss: 1.17155, acc: 0.91000, val_acc: 0.71429\n",
            "epoch: 16, iteration: 60, loss: 0.84411, val_loss: 1.14671, acc: 0.90000, val_acc: 0.76623\n",
            "epoch: 16, iteration: 80, loss: 0.79866, val_loss: 1.23815, acc: 0.90000, val_acc: 0.77922\n",
            "epoch: 16, iteration: 100, loss: 0.79963, val_loss: 0.95888, acc: 0.90000, val_acc: 0.87013\n",
            "epoch: 16, iteration: 120, loss: 0.88687, val_loss: 1.22381, acc: 0.88000, val_acc: 0.70130\n",
            "epoch: 16, iteration: 140, loss: 0.85506, val_loss: 1.12663, acc: 0.89000, val_acc: 0.75325\n",
            "epoch: 16, iteration: 160, loss: 0.86473, val_loss: 1.12538, acc: 0.86000, val_acc: 0.77922\n",
            "epoch: 16, iteration: 180, loss: 0.87175, val_loss: 1.04454, acc: 0.84000, val_acc: 0.75325\n",
            "epoch: 16, iteration: 200, loss: 0.85695, val_loss: 1.10288, acc: 0.84000, val_acc: 0.79221\n",
            "epoch: 17, iteration: 0, loss: 0.94878, val_loss: 1.03354, acc: 0.89000, val_acc: 0.76623\n",
            "epoch: 17, iteration: 20, loss: 0.79917, val_loss: 1.07423, acc: 0.93000, val_acc: 0.75325\n",
            "epoch: 17, iteration: 40, loss: 0.87121, val_loss: 1.16564, acc: 0.92000, val_acc: 0.67532\n",
            "epoch: 17, iteration: 60, loss: 0.92172, val_loss: 0.95416, acc: 0.83000, val_acc: 0.75325\n",
            "epoch: 17, iteration: 80, loss: 0.93225, val_loss: 1.11264, acc: 0.85000, val_acc: 0.74026\n",
            "epoch: 17, iteration: 100, loss: 0.80888, val_loss: 1.11513, acc: 0.89000, val_acc: 0.74026\n",
            "epoch: 17, iteration: 120, loss: 0.88225, val_loss: 1.18955, acc: 0.92000, val_acc: 0.71429\n",
            "epoch: 17, iteration: 140, loss: 0.74071, val_loss: 1.04757, acc: 0.91000, val_acc: 0.70130\n",
            "epoch: 17, iteration: 160, loss: 0.77809, val_loss: 1.01095, acc: 0.91000, val_acc: 0.81818\n",
            "epoch: 17, iteration: 180, loss: 0.93450, val_loss: 1.01328, acc: 0.81000, val_acc: 0.75325\n",
            "epoch: 17, iteration: 200, loss: 0.92071, val_loss: 1.06241, acc: 0.81000, val_acc: 0.76623\n",
            "epoch: 18, iteration: 0, loss: 0.83939, val_loss: 1.06113, acc: 0.84000, val_acc: 0.79221\n",
            "epoch: 18, iteration: 20, loss: 0.76545, val_loss: 1.26155, acc: 0.88000, val_acc: 0.74026\n",
            "epoch: 18, iteration: 40, loss: 0.79284, val_loss: 1.20823, acc: 0.87000, val_acc: 0.68831\n",
            "epoch: 18, iteration: 60, loss: 0.89448, val_loss: 1.10695, acc: 0.89000, val_acc: 0.79221\n",
            "epoch: 18, iteration: 80, loss: 0.85386, val_loss: 1.09094, acc: 0.87000, val_acc: 0.75325\n",
            "epoch: 18, iteration: 100, loss: 0.88899, val_loss: 1.06097, acc: 0.79000, val_acc: 0.76623\n",
            "epoch: 18, iteration: 120, loss: 0.95837, val_loss: 1.00487, acc: 0.88000, val_acc: 0.80519\n",
            "epoch: 18, iteration: 140, loss: 0.91432, val_loss: 1.13584, acc: 0.84000, val_acc: 0.74026\n",
            "epoch: 18, iteration: 160, loss: 0.94888, val_loss: 1.21069, acc: 0.84000, val_acc: 0.72727\n",
            "epoch: 18, iteration: 180, loss: 0.79009, val_loss: 1.18016, acc: 0.91000, val_acc: 0.79221\n",
            "epoch: 18, iteration: 200, loss: 0.72774, val_loss: 1.17874, acc: 0.88000, val_acc: 0.77922\n",
            "epoch: 19, iteration: 0, loss: 0.97139, val_loss: 1.06723, acc: 0.90000, val_acc: 0.76623\n",
            "epoch: 19, iteration: 20, loss: 0.82834, val_loss: 1.09694, acc: 0.89000, val_acc: 0.70130\n",
            "epoch: 19, iteration: 40, loss: 0.86597, val_loss: 1.01805, acc: 0.91000, val_acc: 0.76623\n",
            "epoch: 19, iteration: 60, loss: 0.87493, val_loss: 1.29012, acc: 0.82000, val_acc: 0.68831\n",
            "epoch: 19, iteration: 80, loss: 0.89459, val_loss: 1.10506, acc: 0.88000, val_acc: 0.75325\n",
            "epoch: 19, iteration: 100, loss: 0.86935, val_loss: 1.22852, acc: 0.86000, val_acc: 0.72727\n",
            "epoch: 19, iteration: 120, loss: 0.76624, val_loss: 1.22845, acc: 0.88000, val_acc: 0.72727\n",
            "epoch: 19, iteration: 140, loss: 0.86457, val_loss: 1.04381, acc: 0.86000, val_acc: 0.74026\n",
            "epoch: 19, iteration: 160, loss: 0.84543, val_loss: 1.23319, acc: 0.86000, val_acc: 0.80519\n",
            "epoch: 19, iteration: 180, loss: 0.81987, val_loss: 1.20221, acc: 0.88000, val_acc: 0.76623\n",
            "epoch: 19, iteration: 200, loss: 0.90370, val_loss: 1.06464, acc: 0.85000, val_acc: 0.83117\n"
          ]
        }
      ],
      "source": [
        "running_loss = []\n",
        "running_val_loss = []\n",
        "alltrainacc = []\n",
        "allvalacc = []\n",
        "\n",
        "print_every = 20\n",
        "for e in range(epochs):\n",
        "    for i,(images, labels) in enumerate(trainloader):\n",
        "        model5.train()\n",
        "        images.unsqueeze_(1)\n",
        "        images = images.to(device)\n",
        "        labels = labels.to(device)\n",
        "\n",
        "        optimizer.zero_grad()\n",
        "        output = model5(images)\n",
        "        loss = criterion(output, labels)\n",
        "        loss.backward()\n",
        "        optimizer.step()\n",
        "\n",
        "        running_loss.append(loss.item())\n",
        "        \n",
        "        if i%print_every == 0:\n",
        "            # torch.save(vggmodel.state_dict(), os.path.join('/models', 'decoder-%d.pkl' % i))\n",
        "            model5.eval()\n",
        "            with torch.no_grad():\n",
        "                for j,(valimages, vallabels) in enumerate(valloader):\n",
        "                    val_loss_list = []\n",
        "                    valimages.unsqueeze_(1)\n",
        "                    valimages = valimages.to(device)\n",
        "                    vallabels = vallabels.to(device)\n",
        "                    \n",
        "                    val_output = model5(valimages)\n",
        "                    val_loss = criterion(val_output, vallabels)\n",
        "\n",
        "                    val_loss_list.append(val_loss.item())\n",
        "                    \n",
        "                    # to calculate training accuracy\n",
        "                    trueargmax = torch.argmax(labels, dim=1)\n",
        "                    truelabels = trueargmax.cpu().detach().numpy()\n",
        "                    predargmax = torch.argmax(output, dim=1)\n",
        "                    predlabels = predargmax.cpu().detach().numpy()\n",
        "                    \n",
        "                    # to calculate validation accuracy\n",
        "                    valtrueargmax = torch.argmax(vallabels, dim=1)\n",
        "                    valtruelabels = valtrueargmax.cpu().detach().numpy()\n",
        "                    valpredargmax = torch.argmax(val_output, dim=1)\n",
        "                    valpredlabels = valpredargmax.cpu().detach().numpy()                    \n",
        "\n",
        "                val_loss_avg = sum(val_loss_list) / len(val_loss_list)\n",
        "                \n",
        "            # calculate training and validation accuracy\n",
        "            batchtrainacc = accuracy_score(truelabels, predlabels)\n",
        "            batchvalacc = accuracy_score(valtruelabels, valpredlabels)\n",
        "            \n",
        "            # store the training and validation accuracies \n",
        "            alltrainacc.append(batchtrainacc)\n",
        "            allvalacc.append(batchvalacc)\n",
        "\n",
        "            running_val_loss.append(val_loss_avg)\n",
        "            print(f'epoch: {e}, iteration: {i}, loss: {loss.item():.5f}, val_loss: {val_loss_avg:.5f}, acc: {batchtrainacc:.5f}, val_acc: {batchvalacc:.5f}')"
      ]
    },
    {
      "cell_type": "code",
      "execution_count": 23,
      "metadata": {
        "colab": {
          "base_uri": "https://localhost:8080/",
          "height": 295
        },
        "id": "zaXx_WmKdfLx",
        "outputId": "9ede6ab1-ad1d-4f01-ef7a-50df89be4385"
      },
      "outputs": [
        {
          "output_type": "display_data",
          "data": {
            "image/png": "[encoded data removed]",
            "text/plain": [
              "<Figure size 432x288 with 1 Axes>"
            ]
          },
          "metadata": {
            "needs_background": "light"
          }
        }
      ],
      "source": [
        "ind = 10\n",
        "plt.plot(np.arange(len(running_loss[ind:])), running_loss[ind:], label='training loss')\n",
        "plt.plot(np.arange(len(running_val_loss[ind:]))*print_every, running_val_loss[10:], label='validation loss')\n",
        "plt.xlabel('iterations')\n",
        "plt.ylabel('loss')\n",
        "plt.title('training and validation loss')\n",
        "plt.legend()\n",
        "plt.show()"
      ]
    },
    {
      "cell_type": "code",
      "execution_count": 24,
      "metadata": {
        "colab": {
          "base_uri": "https://localhost:8080/",
          "height": 295
        },
        "id": "ykK5KhE5kyeM",
        "outputId": "b086beac-f3b2-4a1c-aed9-c11b5443cd0c"
      },
      "outputs": [
        {
          "output_type": "display_data",
          "data": {
            "image/png": "[encoded data removed]",
            "text/plain": [
              "<Figure size 432x288 with 1 Axes>"
            ]
          },
          "metadata": {
            "needs_background": "light"
          }
        }
      ],
      "source": [
        "plt.plot(np.arange(len(alltrainacc))*print_every, alltrainacc, label='training acc')\n",
        "plt.plot(np.arange(len(allvalacc))*print_every, allvalacc, label='validation acc')\n",
        "plt.xlabel('iterations')\n",
        "plt.ylabel('accuracy')\n",
        "plt.title('training and validation accuracy')\n",
        "plt.legend()\n",
        "plt.show()"
      ]
    },
    {
      "cell_type": "markdown",
      "metadata": {
        "id": "5ZftQ_VSddbE"
      },
      "source": [
        "### Let's run the model on the test data"
      ]
    },
    {
      "cell_type": "code",
      "execution_count": 25,
      "metadata": {
        "id": "AFhbl1e8r425"
      },
      "outputs": [],
      "source": [
        "testloader = DataLoader(testdataset, 1, shuffle=False)"
      ]
    },
    {
      "cell_type": "code",
      "execution_count": 26,
      "metadata": {
        "id": "4JIqoZTF2XiO"
      },
      "outputs": [],
      "source": [
        "model5.eval()\n",
        "testtruelabels = []\n",
        "testpredlabels = []\n",
        "with torch.no_grad():\n",
        "    for i, (testimage, testlabel) in enumerate(testloader):\n",
        "        testimage.unsqueeze_(1)\n",
        "        testimage, testlabel = testimage.to(device), testlabel.to(device)\n",
        "        testpred = model5(testimage)\n",
        "\n",
        "        testtrueargmax = torch.argmax(testlabel).item()\n",
        "        testpredargmax = torch.argmax(testpred).item()\n",
        "\n",
        "        testtruelabels.append(testtrueargmax)\n",
        "        testpredlabels.append(testpredargmax)"
      ]
    },
    {
      "cell_type": "code",
      "execution_count": 27,
      "metadata": {
        "id": "KodylrAL6BQz"
      },
      "outputs": [],
      "source": [
        "testconfmat = confusion_matrix(testtruelabels, testpredlabels)"
      ]
    },
    {
      "cell_type": "code",
      "execution_count": 28,
      "metadata": {
        "colab": {
          "base_uri": "https://localhost:8080/",
          "height": 729
        },
        "id": "vajQVaUm6YVK",
        "outputId": "d4870c61-e16a-417c-e213-3467d4690642"
      },
      "outputs": [
        {
          "output_type": "display_data",
          "data": {
            "image/png": "[encoded data removed]",
            "text/plain": [
              "<Figure size 1080x720 with 2 Axes>"
            ]
          },
          "metadata": {
            "needs_background": "light"
          }
        }
      ],
      "source": [
        "plt.figure(figsize=(15,10))\n",
        "sns.heatmap(testconfmat, annot=True, fmt='.0f', cmap='viridis', xticklabels=dataset.fer2013newlabels, yticklabels=dataset.fer2013newlabels)\n",
        "plt.xlabel('Predicted Values')\n",
        "plt.ylabel('True Values')\n",
        "plt.tight_layout()\n",
        "plt.show()"
      ]
    },
    {
      "cell_type": "code",
      "execution_count": 29,
      "metadata": {
        "colab": {
          "base_uri": "https://localhost:8080/"
        },
        "id": "GmYNizky6fZc",
        "outputId": "b150e837-e354-40ff-a98c-e82bca0d3168"
      },
      "outputs": [
        {
          "output_type": "execute_result",
          "data": {
            "text/plain": [
              "0.7426859849540262"
            ]
          },
          "metadata": {},
          "execution_count": 29
        }
      ],
      "source": [
        "accuracy_score(testtruelabels, testpredlabels)"
      ]
    },
    {
      "cell_type": "code",
      "execution_count": 30,
      "metadata": {
        "id": "ikkHo8uW62CI"
      },
      "outputs": [],
      "source": [
        "torch.save(model5.state_dict(), f'/content/drive/MyDrive/TSI/Material/Thesis/data/model5_state_dict.pth')"
      ]
    },
    {
      "cell_type": "code",
      "execution_count": null,
      "metadata": {
        "id": "Z_G8iQzcIRFF"
      },
      "outputs": [],
      "source": [
        ""
      ]
    }
  ],
  "metadata": {
    "accelerator": "GPU",
    "colab": {
      "collapsed_sections": [],
      "name": "model5.ipynb",
      "provenance": []
    },
    "kernelspec": {
      "display_name": "Python 3 (ipykernel)",
      "language": "python",
      "name": "python3"
    },
    "language_info": {
      "codemirror_mode": {
        "name": "ipython",
        "version": 3
      },
      "file_extension": ".py",
      "mimetype": "text/x-python",
      "name": "python",
      "nbconvert_exporter": "python",
      "pygments_lexer": "ipython3",
      "version": "3.9.0"
    }
  },
  "nbformat": 4,
  "nbformat_minor": 0
}