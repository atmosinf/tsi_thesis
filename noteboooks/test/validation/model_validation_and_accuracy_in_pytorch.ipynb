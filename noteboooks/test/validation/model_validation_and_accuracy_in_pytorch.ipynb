{
 "cells": [
  {
   "cell_type": "markdown",
   "id": "f09435df",
   "metadata": {},
   "source": [
    "### in this notebook we will see how we can validate a model while training"
   ]
  },
  {
   "cell_type": "markdown",
   "id": "a3243541",
   "metadata": {},
   "source": [
    "We'll use model.train(), model.eval() and with torch.no_grad() <br>\n",
    "Another thing to consider is that the model returns a probability distribution. So how can we calculate the accuracy for such a model? Let's do this. We'll take the argmax of the predicted label, and see if they match. So if the true label has the second emotion in the vector (for instance happiness) with the highest value, and the prediction also has the second element in the vector with the highest value, we'll consider it a match"
   ]
  },
  {
   "cell_type": "code",
   "execution_count": 1,
   "id": "b53e6507",
   "metadata": {},
   "outputs": [],
   "source": [
    "import numpy as np\n",
    "import pandas as pd\n",
    "import matplotlib.pyplot as plt"
   ]
  },
  {
   "cell_type": "code",
   "execution_count": 2,
   "id": "c269295b",
   "metadata": {},
   "outputs": [],
   "source": [
    "import torch\n",
    "import torch.nn as nn\n",
    "import torch.nn.functional as F\n",
    "from torch import optim\n",
    "from torchvision import transforms\n",
    "from torch.utils.data import DataLoader, Dataset"
   ]
  },
  {
   "cell_type": "code",
   "execution_count": 197,
   "id": "b499b52b",
   "metadata": {},
   "outputs": [],
   "source": [
    "class FERdataset(Dataset):\n",
    "    def __init__(self, path_fer2013csv, path_fer2013newcsv):\n",
    "        self.fer2013 = pd.read_csv(path_fer2013csv)\n",
    "        self.fer2013labels = ['angry', 'disgust', 'fear', 'happy', 'sad', 'surprise', 'neutral']\n",
    "        self.fer2013new = pd.read_csv(path_fer2013newcsv)\n",
    "        self.fer2013newlabels = list(self.fer2013new.columns[2:11])\n",
    "        \n",
    "    def __getitem__(self, index):\n",
    "        '''\n",
    "        returns an image and its fer2013new label as tensors\n",
    "        '''\n",
    "        image = self.fer2013['pixels'].iloc[index]\n",
    "        image = np.fromstring(image, sep=' ').reshape(48, 48)\n",
    "        image = torch.tensor(image, dtype=torch.float32) / 255\n",
    "        \n",
    "        label = torch.tensor(self.fer2013new.iloc[index][2:11].values.astype('float32')) / 10\n",
    "        \n",
    "        return image, label\n",
    "        \n",
    "    def __len__(self):\n",
    "        return self.fer2013.shape[0]\n",
    "    "
   ]
  },
  {
   "cell_type": "code",
   "execution_count": 7,
   "id": "027f78cb",
   "metadata": {},
   "outputs": [],
   "source": [
    "path_fer2013csv='../../../data/fer2013/fer2013.csv'\n",
    "path_fer2013newcsv='../../../data/FERplus/fer2013new.csv'\n",
    "dataset = FERdataset(path_fer2013csv, path_fer2013newcsv)"
   ]
  },
  {
   "cell_type": "code",
   "execution_count": 8,
   "id": "1228a293",
   "metadata": {},
   "outputs": [],
   "source": [
    "from torch.utils.data import random_split"
   ]
  },
  {
   "cell_type": "code",
   "execution_count": 9,
   "id": "2181a677",
   "metadata": {},
   "outputs": [],
   "source": [
    "traindataset, valdataset, testdataset = random_split(dataset, [int(0.6*len(dataset)), int(0.2*len(dataset)), len(dataset) - (int(0.6*len(dataset)) + int(0.2*len(dataset)))], generator=torch.Generator().manual_seed(42))"
   ]
  },
  {
   "cell_type": "code",
   "execution_count": 10,
   "id": "f6bc3458",
   "metadata": {},
   "outputs": [
    {
     "name": "stdout",
     "output_type": "stream",
     "text": [
      "traindataset length: 21532\n",
      "valdataset length: 7177\n",
      "testdataset length: 7178\n"
     ]
    }
   ],
   "source": [
    "print(f'traindataset length: {len(traindataset)}')\n",
    "print(f'valdataset length: {len(valdataset)}')\n",
    "print(f'testdataset length: {len(testdataset)}')"
   ]
  },
  {
   "cell_type": "markdown",
   "id": "c9ce975b",
   "metadata": {},
   "source": [
    "### let's create a sample model"
   ]
  },
  {
   "cell_type": "markdown",
   "id": "348dde84",
   "metadata": {},
   "source": [
    "We'll include batch normalization and dropout."
   ]
  },
  {
   "cell_type": "code",
   "execution_count": 116,
   "id": "b512056b",
   "metadata": {},
   "outputs": [],
   "source": [
    "class Model1a(nn.Module):\n",
    "    def __init__(self):\n",
    "        super().__init__()\n",
    "        self.conv1 = nn.Conv2d(1, 10, 3)\n",
    "        self.conv2 = nn.Conv2d(10, 10, 3)\n",
    "        \n",
    "        self.bn1 = nn.BatchNorm2d(10)\n",
    "        self.bn2 = nn.BatchNorm2d(10)\n",
    "        \n",
    "        self.pool = nn.MaxPool2d(2)\n",
    "        self.fc1 = nn.Linear(10 * 22 * 22, len(dataset.fer2013newlabels))\n",
    "        \n",
    "\n",
    "    def forward(self, x):\n",
    "        x = F.relu(self.bn1(self.conv1(x)))\n",
    "        x = F.relu(self.bn2(self.conv2(x)))\n",
    "        x = self.pool(x)\n",
    "        x = torch.flatten(x, 1)\n",
    "        x = torch.softmax(self.fc1(x), dim=1)\n",
    "\n",
    "        return x"
   ]
  },
  {
   "cell_type": "code",
   "execution_count": 117,
   "id": "c15f2239",
   "metadata": {},
   "outputs": [
    {
     "data": {
      "text/plain": [
       "Model1a(\n",
       "  (conv1): Conv2d(1, 10, kernel_size=(3, 3), stride=(1, 1))\n",
       "  (conv2): Conv2d(10, 10, kernel_size=(3, 3), stride=(1, 1))\n",
       "  (bn1): BatchNorm2d(10, eps=1e-05, momentum=0.1, affine=True, track_running_stats=True)\n",
       "  (bn2): BatchNorm2d(10, eps=1e-05, momentum=0.1, affine=True, track_running_stats=True)\n",
       "  (pool): MaxPool2d(kernel_size=2, stride=2, padding=0, dilation=1, ceil_mode=False)\n",
       "  (fc1): Linear(in_features=4840, out_features=9, bias=True)\n",
       ")"
      ]
     },
     "execution_count": 117,
     "metadata": {},
     "output_type": "execute_result"
    }
   ],
   "source": [
    "model1a = Model1a()\n",
    "model1a"
   ]
  },
  {
   "cell_type": "code",
   "execution_count": 118,
   "id": "70163a30",
   "metadata": {},
   "outputs": [],
   "source": [
    "# parameters\n",
    "epochs = 5\n",
    "batch_size = 100"
   ]
  },
  {
   "cell_type": "code",
   "execution_count": 119,
   "id": "10bfe8cb",
   "metadata": {},
   "outputs": [],
   "source": [
    "trainloader = DataLoader(traindataset, batch_size, shuffle=True)\n",
    "valloader = DataLoader(valdataset, batch_size, shuffle=True)"
   ]
  },
  {
   "cell_type": "code",
   "execution_count": 120,
   "id": "70643fa6",
   "metadata": {},
   "outputs": [],
   "source": [
    "criterion = nn.CrossEntropyLoss()\n",
    "optimizer = optim.Adam(model1a.parameters())"
   ]
  },
  {
   "cell_type": "code",
   "execution_count": 121,
   "id": "2aba434f",
   "metadata": {},
   "outputs": [
    {
     "name": "stdout",
     "output_type": "stream",
     "text": [
      "epoch: 0, iteration: 0, loss: 2.1761553287506104, val_loss: 2.1489994525909424\n",
      "epoch: 0, iteration: 20, loss: 1.9710644483566284, val_loss: 2.020648717880249\n",
      "epoch: 0, iteration: 40, loss: 2.0415923595428467, val_loss: 1.9909683465957642\n",
      "epoch: 0, iteration: 60, loss: 1.9724926948547363, val_loss: 1.9394041299819946\n",
      "epoch: 0, iteration: 80, loss: 1.949426531791687, val_loss: 1.9177725315093994\n",
      "epoch: 0, iteration: 100, loss: 1.949497938156128, val_loss: 1.9848109483718872\n",
      "epoch: 0, iteration: 120, loss: 1.9172080755233765, val_loss: 1.908027172088623\n",
      "epoch: 0, iteration: 140, loss: 1.9313499927520752, val_loss: 1.906486988067627\n",
      "epoch: 0, iteration: 160, loss: 1.9353735446929932, val_loss: 1.914872407913208\n",
      "epoch: 0, iteration: 180, loss: 1.907029390335083, val_loss: 1.9185000658035278\n",
      "epoch: 0, iteration: 200, loss: 1.9359233379364014, val_loss: 1.9175260066986084\n"
     ]
    }
   ],
   "source": [
    "running_loss = []\n",
    "running_val_loss = []\n",
    "print_every = 20\n",
    "for e in range(1):\n",
    "    for i,(images, labels) in enumerate(trainloader):\n",
    "        model1a.train()\n",
    "        images.unsqueeze_(1)\n",
    "        if torch.cuda.is_available():\n",
    "            images = images.to(torch.device('cuda'))\n",
    "            labels = labels.to(torch.device('cuda'))\n",
    "\n",
    "        optimizer.zero_grad()\n",
    "        output = model1a(images)\n",
    "        loss = criterion(output, labels)\n",
    "        loss.backward()\n",
    "        optimizer.step()\n",
    "\n",
    "\n",
    "        running_loss.append(loss.item())\n",
    "        if i%print_every == 0:\n",
    "            model1a.eval()\n",
    "            with torch.no_grad():\n",
    "                for j,(valimages, vallabels) in enumerate(valloader):\n",
    "                    val_loss_list = []\n",
    "                    valimages.unsqueeze_(1)\n",
    "                    \n",
    "                    val_output = model1a(valimages)\n",
    "                    val_loss = criterion(val_output, vallabels)\n",
    "\n",
    "                    val_loss_list.append(val_loss.item())\n",
    "\n",
    "                val_loss_avg = sum(val_loss_list) / len(val_loss_list)\n",
    "\n",
    "            running_val_loss.append(val_loss_avg)\n",
    "            print(f'epoch: {e}, iteration: {i}, loss: {loss.item()}, val_loss: {val_loss_avg}')"
   ]
  },
  {
   "cell_type": "code",
   "execution_count": 122,
   "id": "e7c9593b",
   "metadata": {},
   "outputs": [
    {
     "data": {
      "image/png": "[encoded data removed]",
      "text/plain": [
       "<Figure size 432x288 with 1 Axes>"
      ]
     },
     "metadata": {
      "needs_background": "light"
     },
     "output_type": "display_data"
    }
   ],
   "source": [
    "plt.plot(np.arange(len(running_loss)), running_loss, label='training loss')\n",
    "plt.plot(np.arange(len(running_val_loss))*print_every, running_val_loss, label='validation loss')\n",
    "plt.xlabel('iterations')\n",
    "plt.ylabel('loss')\n",
    "plt.legend()\n",
    "plt.show()"
   ]
  },
  {
   "cell_type": "markdown",
   "id": "925639ab",
   "metadata": {},
   "source": [
    "### create logic to get the accuracy of the model"
   ]
  },
  {
   "cell_type": "code",
   "execution_count": 44,
   "id": "e9333907",
   "metadata": {},
   "outputs": [],
   "source": [
    "tloader = DataLoader(testdataset, 2, shuffle=True)"
   ]
  },
  {
   "cell_type": "code",
   "execution_count": 45,
   "id": "7839d221",
   "metadata": {},
   "outputs": [],
   "source": [
    "sample_images, sample_labels = next(iter(tloader))"
   ]
  },
  {
   "cell_type": "code",
   "execution_count": 46,
   "id": "60105df1",
   "metadata": {},
   "outputs": [
    {
     "data": {
      "text/plain": [
       "tensor([[[[0.0314, 0.0431, 0.0627,  ..., 0.0784, 0.0745, 0.0784],\n",
       "          [0.0392, 0.0471, 0.0706,  ..., 0.0824, 0.0784, 0.0784],\n",
       "          [0.0431, 0.0549, 0.0745,  ..., 0.0824, 0.0784, 0.0784],\n",
       "          ...,\n",
       "          [0.5294, 0.4549, 0.3686,  ..., 0.1843, 0.1569, 0.1333],\n",
       "          [0.3294, 0.4510, 0.3725,  ..., 0.1843, 0.1608, 0.1373],\n",
       "          [0.2784, 0.4353, 0.3804,  ..., 0.1843, 0.1608, 0.1412]]],\n",
       "\n",
       "\n",
       "        [[[0.1490, 0.1686, 0.1608,  ..., 1.0000, 1.0000, 1.0000],\n",
       "          [0.1843, 0.1490, 0.1294,  ..., 1.0000, 1.0000, 1.0000],\n",
       "          [0.1373, 0.1333, 0.1333,  ..., 1.0000, 1.0000, 1.0000],\n",
       "          ...,\n",
       "          [0.0824, 0.1137, 0.1686,  ..., 0.3176, 0.2588, 0.2353],\n",
       "          [0.0784, 0.1255, 0.1529,  ..., 0.3529, 0.2941, 0.2549],\n",
       "          [0.0784, 0.1451, 0.1451,  ..., 0.3804, 0.3255, 0.2980]]]])"
      ]
     },
     "execution_count": 46,
     "metadata": {},
     "output_type": "execute_result"
    }
   ],
   "source": [
    "sample_images.unsqueeze_(1)"
   ]
  },
  {
   "cell_type": "code",
   "execution_count": 47,
   "id": "04c14958",
   "metadata": {},
   "outputs": [
    {
     "data": {
      "text/plain": [
       "torch.Size([2, 1, 48, 48])"
      ]
     },
     "execution_count": 47,
     "metadata": {},
     "output_type": "execute_result"
    }
   ],
   "source": [
    "sample_images.shape"
   ]
  },
  {
   "cell_type": "code",
   "execution_count": 48,
   "id": "9fb30e8a",
   "metadata": {},
   "outputs": [
    {
     "data": {
      "text/plain": [
       "torch.Size([1, 48, 48])"
      ]
     },
     "execution_count": 48,
     "metadata": {},
     "output_type": "execute_result"
    }
   ],
   "source": [
    "sample_images[0].shape"
   ]
  },
  {
   "cell_type": "code",
   "execution_count": 49,
   "id": "030de935",
   "metadata": {},
   "outputs": [
    {
     "data": {
      "image/png": "[encoded data removed]",
      "text/plain": [
       "<Figure size 1080x360 with 3 Axes>"
      ]
     },
     "metadata": {
      "needs_background": "light"
     },
     "output_type": "display_data"
    },
    {
     "data": {
      "image/png": "[encoded data removed]",
      "text/plain": [
       "<Figure size 1080x360 with 3 Axes>"
      ]
     },
     "metadata": {
      "needs_background": "light"
     },
     "output_type": "display_data"
    }
   ],
   "source": [
    "for i in range(2):\n",
    "    prediction = model1a(sample_images)\n",
    "    fig = plt.figure(figsize=(15,5))\n",
    "    fig.add_subplot(131)\n",
    "    plt.imshow(sample_images.cpu()[i][0], cmap='gray')\n",
    "    fig.add_subplot(132)\n",
    "    plt.bar(dataset.fer2013newlabels, sample_labels[i])\n",
    "    plt.xticks(rotation=90)\n",
    "    plt.title('true label')\n",
    "    fig.add_subplot(133)\n",
    "    plt.bar(dataset.fer2013newlabels, prediction[i].cpu().detach().numpy())\n",
    "    plt.xticks(rotation=90)\n",
    "    plt.title('predicted label')"
   ]
  },
  {
   "cell_type": "code",
   "execution_count": 50,
   "id": "27c1f825",
   "metadata": {},
   "outputs": [
    {
     "data": {
      "text/plain": [
       "tensor([[0.8000, 0.0000, 0.0000, 0.1000, 0.0000, 0.0000, 0.0000, 0.0000, 0.1000],\n",
       "        [0.0000, 0.0000, 1.0000, 0.0000, 0.0000, 0.0000, 0.0000, 0.0000, 0.0000]])"
      ]
     },
     "execution_count": 50,
     "metadata": {},
     "output_type": "execute_result"
    }
   ],
   "source": [
    "sample_labels"
   ]
  },
  {
   "cell_type": "code",
   "execution_count": 62,
   "id": "5667637d",
   "metadata": {},
   "outputs": [
    {
     "data": {
      "text/plain": [
       "tensor([0, 2])"
      ]
     },
     "execution_count": 62,
     "metadata": {},
     "output_type": "execute_result"
    }
   ],
   "source": [
    "truelabels = torch.argmax(sample_labels, dim=1)\n",
    "truelabels"
   ]
  },
  {
   "cell_type": "code",
   "execution_count": 83,
   "id": "c1f2ad53",
   "metadata": {},
   "outputs": [
    {
     "data": {
      "text/plain": [
       "torch.Size([2])"
      ]
     },
     "execution_count": 83,
     "metadata": {},
     "output_type": "execute_result"
    }
   ],
   "source": [
    "truelabels.shape"
   ]
  },
  {
   "cell_type": "markdown",
   "id": "d888e673",
   "metadata": {},
   "source": [
    "we can see that the true labels (maximum value in the labels) for the 2 sample images correspond to indices 0 and 2 "
   ]
  },
  {
   "cell_type": "code",
   "execution_count": 54,
   "id": "f46de9c3",
   "metadata": {},
   "outputs": [
    {
     "data": {
      "text/plain": [
       "tensor([[9.9785e-01, 2.1509e-03, 2.4637e-14, 6.0130e-12, 4.1900e-12, 1.8083e-15,\n",
       "         9.0534e-17, 2.3163e-16, 5.6898e-16],\n",
       "        [4.5958e-02, 9.5404e-01, 2.0268e-13, 1.2632e-11, 2.7541e-11, 3.9209e-15,\n",
       "         7.9946e-16, 1.8201e-15, 1.8417e-15]], grad_fn=<SoftmaxBackward0>)"
      ]
     },
     "execution_count": 54,
     "metadata": {},
     "output_type": "execute_result"
    }
   ],
   "source": [
    "prediction"
   ]
  },
  {
   "cell_type": "code",
   "execution_count": 63,
   "id": "b217a6c7",
   "metadata": {},
   "outputs": [
    {
     "data": {
      "text/plain": [
       "tensor([0, 1])"
      ]
     },
     "execution_count": 63,
     "metadata": {},
     "output_type": "execute_result"
    }
   ],
   "source": [
    "predlabels = torch.argmax(prediction, dim=1)\n",
    "predlabels"
   ]
  },
  {
   "cell_type": "markdown",
   "id": "c880919d",
   "metadata": {},
   "source": [
    "and that the predicted labels correspond to the indices 0 and 1"
   ]
  },
  {
   "cell_type": "markdown",
   "id": "1790c8e1",
   "metadata": {},
   "source": [
    "### Let's calculate the accuracy and a confusion matrix"
   ]
  },
  {
   "cell_type": "code",
   "execution_count": 57,
   "id": "0b8d7c01",
   "metadata": {},
   "outputs": [],
   "source": [
    "from sklearn.metrics import accuracy_score, confusion_matrix\n",
    "import seaborn as sns"
   ]
  },
  {
   "cell_type": "code",
   "execution_count": 96,
   "id": "68d3cc68",
   "metadata": {},
   "outputs": [
    {
     "data": {
      "text/plain": [
       "0.7"
      ]
     },
     "execution_count": 96,
     "metadata": {},
     "output_type": "execute_result"
    }
   ],
   "source": [
    "accuracy_score(truelabels, predlabels)"
   ]
  },
  {
   "cell_type": "code",
   "execution_count": 82,
   "id": "1f013201",
   "metadata": {},
   "outputs": [
    {
     "data": {
      "text/plain": [
       "(2,)"
      ]
     },
     "execution_count": 82,
     "metadata": {},
     "output_type": "execute_result"
    }
   ],
   "source": [
    "truelabels.detach().numpy().shape"
   ]
  },
  {
   "cell_type": "code",
   "execution_count": 64,
   "id": "ba8ba596",
   "metadata": {},
   "outputs": [],
   "source": [
    "confmat = confusion_matrix(truelabels.detach().numpy(), predlabels.detach().numpy())"
   ]
  },
  {
   "cell_type": "code",
   "execution_count": 65,
   "id": "738b3769",
   "metadata": {},
   "outputs": [
    {
     "data": {
      "text/plain": [
       "array([[1, 0, 0],\n",
       "       [0, 0, 0],\n",
       "       [0, 1, 0]])"
      ]
     },
     "execution_count": 65,
     "metadata": {},
     "output_type": "execute_result"
    }
   ],
   "source": [
    "confmat"
   ]
  },
  {
   "cell_type": "code",
   "execution_count": 67,
   "id": "9ff1fb59",
   "metadata": {},
   "outputs": [
    {
     "data": {
      "image/png": "[encoded data removed]",
      "text/plain": [
       "<Figure size 1080x720 with 2 Axes>"
      ]
     },
     "metadata": {
      "needs_background": "light"
     },
     "output_type": "display_data"
    }
   ],
   "source": [
    "plt.figure(figsize=(15,10))\n",
    "sns.heatmap(confmat, annot=True, fmt='.0f', cmap='viridis', xticklabels=dataset.fer2013newlabels, yticklabels=dataset.fer2013newlabels)\n",
    "plt.xlabel('Predicted Values')\n",
    "plt.ylabel('True Values')\n",
    "plt.tight_layout()\n",
    "plt.show()"
   ]
  },
  {
   "cell_type": "markdown",
   "id": "3286d081",
   "metadata": {},
   "source": [
    "### inference"
   ]
  },
  {
   "cell_type": "markdown",
   "id": "0ade76f9",
   "metadata": {},
   "source": [
    "We can see that the true values for the 2 images respectively were neutral and surprise. But the predicted values were neutral and happiness."
   ]
  },
  {
   "cell_type": "markdown",
   "id": "6dd32732",
   "metadata": {},
   "source": [
    "The logic seems to work. let's implement it in the training loop. one thing to keep in mind is that the true labels and the predictions return a tensor for each batch. we are looking for a list or array that has the true and predicted labels for all the batches"
   ]
  },
  {
   "cell_type": "markdown",
   "id": "e33e6376",
   "metadata": {},
   "source": [
    "### contatenating numpy arrays"
   ]
  },
  {
   "cell_type": "markdown",
   "id": "91aef99f",
   "metadata": {},
   "source": [
    "lets see how we can concatenate numpy arrays to get the output in the form we want. we'll assume a batch size of 5. these true labels and predictions correspond to the argmax of the labels and predictions per batch"
   ]
  },
  {
   "cell_type": "code",
   "execution_count": 73,
   "id": "305173e7",
   "metadata": {},
   "outputs": [],
   "source": [
    "iter1_truelabels = np.array([0,1,4,2,3])\n",
    "iter1_prediction = np.array([0,1,3,2,3])"
   ]
  },
  {
   "cell_type": "code",
   "execution_count": 74,
   "id": "032b3ccd",
   "metadata": {},
   "outputs": [
    {
     "data": {
      "text/plain": [
       "array([0, 1, 4, 2, 3])"
      ]
     },
     "execution_count": 74,
     "metadata": {},
     "output_type": "execute_result"
    }
   ],
   "source": [
    "iter1_truelabels"
   ]
  },
  {
   "cell_type": "code",
   "execution_count": 75,
   "id": "c91ca6f3",
   "metadata": {},
   "outputs": [
    {
     "data": {
      "text/plain": [
       "array([0, 1, 3, 2, 3])"
      ]
     },
     "execution_count": 75,
     "metadata": {},
     "output_type": "execute_result"
    }
   ],
   "source": [
    "iter1_prediction"
   ]
  },
  {
   "cell_type": "code",
   "execution_count": 76,
   "id": "423c2309",
   "metadata": {},
   "outputs": [],
   "source": [
    "iter2_truelabels = np.array([3,4,2,0,1])\n",
    "iter2_prediction = np.array([1,4,2,0,0])"
   ]
  },
  {
   "cell_type": "code",
   "execution_count": 77,
   "id": "3b20731b",
   "metadata": {},
   "outputs": [
    {
     "data": {
      "text/plain": [
       "array([3, 4, 2, 0, 1])"
      ]
     },
     "execution_count": 77,
     "metadata": {},
     "output_type": "execute_result"
    }
   ],
   "source": [
    "iter2_truelabels"
   ]
  },
  {
   "cell_type": "code",
   "execution_count": 78,
   "id": "7591f34d",
   "metadata": {},
   "outputs": [
    {
     "data": {
      "text/plain": [
       "array([1, 4, 2, 0, 0])"
      ]
     },
     "execution_count": 78,
     "metadata": {},
     "output_type": "execute_result"
    }
   ],
   "source": [
    "iter2_prediction"
   ]
  },
  {
   "cell_type": "code",
   "execution_count": 80,
   "id": "40008991",
   "metadata": {},
   "outputs": [
    {
     "data": {
      "text/plain": [
       "(5,)"
      ]
     },
     "execution_count": 80,
     "metadata": {},
     "output_type": "execute_result"
    }
   ],
   "source": [
    "iter1_truelabels.shape"
   ]
  },
  {
   "cell_type": "markdown",
   "id": "51366cea",
   "metadata": {},
   "source": [
    "now concatenate the true labels and the predictions to get one array each"
   ]
  },
  {
   "cell_type": "code",
   "execution_count": 87,
   "id": "e4122028",
   "metadata": {},
   "outputs": [
    {
     "data": {
      "text/plain": [
       "array([0, 1, 4, 2, 3, 3, 4, 2, 0, 1])"
      ]
     },
     "execution_count": 87,
     "metadata": {},
     "output_type": "execute_result"
    }
   ],
   "source": [
    "truelabels = np.concatenate((iter1_truelabels, iter2_truelabels))\n",
    "truelabels"
   ]
  },
  {
   "cell_type": "code",
   "execution_count": 88,
   "id": "7f7c4175",
   "metadata": {},
   "outputs": [
    {
     "data": {
      "text/plain": [
       "array([0, 1, 3, 2, 3, 1, 4, 2, 0, 0])"
      ]
     },
     "execution_count": 88,
     "metadata": {},
     "output_type": "execute_result"
    }
   ],
   "source": [
    "predlabels = np.concatenate((iter1_prediction, iter2_prediction))\n",
    "predlabels"
   ]
  },
  {
   "cell_type": "markdown",
   "id": "dd39d73e",
   "metadata": {},
   "source": [
    "nice. that was easy :)"
   ]
  },
  {
   "cell_type": "markdown",
   "id": "869a7a59",
   "metadata": {},
   "source": [
    "One more thing. Let's see how to initialize an empty array so that can be used for concatenation if required. (in case we need the accuracy on the whole model, while running it in batches)"
   ]
  },
  {
   "cell_type": "code",
   "execution_count": 91,
   "id": "1019db3f",
   "metadata": {},
   "outputs": [
    {
     "data": {
      "text/plain": [
       "array([], dtype=float64)"
      ]
     },
     "execution_count": 91,
     "metadata": {},
     "output_type": "execute_result"
    }
   ],
   "source": [
    "arr_empty = np.empty((0,))\n",
    "arr_empty"
   ]
  },
  {
   "cell_type": "code",
   "execution_count": 92,
   "id": "d911031a",
   "metadata": {},
   "outputs": [
    {
     "data": {
      "text/plain": [
       "(0,)"
      ]
     },
     "execution_count": 92,
     "metadata": {},
     "output_type": "execute_result"
    }
   ],
   "source": [
    "arr_empty.shape"
   ]
  },
  {
   "cell_type": "code",
   "execution_count": 93,
   "id": "a50ddffa",
   "metadata": {},
   "outputs": [
    {
     "data": {
      "text/plain": [
       "array([1, 2, 3])"
      ]
     },
     "execution_count": 93,
     "metadata": {},
     "output_type": "execute_result"
    }
   ],
   "source": [
    "arr_notempty = np.array([1,2,3])\n",
    "arr_notempty"
   ]
  },
  {
   "cell_type": "code",
   "execution_count": 94,
   "id": "18719814",
   "metadata": {},
   "outputs": [
    {
     "data": {
      "text/plain": [
       "(3,)"
      ]
     },
     "execution_count": 94,
     "metadata": {},
     "output_type": "execute_result"
    }
   ],
   "source": [
    "arr_notempty.shape"
   ]
  },
  {
   "cell_type": "code",
   "execution_count": 95,
   "id": "d30d621f",
   "metadata": {},
   "outputs": [
    {
     "data": {
      "text/plain": [
       "array([1., 2., 3.])"
      ]
     },
     "execution_count": 95,
     "metadata": {},
     "output_type": "execute_result"
    }
   ],
   "source": [
    "arr_concat = np.concatenate((arr_empty, arr_notempty))\n",
    "arr_concat"
   ]
  },
  {
   "cell_type": "markdown",
   "id": "341be0a3",
   "metadata": {},
   "source": [
    "Okay. seems to work. lets move on to the next step"
   ]
  },
  {
   "cell_type": "markdown",
   "id": "44416a55",
   "metadata": {},
   "source": [
    "### implement validation logic in the training loop"
   ]
  },
  {
   "cell_type": "code",
   "execution_count": 163,
   "id": "86803b69",
   "metadata": {},
   "outputs": [
    {
     "data": {
      "text/plain": [
       "Model1a(\n",
       "  (conv1): Conv2d(1, 10, kernel_size=(3, 3), stride=(1, 1))\n",
       "  (conv2): Conv2d(10, 10, kernel_size=(3, 3), stride=(1, 1))\n",
       "  (bn1): BatchNorm2d(10, eps=1e-05, momentum=0.1, affine=True, track_running_stats=True)\n",
       "  (bn2): BatchNorm2d(10, eps=1e-05, momentum=0.1, affine=True, track_running_stats=True)\n",
       "  (pool): MaxPool2d(kernel_size=2, stride=2, padding=0, dilation=1, ceil_mode=False)\n",
       "  (fc1): Linear(in_features=4840, out_features=9, bias=True)\n",
       ")"
      ]
     },
     "execution_count": 163,
     "metadata": {},
     "output_type": "execute_result"
    }
   ],
   "source": [
    "model1a = Model1a()\n",
    "model1a"
   ]
  },
  {
   "cell_type": "code",
   "execution_count": 164,
   "id": "7e75ae95",
   "metadata": {},
   "outputs": [],
   "source": [
    "# parameters\n",
    "epochs = 5\n",
    "batch_size = 100"
   ]
  },
  {
   "cell_type": "code",
   "execution_count": 165,
   "id": "c4ff45c6",
   "metadata": {},
   "outputs": [],
   "source": [
    "trainloader = DataLoader(traindataset, batch_size, shuffle=True)\n",
    "valloader = DataLoader(valdataset, batch_size, shuffle=True)"
   ]
  },
  {
   "cell_type": "code",
   "execution_count": 166,
   "id": "7a85c3b7",
   "metadata": {},
   "outputs": [],
   "source": [
    "criterion = nn.CrossEntropyLoss()\n",
    "optimizer = optim.Adam(model1a.parameters())"
   ]
  },
  {
   "cell_type": "code",
   "execution_count": 167,
   "id": "0680bd7b",
   "metadata": {
    "scrolled": false
   },
   "outputs": [
    {
     "name": "stdout",
     "output_type": "stream",
     "text": [
      "epoch: 0, iteration: 0, loss: 2.19030, val_loss: 2.15518, acc: 0.18000, val_acc: 0.25974\n",
      "epoch: 0, iteration: 20, loss: 2.02238, val_loss: 1.94605, acc: 0.41000, val_acc: 0.41558\n",
      "epoch: 0, iteration: 40, loss: 1.96550, val_loss: 2.01394, acc: 0.47000, val_acc: 0.33766\n",
      "epoch: 0, iteration: 60, loss: 1.90124, val_loss: 1.94716, acc: 0.53000, val_acc: 0.50649\n",
      "epoch: 0, iteration: 80, loss: 1.91419, val_loss: 1.98270, acc: 0.51000, val_acc: 0.41558\n",
      "epoch: 0, iteration: 100, loss: 1.93520, val_loss: 1.94813, acc: 0.48000, val_acc: 0.44156\n",
      "epoch: 0, iteration: 120, loss: 1.92534, val_loss: 1.92313, acc: 0.46000, val_acc: 0.48052\n",
      "epoch: 0, iteration: 140, loss: 1.89318, val_loss: 1.92930, acc: 0.52000, val_acc: 0.50649\n",
      "epoch: 0, iteration: 160, loss: 1.87683, val_loss: 1.89729, acc: 0.55000, val_acc: 0.62338\n",
      "epoch: 0, iteration: 180, loss: 1.90772, val_loss: 1.89211, acc: 0.50000, val_acc: 0.54545\n",
      "epoch: 0, iteration: 200, loss: 1.87933, val_loss: 1.92209, acc: 0.56000, val_acc: 0.48052\n",
      "epoch: 1, iteration: 0, loss: 1.84912, val_loss: 1.87174, acc: 0.60000, val_acc: 0.61039\n",
      "epoch: 1, iteration: 20, loss: 1.85213, val_loss: 1.90495, acc: 0.63000, val_acc: 0.54545\n",
      "epoch: 1, iteration: 40, loss: 1.82908, val_loss: 1.89330, acc: 0.62000, val_acc: 0.51948\n",
      "epoch: 1, iteration: 60, loss: 1.90900, val_loss: 1.93022, acc: 0.57000, val_acc: 0.48052\n",
      "epoch: 1, iteration: 80, loss: 1.89269, val_loss: 1.94351, acc: 0.56000, val_acc: 0.46753\n",
      "epoch: 1, iteration: 100, loss: 1.90032, val_loss: 1.89708, acc: 0.57000, val_acc: 0.58442\n",
      "epoch: 1, iteration: 120, loss: 1.84379, val_loss: 1.90254, acc: 0.61000, val_acc: 0.49351\n",
      "epoch: 1, iteration: 140, loss: 1.90961, val_loss: 1.88338, acc: 0.47000, val_acc: 0.53247\n",
      "epoch: 1, iteration: 160, loss: 1.81860, val_loss: 1.82766, acc: 0.61000, val_acc: 0.64935\n",
      "epoch: 1, iteration: 180, loss: 1.84880, val_loss: 1.91898, acc: 0.61000, val_acc: 0.51948\n",
      "epoch: 1, iteration: 200, loss: 1.86913, val_loss: 1.91736, acc: 0.58000, val_acc: 0.54545\n",
      "epoch: 2, iteration: 0, loss: 1.88664, val_loss: 1.82025, acc: 0.52000, val_acc: 0.50649\n",
      "epoch: 2, iteration: 20, loss: 1.80924, val_loss: 1.88745, acc: 0.60000, val_acc: 0.55844\n",
      "epoch: 2, iteration: 40, loss: 1.94347, val_loss: 1.84970, acc: 0.49000, val_acc: 0.57143\n",
      "epoch: 2, iteration: 60, loss: 1.84022, val_loss: 1.87441, acc: 0.63000, val_acc: 0.58442\n",
      "epoch: 2, iteration: 80, loss: 1.90384, val_loss: 1.82208, acc: 0.50000, val_acc: 0.63636\n",
      "epoch: 2, iteration: 100, loss: 1.87194, val_loss: 1.90185, acc: 0.58000, val_acc: 0.50649\n",
      "epoch: 2, iteration: 120, loss: 1.87763, val_loss: 1.82897, acc: 0.57000, val_acc: 0.63636\n",
      "epoch: 2, iteration: 140, loss: 1.89631, val_loss: 1.87850, acc: 0.56000, val_acc: 0.51948\n",
      "epoch: 2, iteration: 160, loss: 1.80356, val_loss: 1.86984, acc: 0.67000, val_acc: 0.57143\n",
      "epoch: 2, iteration: 180, loss: 1.89121, val_loss: 1.89467, acc: 0.56000, val_acc: 0.58442\n",
      "epoch: 2, iteration: 200, loss: 1.84894, val_loss: 1.89414, acc: 0.59000, val_acc: 0.57143\n",
      "epoch: 3, iteration: 0, loss: 1.84535, val_loss: 1.90411, acc: 0.61000, val_acc: 0.53247\n",
      "epoch: 3, iteration: 20, loss: 1.78923, val_loss: 1.82641, acc: 0.65000, val_acc: 0.64935\n",
      "epoch: 3, iteration: 40, loss: 1.86985, val_loss: 1.87039, acc: 0.59000, val_acc: 0.63636\n",
      "epoch: 3, iteration: 60, loss: 1.75457, val_loss: 1.87842, acc: 0.73000, val_acc: 0.57143\n",
      "epoch: 3, iteration: 80, loss: 1.86705, val_loss: 1.91994, acc: 0.61000, val_acc: 0.54545\n",
      "epoch: 3, iteration: 100, loss: 1.85070, val_loss: 1.83598, acc: 0.58000, val_acc: 0.62338\n",
      "epoch: 3, iteration: 120, loss: 1.85645, val_loss: 1.87390, acc: 0.57000, val_acc: 0.55844\n",
      "epoch: 3, iteration: 140, loss: 1.79929, val_loss: 1.92541, acc: 0.64000, val_acc: 0.57143\n",
      "epoch: 3, iteration: 160, loss: 1.89122, val_loss: 1.88625, acc: 0.53000, val_acc: 0.55844\n",
      "epoch: 3, iteration: 180, loss: 1.74870, val_loss: 1.83462, acc: 0.71000, val_acc: 0.66234\n",
      "epoch: 3, iteration: 200, loss: 1.82719, val_loss: 1.93590, acc: 0.64000, val_acc: 0.53247\n",
      "epoch: 4, iteration: 0, loss: 1.82853, val_loss: 1.86038, acc: 0.57000, val_acc: 0.59740\n",
      "epoch: 4, iteration: 20, loss: 1.79455, val_loss: 1.75928, acc: 0.70000, val_acc: 0.72727\n",
      "epoch: 4, iteration: 40, loss: 1.90188, val_loss: 1.79968, acc: 0.52000, val_acc: 0.63636\n",
      "epoch: 4, iteration: 60, loss: 1.83794, val_loss: 1.79376, acc: 0.59000, val_acc: 0.66234\n",
      "epoch: 4, iteration: 80, loss: 1.84193, val_loss: 1.81931, acc: 0.58000, val_acc: 0.62338\n",
      "epoch: 4, iteration: 100, loss: 1.79746, val_loss: 1.92396, acc: 0.63000, val_acc: 0.51948\n",
      "epoch: 4, iteration: 120, loss: 1.77863, val_loss: 1.86265, acc: 0.68000, val_acc: 0.66234\n",
      "epoch: 4, iteration: 140, loss: 1.84803, val_loss: 1.82650, acc: 0.54000, val_acc: 0.59740\n",
      "epoch: 4, iteration: 160, loss: 1.88474, val_loss: 1.86955, acc: 0.54000, val_acc: 0.54545\n",
      "epoch: 4, iteration: 180, loss: 1.87288, val_loss: 1.86297, acc: 0.60000, val_acc: 0.53247\n",
      "epoch: 4, iteration: 200, loss: 1.86418, val_loss: 1.85075, acc: 0.57000, val_acc: 0.61039\n"
     ]
    }
   ],
   "source": [
    "running_loss = []\n",
    "running_val_loss = []\n",
    "alltrainacc = []\n",
    "allvalacc = []\n",
    "\n",
    "print_every = 20\n",
    "for e in range(epochs):\n",
    "    for i,(images, labels) in enumerate(trainloader):\n",
    "        model1a.train()\n",
    "        images.unsqueeze_(1)\n",
    "        if torch.cuda.is_available():\n",
    "            images = images.to(torch.device('cuda'))\n",
    "            labels = labels.to(torch.device('cuda'))\n",
    "\n",
    "        optimizer.zero_grad()\n",
    "        output = model1a(images)\n",
    "        loss = criterion(output, labels)\n",
    "        loss.backward()\n",
    "        optimizer.step()\n",
    "\n",
    "        running_loss.append(loss.item())\n",
    "        \n",
    "        if i%print_every == 0:\n",
    "            model1a.eval()\n",
    "            with torch.no_grad():\n",
    "                for j,(valimages, vallabels) in enumerate(valloader):\n",
    "                    val_loss_list = []\n",
    "                    valimages.unsqueeze_(1)\n",
    "                    \n",
    "                    val_output = model1a(valimages)\n",
    "                    val_loss = criterion(val_output, vallabels)\n",
    "\n",
    "                    val_loss_list.append(val_loss.item())\n",
    "                    \n",
    "                    # to calculate training accuracy\n",
    "                    trueargmax = torch.argmax(labels, dim=1)\n",
    "                    truelabels = trueargmax.detach().numpy()\n",
    "                    predargmax = torch.argmax(output, dim=1)\n",
    "                    predlabels = predargmax.detach().numpy()\n",
    "                    \n",
    "                    # to calculate validation accuracy\n",
    "                    valtrueargmax = torch.argmax(vallabels, dim=1)\n",
    "                    valtruelabels = valtrueargmax.detach().numpy()\n",
    "                    valpredargmax = torch.argmax(val_output, dim=1)\n",
    "                    valpredlabels = valpredargmax.detach().numpy()                    \n",
    "\n",
    "                val_loss_avg = sum(val_loss_list) / len(val_loss_list)\n",
    "                \n",
    "            # calculate training and validation accuracy\n",
    "            batchtrainacc = accuracy_score(truelabels, predlabels)\n",
    "            batchvalacc = accuracy_score(valtruelabels, valpredlabels)\n",
    "            \n",
    "            # store the training and validation accuracies \n",
    "            alltrainacc.append(batchtrainacc)\n",
    "            allvalacc.append(batchvalacc)\n",
    "\n",
    "            running_val_loss.append(val_loss_avg)\n",
    "            print(f'epoch: {e}, iteration: {i}, loss: {loss.item():.5f}, val_loss: {val_loss_avg:.5f}, acc: {batchtrainacc:.5f}, val_acc: {batchvalacc:.5f}')"
   ]
  },
  {
   "cell_type": "code",
   "execution_count": 168,
   "id": "39be8265",
   "metadata": {},
   "outputs": [
    {
     "data": {
      "image/png": "[encoded data removed]",
      "text/plain": [
       "<Figure size 432x288 with 1 Axes>"
      ]
     },
     "metadata": {
      "needs_background": "light"
     },
     "output_type": "display_data"
    }
   ],
   "source": [
    "plt.plot(np.arange(len(running_loss)), running_loss, label='training loss')\n",
    "plt.plot(np.arange(len(running_val_loss))*print_every, running_val_loss, label='validation loss')\n",
    "plt.xlabel('iterations')\n",
    "plt.ylabel('loss')\n",
    "plt.title('training and validation loss')\n",
    "plt.legend()\n",
    "plt.show()"
   ]
  },
  {
   "cell_type": "code",
   "execution_count": 169,
   "id": "58f45317",
   "metadata": {},
   "outputs": [
    {
     "data": {
      "image/png": "[encoded data removed]",
      "text/plain": [
       "<Figure size 432x288 with 1 Axes>"
      ]
     },
     "metadata": {
      "needs_background": "light"
     },
     "output_type": "display_data"
    }
   ],
   "source": [
    "plt.plot(np.arange(len(alltrainacc))*print_every, alltrainacc, label='training acc')\n",
    "plt.plot(np.arange(len(allvalacc))*print_every, allvalacc, label='validation acc')\n",
    "plt.xlabel('iterations')\n",
    "plt.ylabel('accuracy')\n",
    "plt.title('training and validation accuracy')\n",
    "plt.legend()\n",
    "plt.show()"
   ]
  },
  {
   "cell_type": "markdown",
   "id": "ea5207ad",
   "metadata": {},
   "source": [
    "### inference"
   ]
  },
  {
   "cell_type": "markdown",
   "id": "14fd91ac",
   "metadata": {},
   "source": [
    "considering the simplicity of the model, the performance is not all that bad. if the guess was absolutely random, we'd get an accuracy of 1/9 ~= 0.11111. so not terrible"
   ]
  },
  {
   "cell_type": "markdown",
   "id": "06a84ee0",
   "metadata": {},
   "source": [
    "### let's run some random tests"
   ]
  },
  {
   "cell_type": "code",
   "execution_count": 170,
   "id": "11017c0d",
   "metadata": {},
   "outputs": [
    {
     "data": {
      "text/plain": [
       "(100,)"
      ]
     },
     "execution_count": 170,
     "metadata": {},
     "output_type": "execute_result"
    }
   ],
   "source": [
    "truelabels.shape"
   ]
  },
  {
   "cell_type": "code",
   "execution_count": 171,
   "id": "156b1c49",
   "metadata": {},
   "outputs": [
    {
     "data": {
      "text/plain": [
       "array([0, 0, 1, 0, 0, 4, 0, 1, 3, 0, 4, 0, 3, 0, 2, 0, 1, 0, 2, 0, 0, 1,\n",
       "       3, 4, 3, 1, 1, 0, 0, 3, 0, 6, 0, 4, 1, 3, 1, 3, 0, 1, 3, 1, 6, 3,\n",
       "       3, 4, 0, 1, 4, 0, 1, 3, 2, 0, 4, 0, 3, 0, 0, 0, 6, 2, 0, 5, 1, 3,\n",
       "       6, 1, 0, 1, 6, 1, 0, 2, 0, 0, 1, 3, 0, 0, 4, 4, 0, 1, 0, 4, 0, 1,\n",
       "       2, 1, 1, 1, 3, 0, 0, 0, 0, 3, 0, 6])"
      ]
     },
     "execution_count": 171,
     "metadata": {},
     "output_type": "execute_result"
    }
   ],
   "source": [
    "truelabels"
   ]
  },
  {
   "cell_type": "code",
   "execution_count": 172,
   "id": "5ab01a89",
   "metadata": {},
   "outputs": [
    {
     "data": {
      "text/plain": [
       "(100,)"
      ]
     },
     "execution_count": 172,
     "metadata": {},
     "output_type": "execute_result"
    }
   ],
   "source": [
    "predlabels.shape"
   ]
  },
  {
   "cell_type": "code",
   "execution_count": 173,
   "id": "6133aac9",
   "metadata": {},
   "outputs": [
    {
     "data": {
      "text/plain": [
       "array([0, 0, 1, 0, 0, 0, 0, 1, 0, 0, 2, 0, 1, 0, 1, 0, 1, 1, 2, 0, 0, 1,\n",
       "       0, 1, 2, 0, 1, 0, 0, 0, 0, 2, 0, 1, 1, 1, 1, 1, 1, 0, 0, 1, 2, 0,\n",
       "       2, 0, 0, 1, 0, 0, 1, 0, 2, 0, 2, 0, 0, 0, 0, 0, 2, 2, 0, 1, 1, 0,\n",
       "       1, 1, 0, 0, 2, 1, 0, 2, 0, 0, 1, 0, 0, 0, 1, 0, 0, 1, 0, 0, 1, 1,\n",
       "       1, 0, 0, 1, 0, 0, 0, 0, 0, 0, 0, 2])"
      ]
     },
     "execution_count": 173,
     "metadata": {},
     "output_type": "execute_result"
    }
   ],
   "source": [
    "predlabels"
   ]
  },
  {
   "cell_type": "code",
   "execution_count": 174,
   "id": "ae7038f2",
   "metadata": {},
   "outputs": [
    {
     "data": {
      "text/plain": [
       "(77,)"
      ]
     },
     "execution_count": 174,
     "metadata": {},
     "output_type": "execute_result"
    }
   ],
   "source": [
    "valtruelabels.shape"
   ]
  },
  {
   "cell_type": "code",
   "execution_count": 175,
   "id": "65ff7764",
   "metadata": {},
   "outputs": [
    {
     "data": {
      "text/plain": [
       "array([0, 0, 0, 0, 1, 4, 1, 1, 3, 1, 0, 0, 1, 0, 1, 3, 3, 1, 4, 3, 1, 1,\n",
       "       1, 0, 0, 4, 0, 1, 0, 1, 0, 0, 1, 0, 0, 1, 2, 3, 2, 1, 0, 3, 0, 0,\n",
       "       2, 3, 0, 0, 4, 2, 0, 1, 4, 3, 0, 3, 0, 0, 0, 1, 4, 0, 0, 2, 2, 2,\n",
       "       0, 2, 1, 4, 0, 1, 2, 1, 0, 0, 0])"
      ]
     },
     "execution_count": 175,
     "metadata": {},
     "output_type": "execute_result"
    }
   ],
   "source": [
    "valtruelabels"
   ]
  },
  {
   "cell_type": "code",
   "execution_count": 176,
   "id": "19db0978",
   "metadata": {},
   "outputs": [
    {
     "data": {
      "text/plain": [
       "(77,)"
      ]
     },
     "execution_count": 176,
     "metadata": {},
     "output_type": "execute_result"
    }
   ],
   "source": [
    "valpredlabels.shape"
   ]
  },
  {
   "cell_type": "code",
   "execution_count": 177,
   "id": "9c3fe883",
   "metadata": {},
   "outputs": [
    {
     "data": {
      "text/plain": [
       "array([0, 0, 0, 0, 0, 0, 1, 1, 0, 0, 0, 0, 1, 0, 1, 0, 0, 1, 1, 1, 1, 1,\n",
       "       1, 2, 1, 2, 0, 0, 0, 1, 0, 0, 1, 0, 0, 0, 0, 0, 0, 0, 0, 1, 1, 1,\n",
       "       2, 0, 0, 0, 0, 2, 0, 1, 1, 0, 0, 1, 0, 0, 0, 1, 0, 0, 1, 0, 2, 2,\n",
       "       0, 1, 1, 1, 0, 1, 2, 1, 0, 0, 0])"
      ]
     },
     "execution_count": 177,
     "metadata": {},
     "output_type": "execute_result"
    }
   ],
   "source": [
    "valpredlabels"
   ]
  },
  {
   "cell_type": "code",
   "execution_count": 178,
   "id": "8a01c216",
   "metadata": {},
   "outputs": [],
   "source": [
    "valconfmat = confusion_matrix(valtruelabels, valpredlabels)"
   ]
  },
  {
   "cell_type": "code",
   "execution_count": 179,
   "id": "52f551fb",
   "metadata": {},
   "outputs": [
    {
     "data": {
      "image/png": "[encoded data removed]",
      "text/plain": [
       "<Figure size 1080x720 with 2 Axes>"
      ]
     },
     "metadata": {
      "needs_background": "light"
     },
     "output_type": "display_data"
    }
   ],
   "source": [
    "plt.figure(figsize=(15,10))\n",
    "sns.heatmap(valconfmat, annot=True, fmt='.0f', cmap='viridis', xticklabels=dataset.fer2013newlabels, yticklabels=dataset.fer2013newlabels)\n",
    "plt.xlabel('Predicted Values')\n",
    "plt.ylabel('True Values')\n",
    "plt.tight_layout()\n",
    "plt.show()"
   ]
  },
  {
   "cell_type": "markdown",
   "id": "b9fcd103",
   "metadata": {},
   "source": [
    "### inference"
   ]
  },
  {
   "cell_type": "markdown",
   "id": "270f6272",
   "metadata": {},
   "source": [
    "as we noticed before, the model has a huge propensity to predict 'happiness' or 'neutral'. but this is a simple model and this behavior is more or less expected. we'll look at better models next"
   ]
  },
  {
   "cell_type": "markdown",
   "id": "76c3d6e2",
   "metadata": {},
   "source": [
    "### let's see how the emotions are distributed in our dataset"
   ]
  },
  {
   "cell_type": "code",
   "execution_count": 208,
   "id": "3af30f53",
   "metadata": {},
   "outputs": [],
   "source": [
    "dataloader = DataLoader(dataset, 1)"
   ]
  },
  {
   "cell_type": "code",
   "execution_count": 250,
   "id": "775e46ee",
   "metadata": {},
   "outputs": [],
   "source": [
    "si,sl = next(iter(dataloader))\n",
    "sltot = sl\n",
    "for images, labels in dataloader:\n",
    "    sltot += labels"
   ]
  },
  {
   "cell_type": "code",
   "execution_count": 251,
   "id": "0bc1e816",
   "metadata": {},
   "outputs": [
    {
     "data": {
      "text/plain": [
       "tensor([[10748.9297,  9144.5986,  4149.0674,  4744.8545,  2847.1223,   539.3077,\n",
       "          1217.3693,   606.2022,  1696.2499]])"
      ]
     },
     "execution_count": 251,
     "metadata": {},
     "output_type": "execute_result"
    }
   ],
   "source": [
    "sltot"
   ]
  },
  {
   "cell_type": "code",
   "execution_count": 256,
   "id": "3ddd2f00",
   "metadata": {},
   "outputs": [
    {
     "data": {
      "image/png": "[encoded data removed]",
      "text/plain": [
       "<Figure size 432x288 with 1 Axes>"
      ]
     },
     "metadata": {
      "needs_background": "light"
     },
     "output_type": "display_data"
    }
   ],
   "source": [
    "plt.bar(dataset.fer2013newlabels, sltot[0])\n",
    "plt.xticks(rotation=90)\n",
    "plt.title('sum of distributions in the dataset')\n",
    "plt.show()"
   ]
  },
  {
   "cell_type": "markdown",
   "id": "01cc7d07",
   "metadata": {},
   "source": [
    "remember that this is a regression problem (because the output is a distribution) and the graph above shows the sum of the distributions, and not the distribution of the classes of the images  "
   ]
  },
  {
   "cell_type": "code",
   "execution_count": null,
   "id": "4c470e72",
   "metadata": {},
   "outputs": [],
   "source": []
  }
 ],
 "metadata": {
  "kernelspec": {
   "display_name": "udacitycvenv",
   "language": "python",
   "name": "udacitycvenv"
  },
  "language_info": {
   "codemirror_mode": {
    "name": "ipython",
    "version": 3
   },
   "file_extension": ".py",
   "mimetype": "text/x-python",
   "name": "python",
   "nbconvert_exporter": "python",
   "pygments_lexer": "ipython3",
   "version": "3.9.0"
  }
 },
 "nbformat": 4,
 "nbformat_minor": 5
}
