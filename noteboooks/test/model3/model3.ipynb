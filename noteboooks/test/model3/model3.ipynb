{
 "cells": [
  {
   "cell_type": "markdown",
   "metadata": {
    "id": "qe752vrbaJ5r"
   },
   "source": [
    "### in this notebook we'll try to make some changes to the vggnet model. we'll try to increase the kernel size of the conv layers "
   ]
  },
  {
   "cell_type": "markdown",
   "metadata": {
    "id": "_QxiBR-caSF6"
   },
   "source": [
    "vgg model source : github [link](https://github.com/usef-kh/fer/tree/master/models)"
   ]
  },
  {
   "cell_type": "code",
   "execution_count": 1,
   "metadata": {
    "id": "A8J0PEm8aDNC"
   },
   "outputs": [],
   "source": [
    "import numpy as np\n",
    "import pandas as pd\n",
    "import matplotlib.pyplot as plt"
   ]
  },
  {
   "cell_type": "code",
   "execution_count": 2,
   "metadata": {
    "id": "LS9WW6WIaUHj"
   },
   "outputs": [],
   "source": [
    "import torch\n",
    "import torch.nn as nn\n",
    "import torch.nn.functional as F\n",
    "from torch import optim\n",
    "from torchvision import transforms\n",
    "from torch.utils.data import DataLoader, Dataset\n",
    "import os"
   ]
  },
  {
   "cell_type": "code",
   "execution_count": 3,
   "metadata": {
    "id": "eAIy2ezqaXSt"
   },
   "outputs": [],
   "source": [
    "class FERdataset(Dataset):\n",
    "    def __init__(self, path_fer2013csv, path_fer2013newcsv):\n",
    "        self.fer2013 = pd.read_csv(path_fer2013csv)\n",
    "        self.fer2013labels = ['angry', 'disgust', 'fear', 'happy', 'sad', 'surprise', 'neutral']\n",
    "        self.fer2013new = pd.read_csv(path_fer2013newcsv)\n",
    "        self.fer2013newlabels = list(self.fer2013new.columns[2:11])\n",
    "        \n",
    "    def __getitem__(self, index):\n",
    "        '''\n",
    "        returns an image and its fer2013new label as tensors\n",
    "        '''\n",
    "        image = self.fer2013['pixels'].iloc[index]\n",
    "        image = np.fromstring(image, sep=' ').reshape(48, 48)\n",
    "        image = torch.tensor(image, dtype=torch.float32) / 255\n",
    "        \n",
    "        label = torch.tensor(self.fer2013new.iloc[index][2:11].values.astype('float32')) / 10\n",
    "        \n",
    "        return image, label\n",
    "        \n",
    "    def __len__(self):\n",
    "        return self.fer2013.shape[0]\n",
    "    "
   ]
  },
  {
   "cell_type": "code",
   "execution_count": 4,
   "metadata": {
    "colab": {
     "base_uri": "https://localhost:8080/"
    },
    "id": "hH4HHbb5ad6Y",
    "outputId": "a7aa9da2-8d0b-4850-f6ed-ce220174a77c"
   },
   "outputs": [
    {
     "name": "stdout",
     "output_type": "stream",
     "text": [
      "Archive:  data.zip\n",
      "   creating: data/\n",
      "   creating: data/FERplus/\n",
      "  inflating: data/FERplus/.gitignore  \n",
      "  inflating: data/FERplus/fer2013new.csv  \n",
      "   creating: data/fer2013/\n",
      "  inflating: data/fer2013/.gitignore  \n",
      "  inflating: data/fer2013/fer2013.csv  \n",
      "  inflating: data/fer2013/README     \n",
      "  inflating: data/fer2013/fer2013.bib  \n",
      "  inflating: data/fer2013/README.md  \n"
     ]
    }
   ],
   "source": [
    "!unzip data.zip"
   ]
  },
  {
   "cell_type": "code",
   "execution_count": 5,
   "metadata": {
    "id": "6BaD_bQWaZNv"
   },
   "outputs": [],
   "source": [
    "path_fer2013csv='data/fer2013/fer2013.csv'\n",
    "path_fer2013newcsv='data/FERplus/fer2013new.csv'\n",
    "dataset = FERdataset(path_fer2013csv, path_fer2013newcsv)"
   ]
  },
  {
   "cell_type": "code",
   "execution_count": 6,
   "metadata": {
    "id": "O1rzf3vdacyc"
   },
   "outputs": [],
   "source": [
    "from torch.utils.data import random_split"
   ]
  },
  {
   "cell_type": "code",
   "execution_count": 7,
   "metadata": {
    "id": "u0CzyG0Kcs9q"
   },
   "outputs": [],
   "source": [
    "traindataset, valdataset, testdataset = random_split(dataset, [int(0.6*len(dataset)), int(0.2*len(dataset)), len(dataset) - (int(0.6*len(dataset)) + int(0.2*len(dataset)))], generator=torch.Generator().manual_seed(42))"
   ]
  },
  {
   "cell_type": "code",
   "execution_count": 8,
   "metadata": {
    "colab": {
     "base_uri": "https://localhost:8080/"
    },
    "id": "sTaYM3fEcusm",
    "outputId": "9e2945f9-5873-4cb3-ac06-9b2da0e12599"
   },
   "outputs": [
    {
     "name": "stdout",
     "output_type": "stream",
     "text": [
      "traindataset length: 21532\n",
      "valdataset length: 7177\n",
      "testdataset length: 7178\n"
     ]
    }
   ],
   "source": [
    "print(f'traindataset length: {len(traindataset)}')\n",
    "print(f'valdataset length: {len(valdataset)}')\n",
    "print(f'testdataset length: {len(testdataset)}')"
   ]
  },
  {
   "cell_type": "code",
   "execution_count": 9,
   "metadata": {
    "colab": {
     "base_uri": "https://localhost:8080/"
    },
    "id": "XXRdd2PPcxJu",
    "outputId": "40c7e947-33f8-4f6a-ee53-a60659953faa"
   },
   "outputs": [
    {
     "data": {
      "text/plain": [
       "9"
      ]
     },
     "execution_count": 9,
     "metadata": {},
     "output_type": "execute_result"
    }
   ],
   "source": [
    "len(dataset.fer2013newlabels)"
   ]
  },
  {
   "cell_type": "code",
   "execution_count": 49,
   "metadata": {
    "id": "WvDejjvKczt0"
   },
   "outputs": [],
   "source": [
    "class Model3(nn.Module):\n",
    "    def __init__(self, drop=0.2):\n",
    "        super().__init__()\n",
    "\n",
    "        self.conv1a = nn.Conv2d(in_channels=1, out_channels=64, kernel_size=5, padding=2)\n",
    "        self.conv1b = nn.Conv2d(64, out_channels=64, kernel_size=5, padding=2)\n",
    "\n",
    "        self.conv2a = nn.Conv2d(64, 128, 5, padding=2)\n",
    "        self.conv2b = nn.Conv2d(128, 128, 5, padding=2)\n",
    "\n",
    "        self.conv3a = nn.Conv2d(128, 256, 5, padding=2)\n",
    "        self.conv3b = nn.Conv2d(256, 256, 5, padding=2)\n",
    "\n",
    "        self.conv4a = nn.Conv2d(256, 512, 5, padding=2)\n",
    "        self.conv4b = nn.Conv2d(512, 512, 5, padding=2)\n",
    "\n",
    "        self.pool = nn.MaxPool2d(kernel_size=2, stride=2)\n",
    "\n",
    "        self.bn1a = nn.BatchNorm2d(64)\n",
    "        self.bn1b = nn.BatchNorm2d(64)\n",
    "\n",
    "        self.bn2a = nn.BatchNorm2d(128)\n",
    "        self.bn2b = nn.BatchNorm2d(128)\n",
    "\n",
    "        self.bn3a = nn.BatchNorm2d(256)\n",
    "        self.bn3b = nn.BatchNorm2d(256)\n",
    "\n",
    "        self.bn4a = nn.BatchNorm2d(512)\n",
    "        self.bn4b = nn.BatchNorm2d(512)\n",
    "\n",
    "        # self.lin1 = nn.Linear(512 * 2 * 2, 4096)\n",
    "        self.lin1 = nn.Linear(512 * 3 * 3, 4096)\n",
    "        self.lin2 = nn.Linear(4096, 4096)\n",
    "\n",
    "        # self.lin3 = nn.Linear(4096, 7)\n",
    "        # output size changed to 9 because we're using the fer plus labels, not the fer 2013 labels\n",
    "        self.lin3 = nn.Linear(4096, 9)\n",
    "\n",
    "        self.drop = nn.Dropout(p=drop)\n",
    "\n",
    "    def forward(self, x):\n",
    "        x = F.relu(self.bn1a(self.conv1a(x)))\n",
    "        x = F.relu(self.bn1b(self.conv1b(x)))\n",
    "        x = self.pool(x)\n",
    "\n",
    "        x = F.relu(self.bn2a(self.conv2a(x)))\n",
    "        x = F.relu(self.bn2b(self.conv2b(x)))\n",
    "        x = self.pool(x)\n",
    "\n",
    "        x = F.relu(self.bn3a(self.conv3a(x)))\n",
    "        x = F.relu(self.bn3b(self.conv3b(x)))\n",
    "        x = self.pool(x)\n",
    "\n",
    "        x = F.relu(self.bn4a(self.conv4a(x)))\n",
    "        x = F.relu(self.bn4b(self.conv4b(x)))\n",
    "        x = self.pool(x)\n",
    "        \n",
    "        # x = x.view(-1, 512 * 2 * 2) - replaced by torch.flatten\n",
    "        x = torch.flatten(x, 1)\n",
    "        x = F.relu(self.drop(self.lin1(x)))\n",
    "        x = F.relu(self.drop(self.lin2(x)))\n",
    "        x = self.lin3(x)\n",
    "        \n",
    "        return x"
   ]
  },
  {
   "cell_type": "code",
   "execution_count": 50,
   "metadata": {
    "id": "QLoKZXK6c3lh"
   },
   "outputs": [],
   "source": [
    "device = torch.device('cuda' if torch.cuda.is_available() else 'cpu')"
   ]
  },
  {
   "cell_type": "code",
   "execution_count": 51,
   "metadata": {
    "id": "TI14oi7Sc5ky"
   },
   "outputs": [],
   "source": [
    "model3 = Model3().to(device)"
   ]
  },
  {
   "cell_type": "code",
   "execution_count": 55,
   "metadata": {
    "colab": {
     "base_uri": "https://localhost:8080/"
    },
    "id": "H4pC84zJc7hw",
    "outputId": "604cf0ea-5dad-4e8d-bb34-7003575107f8"
   },
   "outputs": [
    {
     "data": {
      "text/plain": [
       "Model3(\n",
       "  (conv1a): Conv2d(1, 64, kernel_size=(5, 5), stride=(1, 1), padding=(2, 2))\n",
       "  (conv1b): Conv2d(64, 64, kernel_size=(5, 5), stride=(1, 1), padding=(2, 2))\n",
       "  (conv2a): Conv2d(64, 128, kernel_size=(5, 5), stride=(1, 1), padding=(2, 2))\n",
       "  (conv2b): Conv2d(128, 128, kernel_size=(5, 5), stride=(1, 1), padding=(2, 2))\n",
       "  (conv3a): Conv2d(128, 256, kernel_size=(5, 5), stride=(1, 1), padding=(2, 2))\n",
       "  (conv3b): Conv2d(256, 256, kernel_size=(5, 5), stride=(1, 1), padding=(2, 2))\n",
       "  (conv4a): Conv2d(256, 512, kernel_size=(5, 5), stride=(1, 1), padding=(2, 2))\n",
       "  (conv4b): Conv2d(512, 512, kernel_size=(5, 5), stride=(1, 1), padding=(2, 2))\n",
       "  (pool): MaxPool2d(kernel_size=2, stride=2, padding=0, dilation=1, ceil_mode=False)\n",
       "  (bn1a): BatchNorm2d(64, eps=1e-05, momentum=0.1, affine=True, track_running_stats=True)\n",
       "  (bn1b): BatchNorm2d(64, eps=1e-05, momentum=0.1, affine=True, track_running_stats=True)\n",
       "  (bn2a): BatchNorm2d(128, eps=1e-05, momentum=0.1, affine=True, track_running_stats=True)\n",
       "  (bn2b): BatchNorm2d(128, eps=1e-05, momentum=0.1, affine=True, track_running_stats=True)\n",
       "  (bn3a): BatchNorm2d(256, eps=1e-05, momentum=0.1, affine=True, track_running_stats=True)\n",
       "  (bn3b): BatchNorm2d(256, eps=1e-05, momentum=0.1, affine=True, track_running_stats=True)\n",
       "  (bn4a): BatchNorm2d(512, eps=1e-05, momentum=0.1, affine=True, track_running_stats=True)\n",
       "  (bn4b): BatchNorm2d(512, eps=1e-05, momentum=0.1, affine=True, track_running_stats=True)\n",
       "  (lin1): Linear(in_features=4608, out_features=4096, bias=True)\n",
       "  (lin2): Linear(in_features=4096, out_features=4096, bias=True)\n",
       "  (lin3): Linear(in_features=4096, out_features=9, bias=True)\n",
       "  (drop): Dropout(p=0.2, inplace=False)\n",
       ")"
      ]
     },
     "execution_count": 55,
     "metadata": {},
     "output_type": "execute_result"
    }
   ],
   "source": [
    "model3"
   ]
  },
  {
   "cell_type": "code",
   "execution_count": 56,
   "metadata": {
    "colab": {
     "base_uri": "https://localhost:8080/"
    },
    "id": "v8Bm4h24c-bB",
    "outputId": "4ae2f920-7f40-49e5-af08-9bc2d249ccfb"
   },
   "outputs": [
    {
     "data": {
      "text/plain": [
       "True"
      ]
     },
     "execution_count": 56,
     "metadata": {},
     "output_type": "execute_result"
    }
   ],
   "source": [
    "torch.cuda.is_available()"
   ]
  },
  {
   "cell_type": "code",
   "execution_count": 57,
   "metadata": {
    "id": "frApCVfodBQF"
   },
   "outputs": [],
   "source": [
    "# parameters\n",
    "epochs = 20\n",
    "batch_size = 100"
   ]
  },
  {
   "cell_type": "code",
   "execution_count": 58,
   "metadata": {
    "id": "knn46fGjdQgp"
   },
   "outputs": [],
   "source": [
    "trainloader = DataLoader(traindataset, batch_size, shuffle=True)\n",
    "valloader = DataLoader(valdataset, batch_size, shuffle=True)"
   ]
  },
  {
   "cell_type": "code",
   "execution_count": 59,
   "metadata": {
    "id": "Z2tj5lU9dWtI"
   },
   "outputs": [],
   "source": [
    "criterion = nn.CrossEntropyLoss()\n",
    "optimizer = optim.Adam(model3.parameters())"
   ]
  },
  {
   "cell_type": "code",
   "execution_count": 60,
   "metadata": {
    "id": "cRTyITkMkiC5"
   },
   "outputs": [],
   "source": [
    "from sklearn.metrics import accuracy_score, confusion_matrix\n",
    "import seaborn as sns"
   ]
  },
  {
   "cell_type": "code",
   "execution_count": 61,
   "metadata": {
    "colab": {
     "base_uri": "https://localhost:8080/"
    },
    "id": "joa-1_FTdYzY",
    "outputId": "8972e82a-1798-4410-86c3-4314772780d9"
   },
   "outputs": [
    {
     "name": "stdout",
     "output_type": "stream",
     "text": [
      "epoch: 0, iteration: 0, loss: 2.18818, val_loss: 1.80627, acc: 0.13000, val_acc: 0.35065\n",
      "epoch: 0, iteration: 20, loss: 1.82602, val_loss: 1.82157, acc: 0.38000, val_acc: 0.33766\n",
      "epoch: 0, iteration: 40, loss: 1.76176, val_loss: 1.85836, acc: 0.46000, val_acc: 0.35065\n",
      "epoch: 0, iteration: 60, loss: 1.89465, val_loss: 1.78835, acc: 0.29000, val_acc: 0.37662\n",
      "epoch: 0, iteration: 80, loss: 1.71311, val_loss: 1.69486, acc: 0.45000, val_acc: 0.45455\n",
      "epoch: 0, iteration: 100, loss: 1.79026, val_loss: 1.79756, acc: 0.42000, val_acc: 0.45455\n",
      "epoch: 0, iteration: 120, loss: 1.75133, val_loss: 1.84092, acc: 0.38000, val_acc: 0.44156\n",
      "epoch: 0, iteration: 140, loss: 1.88360, val_loss: 1.79912, acc: 0.35000, val_acc: 0.41558\n",
      "epoch: 0, iteration: 160, loss: 1.80644, val_loss: 1.78128, acc: 0.38000, val_acc: 0.32468\n",
      "epoch: 0, iteration: 180, loss: 1.85907, val_loss: 1.71164, acc: 0.33000, val_acc: 0.36364\n",
      "epoch: 0, iteration: 200, loss: 1.84524, val_loss: 1.85699, acc: 0.35000, val_acc: 0.41558\n",
      "epoch: 1, iteration: 0, loss: 1.83910, val_loss: 1.75676, acc: 0.37000, val_acc: 0.42857\n",
      "epoch: 1, iteration: 20, loss: 1.79709, val_loss: 1.76477, acc: 0.35000, val_acc: 0.38961\n",
      "epoch: 1, iteration: 40, loss: 1.79855, val_loss: 1.75626, acc: 0.27000, val_acc: 0.38961\n",
      "epoch: 1, iteration: 60, loss: 1.79209, val_loss: 1.79922, acc: 0.35000, val_acc: 0.44156\n",
      "epoch: 1, iteration: 80, loss: 1.85736, val_loss: 1.77351, acc: 0.38000, val_acc: 0.42857\n",
      "epoch: 1, iteration: 100, loss: 1.83819, val_loss: 1.76490, acc: 0.42000, val_acc: 0.40260\n",
      "epoch: 1, iteration: 120, loss: 1.89531, val_loss: 1.79403, acc: 0.32000, val_acc: 0.40260\n",
      "epoch: 1, iteration: 140, loss: 1.80140, val_loss: 1.76302, acc: 0.38000, val_acc: 0.32468\n",
      "epoch: 1, iteration: 160, loss: 1.76426, val_loss: 1.78671, acc: 0.44000, val_acc: 0.41558\n",
      "epoch: 1, iteration: 180, loss: 1.86113, val_loss: 1.84153, acc: 0.29000, val_acc: 0.24675\n",
      "epoch: 1, iteration: 200, loss: 1.85489, val_loss: 1.83343, acc: 0.36000, val_acc: 0.38961\n",
      "epoch: 2, iteration: 0, loss: 1.79314, val_loss: 1.71701, acc: 0.37000, val_acc: 0.33766\n",
      "epoch: 2, iteration: 20, loss: 1.76709, val_loss: 1.77508, acc: 0.34000, val_acc: 0.36364\n",
      "epoch: 2, iteration: 40, loss: 1.80062, val_loss: 1.93508, acc: 0.32000, val_acc: 0.25974\n",
      "epoch: 2, iteration: 60, loss: 1.73830, val_loss: 1.75643, acc: 0.44000, val_acc: 0.37662\n",
      "epoch: 2, iteration: 80, loss: 1.80056, val_loss: 1.77575, acc: 0.36000, val_acc: 0.33766\n",
      "epoch: 2, iteration: 100, loss: 1.82093, val_loss: 1.80834, acc: 0.27000, val_acc: 0.41558\n",
      "epoch: 2, iteration: 120, loss: 1.88867, val_loss: 1.69504, acc: 0.39000, val_acc: 0.37662\n",
      "epoch: 2, iteration: 140, loss: 1.79481, val_loss: 1.72269, acc: 0.34000, val_acc: 0.44156\n",
      "epoch: 2, iteration: 160, loss: 1.80994, val_loss: 1.73414, acc: 0.40000, val_acc: 0.33766\n",
      "epoch: 2, iteration: 180, loss: 1.86345, val_loss: 1.82609, acc: 0.30000, val_acc: 0.35065\n",
      "epoch: 2, iteration: 200, loss: 1.74033, val_loss: 1.86843, acc: 0.40000, val_acc: 0.23377\n",
      "epoch: 3, iteration: 0, loss: 1.75672, val_loss: 1.77678, acc: 0.40000, val_acc: 0.28571\n",
      "epoch: 3, iteration: 20, loss: 1.80143, val_loss: 1.76787, acc: 0.39000, val_acc: 0.29870\n",
      "epoch: 3, iteration: 40, loss: 1.79582, val_loss: 1.77671, acc: 0.38000, val_acc: 0.41558\n",
      "epoch: 3, iteration: 60, loss: 1.82568, val_loss: 1.90580, acc: 0.33000, val_acc: 0.31169\n",
      "epoch: 3, iteration: 80, loss: 1.77877, val_loss: 1.80318, acc: 0.40000, val_acc: 0.38961\n",
      "epoch: 3, iteration: 100, loss: 1.77999, val_loss: 1.75486, acc: 0.41000, val_acc: 0.27273\n",
      "epoch: 3, iteration: 120, loss: 1.75160, val_loss: 1.80715, acc: 0.32000, val_acc: 0.31169\n",
      "epoch: 3, iteration: 140, loss: 1.72739, val_loss: 1.72747, acc: 0.44000, val_acc: 0.44156\n",
      "epoch: 3, iteration: 160, loss: 1.68868, val_loss: 2.01416, acc: 0.42000, val_acc: 0.38961\n",
      "epoch: 3, iteration: 180, loss: 1.84583, val_loss: 1.77418, acc: 0.32000, val_acc: 0.40260\n",
      "epoch: 3, iteration: 200, loss: 1.73691, val_loss: 1.79500, acc: 0.45000, val_acc: 0.29870\n",
      "epoch: 4, iteration: 0, loss: 1.72843, val_loss: 1.80149, acc: 0.40000, val_acc: 0.35065\n",
      "epoch: 4, iteration: 20, loss: 1.72299, val_loss: 1.79172, acc: 0.34000, val_acc: 0.36364\n",
      "epoch: 4, iteration: 40, loss: 1.73107, val_loss: 1.88351, acc: 0.34000, val_acc: 0.22078\n",
      "epoch: 4, iteration: 60, loss: 1.68889, val_loss: 1.68720, acc: 0.48000, val_acc: 0.31169\n",
      "epoch: 4, iteration: 80, loss: 1.83445, val_loss: 1.83618, acc: 0.33000, val_acc: 0.41558\n",
      "epoch: 4, iteration: 100, loss: 1.83236, val_loss: 1.82426, acc: 0.38000, val_acc: 0.32468\n",
      "epoch: 4, iteration: 120, loss: 1.62428, val_loss: 1.76590, acc: 0.51000, val_acc: 0.44156\n",
      "epoch: 4, iteration: 140, loss: 1.65952, val_loss: 3.52228, acc: 0.50000, val_acc: 0.18182\n",
      "epoch: 4, iteration: 160, loss: 1.73094, val_loss: 1.78128, acc: 0.42000, val_acc: 0.40260\n",
      "epoch: 4, iteration: 180, loss: 1.64619, val_loss: 1.76969, acc: 0.51000, val_acc: 0.44156\n",
      "epoch: 4, iteration: 200, loss: 1.63471, val_loss: 1.55783, acc: 0.60000, val_acc: 0.48052\n",
      "epoch: 5, iteration: 0, loss: 1.60694, val_loss: 1.67237, acc: 0.52000, val_acc: 0.54545\n",
      "epoch: 5, iteration: 20, loss: 1.58460, val_loss: 1.60403, acc: 0.51000, val_acc: 0.54545\n",
      "epoch: 5, iteration: 40, loss: 1.58606, val_loss: 1.69356, acc: 0.56000, val_acc: 0.50649\n",
      "epoch: 5, iteration: 60, loss: 1.61281, val_loss: 1.60983, acc: 0.60000, val_acc: 0.54545\n",
      "epoch: 5, iteration: 80, loss: 1.49122, val_loss: 1.70579, acc: 0.62000, val_acc: 0.41558\n",
      "epoch: 5, iteration: 100, loss: 1.67280, val_loss: 1.52639, acc: 0.50000, val_acc: 0.58442\n",
      "epoch: 5, iteration: 120, loss: 1.47719, val_loss: 1.51824, acc: 0.59000, val_acc: 0.61039\n",
      "epoch: 5, iteration: 140, loss: 1.50510, val_loss: 1.59444, acc: 0.56000, val_acc: 0.50649\n",
      "epoch: 5, iteration: 160, loss: 1.51168, val_loss: 1.61223, acc: 0.54000, val_acc: 0.51948\n",
      "epoch: 5, iteration: 180, loss: 1.56348, val_loss: 1.53161, acc: 0.52000, val_acc: 0.57143\n",
      "epoch: 5, iteration: 200, loss: 1.42855, val_loss: 1.46144, acc: 0.64000, val_acc: 0.63636\n",
      "epoch: 6, iteration: 0, loss: 1.42623, val_loss: 1.29112, acc: 0.53000, val_acc: 0.67532\n",
      "epoch: 6, iteration: 20, loss: 1.47197, val_loss: 1.28324, acc: 0.56000, val_acc: 0.64935\n",
      "epoch: 6, iteration: 40, loss: 1.66393, val_loss: 1.60604, acc: 0.54000, val_acc: 0.58442\n",
      "epoch: 6, iteration: 60, loss: 1.53766, val_loss: 1.56150, acc: 0.51000, val_acc: 0.62338\n",
      "epoch: 6, iteration: 80, loss: 1.41846, val_loss: 1.59284, acc: 0.66000, val_acc: 0.54545\n",
      "epoch: 6, iteration: 100, loss: 1.43620, val_loss: 1.47282, acc: 0.60000, val_acc: 0.62338\n",
      "epoch: 6, iteration: 120, loss: 1.37099, val_loss: 1.51484, acc: 0.61000, val_acc: 0.57143\n",
      "epoch: 6, iteration: 140, loss: 1.51348, val_loss: 1.56548, acc: 0.53000, val_acc: 0.48052\n",
      "epoch: 6, iteration: 160, loss: 1.31623, val_loss: 1.49406, acc: 0.58000, val_acc: 0.55844\n",
      "epoch: 6, iteration: 180, loss: 1.54595, val_loss: 1.43028, acc: 0.56000, val_acc: 0.59740\n",
      "epoch: 6, iteration: 200, loss: 1.37832, val_loss: 1.38182, acc: 0.66000, val_acc: 0.71429\n",
      "epoch: 7, iteration: 0, loss: 1.27936, val_loss: 1.24649, acc: 0.65000, val_acc: 0.66234\n",
      "epoch: 7, iteration: 20, loss: 1.39628, val_loss: 1.26232, acc: 0.66000, val_acc: 0.70130\n",
      "epoch: 7, iteration: 40, loss: 1.34011, val_loss: 1.26038, acc: 0.62000, val_acc: 0.70130\n",
      "epoch: 7, iteration: 60, loss: 1.39559, val_loss: 1.38420, acc: 0.70000, val_acc: 0.66234\n",
      "epoch: 7, iteration: 80, loss: 1.50108, val_loss: 1.32823, acc: 0.60000, val_acc: 0.59740\n",
      "epoch: 7, iteration: 100, loss: 1.16630, val_loss: 1.51559, acc: 0.77000, val_acc: 0.55844\n",
      "epoch: 7, iteration: 120, loss: 1.31042, val_loss: 1.23938, acc: 0.59000, val_acc: 0.71429\n",
      "epoch: 7, iteration: 140, loss: 1.23131, val_loss: 1.46471, acc: 0.70000, val_acc: 0.59740\n",
      "epoch: 7, iteration: 160, loss: 1.32299, val_loss: 1.38997, acc: 0.65000, val_acc: 0.64935\n",
      "epoch: 7, iteration: 180, loss: 1.22045, val_loss: 1.27698, acc: 0.76000, val_acc: 0.71429\n",
      "epoch: 7, iteration: 200, loss: 1.21450, val_loss: 1.33349, acc: 0.76000, val_acc: 0.62338\n",
      "epoch: 8, iteration: 0, loss: 1.43094, val_loss: 1.39574, acc: 0.64000, val_acc: 0.68831\n",
      "epoch: 8, iteration: 20, loss: 1.25023, val_loss: 1.79916, acc: 0.72000, val_acc: 0.54545\n",
      "epoch: 8, iteration: 40, loss: 1.23816, val_loss: 1.38702, acc: 0.69000, val_acc: 0.66234\n",
      "epoch: 8, iteration: 60, loss: 1.29052, val_loss: 1.34129, acc: 0.73000, val_acc: 0.68831\n",
      "epoch: 8, iteration: 80, loss: 1.23424, val_loss: 1.39948, acc: 0.74000, val_acc: 0.61039\n",
      "epoch: 8, iteration: 100, loss: 1.37067, val_loss: 1.38956, acc: 0.56000, val_acc: 0.67532\n",
      "epoch: 8, iteration: 120, loss: 1.32491, val_loss: 1.37599, acc: 0.66000, val_acc: 0.66234\n",
      "epoch: 8, iteration: 140, loss: 1.17830, val_loss: 1.42239, acc: 0.68000, val_acc: 0.61039\n",
      "epoch: 8, iteration: 160, loss: 1.28684, val_loss: 1.31629, acc: 0.66000, val_acc: 0.68831\n",
      "epoch: 8, iteration: 180, loss: 1.44839, val_loss: 1.38091, acc: 0.52000, val_acc: 0.72727\n",
      "epoch: 8, iteration: 200, loss: 1.39133, val_loss: 1.36761, acc: 0.67000, val_acc: 0.66234\n",
      "epoch: 9, iteration: 0, loss: 1.29427, val_loss: 1.64721, acc: 0.66000, val_acc: 0.50649\n",
      "epoch: 9, iteration: 20, loss: 1.25711, val_loss: 1.27324, acc: 0.74000, val_acc: 0.70130\n",
      "epoch: 9, iteration: 40, loss: 1.31078, val_loss: 1.28459, acc: 0.67000, val_acc: 0.71429\n",
      "epoch: 9, iteration: 60, loss: 1.28164, val_loss: 1.29044, acc: 0.70000, val_acc: 0.68831\n",
      "epoch: 9, iteration: 80, loss: 1.19850, val_loss: 1.88617, acc: 0.68000, val_acc: 0.33766\n",
      "epoch: 9, iteration: 100, loss: 1.49269, val_loss: 1.37250, acc: 0.63000, val_acc: 0.62338\n",
      "epoch: 9, iteration: 120, loss: 1.32878, val_loss: 1.44384, acc: 0.67000, val_acc: 0.55844\n",
      "epoch: 9, iteration: 140, loss: 1.34285, val_loss: 1.45090, acc: 0.68000, val_acc: 0.57143\n",
      "epoch: 9, iteration: 160, loss: 1.41915, val_loss: 1.40776, acc: 0.64000, val_acc: 0.63636\n",
      "epoch: 9, iteration: 180, loss: 1.20425, val_loss: 1.44464, acc: 0.73000, val_acc: 0.66234\n",
      "epoch: 9, iteration: 200, loss: 1.37786, val_loss: 1.38440, acc: 0.61000, val_acc: 0.68831\n",
      "epoch: 10, iteration: 0, loss: 1.20018, val_loss: 1.26064, acc: 0.75000, val_acc: 0.72727\n",
      "epoch: 10, iteration: 20, loss: 1.25553, val_loss: 2.00385, acc: 0.74000, val_acc: 0.35065\n",
      "epoch: 10, iteration: 40, loss: 1.20978, val_loss: 1.31550, acc: 0.72000, val_acc: 0.72727\n",
      "epoch: 10, iteration: 60, loss: 1.36494, val_loss: 1.28712, acc: 0.60000, val_acc: 0.67532\n",
      "epoch: 10, iteration: 80, loss: 1.34705, val_loss: 1.47283, acc: 0.62000, val_acc: 0.59740\n",
      "epoch: 10, iteration: 100, loss: 1.29510, val_loss: 1.22097, acc: 0.71000, val_acc: 0.70130\n",
      "epoch: 10, iteration: 120, loss: 1.24124, val_loss: 1.27656, acc: 0.68000, val_acc: 0.72727\n",
      "epoch: 10, iteration: 140, loss: 1.23385, val_loss: 1.29144, acc: 0.71000, val_acc: 0.61039\n",
      "epoch: 10, iteration: 160, loss: 1.25245, val_loss: 1.29290, acc: 0.75000, val_acc: 0.72727\n",
      "epoch: 10, iteration: 180, loss: 1.24933, val_loss: 1.30175, acc: 0.71000, val_acc: 0.62338\n",
      "epoch: 10, iteration: 200, loss: 1.33270, val_loss: 1.40994, acc: 0.67000, val_acc: 0.64935\n",
      "epoch: 11, iteration: 0, loss: 1.27833, val_loss: 1.24884, acc: 0.68000, val_acc: 0.70130\n",
      "epoch: 11, iteration: 20, loss: 1.35868, val_loss: 1.50586, acc: 0.61000, val_acc: 0.58442\n",
      "epoch: 11, iteration: 40, loss: 1.25445, val_loss: 1.21990, acc: 0.73000, val_acc: 0.70130\n",
      "epoch: 11, iteration: 60, loss: 1.22969, val_loss: 1.35986, acc: 0.71000, val_acc: 0.62338\n",
      "epoch: 11, iteration: 80, loss: 1.20964, val_loss: 1.22564, acc: 0.70000, val_acc: 0.74026\n",
      "epoch: 11, iteration: 100, loss: 1.32921, val_loss: 1.07364, acc: 0.70000, val_acc: 0.77922\n",
      "epoch: 11, iteration: 120, loss: 1.26659, val_loss: 1.15800, acc: 0.69000, val_acc: 0.75325\n",
      "epoch: 11, iteration: 140, loss: 1.27655, val_loss: 1.47392, acc: 0.66000, val_acc: 0.59740\n",
      "epoch: 11, iteration: 160, loss: 1.14086, val_loss: 1.42256, acc: 0.77000, val_acc: 0.62338\n",
      "epoch: 11, iteration: 180, loss: 1.15012, val_loss: 1.24985, acc: 0.80000, val_acc: 0.74026\n",
      "epoch: 11, iteration: 200, loss: 1.35955, val_loss: 1.12986, acc: 0.67000, val_acc: 0.64935\n",
      "epoch: 12, iteration: 0, loss: 1.21732, val_loss: 1.24425, acc: 0.66000, val_acc: 0.71429\n",
      "epoch: 12, iteration: 20, loss: 1.24469, val_loss: 1.15290, acc: 0.69000, val_acc: 0.70130\n",
      "epoch: 12, iteration: 40, loss: 1.11925, val_loss: 1.30151, acc: 0.71000, val_acc: 0.61039\n",
      "epoch: 12, iteration: 60, loss: 1.06939, val_loss: 1.09112, acc: 0.77000, val_acc: 0.75325\n",
      "epoch: 12, iteration: 80, loss: 1.10929, val_loss: 1.24992, acc: 0.79000, val_acc: 0.67532\n",
      "epoch: 12, iteration: 100, loss: 1.03766, val_loss: 1.28245, acc: 0.79000, val_acc: 0.68831\n",
      "epoch: 12, iteration: 120, loss: 1.19450, val_loss: 1.29204, acc: 0.70000, val_acc: 0.68831\n",
      "epoch: 12, iteration: 140, loss: 1.24648, val_loss: 1.22836, acc: 0.78000, val_acc: 0.72727\n",
      "epoch: 12, iteration: 160, loss: 1.18271, val_loss: 1.18728, acc: 0.69000, val_acc: 0.67532\n",
      "epoch: 12, iteration: 180, loss: 1.17427, val_loss: 1.11435, acc: 0.66000, val_acc: 0.76623\n",
      "epoch: 12, iteration: 200, loss: 1.15081, val_loss: 1.25794, acc: 0.69000, val_acc: 0.64935\n",
      "epoch: 13, iteration: 0, loss: 1.13151, val_loss: 1.17518, acc: 0.71000, val_acc: 0.72727\n",
      "epoch: 13, iteration: 20, loss: 1.10004, val_loss: 1.19687, acc: 0.75000, val_acc: 0.70130\n",
      "epoch: 13, iteration: 40, loss: 1.14632, val_loss: 1.15632, acc: 0.73000, val_acc: 0.68831\n",
      "epoch: 13, iteration: 60, loss: 1.05537, val_loss: 1.00065, acc: 0.81000, val_acc: 0.83117\n",
      "epoch: 13, iteration: 80, loss: 1.20283, val_loss: 1.08899, acc: 0.71000, val_acc: 0.79221\n",
      "epoch: 13, iteration: 100, loss: 1.15972, val_loss: 1.20137, acc: 0.69000, val_acc: 0.77922\n",
      "epoch: 13, iteration: 120, loss: 1.14718, val_loss: 1.33540, acc: 0.72000, val_acc: 0.66234\n",
      "epoch: 13, iteration: 140, loss: 1.14850, val_loss: 1.03589, acc: 0.70000, val_acc: 0.77922\n",
      "epoch: 13, iteration: 160, loss: 1.12495, val_loss: 1.12794, acc: 0.71000, val_acc: 0.71429\n",
      "epoch: 13, iteration: 180, loss: 1.25975, val_loss: 1.16072, acc: 0.75000, val_acc: 0.72727\n",
      "epoch: 13, iteration: 200, loss: 1.20811, val_loss: 1.17489, acc: 0.79000, val_acc: 0.72727\n",
      "epoch: 14, iteration: 0, loss: 1.15132, val_loss: 1.04502, acc: 0.72000, val_acc: 0.76623\n",
      "epoch: 14, iteration: 20, loss: 1.12462, val_loss: 1.13638, acc: 0.73000, val_acc: 0.74026\n",
      "epoch: 14, iteration: 40, loss: 1.01841, val_loss: 1.34017, acc: 0.77000, val_acc: 0.71429\n",
      "epoch: 14, iteration: 60, loss: 1.09828, val_loss: 1.14862, acc: 0.80000, val_acc: 0.70130\n",
      "epoch: 14, iteration: 80, loss: 1.14243, val_loss: 1.12910, acc: 0.70000, val_acc: 0.70130\n",
      "epoch: 14, iteration: 100, loss: 1.02098, val_loss: 1.29708, acc: 0.78000, val_acc: 0.70130\n",
      "epoch: 14, iteration: 120, loss: 1.10185, val_loss: 1.14018, acc: 0.76000, val_acc: 0.74026\n",
      "epoch: 14, iteration: 140, loss: 1.16194, val_loss: 1.13253, acc: 0.68000, val_acc: 0.76623\n",
      "epoch: 14, iteration: 160, loss: 0.96647, val_loss: 1.21975, acc: 0.82000, val_acc: 0.61039\n",
      "epoch: 14, iteration: 180, loss: 1.17023, val_loss: 1.09027, acc: 0.76000, val_acc: 0.76623\n",
      "epoch: 14, iteration: 200, loss: 0.95910, val_loss: 1.32348, acc: 0.81000, val_acc: 0.67532\n",
      "epoch: 15, iteration: 0, loss: 1.04628, val_loss: 1.08733, acc: 0.81000, val_acc: 0.75325\n",
      "epoch: 15, iteration: 20, loss: 1.14165, val_loss: 1.23189, acc: 0.70000, val_acc: 0.76623\n",
      "epoch: 15, iteration: 40, loss: 1.10368, val_loss: 1.07471, acc: 0.73000, val_acc: 0.72727\n",
      "epoch: 15, iteration: 60, loss: 0.98077, val_loss: 0.96596, acc: 0.85000, val_acc: 0.74026\n",
      "epoch: 15, iteration: 80, loss: 1.21597, val_loss: 1.06073, acc: 0.73000, val_acc: 0.79221\n",
      "epoch: 15, iteration: 100, loss: 1.05291, val_loss: 1.02342, acc: 0.78000, val_acc: 0.83117\n",
      "epoch: 15, iteration: 120, loss: 1.12650, val_loss: 1.24674, acc: 0.77000, val_acc: 0.68831\n",
      "epoch: 15, iteration: 140, loss: 1.05445, val_loss: 1.02567, acc: 0.78000, val_acc: 0.72727\n",
      "epoch: 15, iteration: 160, loss: 1.10262, val_loss: 1.00474, acc: 0.68000, val_acc: 0.85714\n",
      "epoch: 15, iteration: 180, loss: 1.02751, val_loss: 1.14569, acc: 0.69000, val_acc: 0.81818\n",
      "epoch: 15, iteration: 200, loss: 1.08444, val_loss: 1.14408, acc: 0.72000, val_acc: 0.80519\n",
      "epoch: 16, iteration: 0, loss: 1.02324, val_loss: 1.16609, acc: 0.81000, val_acc: 0.67532\n",
      "epoch: 16, iteration: 20, loss: 1.06175, val_loss: 1.20268, acc: 0.81000, val_acc: 0.72727\n",
      "epoch: 16, iteration: 40, loss: 1.00717, val_loss: 1.27921, acc: 0.82000, val_acc: 0.67532\n",
      "epoch: 16, iteration: 60, loss: 0.90632, val_loss: 1.20542, acc: 0.82000, val_acc: 0.74026\n",
      "epoch: 16, iteration: 80, loss: 0.95100, val_loss: 1.20735, acc: 0.79000, val_acc: 0.72727\n",
      "epoch: 16, iteration: 100, loss: 1.01294, val_loss: 1.01834, acc: 0.76000, val_acc: 0.79221\n",
      "epoch: 16, iteration: 120, loss: 1.02941, val_loss: 1.01960, acc: 0.79000, val_acc: 0.85714\n",
      "epoch: 16, iteration: 140, loss: 1.07342, val_loss: 1.21638, acc: 0.84000, val_acc: 0.74026\n",
      "epoch: 16, iteration: 160, loss: 1.15197, val_loss: 1.24226, acc: 0.72000, val_acc: 0.72727\n",
      "epoch: 16, iteration: 180, loss: 1.08903, val_loss: 1.16964, acc: 0.78000, val_acc: 0.61039\n",
      "epoch: 16, iteration: 200, loss: 1.10657, val_loss: 1.25633, acc: 0.75000, val_acc: 0.74026\n",
      "epoch: 17, iteration: 0, loss: 1.07219, val_loss: 1.25775, acc: 0.73000, val_acc: 0.66234\n",
      "epoch: 17, iteration: 20, loss: 1.07931, val_loss: 1.13494, acc: 0.81000, val_acc: 0.79221\n",
      "epoch: 17, iteration: 40, loss: 1.02368, val_loss: 1.00991, acc: 0.80000, val_acc: 0.76623\n",
      "epoch: 17, iteration: 60, loss: 0.94027, val_loss: 1.08393, acc: 0.86000, val_acc: 0.84416\n",
      "epoch: 17, iteration: 80, loss: 1.07025, val_loss: 1.32181, acc: 0.75000, val_acc: 0.68831\n",
      "epoch: 17, iteration: 100, loss: 1.09115, val_loss: 1.14826, acc: 0.75000, val_acc: 0.74026\n",
      "epoch: 17, iteration: 120, loss: 0.99987, val_loss: 1.00537, acc: 0.81000, val_acc: 0.75325\n",
      "epoch: 17, iteration: 140, loss: 1.07153, val_loss: 1.14660, acc: 0.75000, val_acc: 0.77922\n",
      "epoch: 17, iteration: 160, loss: 1.08545, val_loss: 1.21941, acc: 0.72000, val_acc: 0.70130\n",
      "epoch: 17, iteration: 180, loss: 0.95435, val_loss: 1.12346, acc: 0.86000, val_acc: 0.79221\n",
      "epoch: 17, iteration: 200, loss: 1.06746, val_loss: 1.08620, acc: 0.83000, val_acc: 0.74026\n",
      "epoch: 18, iteration: 0, loss: 0.99698, val_loss: 1.04476, acc: 0.82000, val_acc: 0.81818\n",
      "epoch: 18, iteration: 20, loss: 1.01829, val_loss: 1.16448, acc: 0.82000, val_acc: 0.74026\n",
      "epoch: 18, iteration: 40, loss: 1.04071, val_loss: 1.10223, acc: 0.80000, val_acc: 0.71429\n",
      "epoch: 18, iteration: 60, loss: 0.92133, val_loss: 1.00810, acc: 0.82000, val_acc: 0.80519\n",
      "epoch: 18, iteration: 80, loss: 1.00821, val_loss: 1.24969, acc: 0.82000, val_acc: 0.75325\n",
      "epoch: 18, iteration: 100, loss: 1.11079, val_loss: 0.97818, acc: 0.73000, val_acc: 0.81818\n",
      "epoch: 18, iteration: 120, loss: 1.08151, val_loss: 1.00503, acc: 0.84000, val_acc: 0.75325\n",
      "epoch: 18, iteration: 140, loss: 1.03921, val_loss: 1.01320, acc: 0.83000, val_acc: 0.70130\n",
      "epoch: 18, iteration: 160, loss: 1.09305, val_loss: 1.12917, acc: 0.81000, val_acc: 0.68831\n",
      "epoch: 18, iteration: 180, loss: 0.95126, val_loss: 1.25503, acc: 0.79000, val_acc: 0.70130\n",
      "epoch: 18, iteration: 200, loss: 1.03933, val_loss: 1.02265, acc: 0.90000, val_acc: 0.77922\n",
      "epoch: 19, iteration: 0, loss: 0.99110, val_loss: 1.26609, acc: 0.86000, val_acc: 0.72727\n",
      "epoch: 19, iteration: 20, loss: 0.99973, val_loss: 1.13381, acc: 0.86000, val_acc: 0.76623\n",
      "epoch: 19, iteration: 40, loss: 1.02927, val_loss: 1.13994, acc: 0.80000, val_acc: 0.77922\n",
      "epoch: 19, iteration: 60, loss: 0.96290, val_loss: 1.14758, acc: 0.81000, val_acc: 0.72727\n",
      "epoch: 19, iteration: 80, loss: 0.96900, val_loss: 1.17460, acc: 0.85000, val_acc: 0.70130\n",
      "epoch: 19, iteration: 100, loss: 0.97096, val_loss: 1.07913, acc: 0.81000, val_acc: 0.80519\n",
      "epoch: 19, iteration: 120, loss: 0.92984, val_loss: 1.14443, acc: 0.86000, val_acc: 0.79221\n",
      "epoch: 19, iteration: 140, loss: 1.06535, val_loss: 1.22534, acc: 0.79000, val_acc: 0.68831\n",
      "epoch: 19, iteration: 160, loss: 1.04310, val_loss: 0.94879, acc: 0.78000, val_acc: 0.81818\n",
      "epoch: 19, iteration: 180, loss: 0.96697, val_loss: 1.12774, acc: 0.86000, val_acc: 0.72727\n",
      "epoch: 19, iteration: 200, loss: 0.93421, val_loss: 1.23332, acc: 0.85000, val_acc: 0.67532\n"
     ]
    }
   ],
   "source": [
    "running_loss = []\n",
    "running_val_loss = []\n",
    "alltrainacc = []\n",
    "allvalacc = []\n",
    "\n",
    "print_every = 20\n",
    "for e in range(epochs):\n",
    "    for i,(images, labels) in enumerate(trainloader):\n",
    "        model3.train()\n",
    "        images.unsqueeze_(1)\n",
    "        images = images.to(device)\n",
    "        labels = labels.to(device)\n",
    "\n",
    "        optimizer.zero_grad()\n",
    "        output = model3(images)\n",
    "        loss = criterion(output, labels)\n",
    "        loss.backward()\n",
    "        optimizer.step()\n",
    "\n",
    "        running_loss.append(loss.item())\n",
    "        \n",
    "        if i%print_every == 0:\n",
    "            # torch.save(vggmodel.state_dict(), os.path.join('/models', 'decoder-%d.pkl' % i))\n",
    "            model3.eval()\n",
    "            with torch.no_grad():\n",
    "                for j,(valimages, vallabels) in enumerate(valloader):\n",
    "                    val_loss_list = []\n",
    "                    valimages.unsqueeze_(1)\n",
    "                    valimages = valimages.to(device)\n",
    "                    vallabels = vallabels.to(device)\n",
    "                    \n",
    "                    val_output = model3(valimages)\n",
    "                    val_loss = criterion(val_output, vallabels)\n",
    "\n",
    "                    val_loss_list.append(val_loss.item())\n",
    "                    \n",
    "                    # to calculate training accuracy\n",
    "                    trueargmax = torch.argmax(labels, dim=1)\n",
    "                    truelabels = trueargmax.cpu().detach().numpy()\n",
    "                    predargmax = torch.argmax(output, dim=1)\n",
    "                    predlabels = predargmax.cpu().detach().numpy()\n",
    "                    \n",
    "                    # to calculate validation accuracy\n",
    "                    valtrueargmax = torch.argmax(vallabels, dim=1)\n",
    "                    valtruelabels = valtrueargmax.cpu().detach().numpy()\n",
    "                    valpredargmax = torch.argmax(val_output, dim=1)\n",
    "                    valpredlabels = valpredargmax.cpu().detach().numpy()                    \n",
    "\n",
    "                val_loss_avg = sum(val_loss_list) / len(val_loss_list)\n",
    "                \n",
    "            # calculate training and validation accuracy\n",
    "            batchtrainacc = accuracy_score(truelabels, predlabels)\n",
    "            batchvalacc = accuracy_score(valtruelabels, valpredlabels)\n",
    "            \n",
    "            # store the training and validation accuracies \n",
    "            alltrainacc.append(batchtrainacc)\n",
    "            allvalacc.append(batchvalacc)\n",
    "\n",
    "            running_val_loss.append(val_loss_avg)\n",
    "            print(f'epoch: {e}, iteration: {i}, loss: {loss.item():.5f}, val_loss: {val_loss_avg:.5f}, acc: {batchtrainacc:.5f}, val_acc: {batchvalacc:.5f}')"
   ]
  },
  {
   "cell_type": "code",
   "execution_count": 62,
   "metadata": {
    "colab": {
     "base_uri": "https://localhost:8080/",
     "height": 295
    },
    "id": "zaXx_WmKdfLx",
    "outputId": "ce154e51-eb77-438e-dc7f-d993ec3758dd"
   },
   "outputs": [
    {
     "data": {
      "image/png": "[encoded data removed]",
      "text/plain": [
       "<Figure size 432x288 with 1 Axes>"
      ]
     },
     "metadata": {
      "needs_background": "light"
     },
     "output_type": "display_data"
    }
   ],
   "source": [
    "ind = 10\n",
    "plt.plot(np.arange(len(running_loss[ind:])), running_loss[ind:], label='training loss')\n",
    "plt.plot(np.arange(len(running_val_loss[ind:]))*print_every, running_val_loss[10:], label='validation loss')\n",
    "plt.xlabel('iterations')\n",
    "plt.ylabel('loss')\n",
    "plt.title('training and validation loss')\n",
    "plt.legend()\n",
    "plt.show()"
   ]
  },
  {
   "cell_type": "code",
   "execution_count": 63,
   "metadata": {
    "colab": {
     "base_uri": "https://localhost:8080/",
     "height": 295
    },
    "id": "ykK5KhE5kyeM",
    "outputId": "c6feaef5-b136-41b6-c795-b04204c8e491"
   },
   "outputs": [
    {
     "data": {
      "image/png": "[encoded data removed]",
      "text/plain": [
       "<Figure size 432x288 with 1 Axes>"
      ]
     },
     "metadata": {
      "needs_background": "light"
     },
     "output_type": "display_data"
    }
   ],
   "source": [
    "plt.plot(np.arange(len(alltrainacc))*print_every, alltrainacc, label='training acc')\n",
    "plt.plot(np.arange(len(allvalacc))*print_every, allvalacc, label='validation acc')\n",
    "plt.xlabel('iterations')\n",
    "plt.ylabel('accuracy')\n",
    "plt.title('training and validation accuracy')\n",
    "plt.legend()\n",
    "plt.show()"
   ]
  },
  {
   "cell_type": "markdown",
   "metadata": {
    "id": "5ZftQ_VSddbE"
   },
   "source": [
    "### Let's run the model on the test data"
   ]
  },
  {
   "cell_type": "code",
   "execution_count": 64,
   "metadata": {
    "id": "AFhbl1e8r425"
   },
   "outputs": [],
   "source": [
    "testloader = DataLoader(testdataset, 1, shuffle=False)"
   ]
  },
  {
   "cell_type": "code",
   "execution_count": 65,
   "metadata": {
    "id": "4JIqoZTF2XiO"
   },
   "outputs": [],
   "source": [
    "model3.eval()\n",
    "testtruelabels = []\n",
    "testpredlabels = []\n",
    "with torch.no_grad():\n",
    "    for i, (testimage, testlabel) in enumerate(testloader):\n",
    "        testimage.unsqueeze_(1)\n",
    "        testimage, testlabel = testimage.to(device), testlabel.to(device)\n",
    "        testpred = model3(testimage)\n",
    "\n",
    "        testtrueargmax = torch.argmax(testlabel).item()\n",
    "        testpredargmax = torch.argmax(testpred).item()\n",
    "\n",
    "        testtruelabels.append(testtrueargmax)\n",
    "        testpredlabels.append(testpredargmax)"
   ]
  },
  {
   "cell_type": "code",
   "execution_count": 66,
   "metadata": {
    "id": "KodylrAL6BQz"
   },
   "outputs": [],
   "source": [
    "testconfmat = confusion_matrix(testtruelabels, testpredlabels)"
   ]
  },
  {
   "cell_type": "code",
   "execution_count": 67,
   "metadata": {
    "colab": {
     "base_uri": "https://localhost:8080/",
     "height": 729
    },
    "id": "vajQVaUm6YVK",
    "outputId": "9337d0b9-57e5-49cf-9561-cd2ca956a09d"
   },
   "outputs": [
    {
     "data": {
      "image/png": "[encoded data removed]",
      "text/plain": [
       "<Figure size 1080x720 with 2 Axes>"
      ]
     },
     "metadata": {
      "needs_background": "light"
     },
     "output_type": "display_data"
    }
   ],
   "source": [
    "plt.figure(figsize=(15,10))\n",
    "sns.heatmap(testconfmat, annot=True, fmt='.0f', cmap='viridis', xticklabels=dataset.fer2013newlabels, yticklabels=dataset.fer2013newlabels)\n",
    "plt.xlabel('Predicted Values')\n",
    "plt.ylabel('True Values')\n",
    "plt.tight_layout()\n",
    "plt.show()"
   ]
  },
  {
   "cell_type": "code",
   "execution_count": 68,
   "metadata": {
    "colab": {
     "base_uri": "https://localhost:8080/"
    },
    "id": "GmYNizky6fZc",
    "outputId": "c45815c1-2be0-414a-cc91-90e022736ae6"
   },
   "outputs": [
    {
     "data": {
      "text/plain": [
       "0.7691557536918362"
      ]
     },
     "execution_count": 68,
     "metadata": {},
     "output_type": "execute_result"
    }
   ],
   "source": [
    "accuracy_score(testtruelabels, testpredlabels)"
   ]
  },
  {
   "cell_type": "code",
   "execution_count": 69,
   "metadata": {
    "id": "ikkHo8uW62CI"
   },
   "outputs": [],
   "source": [
    "torch.save(model3.state_dict(), 'model3_state_dict.pth')"
   ]
  },
  {
   "cell_type": "code",
   "execution_count": null,
   "metadata": {
    "id": "Z_G8iQzcIRFF"
   },
   "outputs": [],
   "source": []
  }
 ],
 "metadata": {
  "accelerator": "GPU",
  "colab": {
   "collapsed_sections": [],
   "name": "model3.ipynb",
   "provenance": []
  },
  "kernelspec": {
   "display_name": "Python 3 (ipykernel)",
   "language": "python",
   "name": "python3"
  },
  "language_info": {
   "codemirror_mode": {
    "name": "ipython",
    "version": 3
   },
   "file_extension": ".py",
   "mimetype": "text/x-python",
   "name": "python",
   "nbconvert_exporter": "python",
   "pygments_lexer": "ipython3",
   "version": "3.9.0"
  }
 },
 "nbformat": 4,
 "nbformat_minor": 1
}
