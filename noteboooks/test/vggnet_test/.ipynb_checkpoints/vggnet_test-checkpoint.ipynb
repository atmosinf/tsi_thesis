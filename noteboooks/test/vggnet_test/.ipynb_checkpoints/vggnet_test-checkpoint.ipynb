{
 "cells": [
  {
   "cell_type": "markdown",
   "id": "149df69f",
   "metadata": {},
   "source": [
    "### in this notebook we'll try to use the vggnet model "
   ]
  },
  {
   "cell_type": "markdown",
   "id": "2b867445",
   "metadata": {},
   "source": [
    "vgg model source : github [link](https://github.com/usef-kh/fer/tree/master/models)"
   ]
  },
  {
   "cell_type": "code",
   "execution_count": 1,
   "id": "070bea62",
   "metadata": {},
   "outputs": [],
   "source": [
    "import numpy as np\n",
    "import pandas as pd\n",
    "import matplotlib.pyplot as plt"
   ]
  },
  {
   "cell_type": "code",
   "execution_count": 2,
   "id": "d3f68c60",
   "metadata": {},
   "outputs": [],
   "source": [
    "import torch\n",
    "import torch.nn as nn\n",
    "import torch.nn.functional as F\n",
    "from torch import optim\n",
    "from torchvision import transforms\n",
    "from torch.utils.data import DataLoader, Dataset"
   ]
  },
  {
   "cell_type": "code",
   "execution_count": 3,
   "id": "3ca9eff2",
   "metadata": {},
   "outputs": [],
   "source": [
    "class FERdataset(Dataset):\n",
    "    def __init__(self, path_fer2013csv, path_fer2013newcsv):\n",
    "        self.fer2013 = pd.read_csv(path_fer2013csv)\n",
    "        self.fer2013labels = ['angry', 'disgust', 'fear', 'happy', 'sad', 'surprise', 'neutral']\n",
    "        self.fer2013new = pd.read_csv(path_fer2013newcsv)\n",
    "        self.fer2013newlabels = list(self.fer2013new.columns[2:11])\n",
    "        \n",
    "    def __getitem__(self, index):\n",
    "        '''\n",
    "        returns an image and its fer2013new label as tensors\n",
    "        '''\n",
    "        image = self.fer2013['pixels'].iloc[index]\n",
    "        image = np.fromstring(image, sep=' ').reshape(48, 48)\n",
    "        image = torch.tensor(image, dtype=torch.float32) / 255\n",
    "        \n",
    "        label = torch.tensor(self.fer2013new.iloc[index][2:11].values.astype('float32')) / 10\n",
    "        \n",
    "        return image, label\n",
    "        \n",
    "    def __len__(self):\n",
    "        return self.fer2013.shape[0]\n",
    "    "
   ]
  },
  {
   "cell_type": "code",
   "execution_count": 4,
   "id": "b497480b",
   "metadata": {},
   "outputs": [],
   "source": [
    "path_fer2013csv='../../../data/fer2013/fer2013.csv'\n",
    "path_fer2013newcsv='../../../data/FERplus/fer2013new.csv'\n",
    "dataset = FERdataset(path_fer2013csv, path_fer2013newcsv)"
   ]
  },
  {
   "cell_type": "code",
   "execution_count": 5,
   "id": "3fa8ce6e",
   "metadata": {},
   "outputs": [],
   "source": [
    "from torch.utils.data import random_split"
   ]
  },
  {
   "cell_type": "code",
   "execution_count": 6,
   "id": "5800ab1d",
   "metadata": {},
   "outputs": [],
   "source": [
    "traindataset, valdataset, testdataset = random_split(dataset, [int(0.6*len(dataset)), int(0.2*len(dataset)), len(dataset) - (int(0.6*len(dataset)) + int(0.2*len(dataset)))], generator=torch.Generator().manual_seed(42))"
   ]
  },
  {
   "cell_type": "code",
   "execution_count": 7,
   "id": "84627139",
   "metadata": {},
   "outputs": [
    {
     "name": "stdout",
     "output_type": "stream",
     "text": [
      "traindataset length: 21532\n",
      "valdataset length: 7177\n",
      "testdataset length: 7178\n"
     ]
    }
   ],
   "source": [
    "print(f'traindataset length: {len(traindataset)}')\n",
    "print(f'valdataset length: {len(valdataset)}')\n",
    "print(f'testdataset length: {len(testdataset)}')"
   ]
  },
  {
   "cell_type": "code",
   "execution_count": 9,
   "id": "50db9a65",
   "metadata": {},
   "outputs": [
    {
     "data": {
      "text/plain": [
       "9"
      ]
     },
     "execution_count": 9,
     "metadata": {},
     "output_type": "execute_result"
    }
   ],
   "source": [
    "len(dataset.fer2013newlabels)"
   ]
  },
  {
   "cell_type": "code",
   "execution_count": 8,
   "id": "6ff553cf",
   "metadata": {},
   "outputs": [],
   "source": [
    "class Vgg(nn.Module):\n",
    "    def __init__(self, drop=0.2):\n",
    "        super().__init__()\n",
    "\n",
    "        self.conv1a = nn.Conv2d(in_channels=1, out_channels=64, kernel_size=3, padding=1)\n",
    "        self.conv1b = nn.Conv2d(64, out_channels=64, kernel_size=3, padding=1)\n",
    "\n",
    "        self.conv2a = nn.Conv2d(64, 128, 3, padding=1)\n",
    "        self.conv2b = nn.Conv2d(128, 128, 3, padding=1)\n",
    "\n",
    "        self.conv3a = nn.Conv2d(128, 256, 3, padding=1)\n",
    "        self.conv3b = nn.Conv2d(256, 256, 3, padding=1)\n",
    "\n",
    "        self.conv4a = nn.Conv2d(256, 512, 3, padding=1)\n",
    "        self.conv4b = nn.Conv2d(512, 512, 3, padding=1)\n",
    "\n",
    "        self.pool = nn.MaxPool2d(kernel_size=2, stride=2)\n",
    "\n",
    "        self.bn1a = nn.BatchNorm2d(64)\n",
    "        self.bn1b = nn.BatchNorm2d(64)\n",
    "\n",
    "        self.bn2a = nn.BatchNorm2d(128)\n",
    "        self.bn2b = nn.BatchNorm2d(128)\n",
    "\n",
    "        self.bn3a = nn.BatchNorm2d(256)\n",
    "        self.bn3b = nn.BatchNorm2d(256)\n",
    "\n",
    "        self.bn4a = nn.BatchNorm2d(512)\n",
    "        self.bn4b = nn.BatchNorm2d(512)\n",
    "\n",
    "        self.lin1 = nn.Linear(512 * 2 * 2, 4096)\n",
    "        self.lin2 = nn.Linear(4096, 4096)\n",
    "\n",
    "        # self.lin3 = nn.Linear(4096, 7)\n",
    "        # output size changed to 9 because we're using the fer plus labels, not the fer 2013 labels\n",
    "        self.lin3 = nn.Linear(4096, 9)\n",
    "\n",
    "        self.drop = nn.Dropout(p=drop)\n",
    "\n",
    "    def forward(self, x):\n",
    "        x = F.relu(self.bn1a(self.conv1a(x)))\n",
    "        x = F.relu(self.bn1b(self.conv1b(x)))\n",
    "        x = self.pool(x)\n",
    "\n",
    "        x = F.relu(self.bn2a(self.conv2a(x)))\n",
    "        x = F.relu(self.bn2b(self.conv2b(x)))\n",
    "        x = self.pool(x)\n",
    "\n",
    "        x = F.relu(self.bn3a(self.conv3a(x)))\n",
    "        x = F.relu(self.bn3b(self.conv3b(x)))\n",
    "        x = self.pool(x)\n",
    "\n",
    "        x = F.relu(self.bn4a(self.conv4a(x)))\n",
    "        x = F.relu(self.bn4b(self.conv4b(x)))\n",
    "        x = self.pool(x)\n",
    "        \n",
    "        x = x.view(-1, 512 * 2 * 2)\n",
    "        x = F.relu(self.drop(self.lin1(x)))\n",
    "        x = F.relu(self.drop(self.lin2(x)))\n",
    "        x = self.lin3(x)\n",
    "\n",
    "        return x"
   ]
  },
  {
   "cell_type": "code",
   "execution_count": null,
   "id": "7c25fedc",
   "metadata": {},
   "outputs": [],
   "source": [
    "vggmodel = v"
   ]
  }
 ],
 "metadata": {
  "kernelspec": {
   "display_name": "udacitycvenv",
   "language": "python",
   "name": "udacitycvenv"
  },
  "language_info": {
   "codemirror_mode": {
    "name": "ipython",
    "version": 3
   },
   "file_extension": ".py",
   "mimetype": "text/x-python",
   "name": "python",
   "nbconvert_exporter": "python",
   "pygments_lexer": "ipython3",
   "version": "3.9.0"
  }
 },
 "nbformat": 4,
 "nbformat_minor": 5
}
