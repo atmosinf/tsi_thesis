{
  "nbformat": 4,
  "nbformat_minor": 0,
  "metadata": {
    "colab": {
      "name": "vggnet_test.ipynb",
      "provenance": [],
      "collapsed_sections": []
    },
    "kernelspec": {
      "name": "python3",
      "display_name": "Python 3"
    },
    "language_info": {
      "name": "python"
    },
    "accelerator": "GPU"
  },
  "cells": [
    {
      "cell_type": "markdown",
      "source": [
        "### in this notebook we'll try to use the vggnet model"
      ],
      "metadata": {
        "id": "qe752vrbaJ5r"
      }
    },
    {
      "cell_type": "markdown",
      "source": [
        "vgg model source : github [link](https://github.com/usef-kh/fer/tree/master/models)"
      ],
      "metadata": {
        "id": "_QxiBR-caSF6"
      }
    },
    {
      "cell_type": "code",
      "execution_count": 4,
      "metadata": {
        "id": "A8J0PEm8aDNC"
      },
      "outputs": [],
      "source": [
        "import numpy as np\n",
        "import pandas as pd\n",
        "import matplotlib.pyplot as plt"
      ]
    },
    {
      "cell_type": "code",
      "source": [
        "import torch\n",
        "import torch.nn as nn\n",
        "import torch.nn.functional as F\n",
        "from torch import optim\n",
        "from torchvision import transforms\n",
        "from torch.utils.data import DataLoader, Dataset\n",
        "import os"
      ],
      "metadata": {
        "id": "LS9WW6WIaUHj"
      },
      "execution_count": 59,
      "outputs": []
    },
    {
      "cell_type": "code",
      "source": [
        "class FERdataset(Dataset):\n",
        "    def __init__(self, path_fer2013csv, path_fer2013newcsv):\n",
        "        self.fer2013 = pd.read_csv(path_fer2013csv)\n",
        "        self.fer2013labels = ['angry', 'disgust', 'fear', 'happy', 'sad', 'surprise', 'neutral']\n",
        "        self.fer2013new = pd.read_csv(path_fer2013newcsv)\n",
        "        self.fer2013newlabels = list(self.fer2013new.columns[2:11])\n",
        "        \n",
        "    def __getitem__(self, index):\n",
        "        '''\n",
        "        returns an image and its fer2013new label as tensors\n",
        "        '''\n",
        "        image = self.fer2013['pixels'].iloc[index]\n",
        "        image = np.fromstring(image, sep=' ').reshape(48, 48)\n",
        "        image = torch.tensor(image, dtype=torch.float32) / 255\n",
        "        \n",
        "        label = torch.tensor(self.fer2013new.iloc[index][2:11].values.astype('float32')) / 10\n",
        "        \n",
        "        return image, label\n",
        "        \n",
        "    def __len__(self):\n",
        "        return self.fer2013.shape[0]\n",
        "    "
      ],
      "metadata": {
        "id": "eAIy2ezqaXSt"
      },
      "execution_count": 6,
      "outputs": []
    },
    {
      "cell_type": "code",
      "source": [
        "!unzip data.zip"
      ],
      "metadata": {
        "colab": {
          "base_uri": "https://localhost:8080/"
        },
        "id": "hH4HHbb5ad6Y",
        "outputId": "1171a45c-9751-437e-fbdf-4a3939d85c28"
      },
      "execution_count": 1,
      "outputs": [
        {
          "output_type": "stream",
          "name": "stdout",
          "text": [
            "Archive:  data.zip\n",
            "   creating: data/\n",
            "   creating: data/FERplus/\n",
            "  inflating: data/FERplus/.gitignore  \n",
            "  inflating: data/FERplus/fer2013new.csv  \n",
            "   creating: data/fer2013/\n",
            "  inflating: data/fer2013/.gitignore  \n",
            "  inflating: data/fer2013/fer2013.csv  \n",
            "  inflating: data/fer2013/README     \n",
            "  inflating: data/fer2013/fer2013.bib  \n",
            "  inflating: data/fer2013/README.md  \n"
          ]
        }
      ]
    },
    {
      "cell_type": "code",
      "source": [
        "path_fer2013csv='data/fer2013/fer2013.csv'\n",
        "path_fer2013newcsv='data/FERplus/fer2013new.csv'\n",
        "dataset = FERdataset(path_fer2013csv, path_fer2013newcsv)"
      ],
      "metadata": {
        "id": "6BaD_bQWaZNv"
      },
      "execution_count": 7,
      "outputs": []
    },
    {
      "cell_type": "code",
      "source": [
        "from torch.utils.data import random_split"
      ],
      "metadata": {
        "id": "O1rzf3vdacyc"
      },
      "execution_count": 8,
      "outputs": []
    },
    {
      "cell_type": "code",
      "source": [
        "traindataset, valdataset, testdataset = random_split(dataset, [int(0.6*len(dataset)), int(0.2*len(dataset)), len(dataset) - (int(0.6*len(dataset)) + int(0.2*len(dataset)))], generator=torch.Generator().manual_seed(42))"
      ],
      "metadata": {
        "id": "u0CzyG0Kcs9q"
      },
      "execution_count": 9,
      "outputs": []
    },
    {
      "cell_type": "code",
      "source": [
        "print(f'traindataset length: {len(traindataset)}')\n",
        "print(f'valdataset length: {len(valdataset)}')\n",
        "print(f'testdataset length: {len(testdataset)}')"
      ],
      "metadata": {
        "colab": {
          "base_uri": "https://localhost:8080/"
        },
        "id": "sTaYM3fEcusm",
        "outputId": "f14bffaa-aad8-415f-a61f-fc14c203d83f"
      },
      "execution_count": 10,
      "outputs": [
        {
          "output_type": "stream",
          "name": "stdout",
          "text": [
            "traindataset length: 21532\n",
            "valdataset length: 7177\n",
            "testdataset length: 7178\n"
          ]
        }
      ]
    },
    {
      "cell_type": "code",
      "source": [
        "len(dataset.fer2013newlabels)"
      ],
      "metadata": {
        "colab": {
          "base_uri": "https://localhost:8080/"
        },
        "id": "XXRdd2PPcxJu",
        "outputId": "5aaa5ed8-5067-4e6e-eeca-6e20707a4205"
      },
      "execution_count": 11,
      "outputs": [
        {
          "output_type": "execute_result",
          "data": {
            "text/plain": [
              "9"
            ]
          },
          "metadata": {},
          "execution_count": 11
        }
      ]
    },
    {
      "cell_type": "code",
      "source": [
        "class Vgg(nn.Module):\n",
        "    def __init__(self, drop=0.2):\n",
        "        super().__init__()\n",
        "\n",
        "        self.conv1a = nn.Conv2d(in_channels=1, out_channels=64, kernel_size=3, padding=1)\n",
        "        self.conv1b = nn.Conv2d(64, out_channels=64, kernel_size=3, padding=1)\n",
        "\n",
        "        self.conv2a = nn.Conv2d(64, 128, 3, padding=1)\n",
        "        self.conv2b = nn.Conv2d(128, 128, 3, padding=1)\n",
        "\n",
        "        self.conv3a = nn.Conv2d(128, 256, 3, padding=1)\n",
        "        self.conv3b = nn.Conv2d(256, 256, 3, padding=1)\n",
        "\n",
        "        self.conv4a = nn.Conv2d(256, 512, 3, padding=1)\n",
        "        self.conv4b = nn.Conv2d(512, 512, 3, padding=1)\n",
        "\n",
        "        self.pool = nn.MaxPool2d(kernel_size=2, stride=2)\n",
        "\n",
        "        self.bn1a = nn.BatchNorm2d(64)\n",
        "        self.bn1b = nn.BatchNorm2d(64)\n",
        "\n",
        "        self.bn2a = nn.BatchNorm2d(128)\n",
        "        self.bn2b = nn.BatchNorm2d(128)\n",
        "\n",
        "        self.bn3a = nn.BatchNorm2d(256)\n",
        "        self.bn3b = nn.BatchNorm2d(256)\n",
        "\n",
        "        self.bn4a = nn.BatchNorm2d(512)\n",
        "        self.bn4b = nn.BatchNorm2d(512)\n",
        "\n",
        "        # self.lin1 = nn.Linear(512 * 2 * 2, 4096)\n",
        "        self.lin1 = nn.Linear(512 * 3 * 3, 4096)\n",
        "        self.lin2 = nn.Linear(4096, 4096)\n",
        "\n",
        "        # self.lin3 = nn.Linear(4096, 7)\n",
        "        # output size changed to 9 because we're using the fer plus labels, not the fer 2013 labels\n",
        "        self.lin3 = nn.Linear(4096, 9)\n",
        "\n",
        "        self.drop = nn.Dropout(p=drop)\n",
        "\n",
        "    def forward(self, x):\n",
        "        x = F.relu(self.bn1a(self.conv1a(x)))\n",
        "        x = F.relu(self.bn1b(self.conv1b(x)))\n",
        "        x = self.pool(x)\n",
        "\n",
        "        x = F.relu(self.bn2a(self.conv2a(x)))\n",
        "        x = F.relu(self.bn2b(self.conv2b(x)))\n",
        "        x = self.pool(x)\n",
        "\n",
        "        x = F.relu(self.bn3a(self.conv3a(x)))\n",
        "        x = F.relu(self.bn3b(self.conv3b(x)))\n",
        "        x = self.pool(x)\n",
        "\n",
        "        x = F.relu(self.bn4a(self.conv4a(x)))\n",
        "        x = F.relu(self.bn4b(self.conv4b(x)))\n",
        "        x = self.pool(x)\n",
        "        \n",
        "        # x = x.view(-1, 512 * 2 * 2)\n",
        "        x = torch.flatten(x, 1)\n",
        "        x = F.relu(self.drop(self.lin1(x)))\n",
        "        x = F.relu(self.drop(self.lin2(x)))\n",
        "        x = self.lin3(x)\n",
        "        \n",
        "        return x"
      ],
      "metadata": {
        "id": "WvDejjvKczt0"
      },
      "execution_count": 206,
      "outputs": []
    },
    {
      "cell_type": "code",
      "source": [
        "device = torch.device('cuda' if torch.cuda.is_available() else 'cpu')"
      ],
      "metadata": {
        "id": "QLoKZXK6c3lh"
      },
      "execution_count": 207,
      "outputs": []
    },
    {
      "cell_type": "code",
      "source": [
        "vggmodel = Vgg().to(device)"
      ],
      "metadata": {
        "id": "TI14oi7Sc5ky"
      },
      "execution_count": 208,
      "outputs": []
    },
    {
      "cell_type": "code",
      "source": [
        "vggmodel"
      ],
      "metadata": {
        "colab": {
          "base_uri": "https://localhost:8080/"
        },
        "id": "H4pC84zJc7hw",
        "outputId": "98aac15a-485a-4829-8685-914e2b375179"
      },
      "execution_count": 209,
      "outputs": [
        {
          "output_type": "execute_result",
          "data": {
            "text/plain": [
              "Vgg(\n",
              "  (conv1a): Conv2d(1, 64, kernel_size=(3, 3), stride=(1, 1), padding=(1, 1))\n",
              "  (conv1b): Conv2d(64, 64, kernel_size=(3, 3), stride=(1, 1), padding=(1, 1))\n",
              "  (conv2a): Conv2d(64, 128, kernel_size=(3, 3), stride=(1, 1), padding=(1, 1))\n",
              "  (conv2b): Conv2d(128, 128, kernel_size=(3, 3), stride=(1, 1), padding=(1, 1))\n",
              "  (conv3a): Conv2d(128, 256, kernel_size=(3, 3), stride=(1, 1), padding=(1, 1))\n",
              "  (conv3b): Conv2d(256, 256, kernel_size=(3, 3), stride=(1, 1), padding=(1, 1))\n",
              "  (conv4a): Conv2d(256, 512, kernel_size=(3, 3), stride=(1, 1), padding=(1, 1))\n",
              "  (conv4b): Conv2d(512, 512, kernel_size=(3, 3), stride=(1, 1), padding=(1, 1))\n",
              "  (pool): MaxPool2d(kernel_size=2, stride=2, padding=0, dilation=1, ceil_mode=False)\n",
              "  (bn1a): BatchNorm2d(64, eps=1e-05, momentum=0.1, affine=True, track_running_stats=True)\n",
              "  (bn1b): BatchNorm2d(64, eps=1e-05, momentum=0.1, affine=True, track_running_stats=True)\n",
              "  (bn2a): BatchNorm2d(128, eps=1e-05, momentum=0.1, affine=True, track_running_stats=True)\n",
              "  (bn2b): BatchNorm2d(128, eps=1e-05, momentum=0.1, affine=True, track_running_stats=True)\n",
              "  (bn3a): BatchNorm2d(256, eps=1e-05, momentum=0.1, affine=True, track_running_stats=True)\n",
              "  (bn3b): BatchNorm2d(256, eps=1e-05, momentum=0.1, affine=True, track_running_stats=True)\n",
              "  (bn4a): BatchNorm2d(512, eps=1e-05, momentum=0.1, affine=True, track_running_stats=True)\n",
              "  (bn4b): BatchNorm2d(512, eps=1e-05, momentum=0.1, affine=True, track_running_stats=True)\n",
              "  (lin1): Linear(in_features=4608, out_features=4096, bias=True)\n",
              "  (lin2): Linear(in_features=4096, out_features=4096, bias=True)\n",
              "  (lin3): Linear(in_features=4096, out_features=9, bias=True)\n",
              "  (drop): Dropout(p=0.2, inplace=False)\n",
              ")"
            ]
          },
          "metadata": {},
          "execution_count": 209
        }
      ]
    },
    {
      "cell_type": "code",
      "source": [
        "torch.cuda.is_available()"
      ],
      "metadata": {
        "colab": {
          "base_uri": "https://localhost:8080/"
        },
        "id": "v8Bm4h24c-bB",
        "outputId": "f9b8f595-c1ed-45b7-b353-f0f1518c6596"
      },
      "execution_count": 210,
      "outputs": [
        {
          "output_type": "execute_result",
          "data": {
            "text/plain": [
              "True"
            ]
          },
          "metadata": {},
          "execution_count": 210
        }
      ]
    },
    {
      "cell_type": "code",
      "source": [
        "# parameters\n",
        "epochs = 20\n",
        "batch_size = 100"
      ],
      "metadata": {
        "id": "frApCVfodBQF"
      },
      "execution_count": 211,
      "outputs": []
    },
    {
      "cell_type": "code",
      "source": [
        "trainloader = DataLoader(traindataset, batch_size, shuffle=True)\n",
        "valloader = DataLoader(valdataset, batch_size, shuffle=True)"
      ],
      "metadata": {
        "id": "knn46fGjdQgp"
      },
      "execution_count": 212,
      "outputs": []
    },
    {
      "cell_type": "code",
      "source": [
        "criterion = nn.CrossEntropyLoss()\n",
        "optimizer = optim.Adam(vggmodel.parameters())"
      ],
      "metadata": {
        "id": "Z2tj5lU9dWtI"
      },
      "execution_count": 213,
      "outputs": []
    },
    {
      "cell_type": "code",
      "source": [
        "from sklearn.metrics import accuracy_score, confusion_matrix\n",
        "import seaborn as sns"
      ],
      "metadata": {
        "id": "cRTyITkMkiC5"
      },
      "execution_count": 214,
      "outputs": []
    },
    {
      "cell_type": "code",
      "source": [
        "running_loss = []\n",
        "running_val_loss = []\n",
        "alltrainacc = []\n",
        "allvalacc = []\n",
        "\n",
        "print_every = 20\n",
        "for e in range(epochs):\n",
        "    for i,(images, labels) in enumerate(trainloader):\n",
        "        vggmodel.train()\n",
        "        images.unsqueeze_(1)\n",
        "        images = images.to(device)\n",
        "        labels = labels.to(device)\n",
        "\n",
        "        optimizer.zero_grad()\n",
        "        output = vggmodel(images)\n",
        "        loss = criterion(output, labels)\n",
        "        loss.backward()\n",
        "        optimizer.step()\n",
        "\n",
        "        running_loss.append(loss.item())\n",
        "        \n",
        "        if i%print_every == 0:\n",
        "            # torch.save(vggmodel.state_dict(), os.path.join('/models', 'decoder-%d.pkl' % i))\n",
        "            vggmodel.eval()\n",
        "            with torch.no_grad():\n",
        "                for j,(valimages, vallabels) in enumerate(valloader):\n",
        "                    val_loss_list = []\n",
        "                    valimages.unsqueeze_(1)\n",
        "                    valimages = valimages.to(device)\n",
        "                    vallabels = vallabels.to(device)\n",
        "                    \n",
        "                    val_output = vggmodel(valimages)\n",
        "                    val_loss = criterion(val_output, vallabels)\n",
        "\n",
        "                    val_loss_list.append(val_loss.item())\n",
        "                    \n",
        "                    # to calculate training accuracy\n",
        "                    trueargmax = torch.argmax(labels, dim=1)\n",
        "                    truelabels = trueargmax.cpu().detach().numpy()\n",
        "                    predargmax = torch.argmax(output, dim=1)\n",
        "                    predlabels = predargmax.cpu().detach().numpy()\n",
        "                    \n",
        "                    # to calculate validation accuracy\n",
        "                    valtrueargmax = torch.argmax(vallabels, dim=1)\n",
        "                    valtruelabels = valtrueargmax.cpu().detach().numpy()\n",
        "                    valpredargmax = torch.argmax(val_output, dim=1)\n",
        "                    valpredlabels = valpredargmax.cpu().detach().numpy()                    \n",
        "\n",
        "                val_loss_avg = sum(val_loss_list) / len(val_loss_list)\n",
        "                \n",
        "            # calculate training and validation accuracy\n",
        "            batchtrainacc = accuracy_score(truelabels, predlabels)\n",
        "            batchvalacc = accuracy_score(valtruelabels, valpredlabels)\n",
        "            \n",
        "            # store the training and validation accuracies \n",
        "            alltrainacc.append(batchtrainacc)\n",
        "            allvalacc.append(batchvalacc)\n",
        "\n",
        "            running_val_loss.append(val_loss_avg)\n",
        "            print(f'epoch: {e}, iteration: {i}, loss: {loss.item():.5f}, val_loss: {val_loss_avg:.5f}, acc: {batchtrainacc:.5f}, val_acc: {batchvalacc:.5f}')"
      ],
      "metadata": {
        "colab": {
          "base_uri": "https://localhost:8080/"
        },
        "id": "joa-1_FTdYzY",
        "outputId": "05dcc557-6039-45fd-eacb-4f0d69f01788"
      },
      "execution_count": 215,
      "outputs": [
        {
          "output_type": "stream",
          "name": "stdout",
          "text": [
            "epoch: 0, iteration: 0, loss: 2.13360, val_loss: 1.88711, acc: 0.17000, val_acc: 0.33766\n",
            "epoch: 0, iteration: 20, loss: 1.92305, val_loss: 1.93725, acc: 0.28000, val_acc: 0.35065\n",
            "epoch: 0, iteration: 40, loss: 1.75487, val_loss: 1.75662, acc: 0.50000, val_acc: 0.40260\n",
            "epoch: 0, iteration: 60, loss: 1.81430, val_loss: 1.81121, acc: 0.34000, val_acc: 0.36364\n",
            "epoch: 0, iteration: 80, loss: 1.82962, val_loss: 1.83613, acc: 0.31000, val_acc: 0.32468\n",
            "epoch: 0, iteration: 100, loss: 1.80246, val_loss: 1.76028, acc: 0.34000, val_acc: 0.29870\n",
            "epoch: 0, iteration: 120, loss: 1.78291, val_loss: 1.80340, acc: 0.44000, val_acc: 0.41558\n",
            "epoch: 0, iteration: 140, loss: 1.80686, val_loss: 1.78983, acc: 0.35000, val_acc: 0.49351\n",
            "epoch: 0, iteration: 160, loss: 1.70550, val_loss: 1.82589, acc: 0.41000, val_acc: 0.40260\n",
            "epoch: 0, iteration: 180, loss: 1.86605, val_loss: 1.87392, acc: 0.24000, val_acc: 0.35065\n",
            "epoch: 0, iteration: 200, loss: 1.76553, val_loss: 1.89477, acc: 0.35000, val_acc: 0.38961\n",
            "epoch: 1, iteration: 0, loss: 1.81284, val_loss: 1.78496, acc: 0.29000, val_acc: 0.48052\n",
            "epoch: 1, iteration: 20, loss: 1.78345, val_loss: 1.82303, acc: 0.26000, val_acc: 0.33766\n",
            "epoch: 1, iteration: 40, loss: 1.73027, val_loss: 1.82520, acc: 0.37000, val_acc: 0.38961\n",
            "epoch: 1, iteration: 60, loss: 1.88679, val_loss: 1.78237, acc: 0.35000, val_acc: 0.33766\n",
            "epoch: 1, iteration: 80, loss: 1.86147, val_loss: 1.91525, acc: 0.37000, val_acc: 0.38961\n",
            "epoch: 1, iteration: 100, loss: 1.79105, val_loss: 1.67636, acc: 0.29000, val_acc: 0.29870\n",
            "epoch: 1, iteration: 120, loss: 1.90529, val_loss: 1.74422, acc: 0.35000, val_acc: 0.36364\n",
            "epoch: 1, iteration: 140, loss: 1.76824, val_loss: 1.81615, acc: 0.41000, val_acc: 0.29870\n",
            "epoch: 1, iteration: 160, loss: 1.82220, val_loss: 1.63269, acc: 0.45000, val_acc: 0.46753\n",
            "epoch: 1, iteration: 180, loss: 1.75474, val_loss: 1.68446, acc: 0.44000, val_acc: 0.37662\n",
            "epoch: 1, iteration: 200, loss: 1.60442, val_loss: 2.05724, acc: 0.41000, val_acc: 0.29870\n",
            "epoch: 2, iteration: 0, loss: 1.66792, val_loss: 1.89383, acc: 0.45000, val_acc: 0.41558\n",
            "epoch: 2, iteration: 20, loss: 1.83484, val_loss: 1.91206, acc: 0.33000, val_acc: 0.24675\n",
            "epoch: 2, iteration: 40, loss: 1.75250, val_loss: 1.80861, acc: 0.34000, val_acc: 0.36364\n",
            "epoch: 2, iteration: 60, loss: 1.81270, val_loss: 1.72717, acc: 0.35000, val_acc: 0.44156\n",
            "epoch: 2, iteration: 80, loss: 1.77500, val_loss: 1.80611, acc: 0.39000, val_acc: 0.31169\n",
            "epoch: 2, iteration: 100, loss: 1.73338, val_loss: 1.97801, acc: 0.25000, val_acc: 0.28571\n",
            "epoch: 2, iteration: 120, loss: 1.72602, val_loss: 1.89621, acc: 0.41000, val_acc: 0.36364\n",
            "epoch: 2, iteration: 140, loss: 1.84992, val_loss: 1.81029, acc: 0.36000, val_acc: 0.33766\n",
            "epoch: 2, iteration: 160, loss: 1.65199, val_loss: 1.59326, acc: 0.52000, val_acc: 0.49351\n",
            "epoch: 2, iteration: 180, loss: 1.64203, val_loss: 1.71020, acc: 0.53000, val_acc: 0.36364\n",
            "epoch: 2, iteration: 200, loss: 1.63278, val_loss: 1.65094, acc: 0.48000, val_acc: 0.55844\n",
            "epoch: 3, iteration: 0, loss: 1.50649, val_loss: 1.74658, acc: 0.62000, val_acc: 0.40260\n",
            "epoch: 3, iteration: 20, loss: 1.56508, val_loss: 1.70369, acc: 0.55000, val_acc: 0.57143\n",
            "epoch: 3, iteration: 40, loss: 1.55224, val_loss: 1.58800, acc: 0.52000, val_acc: 0.49351\n",
            "epoch: 3, iteration: 60, loss: 1.54616, val_loss: 1.54095, acc: 0.56000, val_acc: 0.50649\n",
            "epoch: 3, iteration: 80, loss: 1.44813, val_loss: 1.55081, acc: 0.64000, val_acc: 0.50649\n",
            "epoch: 3, iteration: 100, loss: 1.54798, val_loss: 1.42566, acc: 0.55000, val_acc: 0.63636\n",
            "epoch: 3, iteration: 120, loss: 1.34599, val_loss: 1.52834, acc: 0.65000, val_acc: 0.55844\n",
            "epoch: 3, iteration: 140, loss: 1.44435, val_loss: 1.56842, acc: 0.67000, val_acc: 0.62338\n",
            "epoch: 3, iteration: 160, loss: 1.46748, val_loss: 1.64960, acc: 0.65000, val_acc: 0.57143\n",
            "epoch: 3, iteration: 180, loss: 1.38461, val_loss: 1.41743, acc: 0.62000, val_acc: 0.59740\n",
            "epoch: 3, iteration: 200, loss: 1.32140, val_loss: 1.38381, acc: 0.62000, val_acc: 0.61039\n",
            "epoch: 4, iteration: 0, loss: 1.40293, val_loss: 1.35623, acc: 0.67000, val_acc: 0.61039\n",
            "epoch: 4, iteration: 20, loss: 1.21427, val_loss: 1.46389, acc: 0.73000, val_acc: 0.57143\n",
            "epoch: 4, iteration: 40, loss: 1.38464, val_loss: 1.22133, acc: 0.61000, val_acc: 0.63636\n",
            "epoch: 4, iteration: 60, loss: 1.43729, val_loss: 1.45378, acc: 0.63000, val_acc: 0.62338\n",
            "epoch: 4, iteration: 80, loss: 1.38411, val_loss: 1.24333, acc: 0.65000, val_acc: 0.77922\n",
            "epoch: 4, iteration: 100, loss: 1.19215, val_loss: 1.36030, acc: 0.70000, val_acc: 0.61039\n",
            "epoch: 4, iteration: 120, loss: 1.13540, val_loss: 1.24379, acc: 0.70000, val_acc: 0.68831\n",
            "epoch: 4, iteration: 140, loss: 1.23802, val_loss: 1.46289, acc: 0.69000, val_acc: 0.51948\n",
            "epoch: 4, iteration: 160, loss: 1.35995, val_loss: 1.13335, acc: 0.66000, val_acc: 0.68831\n",
            "epoch: 4, iteration: 180, loss: 1.21748, val_loss: 1.17731, acc: 0.69000, val_acc: 0.68831\n",
            "epoch: 4, iteration: 200, loss: 1.14357, val_loss: 1.34243, acc: 0.75000, val_acc: 0.70130\n",
            "epoch: 5, iteration: 0, loss: 1.24160, val_loss: 1.19244, acc: 0.65000, val_acc: 0.79221\n",
            "epoch: 5, iteration: 20, loss: 1.14219, val_loss: 1.31174, acc: 0.68000, val_acc: 0.66234\n",
            "epoch: 5, iteration: 40, loss: 1.28965, val_loss: 1.16307, acc: 0.66000, val_acc: 0.80519\n",
            "epoch: 5, iteration: 60, loss: 1.06501, val_loss: 1.27033, acc: 0.73000, val_acc: 0.72727\n",
            "epoch: 5, iteration: 80, loss: 1.34608, val_loss: 1.28449, acc: 0.60000, val_acc: 0.63636\n",
            "epoch: 5, iteration: 100, loss: 1.18037, val_loss: 1.23546, acc: 0.64000, val_acc: 0.71429\n",
            "epoch: 5, iteration: 120, loss: 1.21447, val_loss: 1.15892, acc: 0.70000, val_acc: 0.71429\n",
            "epoch: 5, iteration: 140, loss: 1.20505, val_loss: 1.09732, acc: 0.67000, val_acc: 0.74026\n",
            "epoch: 5, iteration: 160, loss: 1.16022, val_loss: 1.18269, acc: 0.70000, val_acc: 0.72727\n",
            "epoch: 5, iteration: 180, loss: 1.18735, val_loss: 1.25894, acc: 0.67000, val_acc: 0.58442\n",
            "epoch: 5, iteration: 200, loss: 1.17596, val_loss: 1.12033, acc: 0.74000, val_acc: 0.76623\n",
            "epoch: 6, iteration: 0, loss: 1.18220, val_loss: 1.09043, acc: 0.69000, val_acc: 0.80519\n",
            "epoch: 6, iteration: 20, loss: 1.16038, val_loss: 1.09009, acc: 0.72000, val_acc: 0.77922\n",
            "epoch: 6, iteration: 40, loss: 1.25577, val_loss: 1.21242, acc: 0.70000, val_acc: 0.70130\n",
            "epoch: 6, iteration: 60, loss: 1.19118, val_loss: 1.23421, acc: 0.71000, val_acc: 0.63636\n",
            "epoch: 6, iteration: 80, loss: 1.09363, val_loss: 1.35548, acc: 0.71000, val_acc: 0.62338\n",
            "epoch: 6, iteration: 100, loss: 1.15452, val_loss: 1.21579, acc: 0.76000, val_acc: 0.76623\n",
            "epoch: 6, iteration: 120, loss: 1.25546, val_loss: 1.19456, acc: 0.69000, val_acc: 0.66234\n",
            "epoch: 6, iteration: 140, loss: 1.00926, val_loss: 1.09966, acc: 0.77000, val_acc: 0.77922\n",
            "epoch: 6, iteration: 160, loss: 1.09406, val_loss: 1.14869, acc: 0.75000, val_acc: 0.75325\n",
            "epoch: 6, iteration: 180, loss: 1.18019, val_loss: 1.14379, acc: 0.73000, val_acc: 0.75325\n",
            "epoch: 6, iteration: 200, loss: 1.08485, val_loss: 1.17149, acc: 0.73000, val_acc: 0.76623\n",
            "epoch: 7, iteration: 0, loss: 1.05297, val_loss: 1.21978, acc: 0.73000, val_acc: 0.71429\n",
            "epoch: 7, iteration: 20, loss: 1.23568, val_loss: 1.17806, acc: 0.71000, val_acc: 0.70130\n",
            "epoch: 7, iteration: 40, loss: 1.18579, val_loss: 1.18140, acc: 0.69000, val_acc: 0.74026\n",
            "epoch: 7, iteration: 60, loss: 1.19567, val_loss: 1.20366, acc: 0.67000, val_acc: 0.66234\n",
            "epoch: 7, iteration: 80, loss: 1.12837, val_loss: 1.24966, acc: 0.71000, val_acc: 0.68831\n",
            "epoch: 7, iteration: 100, loss: 1.14221, val_loss: 1.11206, acc: 0.72000, val_acc: 0.74026\n",
            "epoch: 7, iteration: 120, loss: 1.13066, val_loss: 1.20400, acc: 0.75000, val_acc: 0.67532\n",
            "epoch: 7, iteration: 140, loss: 1.16835, val_loss: 1.13409, acc: 0.74000, val_acc: 0.79221\n",
            "epoch: 7, iteration: 160, loss: 1.14140, val_loss: 1.21966, acc: 0.74000, val_acc: 0.76623\n",
            "epoch: 7, iteration: 180, loss: 1.23744, val_loss: 1.20321, acc: 0.74000, val_acc: 0.77922\n",
            "epoch: 7, iteration: 200, loss: 1.20303, val_loss: 1.14688, acc: 0.77000, val_acc: 0.76623\n",
            "epoch: 8, iteration: 0, loss: 0.99743, val_loss: 1.14018, acc: 0.79000, val_acc: 0.72727\n",
            "epoch: 8, iteration: 20, loss: 1.21130, val_loss: 1.09047, acc: 0.74000, val_acc: 0.67532\n",
            "epoch: 8, iteration: 40, loss: 0.95406, val_loss: 1.18891, acc: 0.80000, val_acc: 0.67532\n",
            "epoch: 8, iteration: 60, loss: 0.91153, val_loss: 1.11317, acc: 0.77000, val_acc: 0.75325\n",
            "epoch: 8, iteration: 80, loss: 1.08001, val_loss: 1.25227, acc: 0.76000, val_acc: 0.70130\n",
            "epoch: 8, iteration: 100, loss: 1.04017, val_loss: 1.10862, acc: 0.81000, val_acc: 0.81818\n",
            "epoch: 8, iteration: 120, loss: 1.12725, val_loss: 0.96149, acc: 0.81000, val_acc: 0.85714\n",
            "epoch: 8, iteration: 140, loss: 1.08557, val_loss: 1.16013, acc: 0.81000, val_acc: 0.70130\n",
            "epoch: 8, iteration: 160, loss: 1.03885, val_loss: 1.14554, acc: 0.79000, val_acc: 0.77922\n",
            "epoch: 8, iteration: 180, loss: 1.04392, val_loss: 0.99324, acc: 0.83000, val_acc: 0.81818\n",
            "epoch: 8, iteration: 200, loss: 1.01945, val_loss: 1.19439, acc: 0.78000, val_acc: 0.72727\n",
            "epoch: 9, iteration: 0, loss: 1.19958, val_loss: 1.24785, acc: 0.67000, val_acc: 0.66234\n",
            "epoch: 9, iteration: 20, loss: 1.11801, val_loss: 1.16089, acc: 0.77000, val_acc: 0.74026\n",
            "epoch: 9, iteration: 40, loss: 1.01032, val_loss: 1.11475, acc: 0.78000, val_acc: 0.81818\n",
            "epoch: 9, iteration: 60, loss: 1.04189, val_loss: 1.06632, acc: 0.76000, val_acc: 0.77922\n",
            "epoch: 9, iteration: 80, loss: 1.03191, val_loss: 1.09810, acc: 0.77000, val_acc: 0.70130\n",
            "epoch: 9, iteration: 100, loss: 1.14691, val_loss: 1.24605, acc: 0.74000, val_acc: 0.72727\n",
            "epoch: 9, iteration: 120, loss: 1.23355, val_loss: 1.08153, acc: 0.73000, val_acc: 0.75325\n",
            "epoch: 9, iteration: 140, loss: 1.09579, val_loss: 1.23630, acc: 0.76000, val_acc: 0.68831\n",
            "epoch: 9, iteration: 160, loss: 1.06374, val_loss: 1.08193, acc: 0.75000, val_acc: 0.70130\n",
            "epoch: 9, iteration: 180, loss: 1.01685, val_loss: 1.21306, acc: 0.76000, val_acc: 0.68831\n",
            "epoch: 9, iteration: 200, loss: 1.13820, val_loss: 1.20782, acc: 0.75000, val_acc: 0.72727\n",
            "epoch: 10, iteration: 0, loss: 1.06853, val_loss: 1.24014, acc: 0.73000, val_acc: 0.71429\n",
            "epoch: 10, iteration: 20, loss: 1.07541, val_loss: 1.31752, acc: 0.81000, val_acc: 0.72727\n",
            "epoch: 10, iteration: 40, loss: 0.94401, val_loss: 1.18983, acc: 0.84000, val_acc: 0.77922\n",
            "epoch: 10, iteration: 60, loss: 0.90766, val_loss: 1.16756, acc: 0.84000, val_acc: 0.72727\n",
            "epoch: 10, iteration: 80, loss: 1.01209, val_loss: 1.04316, acc: 0.83000, val_acc: 0.72727\n",
            "epoch: 10, iteration: 100, loss: 1.10419, val_loss: 1.19998, acc: 0.76000, val_acc: 0.71429\n",
            "epoch: 10, iteration: 120, loss: 0.94955, val_loss: 1.14158, acc: 0.85000, val_acc: 0.74026\n",
            "epoch: 10, iteration: 140, loss: 0.94665, val_loss: 1.17910, acc: 0.85000, val_acc: 0.76623\n",
            "epoch: 10, iteration: 160, loss: 1.07371, val_loss: 1.12243, acc: 0.79000, val_acc: 0.76623\n",
            "epoch: 10, iteration: 180, loss: 1.09642, val_loss: 1.28209, acc: 0.75000, val_acc: 0.74026\n",
            "epoch: 10, iteration: 200, loss: 1.00121, val_loss: 1.21902, acc: 0.78000, val_acc: 0.67532\n",
            "epoch: 11, iteration: 0, loss: 0.99593, val_loss: 1.14770, acc: 0.80000, val_acc: 0.74026\n",
            "epoch: 11, iteration: 20, loss: 1.08151, val_loss: 1.35458, acc: 0.78000, val_acc: 0.66234\n",
            "epoch: 11, iteration: 40, loss: 0.97228, val_loss: 1.13766, acc: 0.82000, val_acc: 0.74026\n",
            "epoch: 11, iteration: 60, loss: 0.92622, val_loss: 1.10253, acc: 0.85000, val_acc: 0.79221\n",
            "epoch: 11, iteration: 80, loss: 1.07234, val_loss: 1.12840, acc: 0.77000, val_acc: 0.74026\n",
            "epoch: 11, iteration: 100, loss: 1.01407, val_loss: 1.06327, acc: 0.81000, val_acc: 0.84416\n",
            "epoch: 11, iteration: 120, loss: 1.03270, val_loss: 1.06792, acc: 0.81000, val_acc: 0.81818\n",
            "epoch: 11, iteration: 140, loss: 0.90741, val_loss: 1.15886, acc: 0.81000, val_acc: 0.68831\n",
            "epoch: 11, iteration: 160, loss: 0.96347, val_loss: 1.17561, acc: 0.83000, val_acc: 0.63636\n",
            "epoch: 11, iteration: 180, loss: 1.00096, val_loss: 1.04215, acc: 0.87000, val_acc: 0.83117\n",
            "epoch: 11, iteration: 200, loss: 1.01086, val_loss: 1.18397, acc: 0.82000, val_acc: 0.74026\n",
            "epoch: 12, iteration: 0, loss: 0.99208, val_loss: 1.12907, acc: 0.84000, val_acc: 0.68831\n",
            "epoch: 12, iteration: 20, loss: 0.99014, val_loss: 1.09395, acc: 0.83000, val_acc: 0.79221\n",
            "epoch: 12, iteration: 40, loss: 1.01979, val_loss: 1.00489, acc: 0.80000, val_acc: 0.75325\n",
            "epoch: 12, iteration: 60, loss: 0.89752, val_loss: 1.01569, acc: 0.82000, val_acc: 0.79221\n",
            "epoch: 12, iteration: 80, loss: 0.89241, val_loss: 1.25171, acc: 0.86000, val_acc: 0.67532\n",
            "epoch: 12, iteration: 100, loss: 0.94258, val_loss: 1.08359, acc: 0.85000, val_acc: 0.74026\n",
            "epoch: 12, iteration: 120, loss: 1.19855, val_loss: 1.00663, acc: 0.71000, val_acc: 0.74026\n",
            "epoch: 12, iteration: 140, loss: 1.06609, val_loss: 1.06568, acc: 0.77000, val_acc: 0.75325\n",
            "epoch: 12, iteration: 160, loss: 1.04462, val_loss: 0.98071, acc: 0.83000, val_acc: 0.75325\n",
            "epoch: 12, iteration: 180, loss: 1.11569, val_loss: 1.02560, acc: 0.76000, val_acc: 0.72727\n",
            "epoch: 12, iteration: 200, loss: 1.02323, val_loss: 1.01869, acc: 0.85000, val_acc: 0.71429\n",
            "epoch: 13, iteration: 0, loss: 0.88963, val_loss: 0.96144, acc: 0.85000, val_acc: 0.81818\n",
            "epoch: 13, iteration: 20, loss: 0.91537, val_loss: 1.10567, acc: 0.88000, val_acc: 0.75325\n",
            "epoch: 13, iteration: 40, loss: 0.92664, val_loss: 1.06942, acc: 0.81000, val_acc: 0.80519\n",
            "epoch: 13, iteration: 60, loss: 1.01484, val_loss: 0.91991, acc: 0.73000, val_acc: 0.79221\n",
            "epoch: 13, iteration: 80, loss: 0.85422, val_loss: 1.06290, acc: 0.88000, val_acc: 0.80519\n",
            "epoch: 13, iteration: 100, loss: 0.95367, val_loss: 1.11901, acc: 0.84000, val_acc: 0.70130\n",
            "epoch: 13, iteration: 120, loss: 1.04552, val_loss: 1.07622, acc: 0.80000, val_acc: 0.76623\n",
            "epoch: 13, iteration: 140, loss: 1.01629, val_loss: 1.24600, acc: 0.85000, val_acc: 0.71429\n",
            "epoch: 13, iteration: 160, loss: 0.87908, val_loss: 1.24746, acc: 0.83000, val_acc: 0.70130\n",
            "epoch: 13, iteration: 180, loss: 0.95712, val_loss: 1.08165, acc: 0.81000, val_acc: 0.81818\n",
            "epoch: 13, iteration: 200, loss: 0.98583, val_loss: 1.09730, acc: 0.86000, val_acc: 0.79221\n",
            "epoch: 14, iteration: 0, loss: 0.89569, val_loss: 1.13935, acc: 0.86000, val_acc: 0.75325\n",
            "epoch: 14, iteration: 20, loss: 0.91436, val_loss: 1.18560, acc: 0.89000, val_acc: 0.63636\n",
            "epoch: 14, iteration: 40, loss: 0.74963, val_loss: 1.11142, acc: 0.90000, val_acc: 0.77922\n",
            "epoch: 14, iteration: 60, loss: 1.03563, val_loss: 0.95125, acc: 0.84000, val_acc: 0.79221\n",
            "epoch: 14, iteration: 80, loss: 0.98972, val_loss: 1.07310, acc: 0.85000, val_acc: 0.79221\n",
            "epoch: 14, iteration: 100, loss: 0.97236, val_loss: 0.97618, acc: 0.87000, val_acc: 0.81818\n",
            "epoch: 14, iteration: 120, loss: 0.99976, val_loss: 0.98748, acc: 0.84000, val_acc: 0.85714\n",
            "epoch: 14, iteration: 140, loss: 1.03129, val_loss: 1.14527, acc: 0.78000, val_acc: 0.76623\n",
            "epoch: 14, iteration: 160, loss: 1.04497, val_loss: 1.04360, acc: 0.78000, val_acc: 0.75325\n",
            "epoch: 14, iteration: 180, loss: 1.01067, val_loss: 1.15976, acc: 0.82000, val_acc: 0.71429\n",
            "epoch: 14, iteration: 200, loss: 0.89160, val_loss: 1.08259, acc: 0.89000, val_acc: 0.74026\n",
            "epoch: 15, iteration: 0, loss: 1.06041, val_loss: 1.04393, acc: 0.82000, val_acc: 0.77922\n",
            "epoch: 15, iteration: 20, loss: 1.03362, val_loss: 0.95619, acc: 0.81000, val_acc: 0.70130\n",
            "epoch: 15, iteration: 40, loss: 0.87134, val_loss: 1.05980, acc: 0.89000, val_acc: 0.70130\n",
            "epoch: 15, iteration: 60, loss: 0.90399, val_loss: 1.12847, acc: 0.84000, val_acc: 0.79221\n",
            "epoch: 15, iteration: 80, loss: 0.96025, val_loss: 1.18691, acc: 0.88000, val_acc: 0.79221\n",
            "epoch: 15, iteration: 100, loss: 0.94226, val_loss: 1.05841, acc: 0.85000, val_acc: 0.79221\n",
            "epoch: 15, iteration: 120, loss: 0.95737, val_loss: 1.09238, acc: 0.88000, val_acc: 0.75325\n",
            "epoch: 15, iteration: 140, loss: 1.12282, val_loss: 0.96587, acc: 0.79000, val_acc: 0.83117\n",
            "epoch: 15, iteration: 160, loss: 0.89390, val_loss: 0.98395, acc: 0.83000, val_acc: 0.81818\n",
            "epoch: 15, iteration: 180, loss: 1.03397, val_loss: 0.99235, acc: 0.80000, val_acc: 0.81818\n",
            "epoch: 15, iteration: 200, loss: 0.97964, val_loss: 1.29309, acc: 0.86000, val_acc: 0.63636\n",
            "epoch: 16, iteration: 0, loss: 0.84317, val_loss: 1.03628, acc: 0.91000, val_acc: 0.74026\n",
            "epoch: 16, iteration: 20, loss: 0.88895, val_loss: 1.07206, acc: 0.87000, val_acc: 0.84416\n",
            "epoch: 16, iteration: 40, loss: 0.89666, val_loss: 0.95252, acc: 0.83000, val_acc: 0.81818\n",
            "epoch: 16, iteration: 60, loss: 0.90751, val_loss: 1.09701, acc: 0.90000, val_acc: 0.75325\n",
            "epoch: 16, iteration: 80, loss: 1.06850, val_loss: 1.06373, acc: 0.86000, val_acc: 0.81818\n",
            "epoch: 16, iteration: 100, loss: 0.93659, val_loss: 1.13554, acc: 0.86000, val_acc: 0.71429\n",
            "epoch: 16, iteration: 120, loss: 0.82669, val_loss: 0.97832, acc: 0.88000, val_acc: 0.83117\n",
            "epoch: 16, iteration: 140, loss: 0.91880, val_loss: 1.23308, acc: 0.76000, val_acc: 0.75325\n",
            "epoch: 16, iteration: 160, loss: 0.98485, val_loss: 0.97934, acc: 0.82000, val_acc: 0.77922\n",
            "epoch: 16, iteration: 180, loss: 0.84196, val_loss: 1.01942, acc: 0.90000, val_acc: 0.79221\n",
            "epoch: 16, iteration: 200, loss: 0.93562, val_loss: 1.14563, acc: 0.86000, val_acc: 0.77922\n",
            "epoch: 17, iteration: 0, loss: 0.90689, val_loss: 1.02621, acc: 0.83000, val_acc: 0.80519\n",
            "epoch: 17, iteration: 20, loss: 0.98542, val_loss: 1.03639, acc: 0.86000, val_acc: 0.79221\n",
            "epoch: 17, iteration: 40, loss: 0.89436, val_loss: 1.03932, acc: 0.84000, val_acc: 0.68831\n",
            "epoch: 17, iteration: 60, loss: 0.92216, val_loss: 1.05219, acc: 0.86000, val_acc: 0.74026\n",
            "epoch: 17, iteration: 80, loss: 1.00895, val_loss: 1.07959, acc: 0.81000, val_acc: 0.79221\n",
            "epoch: 17, iteration: 100, loss: 0.87974, val_loss: 1.14615, acc: 0.94000, val_acc: 0.77922\n",
            "epoch: 17, iteration: 120, loss: 0.87640, val_loss: 1.13697, acc: 0.91000, val_acc: 0.74026\n",
            "epoch: 17, iteration: 140, loss: 0.87777, val_loss: 1.07237, acc: 0.86000, val_acc: 0.68831\n",
            "epoch: 17, iteration: 160, loss: 0.95040, val_loss: 0.92911, acc: 0.88000, val_acc: 0.81818\n",
            "epoch: 17, iteration: 180, loss: 0.92095, val_loss: 0.87645, acc: 0.86000, val_acc: 0.89610\n",
            "epoch: 17, iteration: 200, loss: 0.96173, val_loss: 1.13231, acc: 0.84000, val_acc: 0.70130\n",
            "epoch: 18, iteration: 0, loss: 0.75089, val_loss: 1.04566, acc: 0.90000, val_acc: 0.75325\n",
            "epoch: 18, iteration: 20, loss: 0.85210, val_loss: 0.97453, acc: 0.82000, val_acc: 0.80519\n",
            "epoch: 18, iteration: 40, loss: 0.93589, val_loss: 1.16445, acc: 0.89000, val_acc: 0.75325\n",
            "epoch: 18, iteration: 60, loss: 0.93375, val_loss: 0.99163, acc: 0.89000, val_acc: 0.85714\n",
            "epoch: 18, iteration: 80, loss: 0.79019, val_loss: 0.85016, acc: 0.89000, val_acc: 0.80519\n",
            "epoch: 18, iteration: 100, loss: 0.99550, val_loss: 1.20205, acc: 0.87000, val_acc: 0.72727\n",
            "epoch: 18, iteration: 120, loss: 0.84251, val_loss: 0.89204, acc: 0.88000, val_acc: 0.79221\n",
            "epoch: 18, iteration: 140, loss: 0.98945, val_loss: 1.14703, acc: 0.89000, val_acc: 0.68831\n",
            "epoch: 18, iteration: 160, loss: 0.92380, val_loss: 1.03555, acc: 0.89000, val_acc: 0.81818\n",
            "epoch: 18, iteration: 180, loss: 0.89564, val_loss: 0.97451, acc: 0.81000, val_acc: 0.83117\n",
            "epoch: 18, iteration: 200, loss: 0.83907, val_loss: 1.03171, acc: 0.89000, val_acc: 0.71429\n",
            "epoch: 19, iteration: 0, loss: 0.94935, val_loss: 0.92230, acc: 0.81000, val_acc: 0.89610\n",
            "epoch: 19, iteration: 20, loss: 0.96255, val_loss: 1.21519, acc: 0.82000, val_acc: 0.75325\n",
            "epoch: 19, iteration: 40, loss: 0.83960, val_loss: 1.21463, acc: 0.89000, val_acc: 0.72727\n",
            "epoch: 19, iteration: 60, loss: 0.93124, val_loss: 1.05624, acc: 0.89000, val_acc: 0.81818\n",
            "epoch: 19, iteration: 80, loss: 0.92632, val_loss: 1.00069, acc: 0.92000, val_acc: 0.83117\n",
            "epoch: 19, iteration: 100, loss: 0.83703, val_loss: 1.02492, acc: 0.93000, val_acc: 0.77922\n",
            "epoch: 19, iteration: 120, loss: 0.79779, val_loss: 1.01042, acc: 0.87000, val_acc: 0.75325\n",
            "epoch: 19, iteration: 140, loss: 0.83696, val_loss: 0.96316, acc: 0.91000, val_acc: 0.81818\n",
            "epoch: 19, iteration: 160, loss: 0.96655, val_loss: 1.04202, acc: 0.84000, val_acc: 0.80519\n",
            "epoch: 19, iteration: 180, loss: 0.90101, val_loss: 0.94123, acc: 0.85000, val_acc: 0.88312\n",
            "epoch: 19, iteration: 200, loss: 0.89208, val_loss: 1.11977, acc: 0.89000, val_acc: 0.77922\n"
          ]
        }
      ]
    },
    {
      "cell_type": "code",
      "source": [
        "ind = 10\n",
        "plt.plot(np.arange(len(running_loss[ind:])), running_loss[ind:], label='training loss')\n",
        "plt.plot(np.arange(len(running_val_loss[ind:]))*print_every, running_val_loss[10:], label='validation loss')\n",
        "plt.xlabel('iterations')\n",
        "plt.ylabel('loss')\n",
        "plt.title('training and validation loss')\n",
        "plt.legend()\n",
        "plt.show()"
      ],
      "metadata": {
        "colab": {
          "base_uri": "https://localhost:8080/",
          "height": 295
        },
        "id": "zaXx_WmKdfLx",
        "outputId": "a8a1db6e-c1ae-450d-e2ac-b388c2e101db"
      },
      "execution_count": 216,
      "outputs": [
        {
          "output_type": "display_data",
          "data": {
            "image/png": "[encoded data removed]",
            "text/plain": [
              "<Figure size 432x288 with 1 Axes>"
            ]
          },
          "metadata": {
            "needs_background": "light"
          }
        }
      ]
    },
    {
      "cell_type": "code",
      "source": [
        "plt.plot(np.arange(len(alltrainacc))*print_every, alltrainacc, label='training acc')\n",
        "plt.plot(np.arange(len(allvalacc))*print_every, allvalacc, label='validation acc')\n",
        "plt.xlabel('iterations')\n",
        "plt.ylabel('accuracy')\n",
        "plt.title('training and validation accuracy')\n",
        "plt.legend()\n",
        "plt.show()"
      ],
      "metadata": {
        "colab": {
          "base_uri": "https://localhost:8080/",
          "height": 295
        },
        "id": "ykK5KhE5kyeM",
        "outputId": "a4d869a2-d0d0-4590-83fe-f55a92c6cd03"
      },
      "execution_count": 217,
      "outputs": [
        {
          "output_type": "display_data",
          "data": {
            "image/png": "[encoded data removed]",
            "text/plain": [
              "<Figure size 432x288 with 1 Axes>"
            ]
          },
          "metadata": {
            "needs_background": "light"
          }
        }
      ]
    },
    {
      "cell_type": "code",
      "source": [
        "valconfmat = confusion_matrix(valtruelabels, valpredlabels)\n"
      ],
      "metadata": {
        "id": "bHZOIZZuk1K4"
      },
      "execution_count": 218,
      "outputs": []
    },
    {
      "cell_type": "code",
      "source": [
        "plt.figure(figsize=(15,10))\n",
        "sns.heatmap(valconfmat, annot=True, fmt='.0f', cmap='viridis', xticklabels=dataset.fer2013newlabels, yticklabels=dataset.fer2013newlabels)\n",
        "plt.xlabel('Predicted Values')\n",
        "plt.ylabel('True Values')\n",
        "plt.tight_layout()\n",
        "plt.show()"
      ],
      "metadata": {
        "colab": {
          "base_uri": "https://localhost:8080/",
          "height": 729
        },
        "id": "vdjssJxUr2pr",
        "outputId": "f4f2f475-3b84-4598-eff7-c0c0119df73d"
      },
      "execution_count": 219,
      "outputs": [
        {
          "output_type": "display_data",
          "data": {
            "image/png": "[encoded data removed]",
            "text/plain": [
              "<Figure size 1080x720 with 2 Axes>"
            ]
          },
          "metadata": {
            "needs_background": "light"
          }
        }
      ]
    },
    {
      "cell_type": "code",
      "source": [
        "testloader = DataLoader(testdataset, 1, shuffle=True)"
      ],
      "metadata": {
        "id": "AFhbl1e8r425"
      },
      "execution_count": 220,
      "outputs": []
    },
    {
      "cell_type": "code",
      "source": [
        "timage, tlabel = next(iter(testloader))"
      ],
      "metadata": {
        "id": "OcEQltXA3dYu"
      },
      "execution_count": 221,
      "outputs": []
    },
    {
      "cell_type": "code",
      "source": [
        "timage, tlabel = timage.to(device), tlabel.to(device)"
      ],
      "metadata": {
        "id": "08ITUbCc4O5z"
      },
      "execution_count": 222,
      "outputs": []
    },
    {
      "cell_type": "code",
      "source": [
        "timage"
      ],
      "metadata": {
        "colab": {
          "base_uri": "https://localhost:8080/"
        },
        "id": "6eslr_Ih3i0z",
        "outputId": "90c45986-6d3b-4ec5-d340-bc3c4b71f6e4"
      },
      "execution_count": 223,
      "outputs": [
        {
          "output_type": "execute_result",
          "data": {
            "text/plain": [
              "tensor([[[0.6706, 0.6706, 0.6706,  ..., 0.6706, 0.6706, 0.6706],\n",
              "         [0.6706, 0.6706, 0.6706,  ..., 0.6706, 0.6706, 0.6706],\n",
              "         [0.6706, 0.6706, 0.6706,  ..., 0.6706, 0.6706, 0.6706],\n",
              "         ...,\n",
              "         [0.6588, 0.6627, 0.6549,  ..., 0.5725, 0.5451, 0.5294],\n",
              "         [0.6588, 0.6627, 0.6510,  ..., 0.6118, 0.5961, 0.6157],\n",
              "         [0.6588, 0.6549, 0.6510,  ..., 0.6039, 0.5922, 0.5765]]],\n",
              "       device='cuda:0')"
            ]
          },
          "metadata": {},
          "execution_count": 223
        }
      ]
    },
    {
      "cell_type": "code",
      "source": [
        "timage.shape"
      ],
      "metadata": {
        "colab": {
          "base_uri": "https://localhost:8080/"
        },
        "id": "XKHp2nbL3kQJ",
        "outputId": "6fea6f93-5a11-4ed5-c101-404b0bd636fe"
      },
      "execution_count": 224,
      "outputs": [
        {
          "output_type": "execute_result",
          "data": {
            "text/plain": [
              "torch.Size([1, 48, 48])"
            ]
          },
          "metadata": {},
          "execution_count": 224
        }
      ]
    },
    {
      "cell_type": "code",
      "source": [
        "timage.unsqueeze_(1)"
      ],
      "metadata": {
        "colab": {
          "base_uri": "https://localhost:8080/"
        },
        "id": "rT2--GHt3l5J",
        "outputId": "67a17387-06bc-4e48-b061-91f3348ee667"
      },
      "execution_count": 225,
      "outputs": [
        {
          "output_type": "execute_result",
          "data": {
            "text/plain": [
              "tensor([[[[0.6706, 0.6706, 0.6706,  ..., 0.6706, 0.6706, 0.6706],\n",
              "          [0.6706, 0.6706, 0.6706,  ..., 0.6706, 0.6706, 0.6706],\n",
              "          [0.6706, 0.6706, 0.6706,  ..., 0.6706, 0.6706, 0.6706],\n",
              "          ...,\n",
              "          [0.6588, 0.6627, 0.6549,  ..., 0.5725, 0.5451, 0.5294],\n",
              "          [0.6588, 0.6627, 0.6510,  ..., 0.6118, 0.5961, 0.6157],\n",
              "          [0.6588, 0.6549, 0.6510,  ..., 0.6039, 0.5922, 0.5765]]]],\n",
              "       device='cuda:0')"
            ]
          },
          "metadata": {},
          "execution_count": 225
        }
      ]
    },
    {
      "cell_type": "code",
      "source": [
        "plt.imshow(timage.cpu()[0][0], cmap='gray')"
      ],
      "metadata": {
        "colab": {
          "base_uri": "https://localhost:8080/",
          "height": 284
        },
        "id": "GqKiXqCD4fcz",
        "outputId": "8ba035ce-4cd1-4cd5-fdd8-7627cf49f803"
      },
      "execution_count": 226,
      "outputs": [
        {
          "output_type": "execute_result",
          "data": {
            "text/plain": [
              "<matplotlib.image.AxesImage at 0x7fa283b81f50>"
            ]
          },
          "metadata": {},
          "execution_count": 226
        },
        {
          "output_type": "display_data",
          "data": {
            "image/png": "[encoded data removed]",
            "text/plain": [
              "<Figure size 432x288 with 1 Axes>"
            ]
          },
          "metadata": {
            "needs_background": "light"
          }
        }
      ]
    },
    {
      "cell_type": "code",
      "source": [
        "timage.shape"
      ],
      "metadata": {
        "colab": {
          "base_uri": "https://localhost:8080/"
        },
        "id": "Korn-BB-3o6M",
        "outputId": "2431bb70-bee5-4d90-b29b-f9171d8cc6da"
      },
      "execution_count": 227,
      "outputs": [
        {
          "output_type": "execute_result",
          "data": {
            "text/plain": [
              "torch.Size([1, 1, 48, 48])"
            ]
          },
          "metadata": {},
          "execution_count": 227
        }
      ]
    },
    {
      "cell_type": "code",
      "source": [
        "tlabel.shape"
      ],
      "metadata": {
        "colab": {
          "base_uri": "https://localhost:8080/"
        },
        "id": "BLw1F6sF3qZ7",
        "outputId": "adabe8aa-3a75-4a09-da7b-4135666788ef"
      },
      "execution_count": 228,
      "outputs": [
        {
          "output_type": "execute_result",
          "data": {
            "text/plain": [
              "torch.Size([1, 9])"
            ]
          },
          "metadata": {},
          "execution_count": 228
        }
      ]
    },
    {
      "cell_type": "code",
      "source": [
        "tlabel"
      ],
      "metadata": {
        "colab": {
          "base_uri": "https://localhost:8080/"
        },
        "id": "ZlILk-4n3sj5",
        "outputId": "ed9f691a-29ce-4159-ff6b-a014207a7c22"
      },
      "execution_count": 229,
      "outputs": [
        {
          "output_type": "execute_result",
          "data": {
            "text/plain": [
              "tensor([[0.7000, 0.0000, 0.0000, 0.2000, 0.0000, 0.0000, 0.1000, 0.0000, 0.0000]],\n",
              "       device='cuda:0')"
            ]
          },
          "metadata": {},
          "execution_count": 229
        }
      ]
    },
    {
      "cell_type": "code",
      "source": [
        "vggmodel.eval()"
      ],
      "metadata": {
        "colab": {
          "base_uri": "https://localhost:8080/"
        },
        "id": "p1GDYjgR4DCK",
        "outputId": "78eefeaf-c4a9-4774-c292-468ab1e994a7"
      },
      "execution_count": 230,
      "outputs": [
        {
          "output_type": "execute_result",
          "data": {
            "text/plain": [
              "Vgg(\n",
              "  (conv1a): Conv2d(1, 64, kernel_size=(3, 3), stride=(1, 1), padding=(1, 1))\n",
              "  (conv1b): Conv2d(64, 64, kernel_size=(3, 3), stride=(1, 1), padding=(1, 1))\n",
              "  (conv2a): Conv2d(64, 128, kernel_size=(3, 3), stride=(1, 1), padding=(1, 1))\n",
              "  (conv2b): Conv2d(128, 128, kernel_size=(3, 3), stride=(1, 1), padding=(1, 1))\n",
              "  (conv3a): Conv2d(128, 256, kernel_size=(3, 3), stride=(1, 1), padding=(1, 1))\n",
              "  (conv3b): Conv2d(256, 256, kernel_size=(3, 3), stride=(1, 1), padding=(1, 1))\n",
              "  (conv4a): Conv2d(256, 512, kernel_size=(3, 3), stride=(1, 1), padding=(1, 1))\n",
              "  (conv4b): Conv2d(512, 512, kernel_size=(3, 3), stride=(1, 1), padding=(1, 1))\n",
              "  (pool): MaxPool2d(kernel_size=2, stride=2, padding=0, dilation=1, ceil_mode=False)\n",
              "  (bn1a): BatchNorm2d(64, eps=1e-05, momentum=0.1, affine=True, track_running_stats=True)\n",
              "  (bn1b): BatchNorm2d(64, eps=1e-05, momentum=0.1, affine=True, track_running_stats=True)\n",
              "  (bn2a): BatchNorm2d(128, eps=1e-05, momentum=0.1, affine=True, track_running_stats=True)\n",
              "  (bn2b): BatchNorm2d(128, eps=1e-05, momentum=0.1, affine=True, track_running_stats=True)\n",
              "  (bn3a): BatchNorm2d(256, eps=1e-05, momentum=0.1, affine=True, track_running_stats=True)\n",
              "  (bn3b): BatchNorm2d(256, eps=1e-05, momentum=0.1, affine=True, track_running_stats=True)\n",
              "  (bn4a): BatchNorm2d(512, eps=1e-05, momentum=0.1, affine=True, track_running_stats=True)\n",
              "  (bn4b): BatchNorm2d(512, eps=1e-05, momentum=0.1, affine=True, track_running_stats=True)\n",
              "  (lin1): Linear(in_features=4608, out_features=4096, bias=True)\n",
              "  (lin2): Linear(in_features=4096, out_features=4096, bias=True)\n",
              "  (lin3): Linear(in_features=4096, out_features=9, bias=True)\n",
              "  (drop): Dropout(p=0.2, inplace=False)\n",
              ")"
            ]
          },
          "metadata": {},
          "execution_count": 230
        }
      ]
    },
    {
      "cell_type": "code",
      "source": [
        "tpred = vggmodel(timage)\n",
        "tpred"
      ],
      "metadata": {
        "colab": {
          "base_uri": "https://localhost:8080/"
        },
        "id": "4vsnJ_E93t2g",
        "outputId": "62575c28-cf2e-45bc-ed3d-8f12f8e365b3"
      },
      "execution_count": 231,
      "outputs": [
        {
          "output_type": "execute_result",
          "data": {
            "text/plain": [
              "tensor([[ 3.0140, -2.1953, -2.6868,  1.4015, -1.2069, -2.2329, -2.9686, -0.1206,\n",
              "         -0.2176]], device='cuda:0', grad_fn=<AddmmBackward0>)"
            ]
          },
          "metadata": {},
          "execution_count": 231
        }
      ]
    },
    {
      "cell_type": "code",
      "source": [
        "trueargmax = torch.argmax(tlabel)\n",
        "predargmax = torch.argmax(tpred)"
      ],
      "metadata": {
        "id": "oXBfuDpx4z7U"
      },
      "execution_count": 232,
      "outputs": []
    },
    {
      "cell_type": "code",
      "source": [
        "print(trueargmax)\n",
        "print(predargmax)"
      ],
      "metadata": {
        "colab": {
          "base_uri": "https://localhost:8080/"
        },
        "id": "AHrs5ZjL5aCe",
        "outputId": "3b043c25-c84f-41d7-f137-1ebec8b1524a"
      },
      "execution_count": 233,
      "outputs": [
        {
          "output_type": "stream",
          "name": "stdout",
          "text": [
            "tensor(0, device='cuda:0')\n",
            "tensor(0, device='cuda:0')\n"
          ]
        }
      ]
    },
    {
      "cell_type": "code",
      "source": [
        "trueargmax.item()"
      ],
      "metadata": {
        "colab": {
          "base_uri": "https://localhost:8080/"
        },
        "id": "feQZJpBm5RN-",
        "outputId": "b31abeed-6046-42f5-87c4-7464aa200b94"
      },
      "execution_count": 234,
      "outputs": [
        {
          "output_type": "execute_result",
          "data": {
            "text/plain": [
              "0"
            ]
          },
          "metadata": {},
          "execution_count": 234
        }
      ]
    },
    {
      "cell_type": "code",
      "source": [
        "vggmodel.eval()\n",
        "testtruelabels = []\n",
        "testpredlabels = []\n",
        "with torch.no_grad():\n",
        "    for i, (testimage, testlabel) in enumerate(testloader):\n",
        "        testimage.unsqueeze_(1)\n",
        "        testimage, testlabel = testimage.to(device), testlabel.to(device)\n",
        "        testpred = vggmodel(testimage)\n",
        "\n",
        "        testtrueargmax = torch.argmax(testlabel).item()\n",
        "        testpredargmax = torch.argmax(testpred).item()\n",
        "\n",
        "        testtruelabels.append(testtrueargmax)\n",
        "        testpredlabels.append(testpredargmax)"
      ],
      "metadata": {
        "id": "4JIqoZTF2XiO"
      },
      "execution_count": 235,
      "outputs": []
    },
    {
      "cell_type": "code",
      "source": [
        "testconfmat = confusion_matrix(testtruelabels, testpredlabels)"
      ],
      "metadata": {
        "id": "KodylrAL6BQz"
      },
      "execution_count": 236,
      "outputs": []
    },
    {
      "cell_type": "code",
      "source": [
        "plt.figure(figsize=(15,10))\n",
        "sns.heatmap(testconfmat, annot=True, fmt='.0f', cmap='viridis', xticklabels=dataset.fer2013newlabels, yticklabels=dataset.fer2013newlabels)\n",
        "plt.xlabel('Predicted Values')\n",
        "plt.ylabel('True Values')\n",
        "plt.tight_layout()\n",
        "plt.show()"
      ],
      "metadata": {
        "colab": {
          "base_uri": "https://localhost:8080/",
          "height": 729
        },
        "id": "vajQVaUm6YVK",
        "outputId": "906a60ec-8f4f-4b21-ca3c-9b295beff3b9"
      },
      "execution_count": 237,
      "outputs": [
        {
          "output_type": "display_data",
          "data": {
            "image/png": "[encoded data removed]",
            "text/plain": [
              "<Figure size 1080x720 with 2 Axes>"
            ]
          },
          "metadata": {
            "needs_background": "light"
          }
        }
      ]
    },
    {
      "cell_type": "code",
      "source": [
        "accuracy_score(testtruelabels, testpredlabels)"
      ],
      "metadata": {
        "colab": {
          "base_uri": "https://localhost:8080/"
        },
        "id": "GmYNizky6fZc",
        "outputId": "7aafc25a-18bc-46df-831d-e36cf00c75c6"
      },
      "execution_count": 238,
      "outputs": [
        {
          "output_type": "execute_result",
          "data": {
            "text/plain": [
              "0.7874059626636947"
            ]
          },
          "metadata": {},
          "execution_count": 238
        }
      ]
    },
    {
      "cell_type": "code",
      "source": [
        "torch.save(vggmodel, 'vggmodel.pth')"
      ],
      "metadata": {
        "id": "ikkHo8uW62CI"
      },
      "execution_count": 239,
      "outputs": []
    },
    {
      "cell_type": "code",
      "source": [
        ""
      ],
      "metadata": {
        "id": "Z_G8iQzcIRFF"
      },
      "execution_count": null,
      "outputs": []
    }
  ]
}