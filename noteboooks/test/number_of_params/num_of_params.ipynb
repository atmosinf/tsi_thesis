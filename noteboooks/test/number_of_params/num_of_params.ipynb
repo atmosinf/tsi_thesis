{
 "cells": [
  {
   "cell_type": "markdown",
   "id": "3d3c3965",
   "metadata": {},
   "source": [
    "### in this notebook we will calculate the number of parameters in model2, model3, resnet and vggnet "
   ]
  },
  {
   "cell_type": "code",
   "execution_count": 1,
   "id": "72002300",
   "metadata": {},
   "outputs": [],
   "source": [
    "import numpy as np\n",
    "import pandas as pd\n",
    "import matplotlib.pyplot as plt"
   ]
  },
  {
   "cell_type": "code",
   "execution_count": 2,
   "id": "1f92e2ea",
   "metadata": {},
   "outputs": [],
   "source": [
    "import torch\n",
    "import torch.nn as nn\n",
    "import torch.nn.functional as F\n",
    "from torch import optim\n",
    "from torchvision import transforms\n",
    "from torch.utils.data import DataLoader, Dataset\n",
    "import os"
   ]
  },
  {
   "cell_type": "markdown",
   "id": "cd9da15c",
   "metadata": {},
   "source": [
    "### model 2"
   ]
  },
  {
   "cell_type": "code",
   "execution_count": 3,
   "id": "8c486ea6",
   "metadata": {},
   "outputs": [],
   "source": [
    "class Model2(nn.Module):\n",
    "    def __init__(self, drop=0.2):\n",
    "        super().__init__()\n",
    "\n",
    "        self.conv1a = nn.Conv2d(in_channels=1, out_channels=64, kernel_size=3, padding=1)\n",
    "        self.conv1b = nn.Conv2d(64, out_channels=64, kernel_size=3, padding=1)\n",
    "\n",
    "        self.conv2a = nn.Conv2d(64, 128, 3, padding=1)\n",
    "        self.conv2b = nn.Conv2d(128, 128, 3, padding=1)\n",
    "\n",
    "        self.conv3a = nn.Conv2d(128, 256, 3, padding=1)\n",
    "        self.conv3b = nn.Conv2d(256, 256, 3, padding=1)\n",
    "\n",
    "        # self.conv4a = nn.Conv2d(256, 512, 3, padding=1)\n",
    "        # self.conv4b = nn.Conv2d(512, 512, 3, padding=1)\n",
    "\n",
    "        self.pool = nn.MaxPool2d(kernel_size=2, stride=2)\n",
    "\n",
    "        self.bn1a = nn.BatchNorm2d(64)\n",
    "        self.bn1b = nn.BatchNorm2d(64)\n",
    "\n",
    "        self.bn2a = nn.BatchNorm2d(128)\n",
    "        self.bn2b = nn.BatchNorm2d(128)\n",
    "\n",
    "        self.bn3a = nn.BatchNorm2d(256)\n",
    "        self.bn3b = nn.BatchNorm2d(256)\n",
    "\n",
    "        # self.bn4a = nn.BatchNorm2d(512)\n",
    "        # self.bn4b = nn.BatchNorm2d(512)\n",
    "\n",
    "        # self.lin1 = nn.Linear(512 * 2 * 2, 4096)\n",
    "        self.lin1 = nn.Linear(256 * 6 * 6, 4096)\n",
    "        self.lin2 = nn.Linear(4096, 4096)\n",
    "\n",
    "        # self.lin3 = nn.Linear(4096, 7)\n",
    "        # output size changed to 9 because we're using the fer plus labels, not the fer 2013 labels\n",
    "        self.lin3 = nn.Linear(4096, 9)\n",
    "\n",
    "        self.drop = nn.Dropout(p=drop)\n",
    "\n",
    "    def forward(self, x):\n",
    "        x = F.relu(self.bn1a(self.conv1a(x)))\n",
    "        x = F.relu(self.bn1b(self.conv1b(x)))\n",
    "        x = self.pool(x)\n",
    "\n",
    "        x = F.relu(self.bn2a(self.conv2a(x)))\n",
    "        x = F.relu(self.bn2b(self.conv2b(x)))\n",
    "        x = self.pool(x)\n",
    "\n",
    "        x = F.relu(self.bn3a(self.conv3a(x)))\n",
    "        x = F.relu(self.bn3b(self.conv3b(x)))\n",
    "        x = self.pool(x)\n",
    "\n",
    "        # x = F.relu(self.bn4a(self.conv4a(x)))\n",
    "        # x = F.relu(self.bn4b(self.conv4b(x)))\n",
    "        # x = self.pool(x)\n",
    "        \n",
    "        # x = x.view(-1, 512 * 2 * 2) - replaced by torch.flatten\n",
    "        x = torch.flatten(x, 1)\n",
    "        x = F.relu(self.drop(self.lin1(x)))\n",
    "        x = F.relu(self.drop(self.lin2(x)))\n",
    "        x = self.lin3(x)\n",
    "        \n",
    "        return x"
   ]
  },
  {
   "cell_type": "code",
   "execution_count": 4,
   "id": "66e9e526",
   "metadata": {},
   "outputs": [],
   "source": [
    "model2 = Model2()"
   ]
  },
  {
   "cell_type": "code",
   "execution_count": 13,
   "id": "61968b66",
   "metadata": {},
   "outputs": [
    {
     "data": {
      "text/plain": [
       "55717065"
      ]
     },
     "execution_count": 13,
     "metadata": {},
     "output_type": "execute_result"
    }
   ],
   "source": [
    "model2_num_params = sum(p.numel() for p in model2.parameters() if p.requires_grad)\n",
    "model2_num_params"
   ]
  },
  {
   "cell_type": "markdown",
   "id": "35997a08",
   "metadata": {},
   "source": [
    "### model 3"
   ]
  },
  {
   "cell_type": "code",
   "execution_count": 11,
   "id": "3a474f37",
   "metadata": {},
   "outputs": [],
   "source": [
    "class Model3(nn.Module):\n",
    "    def __init__(self, drop=0.2):\n",
    "        super().__init__()\n",
    "\n",
    "        self.conv1a = nn.Conv2d(in_channels=1, out_channels=64, kernel_size=5, padding=2)\n",
    "        self.conv1b = nn.Conv2d(64, out_channels=64, kernel_size=5, padding=2)\n",
    "\n",
    "        self.conv2a = nn.Conv2d(64, 128, 5, padding=2)\n",
    "        self.conv2b = nn.Conv2d(128, 128, 5, padding=2)\n",
    "\n",
    "        self.conv3a = nn.Conv2d(128, 256, 5, padding=2)\n",
    "        self.conv3b = nn.Conv2d(256, 256, 5, padding=2)\n",
    "\n",
    "        self.conv4a = nn.Conv2d(256, 512, 5, padding=2)\n",
    "        self.conv4b = nn.Conv2d(512, 512, 5, padding=2)\n",
    "\n",
    "        self.pool = nn.MaxPool2d(kernel_size=2, stride=2)\n",
    "\n",
    "        self.bn1a = nn.BatchNorm2d(64)\n",
    "        self.bn1b = nn.BatchNorm2d(64)\n",
    "\n",
    "        self.bn2a = nn.BatchNorm2d(128)\n",
    "        self.bn2b = nn.BatchNorm2d(128)\n",
    "\n",
    "        self.bn3a = nn.BatchNorm2d(256)\n",
    "        self.bn3b = nn.BatchNorm2d(256)\n",
    "\n",
    "        self.bn4a = nn.BatchNorm2d(512)\n",
    "        self.bn4b = nn.BatchNorm2d(512)\n",
    "\n",
    "        # self.lin1 = nn.Linear(512 * 2 * 2, 4096)\n",
    "        self.lin1 = nn.Linear(512 * 3 * 3, 4096)\n",
    "        self.lin2 = nn.Linear(4096, 4096)\n",
    "\n",
    "        # self.lin3 = nn.Linear(4096, 7)\n",
    "        # output size changed to 9 because we're using the fer plus labels, not the fer 2013 labels\n",
    "        self.lin3 = nn.Linear(4096, 9)\n",
    "\n",
    "        self.drop = nn.Dropout(p=drop)\n",
    "\n",
    "    def forward(self, x):\n",
    "        x = F.relu(self.bn1a(self.conv1a(x)))\n",
    "        x = F.relu(self.bn1b(self.conv1b(x)))\n",
    "        x = self.pool(x)\n",
    "\n",
    "        x = F.relu(self.bn2a(self.conv2a(x)))\n",
    "        x = F.relu(self.bn2b(self.conv2b(x)))\n",
    "        x = self.pool(x)\n",
    "\n",
    "        x = F.relu(self.bn3a(self.conv3a(x)))\n",
    "        x = F.relu(self.bn3b(self.conv3b(x)))\n",
    "        x = self.pool(x)\n",
    "\n",
    "        x = F.relu(self.bn4a(self.conv4a(x)))\n",
    "        x = F.relu(self.bn4b(self.conv4b(x)))\n",
    "        x = self.pool(x)\n",
    "        \n",
    "        # x = x.view(-1, 512 * 2 * 2) - replaced by torch.flatten\n",
    "        x = torch.flatten(x, 1)\n",
    "        x = F.relu(self.drop(self.lin1(x)))\n",
    "        x = F.relu(self.drop(self.lin2(x)))\n",
    "        x = self.lin3(x)\n",
    "        \n",
    "        return x"
   ]
  },
  {
   "cell_type": "code",
   "execution_count": 12,
   "id": "3f47c17d",
   "metadata": {},
   "outputs": [],
   "source": [
    "model3 = Model3()"
   ]
  },
  {
   "cell_type": "code",
   "execution_count": 14,
   "id": "21e74e5e",
   "metadata": {},
   "outputs": [
    {
     "data": {
      "text/plain": [
       "48708809"
      ]
     },
     "execution_count": 14,
     "metadata": {},
     "output_type": "execute_result"
    }
   ],
   "source": [
    "model3_num_params = sum(p.numel() for p in model3.parameters() if p.requires_grad)\n",
    "model3_num_params"
   ]
  },
  {
   "cell_type": "markdown",
   "id": "6b70900b",
   "metadata": {},
   "source": [
    "### resnet"
   ]
  },
  {
   "cell_type": "code",
   "execution_count": 16,
   "id": "3de736c5",
   "metadata": {},
   "outputs": [],
   "source": [
    "import torchvision.models as models"
   ]
  },
  {
   "cell_type": "code",
   "execution_count": 17,
   "id": "78e4561b",
   "metadata": {},
   "outputs": [],
   "source": [
    "resmodel = models.resnet18()"
   ]
  },
  {
   "cell_type": "code",
   "execution_count": 18,
   "id": "4c0031f4",
   "metadata": {},
   "outputs": [],
   "source": [
    "resmodel.conv1 = nn.Conv2d(1, 64, kernel_size=(7, 7), stride=(2, 2), padding=(3, 3), bias=False)"
   ]
  },
  {
   "cell_type": "code",
   "execution_count": 19,
   "id": "f9fbd7ba",
   "metadata": {},
   "outputs": [],
   "source": [
    "resmodel.fc = nn.Linear(512, 9, bias=True)"
   ]
  },
  {
   "cell_type": "code",
   "execution_count": 20,
   "id": "51bd67fb",
   "metadata": {},
   "outputs": [
    {
     "data": {
      "text/plain": [
       "11174857"
      ]
     },
     "execution_count": 20,
     "metadata": {},
     "output_type": "execute_result"
    }
   ],
   "source": [
    "resmodel_num_params = sum(p.numel() for p in resmodel.parameters() if p.requires_grad)\n",
    "resmodel_num_params"
   ]
  },
  {
   "cell_type": "markdown",
   "id": "ebc5d716",
   "metadata": {},
   "source": [
    "### vggnet "
   ]
  },
  {
   "cell_type": "code",
   "execution_count": 21,
   "id": "61ad327f",
   "metadata": {},
   "outputs": [],
   "source": [
    "class Vgg(nn.Module):\n",
    "    def __init__(self, drop=0.2):\n",
    "        super().__init__()\n",
    "\n",
    "        self.conv1a = nn.Conv2d(in_channels=1, out_channels=64, kernel_size=3, padding=1)\n",
    "        self.conv1b = nn.Conv2d(64, out_channels=64, kernel_size=3, padding=1)\n",
    "\n",
    "        self.conv2a = nn.Conv2d(64, 128, 3, padding=1)\n",
    "        self.conv2b = nn.Conv2d(128, 128, 3, padding=1)\n",
    "\n",
    "        self.conv3a = nn.Conv2d(128, 256, 3, padding=1)\n",
    "        self.conv3b = nn.Conv2d(256, 256, 3, padding=1)\n",
    "\n",
    "        self.conv4a = nn.Conv2d(256, 512, 3, padding=1)\n",
    "        self.conv4b = nn.Conv2d(512, 512, 3, padding=1)\n",
    "\n",
    "        self.pool = nn.MaxPool2d(kernel_size=2, stride=2)\n",
    "\n",
    "        self.bn1a = nn.BatchNorm2d(64)\n",
    "        self.bn1b = nn.BatchNorm2d(64)\n",
    "\n",
    "        self.bn2a = nn.BatchNorm2d(128)\n",
    "        self.bn2b = nn.BatchNorm2d(128)\n",
    "\n",
    "        self.bn3a = nn.BatchNorm2d(256)\n",
    "        self.bn3b = nn.BatchNorm2d(256)\n",
    "\n",
    "        self.bn4a = nn.BatchNorm2d(512)\n",
    "        self.bn4b = nn.BatchNorm2d(512)\n",
    "\n",
    "        # self.lin1 = nn.Linear(512 * 2 * 2, 4096)\n",
    "        self.lin1 = nn.Linear(512 * 3 * 3, 4096)\n",
    "        self.lin2 = nn.Linear(4096, 4096)\n",
    "\n",
    "        # self.lin3 = nn.Linear(4096, 7)\n",
    "        # output size changed to 9 because we're using the fer plus labels, not the fer 2013 labels\n",
    "        self.lin3 = nn.Linear(4096, 9)\n",
    "\n",
    "        self.drop = nn.Dropout(p=drop)\n",
    "\n",
    "    def forward(self, x):\n",
    "        x = F.relu(self.bn1a(self.conv1a(x)))\n",
    "        x = F.relu(self.bn1b(self.conv1b(x)))\n",
    "        x = self.pool(x)\n",
    "\n",
    "        x = F.relu(self.bn2a(self.conv2a(x)))\n",
    "        x = F.relu(self.bn2b(self.conv2b(x)))\n",
    "        x = self.pool(x)\n",
    "\n",
    "        x = F.relu(self.bn3a(self.conv3a(x)))\n",
    "        x = F.relu(self.bn3b(self.conv3b(x)))\n",
    "        x = self.pool(x)\n",
    "\n",
    "        x = F.relu(self.bn4a(self.conv4a(x)))\n",
    "        x = F.relu(self.bn4b(self.conv4b(x)))\n",
    "        x = self.pool(x)\n",
    "        \n",
    "        # x = x.view(-1, 512 * 2 * 2)\n",
    "        x = torch.flatten(x, 1)\n",
    "        x = F.relu(self.drop(self.lin1(x)))\n",
    "        x = F.relu(self.drop(self.lin2(x)))\n",
    "        x = self.lin3(x)\n",
    "        \n",
    "        return x"
   ]
  },
  {
   "cell_type": "code",
   "execution_count": 22,
   "id": "0de50b26",
   "metadata": {},
   "outputs": [],
   "source": [
    "vggmodel = Vgg()"
   ]
  },
  {
   "cell_type": "code",
   "execution_count": 23,
   "id": "f193f76d",
   "metadata": {},
   "outputs": [
    {
     "data": {
      "text/plain": [
       "40384713"
      ]
     },
     "execution_count": 23,
     "metadata": {},
     "output_type": "execute_result"
    }
   ],
   "source": [
    "vggmodel_num_params = sum(p.numel() for p in vggmodel.parameters() if p.requires_grad)\n",
    "vggmodel_num_params"
   ]
  },
  {
   "cell_type": "code",
   "execution_count": null,
   "id": "0fc91706",
   "metadata": {},
   "outputs": [],
   "source": []
  }
 ],
 "metadata": {
  "kernelspec": {
   "display_name": "udacitycvenv",
   "language": "python",
   "name": "udacitycvenv"
  },
  "language_info": {
   "codemirror_mode": {
    "name": "ipython",
    "version": 3
   },
   "file_extension": ".py",
   "mimetype": "text/x-python",
   "name": "python",
   "nbconvert_exporter": "python",
   "pygments_lexer": "ipython3",
   "version": "3.9.0"
  }
 },
 "nbformat": 4,
 "nbformat_minor": 5
}
