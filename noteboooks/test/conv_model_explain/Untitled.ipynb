{
 "cells": [
  {
   "cell_type": "markdown",
   "id": "d26c5bab",
   "metadata": {},
   "source": [
    "## in this notebook we'll check how a conv network learns the features. it will learn to differentiate between a circle and a square"
   ]
  },
  {
   "cell_type": "code",
   "execution_count": 38,
   "id": "5830bb2f",
   "metadata": {},
   "outputs": [],
   "source": [
    "import numpy as np\n",
    "import pandas as pd\n",
    "import matplotlib.pyplot as plt\n",
    "import torch\n",
    "from torchvision import transforms\n",
    "from torchvision.datasets import ImageFolder\n",
    "from torch.utils.data import DataLoader"
   ]
  },
  {
   "cell_type": "code",
   "execution_count": 39,
   "id": "32470b7a",
   "metadata": {},
   "outputs": [],
   "source": [
    "transform = transforms.Compose([transforms.Grayscale(),\n",
    "                                transforms.RandomRotation(20),\n",
    "                              transforms.Resize((48,48)),\n",
    "                                transforms.RandomResizedCrop((48,48),scale=(0.3,1.0)),\n",
    "                              transforms.ToTensor()])"
   ]
  },
  {
   "cell_type": "code",
   "execution_count": 40,
   "id": "75a4fbf3",
   "metadata": {},
   "outputs": [],
   "source": [
    "traindataset = ImageFolder(root='data/', transform=transform)"
   ]
  },
  {
   "cell_type": "code",
   "execution_count": 41,
   "id": "be049697",
   "metadata": {},
   "outputs": [
    {
     "data": {
      "text/plain": [
       "tensor([[[0., 0., 0.,  ..., 0., 0., 0.],\n",
       "         [0., 0., 0.,  ..., 0., 0., 0.],\n",
       "         [0., 0., 0.,  ..., 0., 0., 0.],\n",
       "         ...,\n",
       "         [0., 0., 0.,  ..., 0., 0., 0.],\n",
       "         [0., 0., 0.,  ..., 0., 0., 0.],\n",
       "         [0., 0., 0.,  ..., 0., 0., 0.]]])"
      ]
     },
     "execution_count": 41,
     "metadata": {},
     "output_type": "execute_result"
    }
   ],
   "source": [
    "samp = next(iter(traindataset))[0]\n",
    "samp"
   ]
  },
  {
   "cell_type": "code",
   "execution_count": 42,
   "id": "4c36a837",
   "metadata": {},
   "outputs": [
    {
     "data": {
      "text/plain": [
       "<matplotlib.image.AxesImage at 0x7f6a0a1e6b80>"
      ]
     },
     "execution_count": 42,
     "metadata": {},
     "output_type": "execute_result"
    },
    {
     "data": {
      "image/png": "[encoded data removed]",
      "text/plain": [
       "<Figure size 432x288 with 1 Axes>"
      ]
     },
     "metadata": {
      "needs_background": "light"
     },
     "output_type": "display_data"
    }
   ],
   "source": [
    "samp = next(iter(traindataset))[0]\n",
    "plt.imshow(samp[0], cmap='gray')"
   ]
  },
  {
   "cell_type": "code",
   "execution_count": 43,
   "id": "8391abfd",
   "metadata": {},
   "outputs": [
    {
     "data": {
      "text/plain": [
       "['circle', 'square']"
      ]
     },
     "execution_count": 43,
     "metadata": {},
     "output_type": "execute_result"
    }
   ],
   "source": [
    "traindataset.classes"
   ]
  },
  {
   "cell_type": "code",
   "execution_count": 44,
   "id": "b9927d79",
   "metadata": {},
   "outputs": [],
   "source": [
    "trainloader = DataLoader(traindataset, 1, shuffle=True)"
   ]
  },
  {
   "cell_type": "code",
   "execution_count": 45,
   "id": "d4b120f1",
   "metadata": {},
   "outputs": [
    {
     "data": {
      "image/png": "[encoded data removed]",
      "text/plain": [
       "<Figure size 1080x504 with 10 Axes>"
      ]
     },
     "metadata": {
      "needs_background": "light"
     },
     "output_type": "display_data"
    }
   ],
   "source": [
    "plt.figure(figsize=(15,7))\n",
    "for i in range(10):\n",
    "    plt.subplot(1,10,i+1)\n",
    "    samp = next(iter(trainloader))[0][0][0]\n",
    "    plt.imshow(samp, cmap='gray')"
   ]
  },
  {
   "cell_type": "code",
   "execution_count": 46,
   "id": "b786e283",
   "metadata": {},
   "outputs": [],
   "source": [
    "from torch import nn\n",
    "import torch.nn.functional as F\n",
    "from torch import optim"
   ]
  },
  {
   "cell_type": "code",
   "execution_count": 84,
   "id": "abd3b868",
   "metadata": {},
   "outputs": [],
   "source": [
    "class CircleOrSquare(nn.Module):\n",
    "    def __init__(self):\n",
    "        super().__init__()\n",
    "        self.conv1 = nn.Conv2d(1,10,3)\n",
    "        self.conv2 = nn.Conv2d(10,10,3)\n",
    "        self.conv3 = nn.Conv2d(10,10,3)\n",
    "        self.conv4 = nn.Conv2d(1,1,3)\n",
    "        self.pool = nn.MaxPool2d(2)\n",
    "        self.fc1 = nn.Linear(10 * 4 * 4, 2)\n",
    "        \n",
    "    def forward(self, x):\n",
    "        x = F.relu(self.pool(self.conv1(x)))\n",
    "        x = F.relu(self.pool(self.conv2(x)))\n",
    "        x = F.relu(self.pool(self.conv3(x)))\n",
    "        x = torch.flatten(x, 1)\n",
    "        x = torch.log_softmax(self.fc1(x), dim=1)\n",
    "        \n",
    "        return x"
   ]
  },
  {
   "cell_type": "code",
   "execution_count": 85,
   "id": "8c03431e",
   "metadata": {},
   "outputs": [],
   "source": [
    "model = CircleOrSquare()"
   ]
  },
  {
   "cell_type": "code",
   "execution_count": 86,
   "id": "b7aada9f",
   "metadata": {},
   "outputs": [
    {
     "data": {
      "text/plain": [
       "CircleOrSquare(\n",
       "  (conv1): Conv2d(1, 10, kernel_size=(3, 3), stride=(1, 1))\n",
       "  (conv2): Conv2d(10, 10, kernel_size=(3, 3), stride=(1, 1))\n",
       "  (conv3): Conv2d(10, 10, kernel_size=(3, 3), stride=(1, 1))\n",
       "  (conv4): Conv2d(1, 1, kernel_size=(3, 3), stride=(1, 1))\n",
       "  (pool): MaxPool2d(kernel_size=2, stride=2, padding=0, dilation=1, ceil_mode=False)\n",
       "  (fc1): Linear(in_features=160, out_features=2, bias=True)\n",
       ")"
      ]
     },
     "execution_count": 86,
     "metadata": {},
     "output_type": "execute_result"
    }
   ],
   "source": [
    "model"
   ]
  },
  {
   "cell_type": "code",
   "execution_count": 87,
   "id": "e3015823",
   "metadata": {},
   "outputs": [],
   "source": [
    "criterion = nn.CrossEntropyLoss()\n",
    "optimizer = optim.Adam(params=model.parameters())"
   ]
  },
  {
   "cell_type": "code",
   "execution_count": 88,
   "id": "fb1d5599",
   "metadata": {},
   "outputs": [],
   "source": [
    "# parameters\n",
    "epochs = 10000"
   ]
  },
  {
   "cell_type": "code",
   "execution_count": 89,
   "id": "812e4edc",
   "metadata": {},
   "outputs": [],
   "source": [
    "trainloader = DataLoader(traindataset, 1, shuffle=True)"
   ]
  },
  {
   "cell_type": "code",
   "execution_count": 90,
   "id": "21031891",
   "metadata": {},
   "outputs": [
    {
     "name": "stdout",
     "output_type": "stream",
     "text": [
      "epoch: 0, loss: 0.6509763598442078\n",
      "epoch: 1000, loss: 1.1301982402801514\n",
      "epoch: 2000, loss: 0.2223128378391266\n",
      "epoch: 3000, loss: 0.5035838484764099\n",
      "epoch: 4000, loss: 1.4781842764932662e-05\n",
      "epoch: 5000, loss: 0.20993848145008087\n",
      "epoch: 6000, loss: 7.152555099310121e-07\n",
      "epoch: 7000, loss: 0.0002865380665753037\n",
      "epoch: 8000, loss: 0.0006156456656754017\n",
      "epoch: 9000, loss: 0.0\n"
     ]
    }
   ],
   "source": [
    "running_loss = []\n",
    "print_every = 1000\n",
    "for e in range(epochs):\n",
    "    for i,(images,labels) in enumerate(trainloader):\n",
    "        optimizer.zero_grad()\n",
    "        output = model(images)\n",
    "        loss = criterion(output, labels)\n",
    "        loss.backward()\n",
    "        optimizer.step()\n",
    "        \n",
    "        running_loss.append(loss.item())\n",
    "    if e % print_every == 0:\n",
    "        print(f'epoch: {e}, loss: {loss.item()}')"
   ]
  },
  {
   "cell_type": "code",
   "execution_count": 72,
   "id": "31fe85c2",
   "metadata": {},
   "outputs": [
    {
     "data": {
      "text/plain": [
       "[<matplotlib.lines.Line2D at 0x7f6a09eb1880>]"
      ]
     },
     "execution_count": 72,
     "metadata": {},
     "output_type": "execute_result"
    },
    {
     "data": {
      "image/png": "[encoded data removed]",
      "text/plain": [
       "<Figure size 432x288 with 1 Axes>"
      ]
     },
     "metadata": {
      "needs_background": "light"
     },
     "output_type": "display_data"
    }
   ],
   "source": [
    "plt.plot(np.arange(len(running_loss)), running_loss)"
   ]
  },
  {
   "cell_type": "code",
   "execution_count": 83,
   "id": "ea2bfc7f",
   "metadata": {},
   "outputs": [
    {
     "data": {
      "text/plain": [
       "<matplotlib.image.AxesImage at 0x7f6a03fa8ac0>"
      ]
     },
     "execution_count": 83,
     "metadata": {},
     "output_type": "execute_result"
    },
    {
     "data": {
      "image/png": "[encoded data removed]",
      "text/plain": [
       "<Figure size 432x288 with 1 Axes>"
      ]
     },
     "metadata": {
      "needs_background": "light"
     },
     "output_type": "display_data"
    }
   ],
   "source": [
    "plt.imshow(model.conv1.weight.detach().numpy()[3][0], cmap='gray')"
   ]
  },
  {
   "cell_type": "code",
   "execution_count": 79,
   "id": "0606e287",
   "metadata": {},
   "outputs": [
    {
     "data": {
      "text/plain": [
       "<matplotlib.image.AxesImage at 0x7f6a080ffaf0>"
      ]
     },
     "execution_count": 79,
     "metadata": {},
     "output_type": "execute_result"
    },
    {
     "data": {
      "image/png": "[encoded data removed]",
      "text/plain": [
       "<Figure size 432x288 with 1 Axes>"
      ]
     },
     "metadata": {
      "needs_background": "light"
     },
     "output_type": "display_data"
    }
   ],
   "source": [
    "plt.imshow(model.conv2.weight.detach().numpy()[0][0], cmap='gray')"
   ]
  },
  {
   "cell_type": "code",
   "execution_count": 64,
   "id": "044ba03d",
   "metadata": {},
   "outputs": [
    {
     "data": {
      "text/plain": [
       "<matplotlib.image.AxesImage at 0x7f6a08bfe8b0>"
      ]
     },
     "execution_count": 64,
     "metadata": {},
     "output_type": "execute_result"
    },
    {
     "data": {
      "image/png": "[encoded data removed]",
      "text/plain": [
       "<Figure size 432x288 with 1 Axes>"
      ]
     },
     "metadata": {
      "needs_background": "light"
     },
     "output_type": "display_data"
    }
   ],
   "source": [
    "plt.imshow(model.conv3.weight.detach().numpy()[0][0], cmap='gray')"
   ]
  },
  {
   "cell_type": "code",
   "execution_count": null,
   "id": "3c4127e9",
   "metadata": {},
   "outputs": [],
   "source": []
  }
 ],
 "metadata": {
  "kernelspec": {
   "display_name": "udacitycvenv",
   "language": "python",
   "name": "udacitycvenv"
  },
  "language_info": {
   "codemirror_mode": {
    "name": "ipython",
    "version": 3
   },
   "file_extension": ".py",
   "mimetype": "text/x-python",
   "name": "python",
   "nbconvert_exporter": "python",
   "pygments_lexer": "ipython3",
   "version": "3.9.0"
  }
 },
 "nbformat": 4,
 "nbformat_minor": 5
}
