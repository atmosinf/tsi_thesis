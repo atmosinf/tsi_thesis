{
 "cells": [
  {
   "cell_type": "markdown",
   "metadata": {
    "id": "qe752vrbaJ5r"
   },
   "source": [
    "### in this notebook we'll try to make some changes to the vggnet model to make it more light weight (or try to)"
   ]
  },
  {
   "cell_type": "markdown",
   "metadata": {
    "id": "_QxiBR-caSF6"
   },
   "source": [
    "vgg model source : github [link](https://github.com/usef-kh/fer/tree/master/models)"
   ]
  },
  {
   "cell_type": "code",
   "execution_count": 1,
   "metadata": {
    "id": "A8J0PEm8aDNC"
   },
   "outputs": [],
   "source": [
    "import numpy as np\n",
    "import pandas as pd\n",
    "import matplotlib.pyplot as plt"
   ]
  },
  {
   "cell_type": "code",
   "execution_count": 2,
   "metadata": {
    "id": "LS9WW6WIaUHj"
   },
   "outputs": [],
   "source": [
    "import torch\n",
    "import torch.nn as nn\n",
    "import torch.nn.functional as F\n",
    "from torch import optim\n",
    "from torchvision import transforms\n",
    "from torch.utils.data import DataLoader, Dataset\n",
    "import os"
   ]
  },
  {
   "cell_type": "code",
   "execution_count": 3,
   "metadata": {
    "id": "eAIy2ezqaXSt"
   },
   "outputs": [],
   "source": [
    "class FERdataset(Dataset):\n",
    "    def __init__(self, path_fer2013csv, path_fer2013newcsv):\n",
    "        self.fer2013 = pd.read_csv(path_fer2013csv)\n",
    "        self.fer2013labels = ['angry', 'disgust', 'fear', 'happy', 'sad', 'surprise', 'neutral']\n",
    "        self.fer2013new = pd.read_csv(path_fer2013newcsv)\n",
    "        self.fer2013newlabels = list(self.fer2013new.columns[2:11])\n",
    "        \n",
    "    def __getitem__(self, index):\n",
    "        '''\n",
    "        returns an image and its fer2013new label as tensors\n",
    "        '''\n",
    "        image = self.fer2013['pixels'].iloc[index]\n",
    "        image = np.fromstring(image, sep=' ').reshape(48, 48)\n",
    "        image = torch.tensor(image, dtype=torch.float32) / 255\n",
    "        \n",
    "        label = torch.tensor(self.fer2013new.iloc[index][2:11].values.astype('float32')) / 10\n",
    "        \n",
    "        return image, label\n",
    "        \n",
    "    def __len__(self):\n",
    "        return self.fer2013.shape[0]\n",
    "    "
   ]
  },
  {
   "cell_type": "code",
   "execution_count": 4,
   "metadata": {
    "colab": {
     "base_uri": "https://localhost:8080/"
    },
    "id": "hH4HHbb5ad6Y",
    "outputId": "a7aa9da2-8d0b-4850-f6ed-ce220174a77c"
   },
   "outputs": [
    {
     "name": "stdout",
     "output_type": "stream",
     "text": [
      "Archive:  data.zip\n",
      "   creating: data/\n",
      "   creating: data/FERplus/\n",
      "  inflating: data/FERplus/.gitignore  \n",
      "  inflating: data/FERplus/fer2013new.csv  \n",
      "   creating: data/fer2013/\n",
      "  inflating: data/fer2013/.gitignore  \n",
      "  inflating: data/fer2013/fer2013.csv  \n",
      "  inflating: data/fer2013/README     \n",
      "  inflating: data/fer2013/fer2013.bib  \n",
      "  inflating: data/fer2013/README.md  \n"
     ]
    }
   ],
   "source": [
    "!unzip data.zip"
   ]
  },
  {
   "cell_type": "code",
   "execution_count": 5,
   "metadata": {
    "id": "6BaD_bQWaZNv"
   },
   "outputs": [],
   "source": [
    "path_fer2013csv='data/fer2013/fer2013.csv'\n",
    "path_fer2013newcsv='data/FERplus/fer2013new.csv'\n",
    "dataset = FERdataset(path_fer2013csv, path_fer2013newcsv)"
   ]
  },
  {
   "cell_type": "code",
   "execution_count": 6,
   "metadata": {
    "id": "O1rzf3vdacyc"
   },
   "outputs": [],
   "source": [
    "from torch.utils.data import random_split"
   ]
  },
  {
   "cell_type": "code",
   "execution_count": 7,
   "metadata": {
    "id": "u0CzyG0Kcs9q"
   },
   "outputs": [],
   "source": [
    "traindataset, valdataset, testdataset = random_split(dataset, [int(0.6*len(dataset)), int(0.2*len(dataset)), len(dataset) - (int(0.6*len(dataset)) + int(0.2*len(dataset)))], generator=torch.Generator().manual_seed(42))"
   ]
  },
  {
   "cell_type": "code",
   "execution_count": 8,
   "metadata": {
    "colab": {
     "base_uri": "https://localhost:8080/"
    },
    "id": "sTaYM3fEcusm",
    "outputId": "9e2945f9-5873-4cb3-ac06-9b2da0e12599"
   },
   "outputs": [
    {
     "name": "stdout",
     "output_type": "stream",
     "text": [
      "traindataset length: 21532\n",
      "valdataset length: 7177\n",
      "testdataset length: 7178\n"
     ]
    }
   ],
   "source": [
    "print(f'traindataset length: {len(traindataset)}')\n",
    "print(f'valdataset length: {len(valdataset)}')\n",
    "print(f'testdataset length: {len(testdataset)}')"
   ]
  },
  {
   "cell_type": "code",
   "execution_count": 9,
   "metadata": {
    "colab": {
     "base_uri": "https://localhost:8080/"
    },
    "id": "XXRdd2PPcxJu",
    "outputId": "40c7e947-33f8-4f6a-ee53-a60659953faa"
   },
   "outputs": [
    {
     "data": {
      "text/plain": [
       "9"
      ]
     },
     "execution_count": 9,
     "metadata": {},
     "output_type": "execute_result"
    }
   ],
   "source": [
    "len(dataset.fer2013newlabels)"
   ]
  },
  {
   "cell_type": "code",
   "execution_count": 31,
   "metadata": {
    "id": "WvDejjvKczt0"
   },
   "outputs": [],
   "source": [
    "class Model2(nn.Module):\n",
    "    def __init__(self, drop=0.2):\n",
    "        super().__init__()\n",
    "\n",
    "        self.conv1a = nn.Conv2d(in_channels=1, out_channels=64, kernel_size=3, padding=1)\n",
    "        self.conv1b = nn.Conv2d(64, out_channels=64, kernel_size=3, padding=1)\n",
    "\n",
    "        self.conv2a = nn.Conv2d(64, 128, 3, padding=1)\n",
    "        self.conv2b = nn.Conv2d(128, 128, 3, padding=1)\n",
    "\n",
    "        self.conv3a = nn.Conv2d(128, 256, 3, padding=1)\n",
    "        self.conv3b = nn.Conv2d(256, 256, 3, padding=1)\n",
    "\n",
    "        # self.conv4a = nn.Conv2d(256, 512, 3, padding=1)\n",
    "        # self.conv4b = nn.Conv2d(512, 512, 3, padding=1)\n",
    "\n",
    "        self.pool = nn.MaxPool2d(kernel_size=2, stride=2)\n",
    "\n",
    "        self.bn1a = nn.BatchNorm2d(64)\n",
    "        self.bn1b = nn.BatchNorm2d(64)\n",
    "\n",
    "        self.bn2a = nn.BatchNorm2d(128)\n",
    "        self.bn2b = nn.BatchNorm2d(128)\n",
    "\n",
    "        self.bn3a = nn.BatchNorm2d(256)\n",
    "        self.bn3b = nn.BatchNorm2d(256)\n",
    "\n",
    "        # self.bn4a = nn.BatchNorm2d(512)\n",
    "        # self.bn4b = nn.BatchNorm2d(512)\n",
    "\n",
    "        # self.lin1 = nn.Linear(512 * 2 * 2, 4096)\n",
    "        self.lin1 = nn.Linear(256 * 6 * 6, 4096)\n",
    "        self.lin2 = nn.Linear(4096, 4096)\n",
    "\n",
    "        # self.lin3 = nn.Linear(4096, 7)\n",
    "        # output size changed to 9 because we're using the fer plus labels, not the fer 2013 labels\n",
    "        self.lin3 = nn.Linear(4096, 9)\n",
    "\n",
    "        self.drop = nn.Dropout(p=drop)\n",
    "\n",
    "    def forward(self, x):\n",
    "        x = F.relu(self.bn1a(self.conv1a(x)))\n",
    "        x = F.relu(self.bn1b(self.conv1b(x)))\n",
    "        x = self.pool(x)\n",
    "\n",
    "        x = F.relu(self.bn2a(self.conv2a(x)))\n",
    "        x = F.relu(self.bn2b(self.conv2b(x)))\n",
    "        x = self.pool(x)\n",
    "\n",
    "        x = F.relu(self.bn3a(self.conv3a(x)))\n",
    "        x = F.relu(self.bn3b(self.conv3b(x)))\n",
    "        x = self.pool(x)\n",
    "\n",
    "        # x = F.relu(self.bn4a(self.conv4a(x)))\n",
    "        # x = F.relu(self.bn4b(self.conv4b(x)))\n",
    "        # x = self.pool(x)\n",
    "        \n",
    "        # x = x.view(-1, 512 * 2 * 2) - replaced by torch.flatten\n",
    "        x = torch.flatten(x, 1)\n",
    "        x = F.relu(self.drop(self.lin1(x)))\n",
    "        x = F.relu(self.drop(self.lin2(x)))\n",
    "        x = self.lin3(x)\n",
    "        \n",
    "        return x"
   ]
  },
  {
   "cell_type": "code",
   "execution_count": 32,
   "metadata": {
    "id": "QLoKZXK6c3lh"
   },
   "outputs": [],
   "source": [
    "device = torch.device('cuda' if torch.cuda.is_available() else 'cpu')"
   ]
  },
  {
   "cell_type": "code",
   "execution_count": 33,
   "metadata": {
    "id": "TI14oi7Sc5ky"
   },
   "outputs": [],
   "source": [
    "model2 = Model2().to(device)"
   ]
  },
  {
   "cell_type": "code",
   "execution_count": 34,
   "metadata": {
    "colab": {
     "base_uri": "https://localhost:8080/"
    },
    "id": "H4pC84zJc7hw",
    "outputId": "8667f13d-8b4b-4f03-9032-9964be14ac1f"
   },
   "outputs": [
    {
     "data": {
      "text/plain": [
       "Model2(\n",
       "  (conv1a): Conv2d(1, 64, kernel_size=(3, 3), stride=(1, 1), padding=(1, 1))\n",
       "  (conv1b): Conv2d(64, 64, kernel_size=(3, 3), stride=(1, 1), padding=(1, 1))\n",
       "  (conv2a): Conv2d(64, 128, kernel_size=(3, 3), stride=(1, 1), padding=(1, 1))\n",
       "  (conv2b): Conv2d(128, 128, kernel_size=(3, 3), stride=(1, 1), padding=(1, 1))\n",
       "  (conv3a): Conv2d(128, 256, kernel_size=(3, 3), stride=(1, 1), padding=(1, 1))\n",
       "  (conv3b): Conv2d(256, 256, kernel_size=(3, 3), stride=(1, 1), padding=(1, 1))\n",
       "  (pool): MaxPool2d(kernel_size=2, stride=2, padding=0, dilation=1, ceil_mode=False)\n",
       "  (bn1a): BatchNorm2d(64, eps=1e-05, momentum=0.1, affine=True, track_running_stats=True)\n",
       "  (bn1b): BatchNorm2d(64, eps=1e-05, momentum=0.1, affine=True, track_running_stats=True)\n",
       "  (bn2a): BatchNorm2d(128, eps=1e-05, momentum=0.1, affine=True, track_running_stats=True)\n",
       "  (bn2b): BatchNorm2d(128, eps=1e-05, momentum=0.1, affine=True, track_running_stats=True)\n",
       "  (bn3a): BatchNorm2d(256, eps=1e-05, momentum=0.1, affine=True, track_running_stats=True)\n",
       "  (bn3b): BatchNorm2d(256, eps=1e-05, momentum=0.1, affine=True, track_running_stats=True)\n",
       "  (lin1): Linear(in_features=9216, out_features=4096, bias=True)\n",
       "  (lin2): Linear(in_features=4096, out_features=4096, bias=True)\n",
       "  (lin3): Linear(in_features=4096, out_features=9, bias=True)\n",
       "  (drop): Dropout(p=0.2, inplace=False)\n",
       ")"
      ]
     },
     "execution_count": 34,
     "metadata": {},
     "output_type": "execute_result"
    }
   ],
   "source": [
    "model2"
   ]
  },
  {
   "cell_type": "code",
   "execution_count": 35,
   "metadata": {
    "colab": {
     "base_uri": "https://localhost:8080/"
    },
    "id": "v8Bm4h24c-bB",
    "outputId": "57d98c50-00ef-481f-b39f-77d22fee2c17"
   },
   "outputs": [
    {
     "data": {
      "text/plain": [
       "True"
      ]
     },
     "execution_count": 35,
     "metadata": {},
     "output_type": "execute_result"
    }
   ],
   "source": [
    "torch.cuda.is_available()"
   ]
  },
  {
   "cell_type": "code",
   "execution_count": 36,
   "metadata": {
    "id": "frApCVfodBQF"
   },
   "outputs": [],
   "source": [
    "# parameters\n",
    "epochs = 20\n",
    "batch_size = 100"
   ]
  },
  {
   "cell_type": "code",
   "execution_count": 37,
   "metadata": {
    "id": "knn46fGjdQgp"
   },
   "outputs": [],
   "source": [
    "trainloader = DataLoader(traindataset, batch_size, shuffle=True)\n",
    "valloader = DataLoader(valdataset, batch_size, shuffle=True)"
   ]
  },
  {
   "cell_type": "code",
   "execution_count": 38,
   "metadata": {
    "id": "Z2tj5lU9dWtI"
   },
   "outputs": [],
   "source": [
    "criterion = nn.CrossEntropyLoss()\n",
    "optimizer = optim.Adam(model2.parameters())"
   ]
  },
  {
   "cell_type": "code",
   "execution_count": 39,
   "metadata": {
    "id": "cRTyITkMkiC5"
   },
   "outputs": [],
   "source": [
    "from sklearn.metrics import accuracy_score, confusion_matrix\n",
    "import seaborn as sns"
   ]
  },
  {
   "cell_type": "code",
   "execution_count": 40,
   "metadata": {
    "colab": {
     "base_uri": "https://localhost:8080/"
    },
    "id": "joa-1_FTdYzY",
    "outputId": "ac39922e-c7a8-4d58-91f8-34d492e32801"
   },
   "outputs": [
    {
     "name": "stdout",
     "output_type": "stream",
     "text": [
      "epoch: 0, iteration: 0, loss: 2.23971, val_loss: 1.78202, acc: 0.01000, val_acc: 0.38961\n",
      "epoch: 0, iteration: 20, loss: 1.84514, val_loss: 1.88575, acc: 0.28000, val_acc: 0.22078\n",
      "epoch: 0, iteration: 40, loss: 1.86203, val_loss: 1.92214, acc: 0.35000, val_acc: 0.29870\n",
      "epoch: 0, iteration: 60, loss: 1.83726, val_loss: 1.73031, acc: 0.28000, val_acc: 0.35065\n",
      "epoch: 0, iteration: 80, loss: 1.80682, val_loss: 1.78957, acc: 0.30000, val_acc: 0.35065\n",
      "epoch: 0, iteration: 100, loss: 1.75506, val_loss: 1.76623, acc: 0.38000, val_acc: 0.33766\n",
      "epoch: 0, iteration: 120, loss: 1.80598, val_loss: 1.82711, acc: 0.37000, val_acc: 0.32468\n",
      "epoch: 0, iteration: 140, loss: 1.79194, val_loss: 1.78981, acc: 0.35000, val_acc: 0.41558\n",
      "epoch: 0, iteration: 160, loss: 1.82889, val_loss: 1.83711, acc: 0.36000, val_acc: 0.44156\n",
      "epoch: 0, iteration: 180, loss: 1.74100, val_loss: 1.78292, acc: 0.42000, val_acc: 0.40260\n",
      "epoch: 0, iteration: 200, loss: 1.69782, val_loss: 1.67087, acc: 0.42000, val_acc: 0.37662\n",
      "epoch: 1, iteration: 0, loss: 1.88474, val_loss: 1.78817, acc: 0.23000, val_acc: 0.29870\n",
      "epoch: 1, iteration: 20, loss: 1.75068, val_loss: 1.71785, acc: 0.31000, val_acc: 0.25974\n",
      "epoch: 1, iteration: 40, loss: 1.78839, val_loss: 1.77965, acc: 0.47000, val_acc: 0.32468\n",
      "epoch: 1, iteration: 60, loss: 1.75030, val_loss: 1.82220, acc: 0.39000, val_acc: 0.35065\n",
      "epoch: 1, iteration: 80, loss: 1.70809, val_loss: 1.67884, acc: 0.38000, val_acc: 0.37662\n",
      "epoch: 1, iteration: 100, loss: 1.69551, val_loss: 1.64109, acc: 0.42000, val_acc: 0.50649\n",
      "epoch: 1, iteration: 120, loss: 1.62653, val_loss: 1.68110, acc: 0.45000, val_acc: 0.40260\n",
      "epoch: 1, iteration: 140, loss: 1.73223, val_loss: 1.81716, acc: 0.45000, val_acc: 0.40260\n",
      "epoch: 1, iteration: 160, loss: 1.64916, val_loss: 1.72775, acc: 0.51000, val_acc: 0.44156\n",
      "epoch: 1, iteration: 180, loss: 1.48915, val_loss: 1.58947, acc: 0.62000, val_acc: 0.49351\n",
      "epoch: 1, iteration: 200, loss: 1.57767, val_loss: 1.70373, acc: 0.51000, val_acc: 0.44156\n",
      "epoch: 2, iteration: 0, loss: 1.69549, val_loss: 1.57618, acc: 0.49000, val_acc: 0.51948\n",
      "epoch: 2, iteration: 20, loss: 1.62985, val_loss: 1.53953, acc: 0.50000, val_acc: 0.57143\n",
      "epoch: 2, iteration: 40, loss: 1.60298, val_loss: 1.58453, acc: 0.56000, val_acc: 0.50649\n",
      "epoch: 2, iteration: 60, loss: 1.73571, val_loss: 1.71562, acc: 0.55000, val_acc: 0.61039\n",
      "epoch: 2, iteration: 80, loss: 1.64327, val_loss: 1.50261, acc: 0.51000, val_acc: 0.62338\n",
      "epoch: 2, iteration: 100, loss: 1.37834, val_loss: 1.28904, acc: 0.61000, val_acc: 0.67532\n",
      "epoch: 2, iteration: 120, loss: 1.41963, val_loss: 1.47373, acc: 0.58000, val_acc: 0.63636\n",
      "epoch: 2, iteration: 140, loss: 1.42462, val_loss: 1.56428, acc: 0.55000, val_acc: 0.54545\n",
      "epoch: 2, iteration: 160, loss: 1.35408, val_loss: 1.41958, acc: 0.67000, val_acc: 0.59740\n",
      "epoch: 2, iteration: 180, loss: 1.20762, val_loss: 1.45654, acc: 0.67000, val_acc: 0.58442\n",
      "epoch: 2, iteration: 200, loss: 1.35580, val_loss: 1.40911, acc: 0.63000, val_acc: 0.63636\n",
      "epoch: 3, iteration: 0, loss: 1.50296, val_loss: 1.34679, acc: 0.58000, val_acc: 0.66234\n",
      "epoch: 3, iteration: 20, loss: 1.38757, val_loss: 1.39677, acc: 0.62000, val_acc: 0.61039\n",
      "epoch: 3, iteration: 40, loss: 1.37899, val_loss: 1.47088, acc: 0.61000, val_acc: 0.51948\n",
      "epoch: 3, iteration: 60, loss: 1.31222, val_loss: 1.30637, acc: 0.72000, val_acc: 0.64935\n",
      "epoch: 3, iteration: 80, loss: 1.31168, val_loss: 1.45677, acc: 0.64000, val_acc: 0.58442\n",
      "epoch: 3, iteration: 100, loss: 1.37652, val_loss: 1.51199, acc: 0.58000, val_acc: 0.61039\n",
      "epoch: 3, iteration: 120, loss: 1.29128, val_loss: 1.39761, acc: 0.69000, val_acc: 0.62338\n",
      "epoch: 3, iteration: 140, loss: 1.54396, val_loss: 1.35489, acc: 0.58000, val_acc: 0.62338\n",
      "epoch: 3, iteration: 160, loss: 1.33740, val_loss: 1.38753, acc: 0.73000, val_acc: 0.61039\n",
      "epoch: 3, iteration: 180, loss: 1.34692, val_loss: 1.25238, acc: 0.67000, val_acc: 0.67532\n",
      "epoch: 3, iteration: 200, loss: 1.34426, val_loss: 1.21410, acc: 0.61000, val_acc: 0.72727\n",
      "epoch: 4, iteration: 0, loss: 1.06601, val_loss: 1.43949, acc: 0.75000, val_acc: 0.61039\n",
      "epoch: 4, iteration: 20, loss: 1.31524, val_loss: 1.25966, acc: 0.60000, val_acc: 0.63636\n",
      "epoch: 4, iteration: 40, loss: 1.40777, val_loss: 1.37426, acc: 0.56000, val_acc: 0.61039\n",
      "epoch: 4, iteration: 60, loss: 1.33388, val_loss: 1.44577, acc: 0.58000, val_acc: 0.55844\n",
      "epoch: 4, iteration: 80, loss: 1.35787, val_loss: 1.31634, acc: 0.68000, val_acc: 0.72727\n",
      "epoch: 4, iteration: 100, loss: 1.20023, val_loss: 1.24009, acc: 0.75000, val_acc: 0.63636\n",
      "epoch: 4, iteration: 120, loss: 1.23535, val_loss: 1.24591, acc: 0.72000, val_acc: 0.70130\n",
      "epoch: 4, iteration: 140, loss: 1.22553, val_loss: 1.22163, acc: 0.69000, val_acc: 0.67532\n",
      "epoch: 4, iteration: 160, loss: 1.24510, val_loss: 1.30452, acc: 0.66000, val_acc: 0.74026\n",
      "epoch: 4, iteration: 180, loss: 1.35692, val_loss: 1.31411, acc: 0.63000, val_acc: 0.66234\n",
      "epoch: 4, iteration: 200, loss: 1.18997, val_loss: 1.20676, acc: 0.73000, val_acc: 0.77922\n",
      "epoch: 5, iteration: 0, loss: 1.18937, val_loss: 1.21285, acc: 0.71000, val_acc: 0.68831\n",
      "epoch: 5, iteration: 20, loss: 1.33852, val_loss: 1.20597, acc: 0.73000, val_acc: 0.74026\n",
      "epoch: 5, iteration: 40, loss: 1.25221, val_loss: 1.02337, acc: 0.68000, val_acc: 0.77922\n",
      "epoch: 5, iteration: 60, loss: 1.26684, val_loss: 1.26240, acc: 0.67000, val_acc: 0.75325\n",
      "epoch: 5, iteration: 80, loss: 1.22839, val_loss: 1.14029, acc: 0.64000, val_acc: 0.68831\n",
      "epoch: 5, iteration: 100, loss: 1.27392, val_loss: 1.24571, acc: 0.67000, val_acc: 0.70130\n",
      "epoch: 5, iteration: 120, loss: 1.11876, val_loss: 1.06924, acc: 0.79000, val_acc: 0.75325\n",
      "epoch: 5, iteration: 140, loss: 1.13729, val_loss: 1.25496, acc: 0.70000, val_acc: 0.74026\n",
      "epoch: 5, iteration: 160, loss: 1.10889, val_loss: 1.27855, acc: 0.72000, val_acc: 0.68831\n",
      "epoch: 5, iteration: 180, loss: 1.19752, val_loss: 1.21245, acc: 0.71000, val_acc: 0.66234\n",
      "epoch: 5, iteration: 200, loss: 1.14409, val_loss: 1.13946, acc: 0.81000, val_acc: 0.77922\n",
      "epoch: 6, iteration: 0, loss: 1.23114, val_loss: 1.14608, acc: 0.69000, val_acc: 0.76623\n",
      "epoch: 6, iteration: 20, loss: 1.16060, val_loss: 1.29394, acc: 0.77000, val_acc: 0.67532\n",
      "epoch: 6, iteration: 40, loss: 1.04164, val_loss: 1.27917, acc: 0.76000, val_acc: 0.66234\n",
      "epoch: 6, iteration: 60, loss: 1.15437, val_loss: 1.05344, acc: 0.69000, val_acc: 0.75325\n",
      "epoch: 6, iteration: 80, loss: 1.22772, val_loss: 1.26980, acc: 0.66000, val_acc: 0.62338\n",
      "epoch: 6, iteration: 100, loss: 1.18751, val_loss: 1.11607, acc: 0.71000, val_acc: 0.71429\n",
      "epoch: 6, iteration: 120, loss: 1.19305, val_loss: 1.18765, acc: 0.77000, val_acc: 0.70130\n",
      "epoch: 6, iteration: 140, loss: 1.18873, val_loss: 1.19722, acc: 0.74000, val_acc: 0.72727\n",
      "epoch: 6, iteration: 160, loss: 1.14666, val_loss: 1.01985, acc: 0.73000, val_acc: 0.76623\n",
      "epoch: 6, iteration: 180, loss: 1.16097, val_loss: 1.08079, acc: 0.73000, val_acc: 0.79221\n",
      "epoch: 6, iteration: 200, loss: 1.14080, val_loss: 1.29700, acc: 0.73000, val_acc: 0.62338\n",
      "epoch: 7, iteration: 0, loss: 1.16100, val_loss: 1.23943, acc: 0.68000, val_acc: 0.66234\n",
      "epoch: 7, iteration: 20, loss: 1.28991, val_loss: 0.96143, acc: 0.67000, val_acc: 0.85714\n",
      "epoch: 7, iteration: 40, loss: 1.09398, val_loss: 1.19846, acc: 0.71000, val_acc: 0.76623\n",
      "epoch: 7, iteration: 60, loss: 1.13590, val_loss: 1.16245, acc: 0.75000, val_acc: 0.76623\n",
      "epoch: 7, iteration: 80, loss: 0.92450, val_loss: 1.20369, acc: 0.81000, val_acc: 0.72727\n",
      "epoch: 7, iteration: 100, loss: 1.08986, val_loss: 1.15697, acc: 0.75000, val_acc: 0.79221\n",
      "epoch: 7, iteration: 120, loss: 1.11992, val_loss: 1.25863, acc: 0.76000, val_acc: 0.74026\n",
      "epoch: 7, iteration: 140, loss: 1.14335, val_loss: 1.08644, acc: 0.71000, val_acc: 0.75325\n",
      "epoch: 7, iteration: 160, loss: 1.20852, val_loss: 1.17262, acc: 0.75000, val_acc: 0.75325\n",
      "epoch: 7, iteration: 180, loss: 1.23439, val_loss: 1.21997, acc: 0.70000, val_acc: 0.72727\n",
      "epoch: 7, iteration: 200, loss: 1.05235, val_loss: 1.15884, acc: 0.73000, val_acc: 0.72727\n",
      "epoch: 8, iteration: 0, loss: 1.07089, val_loss: 1.17094, acc: 0.82000, val_acc: 0.72727\n",
      "epoch: 8, iteration: 20, loss: 1.04585, val_loss: 1.10921, acc: 0.72000, val_acc: 0.75325\n",
      "epoch: 8, iteration: 40, loss: 1.14621, val_loss: 1.17063, acc: 0.72000, val_acc: 0.70130\n",
      "epoch: 8, iteration: 60, loss: 1.08605, val_loss: 1.05262, acc: 0.74000, val_acc: 0.79221\n",
      "epoch: 8, iteration: 80, loss: 1.06161, val_loss: 1.22974, acc: 0.81000, val_acc: 0.67532\n",
      "epoch: 8, iteration: 100, loss: 1.24099, val_loss: 1.34381, acc: 0.71000, val_acc: 0.58442\n",
      "epoch: 8, iteration: 120, loss: 1.25989, val_loss: 1.19781, acc: 0.71000, val_acc: 0.71429\n",
      "epoch: 8, iteration: 140, loss: 1.10152, val_loss: 1.17671, acc: 0.71000, val_acc: 0.72727\n",
      "epoch: 8, iteration: 160, loss: 1.06230, val_loss: 1.10195, acc: 0.77000, val_acc: 0.80519\n",
      "epoch: 8, iteration: 180, loss: 1.13066, val_loss: 1.15638, acc: 0.74000, val_acc: 0.68831\n",
      "epoch: 8, iteration: 200, loss: 1.27117, val_loss: 1.28236, acc: 0.66000, val_acc: 0.71429\n",
      "epoch: 9, iteration: 0, loss: 1.06776, val_loss: 1.06740, acc: 0.80000, val_acc: 0.76623\n",
      "epoch: 9, iteration: 20, loss: 1.03060, val_loss: 0.97745, acc: 0.79000, val_acc: 0.83117\n",
      "epoch: 9, iteration: 40, loss: 1.12575, val_loss: 1.04711, acc: 0.75000, val_acc: 0.72727\n",
      "epoch: 9, iteration: 60, loss: 0.97672, val_loss: 1.21007, acc: 0.85000, val_acc: 0.75325\n",
      "epoch: 9, iteration: 80, loss: 1.04547, val_loss: 1.01418, acc: 0.80000, val_acc: 0.80519\n",
      "epoch: 9, iteration: 100, loss: 1.17395, val_loss: 1.01534, acc: 0.71000, val_acc: 0.75325\n",
      "epoch: 9, iteration: 120, loss: 1.04003, val_loss: 1.18784, acc: 0.80000, val_acc: 0.71429\n",
      "epoch: 9, iteration: 140, loss: 1.06408, val_loss: 1.19586, acc: 0.80000, val_acc: 0.77922\n",
      "epoch: 9, iteration: 160, loss: 1.04588, val_loss: 1.17019, acc: 0.76000, val_acc: 0.80519\n",
      "epoch: 9, iteration: 180, loss: 1.07756, val_loss: 1.15580, acc: 0.77000, val_acc: 0.72727\n",
      "epoch: 9, iteration: 200, loss: 1.08047, val_loss: 1.12338, acc: 0.79000, val_acc: 0.77922\n",
      "epoch: 10, iteration: 0, loss: 0.97973, val_loss: 1.05813, acc: 0.87000, val_acc: 0.71429\n",
      "epoch: 10, iteration: 20, loss: 0.90292, val_loss: 1.18176, acc: 0.86000, val_acc: 0.68831\n",
      "epoch: 10, iteration: 40, loss: 0.95768, val_loss: 1.25350, acc: 0.83000, val_acc: 0.70130\n",
      "epoch: 10, iteration: 60, loss: 1.04007, val_loss: 1.15010, acc: 0.79000, val_acc: 0.76623\n",
      "epoch: 10, iteration: 80, loss: 1.08105, val_loss: 1.06378, acc: 0.75000, val_acc: 0.77922\n",
      "epoch: 10, iteration: 100, loss: 0.99445, val_loss: 1.05642, acc: 0.82000, val_acc: 0.72727\n",
      "epoch: 10, iteration: 120, loss: 1.03548, val_loss: 0.97729, acc: 0.79000, val_acc: 0.83117\n",
      "epoch: 10, iteration: 140, loss: 1.10915, val_loss: 0.99117, acc: 0.78000, val_acc: 0.79221\n",
      "epoch: 10, iteration: 160, loss: 1.03559, val_loss: 0.90128, acc: 0.76000, val_acc: 0.83117\n",
      "epoch: 10, iteration: 180, loss: 0.96428, val_loss: 1.05502, acc: 0.84000, val_acc: 0.81818\n",
      "epoch: 10, iteration: 200, loss: 1.09061, val_loss: 1.05443, acc: 0.74000, val_acc: 0.75325\n",
      "epoch: 11, iteration: 0, loss: 1.04245, val_loss: 1.09564, acc: 0.80000, val_acc: 0.83117\n",
      "epoch: 11, iteration: 20, loss: 0.96168, val_loss: 1.12494, acc: 0.77000, val_acc: 0.64935\n",
      "epoch: 11, iteration: 40, loss: 0.99343, val_loss: 0.97614, acc: 0.83000, val_acc: 0.84416\n",
      "epoch: 11, iteration: 60, loss: 0.93562, val_loss: 1.19535, acc: 0.88000, val_acc: 0.71429\n",
      "epoch: 11, iteration: 80, loss: 0.89634, val_loss: 1.16526, acc: 0.86000, val_acc: 0.70130\n",
      "epoch: 11, iteration: 100, loss: 1.03467, val_loss: 0.98981, acc: 0.78000, val_acc: 0.83117\n",
      "epoch: 11, iteration: 120, loss: 0.85515, val_loss: 1.10492, acc: 0.83000, val_acc: 0.80519\n",
      "epoch: 11, iteration: 140, loss: 0.98276, val_loss: 1.14915, acc: 0.79000, val_acc: 0.75325\n",
      "epoch: 11, iteration: 160, loss: 1.09418, val_loss: 1.18048, acc: 0.79000, val_acc: 0.62338\n",
      "epoch: 11, iteration: 180, loss: 1.04235, val_loss: 1.13638, acc: 0.77000, val_acc: 0.77922\n",
      "epoch: 11, iteration: 200, loss: 1.04907, val_loss: 1.14541, acc: 0.78000, val_acc: 0.67532\n",
      "epoch: 12, iteration: 0, loss: 1.19408, val_loss: 1.05046, acc: 0.73000, val_acc: 0.76623\n",
      "epoch: 12, iteration: 20, loss: 1.00660, val_loss: 0.97599, acc: 0.85000, val_acc: 0.87013\n",
      "epoch: 12, iteration: 40, loss: 0.84734, val_loss: 0.98533, acc: 0.85000, val_acc: 0.75325\n",
      "epoch: 12, iteration: 60, loss: 0.98609, val_loss: 1.00019, acc: 0.88000, val_acc: 0.80519\n",
      "epoch: 12, iteration: 80, loss: 0.96881, val_loss: 1.06488, acc: 0.88000, val_acc: 0.74026\n",
      "epoch: 12, iteration: 100, loss: 0.98992, val_loss: 1.07941, acc: 0.83000, val_acc: 0.77922\n",
      "epoch: 12, iteration: 120, loss: 0.94416, val_loss: 1.02109, acc: 0.84000, val_acc: 0.77922\n",
      "epoch: 12, iteration: 140, loss: 0.98493, val_loss: 1.11636, acc: 0.88000, val_acc: 0.72727\n",
      "epoch: 12, iteration: 160, loss: 0.99138, val_loss: 0.94124, acc: 0.80000, val_acc: 0.81818\n",
      "epoch: 12, iteration: 180, loss: 1.11657, val_loss: 1.09505, acc: 0.81000, val_acc: 0.75325\n",
      "epoch: 12, iteration: 200, loss: 1.01974, val_loss: 1.11952, acc: 0.81000, val_acc: 0.80519\n",
      "epoch: 13, iteration: 0, loss: 1.01854, val_loss: 1.24462, acc: 0.76000, val_acc: 0.66234\n",
      "epoch: 13, iteration: 20, loss: 1.05375, val_loss: 1.05888, acc: 0.80000, val_acc: 0.80519\n",
      "epoch: 13, iteration: 40, loss: 0.95744, val_loss: 1.14408, acc: 0.84000, val_acc: 0.75325\n",
      "epoch: 13, iteration: 60, loss: 0.91541, val_loss: 0.97730, acc: 0.84000, val_acc: 0.80519\n",
      "epoch: 13, iteration: 80, loss: 1.00812, val_loss: 1.12537, acc: 0.78000, val_acc: 0.76623\n",
      "epoch: 13, iteration: 100, loss: 1.09282, val_loss: 1.02700, acc: 0.78000, val_acc: 0.80519\n",
      "epoch: 13, iteration: 120, loss: 1.06332, val_loss: 1.21790, acc: 0.78000, val_acc: 0.71429\n",
      "epoch: 13, iteration: 140, loss: 1.01280, val_loss: 1.17610, acc: 0.82000, val_acc: 0.64935\n",
      "epoch: 13, iteration: 160, loss: 0.89323, val_loss: 1.02509, acc: 0.81000, val_acc: 0.80519\n",
      "epoch: 13, iteration: 180, loss: 1.14098, val_loss: 1.05683, acc: 0.77000, val_acc: 0.77922\n",
      "epoch: 13, iteration: 200, loss: 1.08095, val_loss: 1.11719, acc: 0.80000, val_acc: 0.64935\n",
      "epoch: 14, iteration: 0, loss: 0.96941, val_loss: 1.18571, acc: 0.84000, val_acc: 0.70130\n",
      "epoch: 14, iteration: 20, loss: 0.83780, val_loss: 1.10740, acc: 0.84000, val_acc: 0.84416\n",
      "epoch: 14, iteration: 40, loss: 0.95432, val_loss: 0.98545, acc: 0.92000, val_acc: 0.88312\n",
      "epoch: 14, iteration: 60, loss: 1.06114, val_loss: 1.17137, acc: 0.79000, val_acc: 0.67532\n",
      "epoch: 14, iteration: 80, loss: 0.97447, val_loss: 1.19149, acc: 0.83000, val_acc: 0.72727\n",
      "epoch: 14, iteration: 100, loss: 0.87636, val_loss: 1.10984, acc: 0.88000, val_acc: 0.67532\n",
      "epoch: 14, iteration: 120, loss: 0.93567, val_loss: 1.07539, acc: 0.83000, val_acc: 0.72727\n",
      "epoch: 14, iteration: 140, loss: 1.02221, val_loss: 1.09224, acc: 0.77000, val_acc: 0.79221\n",
      "epoch: 14, iteration: 160, loss: 0.84362, val_loss: 1.08655, acc: 0.87000, val_acc: 0.74026\n",
      "epoch: 14, iteration: 180, loss: 1.02641, val_loss: 1.11109, acc: 0.75000, val_acc: 0.80519\n",
      "epoch: 14, iteration: 200, loss: 0.91943, val_loss: 1.13100, acc: 0.90000, val_acc: 0.79221\n",
      "epoch: 15, iteration: 0, loss: 0.90453, val_loss: 1.02863, acc: 0.87000, val_acc: 0.77922\n",
      "epoch: 15, iteration: 20, loss: 0.96748, val_loss: 1.08986, acc: 0.85000, val_acc: 0.76623\n",
      "epoch: 15, iteration: 40, loss: 0.76663, val_loss: 1.04168, acc: 0.91000, val_acc: 0.80519\n",
      "epoch: 15, iteration: 60, loss: 0.92640, val_loss: 1.02900, acc: 0.83000, val_acc: 0.77922\n",
      "epoch: 15, iteration: 80, loss: 0.90237, val_loss: 1.15643, acc: 0.84000, val_acc: 0.76623\n",
      "epoch: 15, iteration: 100, loss: 0.85281, val_loss: 1.09586, acc: 0.87000, val_acc: 0.67532\n",
      "epoch: 15, iteration: 120, loss: 0.93330, val_loss: 1.00624, acc: 0.84000, val_acc: 0.77922\n",
      "epoch: 15, iteration: 140, loss: 0.85263, val_loss: 1.08709, acc: 0.88000, val_acc: 0.72727\n",
      "epoch: 15, iteration: 160, loss: 0.89816, val_loss: 1.07452, acc: 0.89000, val_acc: 0.80519\n",
      "epoch: 15, iteration: 180, loss: 0.99816, val_loss: 0.96545, acc: 0.85000, val_acc: 0.83117\n",
      "epoch: 15, iteration: 200, loss: 0.96384, val_loss: 1.06704, acc: 0.82000, val_acc: 0.79221\n",
      "epoch: 16, iteration: 0, loss: 0.92969, val_loss: 1.18925, acc: 0.89000, val_acc: 0.75325\n",
      "epoch: 16, iteration: 20, loss: 0.84704, val_loss: 1.12091, acc: 0.87000, val_acc: 0.71429\n",
      "epoch: 16, iteration: 40, loss: 1.02924, val_loss: 0.96086, acc: 0.79000, val_acc: 0.84416\n",
      "epoch: 16, iteration: 60, loss: 0.98746, val_loss: 0.97226, acc: 0.81000, val_acc: 0.85714\n",
      "epoch: 16, iteration: 80, loss: 0.93804, val_loss: 1.01697, acc: 0.85000, val_acc: 0.79221\n",
      "epoch: 16, iteration: 100, loss: 0.94755, val_loss: 1.11702, acc: 0.81000, val_acc: 0.77922\n",
      "epoch: 16, iteration: 120, loss: 0.92187, val_loss: 1.05581, acc: 0.87000, val_acc: 0.74026\n",
      "epoch: 16, iteration: 140, loss: 0.92292, val_loss: 1.02695, acc: 0.80000, val_acc: 0.77922\n",
      "epoch: 16, iteration: 160, loss: 0.99216, val_loss: 0.96806, acc: 0.84000, val_acc: 0.77922\n",
      "epoch: 16, iteration: 180, loss: 1.04584, val_loss: 0.93694, acc: 0.82000, val_acc: 0.90909\n",
      "epoch: 16, iteration: 200, loss: 0.89485, val_loss: 1.18561, acc: 0.84000, val_acc: 0.77922\n",
      "epoch: 17, iteration: 0, loss: 0.94877, val_loss: 1.03188, acc: 0.89000, val_acc: 0.76623\n",
      "epoch: 17, iteration: 20, loss: 0.91249, val_loss: 0.89519, acc: 0.87000, val_acc: 0.85714\n",
      "epoch: 17, iteration: 40, loss: 0.95156, val_loss: 1.15620, acc: 0.83000, val_acc: 0.75325\n",
      "epoch: 17, iteration: 60, loss: 0.90967, val_loss: 1.04882, acc: 0.91000, val_acc: 0.80519\n",
      "epoch: 17, iteration: 80, loss: 0.86842, val_loss: 1.14410, acc: 0.90000, val_acc: 0.75325\n",
      "epoch: 17, iteration: 100, loss: 1.02185, val_loss: 0.98225, acc: 0.80000, val_acc: 0.74026\n",
      "epoch: 17, iteration: 120, loss: 0.89901, val_loss: 1.15365, acc: 0.82000, val_acc: 0.68831\n",
      "epoch: 17, iteration: 140, loss: 0.81980, val_loss: 1.14614, acc: 0.86000, val_acc: 0.68831\n",
      "epoch: 17, iteration: 160, loss: 0.88479, val_loss: 1.05323, acc: 0.79000, val_acc: 0.77922\n",
      "epoch: 17, iteration: 180, loss: 0.90882, val_loss: 1.11040, acc: 0.87000, val_acc: 0.75325\n",
      "epoch: 17, iteration: 200, loss: 0.77390, val_loss: 1.16404, acc: 0.88000, val_acc: 0.75325\n",
      "epoch: 18, iteration: 0, loss: 0.83106, val_loss: 1.08194, acc: 0.91000, val_acc: 0.76623\n",
      "epoch: 18, iteration: 20, loss: 0.84774, val_loss: 1.09377, acc: 0.89000, val_acc: 0.79221\n",
      "epoch: 18, iteration: 40, loss: 0.93555, val_loss: 1.01495, acc: 0.86000, val_acc: 0.79221\n",
      "epoch: 18, iteration: 60, loss: 0.99726, val_loss: 1.13094, acc: 0.87000, val_acc: 0.79221\n",
      "epoch: 18, iteration: 80, loss: 0.93263, val_loss: 1.05872, acc: 0.81000, val_acc: 0.81818\n",
      "epoch: 18, iteration: 100, loss: 0.92870, val_loss: 1.02106, acc: 0.88000, val_acc: 0.80519\n",
      "epoch: 18, iteration: 120, loss: 0.82772, val_loss: 1.18738, acc: 0.92000, val_acc: 0.71429\n",
      "epoch: 18, iteration: 140, loss: 0.84026, val_loss: 0.93774, acc: 0.85000, val_acc: 0.80519\n",
      "epoch: 18, iteration: 160, loss: 0.86324, val_loss: 1.07096, acc: 0.89000, val_acc: 0.83117\n",
      "epoch: 18, iteration: 180, loss: 0.97172, val_loss: 0.99790, acc: 0.82000, val_acc: 0.81818\n",
      "epoch: 18, iteration: 200, loss: 0.95372, val_loss: 1.11435, acc: 0.83000, val_acc: 0.77922\n",
      "epoch: 19, iteration: 0, loss: 0.84906, val_loss: 1.11723, acc: 0.90000, val_acc: 0.76623\n",
      "epoch: 19, iteration: 20, loss: 0.96460, val_loss: 1.02284, acc: 0.79000, val_acc: 0.77922\n",
      "epoch: 19, iteration: 40, loss: 0.91558, val_loss: 1.08718, acc: 0.85000, val_acc: 0.79221\n",
      "epoch: 19, iteration: 60, loss: 0.86750, val_loss: 1.06244, acc: 0.90000, val_acc: 0.77922\n",
      "epoch: 19, iteration: 80, loss: 0.90859, val_loss: 0.97241, acc: 0.84000, val_acc: 0.76623\n",
      "epoch: 19, iteration: 100, loss: 0.97021, val_loss: 0.90324, acc: 0.83000, val_acc: 0.81818\n",
      "epoch: 19, iteration: 120, loss: 1.01592, val_loss: 1.13292, acc: 0.85000, val_acc: 0.75325\n",
      "epoch: 19, iteration: 140, loss: 0.91153, val_loss: 0.95095, acc: 0.84000, val_acc: 0.83117\n",
      "epoch: 19, iteration: 160, loss: 0.83930, val_loss: 0.99671, acc: 0.90000, val_acc: 0.79221\n",
      "epoch: 19, iteration: 180, loss: 0.95046, val_loss: 1.03778, acc: 0.92000, val_acc: 0.74026\n",
      "epoch: 19, iteration: 200, loss: 0.91415, val_loss: 0.99008, acc: 0.84000, val_acc: 0.81818\n"
     ]
    }
   ],
   "source": [
    "running_loss = []\n",
    "running_val_loss = []\n",
    "alltrainacc = []\n",
    "allvalacc = []\n",
    "\n",
    "print_every = 20\n",
    "for e in range(epochs):\n",
    "    for i,(images, labels) in enumerate(trainloader):\n",
    "        model2.train()\n",
    "        images.unsqueeze_(1)\n",
    "        images = images.to(device)\n",
    "        labels = labels.to(device)\n",
    "\n",
    "        optimizer.zero_grad()\n",
    "        output = model2(images)\n",
    "        loss = criterion(output, labels)\n",
    "        loss.backward()\n",
    "        optimizer.step()\n",
    "\n",
    "        running_loss.append(loss.item())\n",
    "        \n",
    "        if i%print_every == 0:\n",
    "            # torch.save(vggmodel.state_dict(), os.path.join('/models', 'decoder-%d.pkl' % i))\n",
    "            model2.eval()\n",
    "            with torch.no_grad():\n",
    "                for j,(valimages, vallabels) in enumerate(valloader):\n",
    "                    val_loss_list = []\n",
    "                    valimages.unsqueeze_(1)\n",
    "                    valimages = valimages.to(device)\n",
    "                    vallabels = vallabels.to(device)\n",
    "                    \n",
    "                    val_output = model2(valimages)\n",
    "                    val_loss = criterion(val_output, vallabels)\n",
    "\n",
    "                    val_loss_list.append(val_loss.item())\n",
    "                    \n",
    "                    # to calculate training accuracy\n",
    "                    trueargmax = torch.argmax(labels, dim=1)\n",
    "                    truelabels = trueargmax.cpu().detach().numpy()\n",
    "                    predargmax = torch.argmax(output, dim=1)\n",
    "                    predlabels = predargmax.cpu().detach().numpy()\n",
    "                    \n",
    "                    # to calculate validation accuracy\n",
    "                    valtrueargmax = torch.argmax(vallabels, dim=1)\n",
    "                    valtruelabels = valtrueargmax.cpu().detach().numpy()\n",
    "                    valpredargmax = torch.argmax(val_output, dim=1)\n",
    "                    valpredlabels = valpredargmax.cpu().detach().numpy()                    \n",
    "\n",
    "                val_loss_avg = sum(val_loss_list) / len(val_loss_list)\n",
    "                \n",
    "            # calculate training and validation accuracy\n",
    "            batchtrainacc = accuracy_score(truelabels, predlabels)\n",
    "            batchvalacc = accuracy_score(valtruelabels, valpredlabels)\n",
    "            \n",
    "            # store the training and validation accuracies \n",
    "            alltrainacc.append(batchtrainacc)\n",
    "            allvalacc.append(batchvalacc)\n",
    "\n",
    "            running_val_loss.append(val_loss_avg)\n",
    "            print(f'epoch: {e}, iteration: {i}, loss: {loss.item():.5f}, val_loss: {val_loss_avg:.5f}, acc: {batchtrainacc:.5f}, val_acc: {batchvalacc:.5f}')"
   ]
  },
  {
   "cell_type": "code",
   "execution_count": 41,
   "metadata": {
    "colab": {
     "base_uri": "https://localhost:8080/",
     "height": 295
    },
    "id": "zaXx_WmKdfLx",
    "outputId": "564807bc-4200-4ab7-ca8f-9b4f4b6c230a"
   },
   "outputs": [
    {
     "data": {
      "image/png": "[encoded data removed]",
      "text/plain": [
       "<Figure size 432x288 with 1 Axes>"
      ]
     },
     "metadata": {
      "needs_background": "light"
     },
     "output_type": "display_data"
    }
   ],
   "source": [
    "ind = 10\n",
    "plt.plot(np.arange(len(running_loss[ind:])), running_loss[ind:], label='training loss')\n",
    "plt.plot(np.arange(len(running_val_loss[ind:]))*print_every, running_val_loss[10:], label='validation loss')\n",
    "plt.xlabel('iterations')\n",
    "plt.ylabel('loss')\n",
    "plt.title('training and validation loss')\n",
    "plt.legend()\n",
    "plt.show()"
   ]
  },
  {
   "cell_type": "code",
   "execution_count": 42,
   "metadata": {
    "colab": {
     "base_uri": "https://localhost:8080/",
     "height": 295
    },
    "id": "ykK5KhE5kyeM",
    "outputId": "1ae39948-2ebe-4f89-94fd-dff28820b8dd"
   },
   "outputs": [
    {
     "data": {
      "image/png": "[encoded data removed]",
      "text/plain": [
       "<Figure size 432x288 with 1 Axes>"
      ]
     },
     "metadata": {
      "needs_background": "light"
     },
     "output_type": "display_data"
    }
   ],
   "source": [
    "plt.plot(np.arange(len(alltrainacc))*print_every, alltrainacc, label='training acc')\n",
    "plt.plot(np.arange(len(allvalacc))*print_every, allvalacc, label='validation acc')\n",
    "plt.xlabel('iterations')\n",
    "plt.ylabel('accuracy')\n",
    "plt.title('training and validation accuracy')\n",
    "plt.legend()\n",
    "plt.show()"
   ]
  },
  {
   "cell_type": "markdown",
   "metadata": {
    "id": "5ZftQ_VSddbE"
   },
   "source": [
    "### Let's run the model on the test data"
   ]
  },
  {
   "cell_type": "code",
   "execution_count": 43,
   "metadata": {
    "id": "AFhbl1e8r425"
   },
   "outputs": [],
   "source": [
    "testloader = DataLoader(testdataset, 1, shuffle=False)"
   ]
  },
  {
   "cell_type": "code",
   "execution_count": 44,
   "metadata": {
    "id": "4JIqoZTF2XiO"
   },
   "outputs": [],
   "source": [
    "model2.eval()\n",
    "testtruelabels = []\n",
    "testpredlabels = []\n",
    "with torch.no_grad():\n",
    "    for i, (testimage, testlabel) in enumerate(testloader):\n",
    "        testimage.unsqueeze_(1)\n",
    "        testimage, testlabel = testimage.to(device), testlabel.to(device)\n",
    "        testpred = model2(testimage)\n",
    "\n",
    "        testtrueargmax = torch.argmax(testlabel).item()\n",
    "        testpredargmax = torch.argmax(testpred).item()\n",
    "\n",
    "        testtruelabels.append(testtrueargmax)\n",
    "        testpredlabels.append(testpredargmax)"
   ]
  },
  {
   "cell_type": "code",
   "execution_count": 45,
   "metadata": {
    "id": "KodylrAL6BQz"
   },
   "outputs": [],
   "source": [
    "testconfmat = confusion_matrix(testtruelabels, testpredlabels)"
   ]
  },
  {
   "cell_type": "code",
   "execution_count": 46,
   "metadata": {
    "colab": {
     "base_uri": "https://localhost:8080/",
     "height": 729
    },
    "id": "vajQVaUm6YVK",
    "outputId": "6c35f139-b86d-4a9d-c8a2-91d89d157f79"
   },
   "outputs": [
    {
     "data": {
      "image/png": "[encoded data removed]",
      "text/plain": [
       "<Figure size 1080x720 with 2 Axes>"
      ]
     },
     "metadata": {
      "needs_background": "light"
     },
     "output_type": "display_data"
    }
   ],
   "source": [
    "plt.figure(figsize=(15,10))\n",
    "sns.heatmap(testconfmat, annot=True, fmt='.0f', cmap='viridis', xticklabels=dataset.fer2013newlabels, yticklabels=dataset.fer2013newlabels)\n",
    "plt.xlabel('Predicted Values')\n",
    "plt.ylabel('True Values')\n",
    "plt.tight_layout()\n",
    "plt.show()"
   ]
  },
  {
   "cell_type": "code",
   "execution_count": 47,
   "metadata": {
    "colab": {
     "base_uri": "https://localhost:8080/"
    },
    "id": "GmYNizky6fZc",
    "outputId": "7118e8a3-929d-40c0-ed2b-354f337bb871"
   },
   "outputs": [
    {
     "data": {
      "text/plain": [
       "0.7765394260239621"
      ]
     },
     "execution_count": 47,
     "metadata": {},
     "output_type": "execute_result"
    }
   ],
   "source": [
    "accuracy_score(testtruelabels, testpredlabels)"
   ]
  },
  {
   "cell_type": "code",
   "execution_count": 48,
   "metadata": {
    "id": "ikkHo8uW62CI"
   },
   "outputs": [],
   "source": [
    "torch.save(model2.state_dict(), 'model2_state_dict.pth')"
   ]
  },
  {
   "cell_type": "code",
   "execution_count": null,
   "metadata": {
    "id": "Z_G8iQzcIRFF"
   },
   "outputs": [],
   "source": []
  }
 ],
 "metadata": {
  "accelerator": "GPU",
  "colab": {
   "collapsed_sections": [],
   "name": "model2.ipynb",
   "provenance": []
  },
  "kernelspec": {
   "display_name": "Python 3 (ipykernel)",
   "language": "python",
   "name": "python3"
  },
  "language_info": {
   "codemirror_mode": {
    "name": "ipython",
    "version": 3
   },
   "file_extension": ".py",
   "mimetype": "text/x-python",
   "name": "python",
   "nbconvert_exporter": "python",
   "pygments_lexer": "ipython3",
   "version": "3.9.0"
  }
 },
 "nbformat": 4,
 "nbformat_minor": 1
}
