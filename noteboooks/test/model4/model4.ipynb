{
  "cells": [
    {
      "cell_type": "markdown",
      "metadata": {
        "id": "qe752vrbaJ5r"
      },
      "source": [
        "### in this notebook we'll try to make some changes to the vggnet model. instead of increasing the kernel size of all the layers as we did in model3, we'll increase the kernel size for the first couple of layers to 5, and keep it as 3 for the latter layers. becaues padding 2 and kernel size 5 on an image of size 3 (for the final layers), may not be so good"
      ]
    },
    {
      "cell_type": "markdown",
      "metadata": {
        "id": "_QxiBR-caSF6"
      },
      "source": [
        "vgg model source : github [link](https://github.com/usef-kh/fer/tree/master/models)"
      ]
    },
    {
      "cell_type": "code",
      "source": [
        "from google.colab import drive\n",
        "drive.mount('/content/drive')"
      ],
      "metadata": {
        "colab": {
          "base_uri": "https://localhost:8080/"
        },
        "id": "OpBADm6tFbU8",
        "outputId": "a2eb1db6-5ac3-4949-9203-c0f9de7950b3"
      },
      "execution_count": 4,
      "outputs": [
        {
          "output_type": "stream",
          "name": "stdout",
          "text": [
            "Mounted at /content/drive\n"
          ]
        }
      ]
    },
    {
      "cell_type": "code",
      "execution_count": 5,
      "metadata": {
        "id": "A8J0PEm8aDNC"
      },
      "outputs": [],
      "source": [
        "import numpy as np\n",
        "import pandas as pd\n",
        "import matplotlib.pyplot as plt"
      ]
    },
    {
      "cell_type": "code",
      "execution_count": 6,
      "metadata": {
        "id": "LS9WW6WIaUHj"
      },
      "outputs": [],
      "source": [
        "import torch\n",
        "import torch.nn as nn\n",
        "import torch.nn.functional as F\n",
        "from torch import optim\n",
        "from torchvision import transforms\n",
        "from torch.utils.data import DataLoader, Dataset\n",
        "import os"
      ]
    },
    {
      "cell_type": "code",
      "execution_count": 7,
      "metadata": {
        "id": "eAIy2ezqaXSt"
      },
      "outputs": [],
      "source": [
        "class FERdataset(Dataset):\n",
        "    def __init__(self, path_fer2013csv, path_fer2013newcsv):\n",
        "        self.fer2013 = pd.read_csv(path_fer2013csv)\n",
        "        self.fer2013labels = ['angry', 'disgust', 'fear', 'happy', 'sad', 'surprise', 'neutral']\n",
        "        self.fer2013new = pd.read_csv(path_fer2013newcsv)\n",
        "        self.fer2013newlabels = list(self.fer2013new.columns[2:11])\n",
        "        \n",
        "    def __getitem__(self, index):\n",
        "        '''\n",
        "        returns an image and its fer2013new label as tensors\n",
        "        '''\n",
        "        image = self.fer2013['pixels'].iloc[index]\n",
        "        image = np.fromstring(image, sep=' ').reshape(48, 48)\n",
        "        image = torch.tensor(image, dtype=torch.float32) / 255\n",
        "        \n",
        "        label = torch.tensor(self.fer2013new.iloc[index][2:11].values.astype('float32')) / 10\n",
        "        \n",
        "        return image, label\n",
        "        \n",
        "    def __len__(self):\n",
        "        return self.fer2013.shape[0]\n",
        "    "
      ]
    },
    {
      "cell_type": "code",
      "source": [
        "!ls"
      ],
      "metadata": {
        "colab": {
          "base_uri": "https://localhost:8080/"
        },
        "id": "y37ajiIzFkSO",
        "outputId": "313cda2b-c0b3-4ad5-c726-e07874287f28"
      },
      "execution_count": 8,
      "outputs": [
        {
          "output_type": "stream",
          "name": "stdout",
          "text": [
            "drive  sample_data\n"
          ]
        }
      ]
    },
    {
      "cell_type": "code",
      "execution_count": 9,
      "metadata": {
        "colab": {
          "base_uri": "https://localhost:8080/"
        },
        "id": "hH4HHbb5ad6Y",
        "outputId": "3e0aa45a-6491-4b85-9adf-a68bb949aa2f"
      },
      "outputs": [
        {
          "output_type": "stream",
          "name": "stdout",
          "text": [
            "Archive:  /content/drive/MyDrive/TSI/Material/Thesis/data/data.zip\n",
            "   creating: data/\n",
            "   creating: data/FERplus/\n",
            "  inflating: data/FERplus/.gitignore  \n",
            "  inflating: data/FERplus/fer2013new.csv  \n",
            "   creating: data/fer2013/\n",
            "  inflating: data/fer2013/.gitignore  \n",
            "  inflating: data/fer2013/fer2013.csv  \n",
            "  inflating: data/fer2013/README     \n",
            "  inflating: data/fer2013/fer2013.bib  \n",
            "  inflating: data/fer2013/README.md  \n"
          ]
        }
      ],
      "source": [
        "!unzip /content/drive/MyDrive/TSI/Material/Thesis/data/data.zip"
      ]
    },
    {
      "cell_type": "code",
      "source": [
        "!ls"
      ],
      "metadata": {
        "colab": {
          "base_uri": "https://localhost:8080/"
        },
        "id": "1ewUgEe6F14f",
        "outputId": "85ec2a5e-33b0-42ef-d0a8-cf8510e38400"
      },
      "execution_count": 10,
      "outputs": [
        {
          "output_type": "stream",
          "name": "stdout",
          "text": [
            "data  drive  sample_data\n"
          ]
        }
      ]
    },
    {
      "cell_type": "code",
      "execution_count": 11,
      "metadata": {
        "id": "6BaD_bQWaZNv"
      },
      "outputs": [],
      "source": [
        "path_fer2013csv='data/fer2013/fer2013.csv'\n",
        "path_fer2013newcsv='data/FERplus/fer2013new.csv'\n",
        "dataset = FERdataset(path_fer2013csv, path_fer2013newcsv)"
      ]
    },
    {
      "cell_type": "code",
      "execution_count": 12,
      "metadata": {
        "id": "O1rzf3vdacyc"
      },
      "outputs": [],
      "source": [
        "from torch.utils.data import random_split"
      ]
    },
    {
      "cell_type": "code",
      "execution_count": 13,
      "metadata": {
        "id": "u0CzyG0Kcs9q"
      },
      "outputs": [],
      "source": [
        "traindataset, valdataset, testdataset = random_split(dataset, [int(0.6*len(dataset)), int(0.2*len(dataset)), len(dataset) - (int(0.6*len(dataset)) + int(0.2*len(dataset)))], generator=torch.Generator().manual_seed(42))"
      ]
    },
    {
      "cell_type": "code",
      "execution_count": 14,
      "metadata": {
        "colab": {
          "base_uri": "https://localhost:8080/"
        },
        "id": "sTaYM3fEcusm",
        "outputId": "a9601aeb-c23b-40ac-f27c-5e6ed323e64a"
      },
      "outputs": [
        {
          "output_type": "stream",
          "name": "stdout",
          "text": [
            "traindataset length: 21532\n",
            "valdataset length: 7177\n",
            "testdataset length: 7178\n"
          ]
        }
      ],
      "source": [
        "print(f'traindataset length: {len(traindataset)}')\n",
        "print(f'valdataset length: {len(valdataset)}')\n",
        "print(f'testdataset length: {len(testdataset)}')"
      ]
    },
    {
      "cell_type": "code",
      "execution_count": 15,
      "metadata": {
        "colab": {
          "base_uri": "https://localhost:8080/"
        },
        "id": "XXRdd2PPcxJu",
        "outputId": "baeec7eb-3429-4db3-a8fa-ee3f9a96d7ba"
      },
      "outputs": [
        {
          "output_type": "execute_result",
          "data": {
            "text/plain": [
              "9"
            ]
          },
          "metadata": {},
          "execution_count": 15
        }
      ],
      "source": [
        "len(dataset.fer2013newlabels)"
      ]
    },
    {
      "cell_type": "code",
      "execution_count": 16,
      "metadata": {
        "id": "WvDejjvKczt0"
      },
      "outputs": [],
      "source": [
        "class Model4(nn.Module):\n",
        "    def __init__(self, drop=0.2):\n",
        "        super().__init__()\n",
        "\n",
        "        self.conv1a = nn.Conv2d(in_channels=1, out_channels=64, kernel_size=5, padding=2)\n",
        "        self.conv1b = nn.Conv2d(64, out_channels=64, kernel_size=5, padding=2)\n",
        "\n",
        "        self.conv2a = nn.Conv2d(64, 128, 5, padding=2)\n",
        "        self.conv2b = nn.Conv2d(128, 128, 5, padding=2)\n",
        "\n",
        "        self.conv3a = nn.Conv2d(128, 256, 3, padding=1)\n",
        "        self.conv3b = nn.Conv2d(256, 256, 3, padding=1)\n",
        "\n",
        "        self.conv4a = nn.Conv2d(256, 512, 3, padding=1)\n",
        "        self.conv4b = nn.Conv2d(512, 512, 3, padding=1)\n",
        "\n",
        "        self.pool = nn.MaxPool2d(kernel_size=2, stride=2)\n",
        "\n",
        "        self.bn1a = nn.BatchNorm2d(64)\n",
        "        self.bn1b = nn.BatchNorm2d(64)\n",
        "\n",
        "        self.bn2a = nn.BatchNorm2d(128)\n",
        "        self.bn2b = nn.BatchNorm2d(128)\n",
        "\n",
        "        self.bn3a = nn.BatchNorm2d(256)\n",
        "        self.bn3b = nn.BatchNorm2d(256)\n",
        "\n",
        "        self.bn4a = nn.BatchNorm2d(512)\n",
        "        self.bn4b = nn.BatchNorm2d(512)\n",
        "\n",
        "        # self.lin1 = nn.Linear(512 * 2 * 2, 4096)\n",
        "        self.lin1 = nn.Linear(512 * 3 * 3, 4096)\n",
        "        self.lin2 = nn.Linear(4096, 4096)\n",
        "\n",
        "        # self.lin3 = nn.Linear(4096, 7)\n",
        "        # output size changed to 9 because we're using the fer plus labels, not the fer 2013 labels\n",
        "        self.lin3 = nn.Linear(4096, 9)\n",
        "\n",
        "        self.drop = nn.Dropout(p=drop)\n",
        "\n",
        "    def forward(self, x):\n",
        "        x = F.relu(self.bn1a(self.conv1a(x)))\n",
        "        x = F.relu(self.bn1b(self.conv1b(x)))\n",
        "        x = self.pool(x)\n",
        "\n",
        "        x = F.relu(self.bn2a(self.conv2a(x)))\n",
        "        x = F.relu(self.bn2b(self.conv2b(x)))\n",
        "        x = self.pool(x)\n",
        "\n",
        "        x = F.relu(self.bn3a(self.conv3a(x)))\n",
        "        x = F.relu(self.bn3b(self.conv3b(x)))\n",
        "        x = self.pool(x)\n",
        "\n",
        "        x = F.relu(self.bn4a(self.conv4a(x)))\n",
        "        x = F.relu(self.bn4b(self.conv4b(x)))\n",
        "        x = self.pool(x)\n",
        "        \n",
        "        # x = x.view(-1, 512 * 2 * 2) - replaced by torch.flatten\n",
        "        x = torch.flatten(x, 1)\n",
        "        x = F.relu(self.drop(self.lin1(x)))\n",
        "        x = F.relu(self.drop(self.lin2(x)))\n",
        "        x = self.lin3(x)\n",
        "        \n",
        "        return x"
      ]
    },
    {
      "cell_type": "code",
      "execution_count": 17,
      "metadata": {
        "id": "QLoKZXK6c3lh"
      },
      "outputs": [],
      "source": [
        "device = torch.device('cuda' if torch.cuda.is_available() else 'cpu')"
      ]
    },
    {
      "cell_type": "code",
      "execution_count": 18,
      "metadata": {
        "id": "TI14oi7Sc5ky"
      },
      "outputs": [],
      "source": [
        "model4 = Model4().to(device)"
      ]
    },
    {
      "cell_type": "code",
      "execution_count": 19,
      "metadata": {
        "colab": {
          "base_uri": "https://localhost:8080/"
        },
        "id": "H4pC84zJc7hw",
        "outputId": "4df2f397-23be-4577-bd3f-e883dcadd8c1"
      },
      "outputs": [
        {
          "output_type": "execute_result",
          "data": {
            "text/plain": [
              "Model4(\n",
              "  (conv1a): Conv2d(1, 64, kernel_size=(5, 5), stride=(1, 1), padding=(2, 2))\n",
              "  (conv1b): Conv2d(64, 64, kernel_size=(5, 5), stride=(1, 1), padding=(2, 2))\n",
              "  (conv2a): Conv2d(64, 128, kernel_size=(5, 5), stride=(1, 1), padding=(2, 2))\n",
              "  (conv2b): Conv2d(128, 128, kernel_size=(5, 5), stride=(1, 1), padding=(2, 2))\n",
              "  (conv3a): Conv2d(128, 256, kernel_size=(3, 3), stride=(1, 1), padding=(1, 1))\n",
              "  (conv3b): Conv2d(256, 256, kernel_size=(3, 3), stride=(1, 1), padding=(1, 1))\n",
              "  (conv4a): Conv2d(256, 512, kernel_size=(3, 3), stride=(1, 1), padding=(1, 1))\n",
              "  (conv4b): Conv2d(512, 512, kernel_size=(3, 3), stride=(1, 1), padding=(1, 1))\n",
              "  (pool): MaxPool2d(kernel_size=2, stride=2, padding=0, dilation=1, ceil_mode=False)\n",
              "  (bn1a): BatchNorm2d(64, eps=1e-05, momentum=0.1, affine=True, track_running_stats=True)\n",
              "  (bn1b): BatchNorm2d(64, eps=1e-05, momentum=0.1, affine=True, track_running_stats=True)\n",
              "  (bn2a): BatchNorm2d(128, eps=1e-05, momentum=0.1, affine=True, track_running_stats=True)\n",
              "  (bn2b): BatchNorm2d(128, eps=1e-05, momentum=0.1, affine=True, track_running_stats=True)\n",
              "  (bn3a): BatchNorm2d(256, eps=1e-05, momentum=0.1, affine=True, track_running_stats=True)\n",
              "  (bn3b): BatchNorm2d(256, eps=1e-05, momentum=0.1, affine=True, track_running_stats=True)\n",
              "  (bn4a): BatchNorm2d(512, eps=1e-05, momentum=0.1, affine=True, track_running_stats=True)\n",
              "  (bn4b): BatchNorm2d(512, eps=1e-05, momentum=0.1, affine=True, track_running_stats=True)\n",
              "  (lin1): Linear(in_features=4608, out_features=4096, bias=True)\n",
              "  (lin2): Linear(in_features=4096, out_features=4096, bias=True)\n",
              "  (lin3): Linear(in_features=4096, out_features=9, bias=True)\n",
              "  (drop): Dropout(p=0.2, inplace=False)\n",
              ")"
            ]
          },
          "metadata": {},
          "execution_count": 19
        }
      ],
      "source": [
        "model4"
      ]
    },
    {
      "cell_type": "code",
      "execution_count": 20,
      "metadata": {
        "colab": {
          "base_uri": "https://localhost:8080/"
        },
        "id": "v8Bm4h24c-bB",
        "outputId": "a7084aa1-92cd-4759-ff35-ce47575ef193"
      },
      "outputs": [
        {
          "output_type": "execute_result",
          "data": {
            "text/plain": [
              "True"
            ]
          },
          "metadata": {},
          "execution_count": 20
        }
      ],
      "source": [
        "torch.cuda.is_available()"
      ]
    },
    {
      "cell_type": "code",
      "execution_count": 21,
      "metadata": {
        "id": "frApCVfodBQF"
      },
      "outputs": [],
      "source": [
        "# parameters\n",
        "epochs = 20\n",
        "batch_size = 100"
      ]
    },
    {
      "cell_type": "code",
      "execution_count": 22,
      "metadata": {
        "id": "knn46fGjdQgp"
      },
      "outputs": [],
      "source": [
        "trainloader = DataLoader(traindataset, batch_size, shuffle=True)\n",
        "valloader = DataLoader(valdataset, batch_size, shuffle=True)"
      ]
    },
    {
      "cell_type": "code",
      "execution_count": 23,
      "metadata": {
        "id": "Z2tj5lU9dWtI"
      },
      "outputs": [],
      "source": [
        "criterion = nn.CrossEntropyLoss()\n",
        "optimizer = optim.Adam(model4.parameters())"
      ]
    },
    {
      "cell_type": "code",
      "execution_count": 24,
      "metadata": {
        "id": "cRTyITkMkiC5"
      },
      "outputs": [],
      "source": [
        "from sklearn.metrics import accuracy_score, confusion_matrix\n",
        "import seaborn as sns"
      ]
    },
    {
      "cell_type": "code",
      "execution_count": 25,
      "metadata": {
        "colab": {
          "base_uri": "https://localhost:8080/"
        },
        "id": "joa-1_FTdYzY",
        "outputId": "c4e2acf0-a967-4e1b-a304-480771648230"
      },
      "outputs": [
        {
          "output_type": "stream",
          "name": "stdout",
          "text": [
            "epoch: 0, iteration: 0, loss: 2.21612, val_loss: 1.92442, acc: 0.11000, val_acc: 0.29870\n",
            "epoch: 0, iteration: 20, loss: 1.88002, val_loss: 1.85309, acc: 0.39000, val_acc: 0.33766\n",
            "epoch: 0, iteration: 40, loss: 1.85911, val_loss: 1.82963, acc: 0.30000, val_acc: 0.24675\n",
            "epoch: 0, iteration: 60, loss: 1.77988, val_loss: 1.77226, acc: 0.47000, val_acc: 0.35065\n",
            "epoch: 0, iteration: 80, loss: 1.78902, val_loss: 1.79353, acc: 0.27000, val_acc: 0.35065\n",
            "epoch: 0, iteration: 100, loss: 1.81690, val_loss: 1.79803, acc: 0.46000, val_acc: 0.45455\n",
            "epoch: 0, iteration: 120, loss: 1.82825, val_loss: 1.79912, acc: 0.43000, val_acc: 0.35065\n",
            "epoch: 0, iteration: 140, loss: 1.76359, val_loss: 1.67930, acc: 0.48000, val_acc: 0.41558\n",
            "epoch: 0, iteration: 160, loss: 1.81371, val_loss: 1.74724, acc: 0.38000, val_acc: 0.42857\n",
            "epoch: 0, iteration: 180, loss: 1.78824, val_loss: 1.92451, acc: 0.38000, val_acc: 0.25974\n",
            "epoch: 0, iteration: 200, loss: 1.79097, val_loss: 1.81098, acc: 0.34000, val_acc: 0.23377\n",
            "epoch: 1, iteration: 0, loss: 1.90969, val_loss: 1.80221, acc: 0.31000, val_acc: 0.32468\n",
            "epoch: 1, iteration: 20, loss: 1.82686, val_loss: 1.96951, acc: 0.39000, val_acc: 0.27273\n",
            "epoch: 1, iteration: 40, loss: 1.77154, val_loss: 1.74448, acc: 0.43000, val_acc: 0.37662\n",
            "epoch: 1, iteration: 60, loss: 1.80183, val_loss: 1.76828, acc: 0.27000, val_acc: 0.31169\n",
            "epoch: 1, iteration: 80, loss: 1.80242, val_loss: 1.83752, acc: 0.41000, val_acc: 0.37662\n",
            "epoch: 1, iteration: 100, loss: 1.77572, val_loss: 1.77457, acc: 0.36000, val_acc: 0.37662\n",
            "epoch: 1, iteration: 120, loss: 1.73674, val_loss: 1.74847, acc: 0.40000, val_acc: 0.38961\n",
            "epoch: 1, iteration: 140, loss: 1.82137, val_loss: 1.77994, acc: 0.37000, val_acc: 0.40260\n",
            "epoch: 1, iteration: 160, loss: 1.69421, val_loss: 1.61711, acc: 0.47000, val_acc: 0.53247\n",
            "epoch: 1, iteration: 180, loss: 1.84405, val_loss: 1.82422, acc: 0.35000, val_acc: 0.25974\n",
            "epoch: 1, iteration: 200, loss: 1.74871, val_loss: 1.83805, acc: 0.40000, val_acc: 0.37662\n",
            "epoch: 2, iteration: 0, loss: 1.81417, val_loss: 1.57876, acc: 0.32000, val_acc: 0.38961\n",
            "epoch: 2, iteration: 20, loss: 1.86168, val_loss: 2.13264, acc: 0.40000, val_acc: 0.29870\n",
            "epoch: 2, iteration: 40, loss: 1.79048, val_loss: 1.63558, acc: 0.34000, val_acc: 0.49351\n",
            "epoch: 2, iteration: 60, loss: 1.72316, val_loss: 1.66399, acc: 0.46000, val_acc: 0.45455\n",
            "epoch: 2, iteration: 80, loss: 1.71434, val_loss: 1.70892, acc: 0.48000, val_acc: 0.40260\n",
            "epoch: 2, iteration: 100, loss: 1.67291, val_loss: 3.48554, acc: 0.52000, val_acc: 0.28571\n",
            "epoch: 2, iteration: 120, loss: 1.60721, val_loss: 1.91395, acc: 0.53000, val_acc: 0.29870\n",
            "epoch: 2, iteration: 140, loss: 1.60585, val_loss: 1.56369, acc: 0.52000, val_acc: 0.54545\n",
            "epoch: 2, iteration: 160, loss: 1.46337, val_loss: 1.44918, acc: 0.56000, val_acc: 0.57143\n",
            "epoch: 2, iteration: 180, loss: 1.63138, val_loss: 1.85319, acc: 0.51000, val_acc: 0.38961\n",
            "epoch: 2, iteration: 200, loss: 1.55837, val_loss: 1.51331, acc: 0.53000, val_acc: 0.57143\n",
            "epoch: 3, iteration: 0, loss: 1.53851, val_loss: 1.60962, acc: 0.60000, val_acc: 0.42857\n",
            "epoch: 3, iteration: 20, loss: 1.44792, val_loss: 1.50346, acc: 0.62000, val_acc: 0.51948\n",
            "epoch: 3, iteration: 40, loss: 1.49773, val_loss: 1.76136, acc: 0.59000, val_acc: 0.44156\n",
            "epoch: 3, iteration: 60, loss: 1.53524, val_loss: 1.57480, acc: 0.52000, val_acc: 0.54545\n",
            "epoch: 3, iteration: 80, loss: 1.38950, val_loss: 1.61424, acc: 0.65000, val_acc: 0.51948\n",
            "epoch: 3, iteration: 100, loss: 1.33393, val_loss: 1.46178, acc: 0.60000, val_acc: 0.61039\n",
            "epoch: 3, iteration: 120, loss: 1.34933, val_loss: 1.55555, acc: 0.62000, val_acc: 0.55844\n",
            "epoch: 3, iteration: 140, loss: 1.31553, val_loss: 1.57828, acc: 0.76000, val_acc: 0.41558\n",
            "epoch: 3, iteration: 160, loss: 1.42548, val_loss: 1.51111, acc: 0.58000, val_acc: 0.64935\n",
            "epoch: 3, iteration: 180, loss: 1.30432, val_loss: 1.38299, acc: 0.60000, val_acc: 0.61039\n",
            "epoch: 3, iteration: 200, loss: 1.49037, val_loss: 1.43887, acc: 0.65000, val_acc: 0.57143\n",
            "epoch: 4, iteration: 0, loss: 1.46506, val_loss: 1.43608, acc: 0.61000, val_acc: 0.53247\n",
            "epoch: 4, iteration: 20, loss: 1.50205, val_loss: 1.26826, acc: 0.56000, val_acc: 0.62338\n",
            "epoch: 4, iteration: 40, loss: 1.32255, val_loss: 1.35146, acc: 0.68000, val_acc: 0.58442\n",
            "epoch: 4, iteration: 60, loss: 1.57744, val_loss: 1.37201, acc: 0.55000, val_acc: 0.67532\n",
            "epoch: 4, iteration: 80, loss: 1.42920, val_loss: 1.51941, acc: 0.62000, val_acc: 0.71429\n",
            "epoch: 4, iteration: 100, loss: 1.26693, val_loss: 1.50747, acc: 0.63000, val_acc: 0.51948\n",
            "epoch: 4, iteration: 120, loss: 1.32852, val_loss: 1.29292, acc: 0.67000, val_acc: 0.68831\n",
            "epoch: 4, iteration: 140, loss: 1.29625, val_loss: 1.38629, acc: 0.67000, val_acc: 0.63636\n",
            "epoch: 4, iteration: 160, loss: 1.36888, val_loss: 1.34474, acc: 0.69000, val_acc: 0.66234\n",
            "epoch: 4, iteration: 180, loss: 1.39200, val_loss: 1.20868, acc: 0.63000, val_acc: 0.62338\n",
            "epoch: 4, iteration: 200, loss: 1.31384, val_loss: 1.34413, acc: 0.68000, val_acc: 0.66234\n",
            "epoch: 5, iteration: 0, loss: 1.24947, val_loss: 1.32840, acc: 0.69000, val_acc: 0.67532\n",
            "epoch: 5, iteration: 20, loss: 1.34831, val_loss: 1.34262, acc: 0.61000, val_acc: 0.63636\n",
            "epoch: 5, iteration: 40, loss: 1.35724, val_loss: 1.28233, acc: 0.68000, val_acc: 0.64935\n",
            "epoch: 5, iteration: 60, loss: 1.15502, val_loss: 1.23000, acc: 0.68000, val_acc: 0.66234\n",
            "epoch: 5, iteration: 80, loss: 1.21098, val_loss: 1.28228, acc: 0.76000, val_acc: 0.70130\n",
            "epoch: 5, iteration: 100, loss: 1.22013, val_loss: 1.17183, acc: 0.67000, val_acc: 0.64935\n",
            "epoch: 5, iteration: 120, loss: 1.16508, val_loss: 1.21364, acc: 0.74000, val_acc: 0.75325\n",
            "epoch: 5, iteration: 140, loss: 1.12780, val_loss: 1.39905, acc: 0.77000, val_acc: 0.63636\n",
            "epoch: 5, iteration: 160, loss: 1.31254, val_loss: 1.31745, acc: 0.59000, val_acc: 0.68831\n",
            "epoch: 5, iteration: 180, loss: 1.43953, val_loss: 1.14824, acc: 0.57000, val_acc: 0.70130\n",
            "epoch: 5, iteration: 200, loss: 1.29288, val_loss: 1.31238, acc: 0.70000, val_acc: 0.67532\n",
            "epoch: 6, iteration: 0, loss: 1.21485, val_loss: 1.34627, acc: 0.70000, val_acc: 0.62338\n",
            "epoch: 6, iteration: 20, loss: 1.16448, val_loss: 1.50274, acc: 0.68000, val_acc: 0.61039\n",
            "epoch: 6, iteration: 40, loss: 1.30848, val_loss: 1.31603, acc: 0.67000, val_acc: 0.71429\n",
            "epoch: 6, iteration: 60, loss: 1.17438, val_loss: 1.21585, acc: 0.69000, val_acc: 0.64935\n",
            "epoch: 6, iteration: 80, loss: 1.25267, val_loss: 1.05765, acc: 0.72000, val_acc: 0.74026\n",
            "epoch: 6, iteration: 100, loss: 1.13670, val_loss: 1.20409, acc: 0.71000, val_acc: 0.68831\n",
            "epoch: 6, iteration: 120, loss: 1.22259, val_loss: 1.16010, acc: 0.69000, val_acc: 0.75325\n",
            "epoch: 6, iteration: 140, loss: 1.08069, val_loss: 1.18361, acc: 0.80000, val_acc: 0.72727\n",
            "epoch: 6, iteration: 160, loss: 1.13064, val_loss: 1.17589, acc: 0.74000, val_acc: 0.72727\n",
            "epoch: 6, iteration: 180, loss: 1.14437, val_loss: 1.12949, acc: 0.69000, val_acc: 0.74026\n",
            "epoch: 6, iteration: 200, loss: 1.03822, val_loss: 0.98664, acc: 0.77000, val_acc: 0.74026\n",
            "epoch: 7, iteration: 0, loss: 1.18244, val_loss: 1.50787, acc: 0.72000, val_acc: 0.64935\n",
            "epoch: 7, iteration: 20, loss: 1.08827, val_loss: 1.36504, acc: 0.73000, val_acc: 0.58442\n",
            "epoch: 7, iteration: 40, loss: 1.11045, val_loss: 1.12494, acc: 0.74000, val_acc: 0.79221\n",
            "epoch: 7, iteration: 60, loss: 1.20740, val_loss: 1.34712, acc: 0.72000, val_acc: 0.67532\n",
            "epoch: 7, iteration: 80, loss: 1.13555, val_loss: 1.10886, acc: 0.77000, val_acc: 0.72727\n",
            "epoch: 7, iteration: 100, loss: 1.13833, val_loss: 1.17685, acc: 0.69000, val_acc: 0.72727\n",
            "epoch: 7, iteration: 120, loss: 1.17281, val_loss: 1.32592, acc: 0.71000, val_acc: 0.70130\n",
            "epoch: 7, iteration: 140, loss: 1.03574, val_loss: 1.30055, acc: 0.75000, val_acc: 0.75325\n",
            "epoch: 7, iteration: 160, loss: 1.17267, val_loss: 1.23549, acc: 0.66000, val_acc: 0.70130\n",
            "epoch: 7, iteration: 180, loss: 1.34157, val_loss: 1.17366, acc: 0.65000, val_acc: 0.63636\n",
            "epoch: 7, iteration: 200, loss: 1.24513, val_loss: 1.17590, acc: 0.67000, val_acc: 0.70130\n",
            "epoch: 8, iteration: 0, loss: 1.18530, val_loss: 1.19216, acc: 0.74000, val_acc: 0.71429\n",
            "epoch: 8, iteration: 20, loss: 1.12405, val_loss: 1.15288, acc: 0.81000, val_acc: 0.72727\n",
            "epoch: 8, iteration: 40, loss: 1.00117, val_loss: 1.09715, acc: 0.76000, val_acc: 0.71429\n",
            "epoch: 8, iteration: 60, loss: 1.11856, val_loss: 1.00888, acc: 0.69000, val_acc: 0.71429\n",
            "epoch: 8, iteration: 80, loss: 1.06132, val_loss: 1.18907, acc: 0.80000, val_acc: 0.58442\n",
            "epoch: 8, iteration: 100, loss: 1.07982, val_loss: 1.16183, acc: 0.77000, val_acc: 0.74026\n",
            "epoch: 8, iteration: 120, loss: 1.11764, val_loss: 1.23699, acc: 0.72000, val_acc: 0.70130\n",
            "epoch: 8, iteration: 140, loss: 1.07281, val_loss: 1.11884, acc: 0.73000, val_acc: 0.74026\n",
            "epoch: 8, iteration: 160, loss: 1.09389, val_loss: 1.14919, acc: 0.76000, val_acc: 0.77922\n",
            "epoch: 8, iteration: 180, loss: 1.12964, val_loss: 1.22553, acc: 0.73000, val_acc: 0.68831\n",
            "epoch: 8, iteration: 200, loss: 1.06424, val_loss: 1.23864, acc: 0.75000, val_acc: 0.70130\n",
            "epoch: 9, iteration: 0, loss: 1.02821, val_loss: 1.29572, acc: 0.72000, val_acc: 0.67532\n",
            "epoch: 9, iteration: 20, loss: 1.01257, val_loss: 1.19719, acc: 0.82000, val_acc: 0.58442\n",
            "epoch: 9, iteration: 40, loss: 1.02898, val_loss: 1.10816, acc: 0.80000, val_acc: 0.75325\n",
            "epoch: 9, iteration: 60, loss: 0.98239, val_loss: 1.23727, acc: 0.80000, val_acc: 0.70130\n",
            "epoch: 9, iteration: 80, loss: 1.04091, val_loss: 1.12597, acc: 0.78000, val_acc: 0.79221\n",
            "epoch: 9, iteration: 100, loss: 1.07582, val_loss: 1.11757, acc: 0.76000, val_acc: 0.77922\n",
            "epoch: 9, iteration: 120, loss: 1.22777, val_loss: 1.27301, acc: 0.72000, val_acc: 0.72727\n",
            "epoch: 9, iteration: 140, loss: 1.07953, val_loss: 1.16783, acc: 0.78000, val_acc: 0.76623\n",
            "epoch: 9, iteration: 160, loss: 0.99447, val_loss: 1.03309, acc: 0.79000, val_acc: 0.77922\n",
            "epoch: 9, iteration: 180, loss: 1.07042, val_loss: 1.08087, acc: 0.75000, val_acc: 0.79221\n",
            "epoch: 9, iteration: 200, loss: 1.04942, val_loss: 1.26236, acc: 0.74000, val_acc: 0.75325\n",
            "epoch: 10, iteration: 0, loss: 1.15342, val_loss: 1.01915, acc: 0.70000, val_acc: 0.81818\n",
            "epoch: 10, iteration: 20, loss: 1.09608, val_loss: 1.06906, acc: 0.76000, val_acc: 0.71429\n",
            "epoch: 10, iteration: 40, loss: 1.06088, val_loss: 1.01681, acc: 0.80000, val_acc: 0.77922\n",
            "epoch: 10, iteration: 60, loss: 1.08850, val_loss: 1.02721, acc: 0.78000, val_acc: 0.77922\n",
            "epoch: 10, iteration: 80, loss: 1.12106, val_loss: 1.26110, acc: 0.72000, val_acc: 0.70130\n",
            "epoch: 10, iteration: 100, loss: 0.98664, val_loss: 0.98251, acc: 0.76000, val_acc: 0.74026\n",
            "epoch: 10, iteration: 120, loss: 1.02629, val_loss: 1.14041, acc: 0.83000, val_acc: 0.68831\n",
            "epoch: 10, iteration: 140, loss: 0.98398, val_loss: 1.18063, acc: 0.76000, val_acc: 0.71429\n",
            "epoch: 10, iteration: 160, loss: 1.20119, val_loss: 0.95272, acc: 0.73000, val_acc: 0.84416\n",
            "epoch: 10, iteration: 180, loss: 1.08767, val_loss: 1.21463, acc: 0.79000, val_acc: 0.70130\n",
            "epoch: 10, iteration: 200, loss: 1.00650, val_loss: 1.04095, acc: 0.75000, val_acc: 0.75325\n",
            "epoch: 11, iteration: 0, loss: 1.08882, val_loss: 1.19680, acc: 0.77000, val_acc: 0.74026\n",
            "epoch: 11, iteration: 20, loss: 0.96529, val_loss: 1.21136, acc: 0.82000, val_acc: 0.77922\n",
            "epoch: 11, iteration: 40, loss: 0.98832, val_loss: 1.11227, acc: 0.80000, val_acc: 0.81818\n",
            "epoch: 11, iteration: 60, loss: 1.02751, val_loss: 1.13056, acc: 0.85000, val_acc: 0.79221\n",
            "epoch: 11, iteration: 80, loss: 1.04125, val_loss: 1.17769, acc: 0.84000, val_acc: 0.71429\n",
            "epoch: 11, iteration: 100, loss: 0.96164, val_loss: 1.07861, acc: 0.85000, val_acc: 0.76623\n",
            "epoch: 11, iteration: 120, loss: 1.08810, val_loss: 1.14052, acc: 0.80000, val_acc: 0.71429\n",
            "epoch: 11, iteration: 140, loss: 0.97925, val_loss: 1.31421, acc: 0.84000, val_acc: 0.63636\n",
            "epoch: 11, iteration: 160, loss: 0.97610, val_loss: 1.15620, acc: 0.77000, val_acc: 0.75325\n",
            "epoch: 11, iteration: 180, loss: 1.09555, val_loss: 1.01109, acc: 0.75000, val_acc: 0.84416\n",
            "epoch: 11, iteration: 200, loss: 1.15618, val_loss: 1.11800, acc: 0.79000, val_acc: 0.77922\n",
            "epoch: 12, iteration: 0, loss: 0.95801, val_loss: 0.96841, acc: 0.82000, val_acc: 0.80519\n",
            "epoch: 12, iteration: 20, loss: 0.94623, val_loss: 0.85660, acc: 0.86000, val_acc: 0.79221\n",
            "epoch: 12, iteration: 40, loss: 0.99636, val_loss: 1.08869, acc: 0.78000, val_acc: 0.71429\n",
            "epoch: 12, iteration: 60, loss: 1.06857, val_loss: 1.22459, acc: 0.80000, val_acc: 0.76623\n",
            "epoch: 12, iteration: 80, loss: 0.90181, val_loss: 1.09594, acc: 0.86000, val_acc: 0.75325\n",
            "epoch: 12, iteration: 100, loss: 1.03145, val_loss: 0.95935, acc: 0.76000, val_acc: 0.80519\n",
            "epoch: 12, iteration: 120, loss: 1.02557, val_loss: 0.95264, acc: 0.84000, val_acc: 0.83117\n",
            "epoch: 12, iteration: 140, loss: 1.00272, val_loss: 1.12544, acc: 0.79000, val_acc: 0.74026\n",
            "epoch: 12, iteration: 160, loss: 1.01220, val_loss: 1.24469, acc: 0.78000, val_acc: 0.74026\n",
            "epoch: 12, iteration: 180, loss: 1.05192, val_loss: 1.19894, acc: 0.75000, val_acc: 0.71429\n",
            "epoch: 12, iteration: 200, loss: 0.99598, val_loss: 1.14398, acc: 0.80000, val_acc: 0.79221\n",
            "epoch: 13, iteration: 0, loss: 1.01017, val_loss: 1.05229, acc: 0.79000, val_acc: 0.74026\n",
            "epoch: 13, iteration: 20, loss: 0.94156, val_loss: 1.21531, acc: 0.82000, val_acc: 0.70130\n",
            "epoch: 13, iteration: 40, loss: 1.06469, val_loss: 1.17007, acc: 0.84000, val_acc: 0.75325\n",
            "epoch: 13, iteration: 60, loss: 0.94927, val_loss: 1.08891, acc: 0.86000, val_acc: 0.80519\n",
            "epoch: 13, iteration: 80, loss: 0.89582, val_loss: 0.99707, acc: 0.90000, val_acc: 0.84416\n",
            "epoch: 13, iteration: 100, loss: 0.90431, val_loss: 1.02435, acc: 0.87000, val_acc: 0.79221\n",
            "epoch: 13, iteration: 120, loss: 0.91864, val_loss: 0.99177, acc: 0.87000, val_acc: 0.81818\n",
            "epoch: 13, iteration: 140, loss: 0.88531, val_loss: 0.91622, acc: 0.82000, val_acc: 0.80519\n",
            "epoch: 13, iteration: 160, loss: 1.07994, val_loss: 1.08614, acc: 0.82000, val_acc: 0.80519\n",
            "epoch: 13, iteration: 180, loss: 1.06670, val_loss: 0.97278, acc: 0.80000, val_acc: 0.77922\n",
            "epoch: 13, iteration: 200, loss: 1.01822, val_loss: 1.01425, acc: 0.84000, val_acc: 0.74026\n",
            "epoch: 14, iteration: 0, loss: 0.91177, val_loss: 1.10486, acc: 0.83000, val_acc: 0.77922\n",
            "epoch: 14, iteration: 20, loss: 0.90990, val_loss: 1.09283, acc: 0.86000, val_acc: 0.76623\n",
            "epoch: 14, iteration: 40, loss: 1.01305, val_loss: 1.14746, acc: 0.80000, val_acc: 0.70130\n",
            "epoch: 14, iteration: 60, loss: 0.87149, val_loss: 1.08624, acc: 0.89000, val_acc: 0.79221\n",
            "epoch: 14, iteration: 80, loss: 1.05927, val_loss: 1.10405, acc: 0.79000, val_acc: 0.71429\n",
            "epoch: 14, iteration: 100, loss: 0.97877, val_loss: 1.21446, acc: 0.82000, val_acc: 0.66234\n",
            "epoch: 14, iteration: 120, loss: 0.88506, val_loss: 1.01178, acc: 0.86000, val_acc: 0.79221\n",
            "epoch: 14, iteration: 140, loss: 0.92928, val_loss: 1.14427, acc: 0.86000, val_acc: 0.71429\n",
            "epoch: 14, iteration: 160, loss: 0.92238, val_loss: 1.00576, acc: 0.75000, val_acc: 0.76623\n",
            "epoch: 14, iteration: 180, loss: 1.04425, val_loss: 1.22606, acc: 0.87000, val_acc: 0.72727\n",
            "epoch: 14, iteration: 200, loss: 0.97681, val_loss: 1.21466, acc: 0.85000, val_acc: 0.74026\n",
            "epoch: 15, iteration: 0, loss: 0.93105, val_loss: 1.11135, acc: 0.84000, val_acc: 0.83117\n",
            "epoch: 15, iteration: 20, loss: 1.04700, val_loss: 1.07184, acc: 0.81000, val_acc: 0.77922\n",
            "epoch: 15, iteration: 40, loss: 1.04647, val_loss: 0.98883, acc: 0.76000, val_acc: 0.87013\n",
            "epoch: 15, iteration: 60, loss: 0.88017, val_loss: 1.14386, acc: 0.88000, val_acc: 0.68831\n",
            "epoch: 15, iteration: 80, loss: 0.90800, val_loss: 1.17674, acc: 0.79000, val_acc: 0.72727\n",
            "epoch: 15, iteration: 100, loss: 1.04928, val_loss: 1.11100, acc: 0.73000, val_acc: 0.76623\n",
            "epoch: 15, iteration: 120, loss: 1.00506, val_loss: 1.27413, acc: 0.89000, val_acc: 0.72727\n",
            "epoch: 15, iteration: 140, loss: 0.87812, val_loss: 1.12043, acc: 0.86000, val_acc: 0.75325\n",
            "epoch: 15, iteration: 160, loss: 0.95370, val_loss: 1.08014, acc: 0.91000, val_acc: 0.74026\n",
            "epoch: 15, iteration: 180, loss: 0.95926, val_loss: 0.97410, acc: 0.84000, val_acc: 0.83117\n",
            "epoch: 15, iteration: 200, loss: 0.97554, val_loss: 1.02941, acc: 0.86000, val_acc: 0.71429\n",
            "epoch: 16, iteration: 0, loss: 0.93902, val_loss: 1.10558, acc: 0.88000, val_acc: 0.71429\n",
            "epoch: 16, iteration: 20, loss: 0.90746, val_loss: 1.05325, acc: 0.85000, val_acc: 0.83117\n",
            "epoch: 16, iteration: 40, loss: 0.93069, val_loss: 1.05898, acc: 0.88000, val_acc: 0.75325\n",
            "epoch: 16, iteration: 60, loss: 0.86423, val_loss: 1.07414, acc: 0.93000, val_acc: 0.79221\n",
            "epoch: 16, iteration: 80, loss: 1.00307, val_loss: 1.07021, acc: 0.83000, val_acc: 0.74026\n",
            "epoch: 16, iteration: 100, loss: 0.95427, val_loss: 0.92728, acc: 0.89000, val_acc: 0.77922\n",
            "epoch: 16, iteration: 120, loss: 0.89892, val_loss: 1.13948, acc: 0.82000, val_acc: 0.71429\n",
            "epoch: 16, iteration: 140, loss: 1.02288, val_loss: 1.10138, acc: 0.85000, val_acc: 0.71429\n",
            "epoch: 16, iteration: 160, loss: 0.93530, val_loss: 0.99063, acc: 0.86000, val_acc: 0.77922\n",
            "epoch: 16, iteration: 180, loss: 1.01002, val_loss: 1.05405, acc: 0.81000, val_acc: 0.77922\n",
            "epoch: 16, iteration: 200, loss: 0.84432, val_loss: 1.16364, acc: 0.87000, val_acc: 0.72727\n",
            "epoch: 17, iteration: 0, loss: 0.83337, val_loss: 1.06089, acc: 0.89000, val_acc: 0.76623\n",
            "epoch: 17, iteration: 20, loss: 0.94412, val_loss: 1.09323, acc: 0.89000, val_acc: 0.75325\n",
            "epoch: 17, iteration: 40, loss: 0.82490, val_loss: 1.04496, acc: 0.92000, val_acc: 0.76623\n",
            "epoch: 17, iteration: 60, loss: 0.89435, val_loss: 1.13444, acc: 0.86000, val_acc: 0.83117\n",
            "epoch: 17, iteration: 80, loss: 0.90511, val_loss: 1.14010, acc: 0.85000, val_acc: 0.72727\n",
            "epoch: 17, iteration: 100, loss: 0.92826, val_loss: 1.13564, acc: 0.89000, val_acc: 0.80519\n",
            "epoch: 17, iteration: 120, loss: 1.01820, val_loss: 0.99285, acc: 0.81000, val_acc: 0.76623\n",
            "epoch: 17, iteration: 140, loss: 0.89389, val_loss: 0.94180, acc: 0.89000, val_acc: 0.85714\n",
            "epoch: 17, iteration: 160, loss: 0.90326, val_loss: 1.09390, acc: 0.87000, val_acc: 0.76623\n",
            "epoch: 17, iteration: 180, loss: 0.98245, val_loss: 1.07465, acc: 0.80000, val_acc: 0.80519\n",
            "epoch: 17, iteration: 200, loss: 0.91975, val_loss: 1.00519, acc: 0.89000, val_acc: 0.77922\n",
            "epoch: 18, iteration: 0, loss: 1.07232, val_loss: 1.31559, acc: 0.81000, val_acc: 0.70130\n",
            "epoch: 18, iteration: 20, loss: 0.90132, val_loss: 0.98991, acc: 0.85000, val_acc: 0.77922\n",
            "epoch: 18, iteration: 40, loss: 0.77778, val_loss: 1.08097, acc: 0.88000, val_acc: 0.74026\n",
            "epoch: 18, iteration: 60, loss: 1.02359, val_loss: 1.03117, acc: 0.81000, val_acc: 0.79221\n",
            "epoch: 18, iteration: 80, loss: 0.97575, val_loss: 1.14654, acc: 0.82000, val_acc: 0.67532\n",
            "epoch: 18, iteration: 100, loss: 0.85982, val_loss: 1.03768, acc: 0.89000, val_acc: 0.79221\n",
            "epoch: 18, iteration: 120, loss: 1.01204, val_loss: 1.21539, acc: 0.84000, val_acc: 0.74026\n",
            "epoch: 18, iteration: 140, loss: 0.80674, val_loss: 1.18631, acc: 0.88000, val_acc: 0.74026\n",
            "epoch: 18, iteration: 160, loss: 0.84791, val_loss: 1.06042, acc: 0.85000, val_acc: 0.71429\n",
            "epoch: 18, iteration: 180, loss: 0.78716, val_loss: 0.86188, acc: 0.90000, val_acc: 0.81818\n",
            "epoch: 18, iteration: 200, loss: 0.92692, val_loss: 0.96596, acc: 0.87000, val_acc: 0.75325\n",
            "epoch: 19, iteration: 0, loss: 0.85543, val_loss: 1.02661, acc: 0.83000, val_acc: 0.76623\n",
            "epoch: 19, iteration: 20, loss: 0.95852, val_loss: 1.12437, acc: 0.83000, val_acc: 0.79221\n",
            "epoch: 19, iteration: 40, loss: 0.95255, val_loss: 1.04999, acc: 0.90000, val_acc: 0.79221\n",
            "epoch: 19, iteration: 60, loss: 0.89820, val_loss: 1.27741, acc: 0.84000, val_acc: 0.68831\n",
            "epoch: 19, iteration: 80, loss: 0.92248, val_loss: 1.03122, acc: 0.83000, val_acc: 0.70130\n",
            "epoch: 19, iteration: 100, loss: 0.91586, val_loss: 1.00919, acc: 0.86000, val_acc: 0.79221\n",
            "epoch: 19, iteration: 120, loss: 0.80338, val_loss: 1.12440, acc: 0.93000, val_acc: 0.72727\n",
            "epoch: 19, iteration: 140, loss: 0.95130, val_loss: 1.16095, acc: 0.85000, val_acc: 0.64935\n",
            "epoch: 19, iteration: 160, loss: 1.00087, val_loss: 1.14748, acc: 0.80000, val_acc: 0.76623\n",
            "epoch: 19, iteration: 180, loss: 0.93631, val_loss: 1.04795, acc: 0.84000, val_acc: 0.80519\n",
            "epoch: 19, iteration: 200, loss: 0.92582, val_loss: 1.08537, acc: 0.86000, val_acc: 0.79221\n"
          ]
        }
      ],
      "source": [
        "running_loss = []\n",
        "running_val_loss = []\n",
        "alltrainacc = []\n",
        "allvalacc = []\n",
        "\n",
        "print_every = 20\n",
        "for e in range(epochs):\n",
        "    for i,(images, labels) in enumerate(trainloader):\n",
        "        model4.train()\n",
        "        images.unsqueeze_(1)\n",
        "        images = images.to(device)\n",
        "        labels = labels.to(device)\n",
        "\n",
        "        optimizer.zero_grad()\n",
        "        output = model4(images)\n",
        "        loss = criterion(output, labels)\n",
        "        loss.backward()\n",
        "        optimizer.step()\n",
        "\n",
        "        running_loss.append(loss.item())\n",
        "        \n",
        "        if i%print_every == 0:\n",
        "            # torch.save(vggmodel.state_dict(), os.path.join('/models', 'decoder-%d.pkl' % i))\n",
        "            model4.eval()\n",
        "            with torch.no_grad():\n",
        "                for j,(valimages, vallabels) in enumerate(valloader):\n",
        "                    val_loss_list = []\n",
        "                    valimages.unsqueeze_(1)\n",
        "                    valimages = valimages.to(device)\n",
        "                    vallabels = vallabels.to(device)\n",
        "                    \n",
        "                    val_output = model4(valimages)\n",
        "                    val_loss = criterion(val_output, vallabels)\n",
        "\n",
        "                    val_loss_list.append(val_loss.item())\n",
        "                    \n",
        "                    # to calculate training accuracy\n",
        "                    trueargmax = torch.argmax(labels, dim=1)\n",
        "                    truelabels = trueargmax.cpu().detach().numpy()\n",
        "                    predargmax = torch.argmax(output, dim=1)\n",
        "                    predlabels = predargmax.cpu().detach().numpy()\n",
        "                    \n",
        "                    # to calculate validation accuracy\n",
        "                    valtrueargmax = torch.argmax(vallabels, dim=1)\n",
        "                    valtruelabels = valtrueargmax.cpu().detach().numpy()\n",
        "                    valpredargmax = torch.argmax(val_output, dim=1)\n",
        "                    valpredlabels = valpredargmax.cpu().detach().numpy()                    \n",
        "\n",
        "                val_loss_avg = sum(val_loss_list) / len(val_loss_list)\n",
        "                \n",
        "            # calculate training and validation accuracy\n",
        "            batchtrainacc = accuracy_score(truelabels, predlabels)\n",
        "            batchvalacc = accuracy_score(valtruelabels, valpredlabels)\n",
        "            \n",
        "            # store the training and validation accuracies \n",
        "            alltrainacc.append(batchtrainacc)\n",
        "            allvalacc.append(batchvalacc)\n",
        "\n",
        "            running_val_loss.append(val_loss_avg)\n",
        "            print(f'epoch: {e}, iteration: {i}, loss: {loss.item():.5f}, val_loss: {val_loss_avg:.5f}, acc: {batchtrainacc:.5f}, val_acc: {batchvalacc:.5f}')"
      ]
    },
    {
      "cell_type": "code",
      "execution_count": 26,
      "metadata": {
        "colab": {
          "base_uri": "https://localhost:8080/",
          "height": 295
        },
        "id": "zaXx_WmKdfLx",
        "outputId": "26f4f401-d798-4c98-bcbd-f971d860a3af"
      },
      "outputs": [
        {
          "output_type": "display_data",
          "data": {
            "image/png": "[encoded data removed]",
            "text/plain": [
              "<Figure size 432x288 with 1 Axes>"
            ]
          },
          "metadata": {
            "needs_background": "light"
          }
        }
      ],
      "source": [
        "ind = 10\n",
        "plt.plot(np.arange(len(running_loss[ind:])), running_loss[ind:], label='training loss')\n",
        "plt.plot(np.arange(len(running_val_loss[ind:]))*print_every, running_val_loss[10:], label='validation loss')\n",
        "plt.xlabel('iterations')\n",
        "plt.ylabel('loss')\n",
        "plt.title('training and validation loss')\n",
        "plt.legend()\n",
        "plt.show()"
      ]
    },
    {
      "cell_type": "code",
      "execution_count": 27,
      "metadata": {
        "colab": {
          "base_uri": "https://localhost:8080/",
          "height": 295
        },
        "id": "ykK5KhE5kyeM",
        "outputId": "d393c036-6bd3-4ecb-e118-8d686b361460"
      },
      "outputs": [
        {
          "output_type": "display_data",
          "data": {
            "image/png": "[encoded data removed]",
            "text/plain": [
              "<Figure size 432x288 with 1 Axes>"
            ]
          },
          "metadata": {
            "needs_background": "light"
          }
        }
      ],
      "source": [
        "plt.plot(np.arange(len(alltrainacc))*print_every, alltrainacc, label='training acc')\n",
        "plt.plot(np.arange(len(allvalacc))*print_every, allvalacc, label='validation acc')\n",
        "plt.xlabel('iterations')\n",
        "plt.ylabel('accuracy')\n",
        "plt.title('training and validation accuracy')\n",
        "plt.legend()\n",
        "plt.show()"
      ]
    },
    {
      "cell_type": "markdown",
      "metadata": {
        "id": "5ZftQ_VSddbE"
      },
      "source": [
        "### Let's run the model on the test data"
      ]
    },
    {
      "cell_type": "code",
      "execution_count": 28,
      "metadata": {
        "id": "AFhbl1e8r425"
      },
      "outputs": [],
      "source": [
        "testloader = DataLoader(testdataset, 1, shuffle=False)"
      ]
    },
    {
      "cell_type": "code",
      "execution_count": 30,
      "metadata": {
        "id": "4JIqoZTF2XiO"
      },
      "outputs": [],
      "source": [
        "model4.eval()\n",
        "testtruelabels = []\n",
        "testpredlabels = []\n",
        "with torch.no_grad():\n",
        "    for i, (testimage, testlabel) in enumerate(testloader):\n",
        "        testimage.unsqueeze_(1)\n",
        "        testimage, testlabel = testimage.to(device), testlabel.to(device)\n",
        "        testpred = model4(testimage)\n",
        "\n",
        "        testtrueargmax = torch.argmax(testlabel).item()\n",
        "        testpredargmax = torch.argmax(testpred).item()\n",
        "\n",
        "        testtruelabels.append(testtrueargmax)\n",
        "        testpredlabels.append(testpredargmax)"
      ]
    },
    {
      "cell_type": "code",
      "execution_count": 31,
      "metadata": {
        "id": "KodylrAL6BQz"
      },
      "outputs": [],
      "source": [
        "testconfmat = confusion_matrix(testtruelabels, testpredlabels)"
      ]
    },
    {
      "cell_type": "code",
      "execution_count": 32,
      "metadata": {
        "colab": {
          "base_uri": "https://localhost:8080/",
          "height": 729
        },
        "id": "vajQVaUm6YVK",
        "outputId": "503bf545-09af-4c7f-c38a-86d8caed8736"
      },
      "outputs": [
        {
          "output_type": "display_data",
          "data": {
            "image/png": "[encoded data removed]",
            "text/plain": [
              "<Figure size 1080x720 with 2 Axes>"
            ]
          },
          "metadata": {
            "needs_background": "light"
          }
        }
      ],
      "source": [
        "plt.figure(figsize=(15,10))\n",
        "sns.heatmap(testconfmat, annot=True, fmt='.0f', cmap='viridis', xticklabels=dataset.fer2013newlabels, yticklabels=dataset.fer2013newlabels)\n",
        "plt.xlabel('Predicted Values')\n",
        "plt.ylabel('True Values')\n",
        "plt.tight_layout()\n",
        "plt.show()"
      ]
    },
    {
      "cell_type": "code",
      "execution_count": 33,
      "metadata": {
        "colab": {
          "base_uri": "https://localhost:8080/"
        },
        "id": "GmYNizky6fZc",
        "outputId": "08536856-be96-4e7a-8fa3-96947429a37c"
      },
      "outputs": [
        {
          "output_type": "execute_result",
          "data": {
            "text/plain": [
              "0.7659515185288381"
            ]
          },
          "metadata": {},
          "execution_count": 33
        }
      ],
      "source": [
        "accuracy_score(testtruelabels, testpredlabels)"
      ]
    },
    {
      "cell_type": "code",
      "execution_count": 34,
      "metadata": {
        "id": "ikkHo8uW62CI"
      },
      "outputs": [],
      "source": [
        "torch.save(model4.state_dict(), f'/content/drive/MyDrive/TSI/Material/Thesis/data/model4_state_dict.pth')"
      ]
    },
    {
      "cell_type": "code",
      "execution_count": null,
      "metadata": {
        "id": "Z_G8iQzcIRFF"
      },
      "outputs": [],
      "source": [
        ""
      ]
    }
  ],
  "metadata": {
    "accelerator": "GPU",
    "colab": {
      "collapsed_sections": [],
      "name": "model4.ipynb",
      "provenance": []
    },
    "kernelspec": {
      "display_name": "Python 3 (ipykernel)",
      "language": "python",
      "name": "python3"
    },
    "language_info": {
      "codemirror_mode": {
        "name": "ipython",
        "version": 3
      },
      "file_extension": ".py",
      "mimetype": "text/x-python",
      "name": "python",
      "nbconvert_exporter": "python",
      "pygments_lexer": "ipython3",
      "version": "3.9.0"
    }
  },
  "nbformat": 4,
  "nbformat_minor": 0
}